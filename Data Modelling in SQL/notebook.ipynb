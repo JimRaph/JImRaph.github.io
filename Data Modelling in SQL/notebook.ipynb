{
  "cells": [
    {
      "source": [
        "# techs used - duckdb for a local dummy database\n",
        "# columnar database\n",
        "import duckdb\n",
        "import timeit\n",
        "import pandas as pd"
      ],
      "metadata": {
        "executionCancelledAt": null,
        "executionTime": 211,
        "lastExecutedAt": 1689087105756,
        "lastScheduledRunId": null,
        "lastSuccessfullyExecutedCode": "# techs used - duckdb for a local dummy database\n# columnar database\nimport duckdb\nimport timeit\nimport pandas as pd",
        "id": "471dc3e8"
      },
      "id": "471dc3e8",
      "cell_type": "code",
      "execution_count": null,
      "outputs": []
    },
    {
      "source": [
        "### DDL to instantiate database ###\n",
        "\n",
        "# create initial database connection (and instantiate database if it doesn't exist already)\n",
        "con = duckdb.connect('dim-model.db')\n",
        "\n",
        "# create two separate schemas\n",
        "con.sql(\"\"\"\n",
        "CREATE SCHEMA snow;\n",
        "CREATE SCHEMA star;\n",
        "\"\"\")"
      ],
      "metadata": {
        "executionCancelledAt": null,
        "executionTime": 88,
        "lastExecutedAt": 1689088544431,
        "lastScheduledRunId": null,
        "lastSuccessfullyExecutedCode": "### DDL to instantiate database ###\n\n# create initial database connection (and instantiate database if it doesn't exist already) \ncon = duckdb.connect('dim-model.db')\n\n# create two separate schemas\ncon.sql(\"\"\"\nCREATE SCHEMA snow;\nCREATE SCHEMA star;\n\"\"\")",
        "id": "db8c2ee4"
      },
      "id": "db8c2ee4",
      "cell_type": "code",
      "execution_count": null,
      "outputs": []
    },
    {
      "source": [
        "# create a table using the initial data - auto create columns based on information\n",
        "sql = \"\"\"\n",
        "CREATE TABLE raw_companies AS\n",
        "SELECT * FROM read_csv_auto('SorensonworkfirmFIVEdata.csv')\n",
        "\"\"\"\n",
        "con.sql(sql)"
      ],
      "metadata": {
        "executionCancelledAt": null,
        "executionTime": 73,
        "lastExecutedAt": 1689088611983,
        "lastScheduledRunId": null,
        "lastSuccessfullyExecutedCode": "# create a table using the initial data - auto create columns based on information\nsql = \"\"\"\nCREATE TABLE raw_companies AS\nSELECT * FROM read_csv_auto('SorensonworkfirmFIVEdata.csv')\n\"\"\"\ncon.sql(sql)",
        "id": "f91a89ce"
      },
      "id": "f91a89ce",
      "cell_type": "code",
      "execution_count": null,
      "outputs": []
    },
    {
      "source": [
        "con.table('raw_companies')"
      ],
      "metadata": {
        "executionCancelledAt": null,
        "executionTime": 21,
        "lastExecutedAt": 1689088634027,
        "lastScheduledRunId": null,
        "lastSuccessfullyExecutedCode": "con.table('raw_companies')",
        "id": "9d1f7880-4f4a-4195-9ffc-a4e6b4167cf4",
        "outputId": "ffcf6406-fb52-46f1-8918-417568bc14d6"
      },
      "id": "9d1f7880-4f4a-4195-9ffc-a4e6b4167cf4",
      "cell_type": "code",
      "execution_count": null,
      "outputs": [
        {
          "output_type": "execute_result",
          "data": {
            "text/plain": "┌───────┬──────────────────────┬────────────┬────────┬───────────────┬───┬───────┬─────────┬───────┬────────┬───────┐\n│ YEAR  │       FIRMNAME       │ FIVEFIRMID │ FIRMID │ CUSIPHEADERID │ … │ COMM  │ MONITOR │ DISK  │ MEMORY │ BOARD │\n│ int64 │       varchar        │   int64    │ int64  │    varchar    │   │ int64 │  int64  │ int64 │ int64  │ int64 │\n├───────┼──────────────────────┼────────────┼────────┼───────────────┼───┼───────┼─────────┼───────┼────────┼───────┤\n│  1987 │ Accent Systems Corp. │          1 │      1 │ NULL          │ … │     0 │       0 │     0 │      0 │     0 │\n│  1982 │ Adage, Inc.          │          2 │      2 │ NULL          │ … │     0 │       0 │     0 │      0 │     0 │\n│  1983 │ Adage, Inc.          │          2 │      2 │ NULL          │ … │     0 │       0 │     0 │      0 │     0 │\n│  1984 │ Adage, Inc.          │          2 │      2 │ NULL          │ … │     0 │       0 │     0 │      0 │     0 │\n│  1985 │ Adage, Inc.          │          2 │      2 │ NULL          │ … │     0 │       0 │     0 │      0 │     0 │\n│  1986 │ Adage, Inc.          │          2 │      2 │ NULL          │ … │     0 │       0 │     0 │      0 │     0 │\n│  1987 │ Adage, Inc.          │          2 │      2 │ NULL          │ … │     0 │       0 │     0 │      0 │     0 │\n│  1988 │ Adage, Inc.          │          2 │      2 │ NULL          │ … │     0 │       0 │     0 │      0 │     0 │\n│  1989 │ Adage, Inc.          │          2 │      2 │ NULL          │ … │     0 │       0 │     0 │      0 │     0 │\n│  1990 │ Adage, Inc.          │          2 │      2 │ NULL          │ … │     0 │       0 │     0 │      0 │     0 │\n│    ·  │      ·               │          · │      · │  ·            │ · │     · │       · │     · │      · │     · │\n│    ·  │      ·               │          · │      · │  ·            │ · │     · │       · │     · │      · │     · │\n│    ·  │      ·               │          · │      · │  ·            │ · │     · │       · │     · │      · │     · │\n│  1990 │ Zuken, Inc.          │        173 │    173 │ NULL          │ … │     0 │       0 │     0 │      0 │     0 │\n│  1991 │ Zuken, Inc.          │        173 │    173 │ NULL          │ … │     0 │       0 │     0 │      0 │     0 │\n│  1992 │ Zuken, Inc.          │        173 │    173 │ NULL          │ … │     0 │       0 │     0 │      0 │     0 │\n│  1993 │ Zuken, Inc.          │        173 │    173 │ NULL          │ … │     0 │       0 │     0 │      0 │     0 │\n│  1982 │ Florida Computer G…  │        174 │    174 │ NULL          │ … │     0 │       0 │     0 │      0 │     0 │\n│  1983 │ Florida Computer G…  │        174 │    174 │ NULL          │ … │     0 │       0 │     0 │      0 │     0 │\n│  1984 │ Florida Computer G…  │        174 │    174 │ NULL          │ … │     0 │       0 │     0 │      0 │     0 │\n│  1983 │ Orcatech             │        175 │    175 │ NULL          │ … │     1 │       0 │     0 │      0 │     0 │\n│  1984 │ Orcatech             │        175 │    175 │ NULL          │ … │     1 │       0 │     0 │      0 │     0 │\n│  1985 │ Orcatech             │        175 │    175 │ NULL          │ … │     1 │       0 │     0 │      0 │     0 │\n├───────┴──────────────────────┴────────────┴────────┴───────────────┴───┴───────┴─────────┴───────┴────────┴───────┤\n│ 682 rows (20 shown)                                                                         31 columns (10 shown) │\n└───────────────────────────────────────────────────────────────────────────────────────────────────────────────────┘"
          },
          "metadata": {},
          "execution_count": 4
        }
      ]
    },
    {
      "source": [
        "# verify initial data types\n",
        "sql = \"\"\"\n",
        "DESCRIBE raw_companies;\n",
        "\"\"\"\n",
        "\n",
        "initial_cols_dict = {col[0]:col[1] for col in con.sql(sql).fetchall()}"
      ],
      "metadata": {
        "executionCancelledAt": null,
        "executionTime": 50,
        "lastExecutedAt": 1689088676663,
        "lastScheduledRunId": null,
        "lastSuccessfullyExecutedCode": "# verify initial data types\nsql = \"\"\"\nDESCRIBE raw_companies;\n\"\"\"\n\ninitial_cols_dict = {col[0]:col[1] for col in con.sql(sql).fetchall()}",
        "id": "477f22b8"
      },
      "id": "477f22b8",
      "cell_type": "code",
      "execution_count": null,
      "outputs": []
    },
    {
      "source": [
        "initial_cols_dict"
      ],
      "metadata": {
        "executionCancelledAt": null,
        "executionTime": 12,
        "lastExecutedAt": 1689088680209,
        "lastScheduledRunId": null,
        "lastSuccessfullyExecutedCode": "initial_cols_dict",
        "id": "58c64f45",
        "outputId": "a0b68679-4be8-4305-ee87-f08b3a7d0d73"
      },
      "id": "58c64f45",
      "cell_type": "code",
      "execution_count": null,
      "outputs": [
        {
          "output_type": "execute_result",
          "data": {
            "text/plain": "{'YEAR': 'BIGINT',\n 'FIRMNAME': 'VARCHAR',\n 'FIVEFIRMID': 'BIGINT',\n 'FIRMID': 'BIGINT',\n 'CUSIPHeaderName': 'VARCHAR',\n 'CUSIPHISTORYID': 'VARCHAR',\n 'CUSIPHistoryName': 'VARCHAR',\n 'FOUND': 'BIGINT',\n 'FATE': 'VARCHAR',\n 'ESTATE': 'BIGINT',\n 'SALES': 'DOUBLE',\n 'EMPLOY': 'DOUBLE',\n 'ZIP': 'BIGINT',\n 'LAT': 'DOUBLE',\n 'LON': 'DOUBLE',\n 'RANDD': 'BIGINT',\n 'PRODUCTS': 'BIGINT',\n 'PTYPES': 'BIGINT',\n 'SYSTEM': 'BIGINT',\n 'GRAPHIC': 'BIGINT',\n 'CEO': 'VARCHAR',\n 'OWN': 'BIGINT',\n 'CPU': 'BIGINT',\n 'OS': 'BIGINT',\n 'APPS': 'BIGINT',\n 'COMM': 'BIGINT',\n 'MONITOR': 'BIGINT',\n 'DISK': 'BIGINT',\n 'MEMORY': 'BIGINT',\n 'BOARD': 'BIGINT',\n 'CUSIPHEADERID': 'VARCHAR'}"
          },
          "metadata": {},
          "execution_count": 6
        }
      ]
    },
    {
      "source": [
        "## A snowflake data model\n",
        "\n",
        "Steps of Kimball dimensional modeling:\n",
        "\n",
        "1. Select the business process\n",
        "2. Declare the grain\n",
        "3. Identify the dimensions\n",
        "4. Identify the facts\n",
        "\n",
        "![](snow.png)\n",
        "\n",
        "There's a step before this:\n",
        "\n",
        "0. Know thy data"
      ],
      "metadata": {
        "id": "b0d75458"
      },
      "id": "b0d75458",
      "cell_type": "markdown"
    },
    {
      "source": [
        "# check lat/long/zip data columns\n",
        "con.sql('SELECT DISTINCT lat, lon, zip FROM raw_companies')"
      ],
      "metadata": {
        "executionCancelledAt": null,
        "executionTime": 48,
        "lastExecutedAt": 1689088884359,
        "lastScheduledRunId": null,
        "lastSuccessfullyExecutedCode": "# check lat/long/zip data columns\ncon.sql('SELECT DISTINCT lat, lon, zip FROM raw_companies')",
        "id": "04c4ea15",
        "outputId": "a53e4a95-2c53-48f5-ddc9-372be15b69c9"
      },
      "id": "04c4ea15",
      "cell_type": "code",
      "execution_count": null,
      "outputs": [
        {
          "output_type": "execute_result",
          "data": {
            "text/plain": "┌───────────────────┬───────────────────┬───────┐\n│        LAT        │        LON        │  ZIP  │\n│      double       │      double       │ int64 │\n├───────────────────┼───────────────────┼───────┤\n│ 0.705875992774963 │ -1.39546799659729 │ 15213 │\n│ 0.742671012878418 │ -1.24357903003693 │  1821 │\n│  0.74406099319458 │ -1.24499404430389 │  1851 │\n│ 0.574072003364563 │ -2.04558706283569 │ 92121 │\n│ 0.742465019226074 │ -1.24769496917725 │  1460 │\n│ 0.743335008621216 │ -1.24683105945587 │  1886 │\n│ 0.590389013290405 │ -2.06493091583252 │ 90501 │\n│ 0.597449004650116 │ -2.07774996757507 │ 93010 │\n│ 0.531078994274139 │ -1.47060298919678 │ 32301 │\n│ 0.743398010730743 │  -1.2454240322113 │  1824 │\n│         ·         │          ·        │    ·  │\n│         ·         │          ·        │    ·  │\n│         ·         │          ·        │    ·  │\n│ 0.596495985984802 │ -2.07023811340332 │ 91367 │\n│ 0.746240019798279 │ -1.24732995033264 │  3060 │\n│ 0.748165011405945 │ -1.24813294410706 │  3054 │\n│ 0.739403009414673 │ -1.24100196361542 │  2139 │\n│ 0.717025995254517 │ -1.28358101844788 │  6904 │\n│ 0.712484002113342 │ -1.29951703548431 │  7927 │\n│ 0.501823008060455 │ -1.41961705684662 │ 32746 │\n│  0.65234100818634 │ -2.12971711158752 │ 94086 │\n│ 0.741536021232605 │ -1.24822902679443 │  1719 │\n│ 0.697911024093628 │ -1.44941902160645 │ 43212 │\n├───────────────────┴───────────────────┴───────┤\n│ 156 rows (20 shown)                 3 columns │\n└───────────────────────────────────────────────┘"
          },
          "metadata": {},
          "execution_count": 7
        }
      ]
    },
    {
      "source": [
        "### INITIAL DATA CLEANSING ###\n",
        "\n",
        "# change column zip to type varchar\n",
        "sql = \"\"\"\n",
        "ALTER TABLE raw_companies ALTER COLUMN zip SET DATA TYPE VARCHAR;\n",
        "\"\"\"\n",
        "\n",
        "# ensure leading 0's present in zip\n",
        "sql += \"\"\"\n",
        "UPDATE raw_companies\n",
        "SET zip = RIGHT('000' || zip, 5);\n",
        "\"\"\"\n",
        "\n",
        "# convert lat/long variables to degrees from radians\n",
        "sql += f\"\"\"\n",
        "UPDATE raw_companies\n",
        "SET lat = DEGREES(lat), lon = DEGREES(lon);\n",
        "\"\"\"\n",
        "\n",
        "con.sql(sql)"
      ],
      "metadata": {
        "executionCancelledAt": null,
        "executionTime": 51,
        "lastExecutedAt": 1689089089387,
        "lastScheduledRunId": null,
        "lastSuccessfullyExecutedCode": "### INITIAL DATA CLEANSING ###\n\n# change column zip to type varchar\nsql = \"\"\"\nALTER TABLE raw_companies ALTER COLUMN zip SET DATA TYPE VARCHAR;\n\"\"\"\n\n# ensure leading 0's present in zip\nsql += \"\"\"\nUPDATE raw_companies\nSET zip = RIGHT('000' || zip, 5);\n\"\"\" \n\n# convert lat/long variables to degrees from radians\nsql += f\"\"\"\nUPDATE raw_companies\nSET lat = DEGREES(lat), lon = DEGREES(lon);\n\"\"\"\n\ncon.sql(sql)",
        "id": "dea282de"
      },
      "id": "dea282de",
      "cell_type": "code",
      "execution_count": null,
      "outputs": []
    },
    {
      "source": [
        "# display the results of cleansing\n",
        "con.sql('SELECT DISTINCT lat, lon, zip FROM raw_companies')"
      ],
      "metadata": {
        "executionCancelledAt": null,
        "executionTime": 14,
        "lastExecutedAt": 1689089103560,
        "lastScheduledRunId": null,
        "lastSuccessfullyExecutedCode": "# display the results of cleansing\ncon.sql('SELECT DISTINCT lat, lon, zip FROM raw_companies')",
        "id": "1a6809f5",
        "outputId": "ee9c089c-a8f6-43d8-9387-15db984de3a5"
      },
      "id": "1a6809f5",
      "cell_type": "code",
      "execution_count": null,
      "outputs": [
        {
          "output_type": "execute_result",
          "data": {
            "text/plain": "┌────────────────────┬─────────────────────┬─────────┐\n│        LAT         │         LON         │   ZIP   │\n│       double       │       double        │ varchar │\n├────────────────────┼─────────────────────┼─────────┤\n│ 40.443715245612374 │  -79.95442665060105 │ 15213   │\n│  42.55191460463936 │  -71.25182991208872 │ 01821   │\n│ 42.631554610361704 │  -71.33290425753633 │ 01851   │\n│ 32.891902929409454 │ -117.20350532704735 │ 92121   │\n│ 42.540112037753566 │  -71.48765585356176 │ 01460   │\n│  42.58995875831634 │  -71.43815747264637 │ 01886   │\n│ 33.826798732433275 │ -118.31182646328722 │ 90501   │\n│  34.23130644074354 │ -119.04630402549516 │ 93010   │\n│ 30.428584959960574 │  -84.25934462029849 │ 32301   │\n│  42.59356851329265 │  -71.35754074987258 │ 01824   │\n│          ·         │           ·         │   ·     │\n│          ·         │           ·         │   ·     │\n│          ·         │           ·         │   ·     │\n│  42.86669753291775 │  -71.51274996857242 │ 03054   │\n│  42.36467179873264 │  -71.10417488261132 │ 02139   │\n│  41.08256332925122 │  -73.54377502016739 │ 06904   │\n│  40.82232629168452 │   -74.4568415386034 │ 07927   │\n│  28.75234042442356 │   -81.3380658820948 │ 32746   │\n│  33.80691605175938 │  -117.9222188126511 │ 92803   │\n│ 40.828111461911554 │  -73.60760313796104 │ 11545   │\n│ 29.805207254791895 │  -95.56076686629835 │ 77043   │\n│  38.93265542005754 │  -77.17059863925468 │ 22101   │\n│   33.8109834294101 │ -118.21500170161322 │ 90810   │\n├────────────────────┴─────────────────────┴─────────┤\n│ 156 rows (20 shown)                      3 columns │\n└────────────────────────────────────────────────────┘"
          },
          "metadata": {},
          "execution_count": 10
        }
      ]
    },
    {
      "source": [
        "# set schema\n",
        "# templated sql - DRY\n",
        "schema = 'snow'"
      ],
      "metadata": {
        "executionCancelledAt": null,
        "executionTime": 51,
        "lastExecutedAt": 1689089363295,
        "lastScheduledRunId": null,
        "lastSuccessfullyExecutedCode": "# set schema\n# templated sql - DRY\nschema = 'snow'",
        "id": "40e4691e"
      },
      "id": "40e4691e",
      "cell_type": "code",
      "execution_count": null,
      "outputs": []
    },
    {
      "source": [
        "# create compustat dimension\n",
        "# MD5 hash as keys vs ordered int\n",
        "# surrogate vs. natural keys\n",
        "# primary keys (collisions)\n",
        "sql = f\"\"\"\n",
        "\n",
        "\n",
        "CREATE OR REPLACE TABLE {schema}.compustat (\n",
        "    cusip_id VARCHAR,\n",
        "    cusip_name VARCHAR,\n",
        "    cusip_historical_id VARCHAR,\n",
        "    cusip_historical_name VARCHAR,\n",
        "    PRIMARY KEY (cusip_id)\n",
        ");\n",
        "\n",
        "\"\"\"\n",
        "\n",
        "sql += f\"\"\"\n",
        "INSERT INTO {schema}.compustat (cusip_id, cusip_name, cusip_historical_id, cusip_historical_name)\n",
        "WITH cid AS (\n",
        "    SELECT DISTINCT\n",
        "        CUSIPHEADERID AS cusip_id,\n",
        "        CUSIPHEADERNAME AS cusip_name,\n",
        "        CUSIPHISTORYID AS cusip_historical_id,\n",
        "        CUSIPHISTORYNAME AS cusip_historical_name\n",
        "    FROM\n",
        "        raw_companies\n",
        ")\n",
        "SELECT\n",
        "    MD5(COALESCE(cusip_id || cusip_name || cusip_historical_id || cusip_historical_name, '-1')) AS cusip_id, --1 added for nulls\n",
        "    cusip_name,\n",
        "    cusip_historical_id,\n",
        "    cusip_historical_name\n",
        "FROM\n",
        "    cid;\n",
        "\"\"\"\n",
        "\n",
        "con.sql(sql)"
      ],
      "metadata": {
        "executionCancelledAt": null,
        "executionTime": 32,
        "lastExecutedAt": 1689089365450,
        "lastScheduledRunId": null,
        "lastSuccessfullyExecutedCode": "# create compustat dimension\n# MD5 hash as keys vs ordered int\n# surrogate vs. natural keys\n# primary keys (collisions)\nsql = f\"\"\"\n\n\nCREATE OR REPLACE TABLE {schema}.compustat (\n    cusip_id VARCHAR,\n    cusip_name VARCHAR,\n    cusip_historical_id VARCHAR,\n    cusip_historical_name VARCHAR,\n    PRIMARY KEY (cusip_id)\n);\n\n\"\"\"\n\nsql += f\"\"\"\nINSERT INTO {schema}.compustat (cusip_id, cusip_name, cusip_historical_id, cusip_historical_name)\nWITH cid AS (\n    SELECT DISTINCT\n        CUSIPHEADERID AS cusip_id,\n        CUSIPHEADERNAME AS cusip_name,\n        CUSIPHISTORYID AS cusip_historical_id,\n        CUSIPHISTORYNAME AS cusip_historical_name\n    FROM\n        raw_companies\n)\nSELECT\n    MD5(COALESCE(cusip_id || cusip_name || cusip_historical_id || cusip_historical_name, '-1')) AS cusip_id, --1 added for nulls\n    cusip_name,\n    cusip_historical_id,\n    cusip_historical_name\nFROM\n    cid;\n\"\"\"\n\ncon.sql(sql)",
        "id": "6f74e1c3"
      },
      "id": "6f74e1c3",
      "cell_type": "code",
      "execution_count": null,
      "outputs": []
    },
    {
      "source": [
        "con.sql('select * from snow.compustat limit 5')"
      ],
      "metadata": {
        "executionCancelledAt": null,
        "executionTime": 50,
        "lastExecutedAt": 1689089393848,
        "lastScheduledRunId": null,
        "lastSuccessfullyExecutedCode": "con.sql('select * from snow.compustat limit 5')",
        "id": "164c2c08-bb06-478a-a1b3-08a930c57f6f",
        "outputId": "bc4f0459-fbb8-4364-dc5e-2522ef2a660e"
      },
      "id": "164c2c08-bb06-478a-a1b3-08a930c57f6f",
      "cell_type": "code",
      "execution_count": null,
      "outputs": [
        {
          "output_type": "execute_result",
          "data": {
            "text/plain": "┌──────────────────────────────────┬─────────────────────────────┬─────────────────────┬─────────────────────────────┐\n│             cusip_id             │         cusip_name          │ cusip_historical_id │    cusip_historical_name    │\n│             varchar              │           varchar           │       varchar       │           varchar           │\n├──────────────────────────────────┼─────────────────────────────┼─────────────────────┼─────────────────────────────┤\n│ 6bb61e3b7bce0931da574d19d1d82c88 │ NULL                        │ NULL                │ NULL                        │\n│ fa7d01896b51cb06233e3ecb55b3e689 │ ALLIANT COMPUTER SYSTEMS CP │ 1880010             │ ALLIANT COMPUTER SYSTEMS CP │\n│ 59036ad3d237e7c568673bee384b3ffd │ ENTERPRISE INFORMATICS INC  │ 2079910             │ ALPHAREL INC                │\n│ 94af45e233e4d5f91cc562c17ef0f2e6 │ APOLLO COMPUTER INC         │ 3790410             │ APOLLO COMPUTER INC         │\n│ 4ca2103c834adedbed35d0c7401b40ff │ AUDRE RECOGNITION SYS INC   │ 5090410             │ AUDRE RECOGNITION SYS INC   │\n└──────────────────────────────────┴─────────────────────────────┴─────────────────────┴─────────────────────────────┘"
          },
          "metadata": {},
          "execution_count": 14
        }
      ]
    },
    {
      "source": [
        "# create ceo dimension\n",
        "# naming conventions\n",
        "# joining on strings vs. others\n",
        "sql = f\"\"\"\n",
        "\n",
        "CREATE OR REPLACE TABLE {schema}.ceos (\n",
        "    ceo_id VARCHAR,\n",
        "    ceo_name VARCHAR,\n",
        "    PRIMARY KEY (ceo_id)\n",
        ");\n",
        "\n",
        "\"\"\"\n",
        "\n",
        "sql += f\"\"\"\n",
        "\n",
        "INSERT INTO {schema}.ceos (ceo_id, ceo_name)\n",
        "\n",
        "SELECT DISTINCT\n",
        "    MD5(COALESCE(ceo, '-1')) AS ceo_id,\n",
        "    ceo AS ceo_name\n",
        "FROM\n",
        "    raw_companies;\n",
        "\n",
        "\"\"\"\n",
        "\n",
        "con.sql(sql)"
      ],
      "metadata": {
        "executionCancelledAt": null,
        "executionTime": 51,
        "lastExecutedAt": 1689089542404,
        "lastScheduledRunId": null,
        "lastSuccessfullyExecutedCode": "# create ceo dimension\n# naming conventions\n# joining on strings vs. others\nsql = f\"\"\"\n\nCREATE OR REPLACE TABLE {schema}.ceos (\n    ceo_id VARCHAR,\n    ceo_name VARCHAR,\n    PRIMARY KEY (ceo_id)\n);\n\n\"\"\"\n\nsql += f\"\"\"\n\nINSERT INTO {schema}.ceos (ceo_id, ceo_name)\n\nSELECT DISTINCT\n    MD5(COALESCE(ceo, '-1')) AS ceo_id,\n    ceo AS ceo_name\nFROM\n    raw_companies;\n\n\"\"\"\n\ncon.sql(sql)",
        "id": "1e0c45df"
      },
      "id": "1e0c45df",
      "cell_type": "code",
      "execution_count": null,
      "outputs": []
    },
    {
      "source": [
        "con.table('snow.ceos')"
      ],
      "metadata": {
        "executionCancelledAt": null,
        "executionTime": 12,
        "lastExecutedAt": 1689089556128,
        "lastScheduledRunId": null,
        "lastSuccessfullyExecutedCode": "con.table('snow.ceos')",
        "id": "b3b1f3e3-f54f-49e2-9f11-99477e9c7bbc",
        "outputId": "a9b0c5cb-6f4f-425f-c9e3-349c7051ee61"
      },
      "id": "b3b1f3e3-f54f-49e2-9f11-99477e9c7bbc",
      "cell_type": "code",
      "execution_count": null,
      "outputs": [
        {
          "output_type": "execute_result",
          "data": {
            "text/plain": "┌──────────────────────────────────┬────────────────────────┐\n│              ceo_id              │        ceo_name        │\n│             varchar              │        varchar         │\n├──────────────────────────────────┼────────────────────────┤\n│ c35bc6945e2054750eb18ed6b9fed71a │ Kelly T. Hickel        │\n│ dfa8c4619d6743917fbd6ce2be41ac1d │ Richard N. Spann       │\n│ 41ec3b47cbc8d9e7af060eaa85864f75 │ James D. Norrod        │\n│ f058b6eb7f7202e7fa1ee269a287a67c │ William T. Mason       │\n│ 5fade36e274e7d6f120eb694eb658f81 │ Mark McMillen          │\n│ e40fabee5589c9be667f61dd1d299af4 │ Dick Wauk              │\n│ f30900f5f0907fcb2a46bc4e5a267fda │ Thomas J. Goliash      │\n│ 2a62f8edc45ac28ffb0850a3e995353b │ Dominique F. Claessens │\n│ 04244f82d9e865b19061a47f35cc5ad7 │ Ronald Gruner          │\n│ d259b6064c2b1f1dfe67ea7449606e14 │ Craig J. Mundie        │\n│                ·                 │        ·               │\n│                ·                 │        ·               │\n│                ·                 │        ·               │\n│ eb0c49e27341778e4561dc661460004b │ Paul A. Allaire        │\n│ 3305cf5d8db8248177e009315eaefd3f │ Paul A. Frost          │\n│ 936c52aa61f40811b0e79ab43cbe3a4b │ J. Katsube             │\n│ 193f2b86f20d19be820307fd75129b21 │ Harmon Hardy           │\n│ 7cc0af3d07dda022e92fd1100fb7e556 │ Makoto Kaneko          │\n│ 0199eae6b3c6f152874c636fa91e85e8 │ Michael R. Coffman     │\n│ 4ed10d264e352e452bb6c02882b59dac │ David Pearson          │\n│ cbed1048c2d38cce47ea370954aeba5c │ Robert Henkel          │\n│ 3010ce1c666be88d6f9701d22a49e223 │ James A. Swanson       │\n│ 5b547fd06deb12cd7442b42e4978253f │ Stanley Chiang         │\n├──────────────────────────────────┴────────────────────────┤\n│ 235 rows (20 shown)                             2 columns │\n└───────────────────────────────────────────────────────────┘"
          },
          "metadata": {},
          "execution_count": 16
        }
      ]
    },
    {
      "source": [
        "# create locations dimension\n",
        "# type 2 dimensions - change slow\n",
        "# insert only\n",
        "# primary keys\n",
        "sql = f\"\"\"\n",
        "\n",
        "CREATE OR REPLACE TABLE {schema}.locations (\n",
        "    location_id VARCHAR,\n",
        "    zipcode VARCHAR,\n",
        "    latitude DOUBLE,\n",
        "    longitude DOUBLE,\n",
        "    PRIMARY KEY (location_id)\n",
        ");\n",
        "\n",
        "\"\"\"\n",
        "\n",
        "sql += f\"\"\"\n",
        "INSERT INTO {schema}.locations (location_id, zipcode, latitude, longitude)\n",
        "\n",
        "SELECT DISTINCT\n",
        "    MD5(COALESCE(zip || CAST(lat AS VARCHAR) || CAST(lon AS VARCHAR), '-1')),\n",
        "    zip,\n",
        "    lat,\n",
        "    lon\n",
        "FROM\n",
        "    raw_companies;\n",
        "\n",
        "\"\"\"\n",
        "\n",
        "con.sql(sql)"
      ],
      "metadata": {
        "executionCancelledAt": null,
        "executionTime": 48,
        "lastExecutedAt": 1689089667535,
        "lastScheduledRunId": null,
        "lastSuccessfullyExecutedCode": "# create locations dimension\n# type 2 dimensions - change slow\n# insert only\n# primary keys\nsql = f\"\"\"\n\nCREATE OR REPLACE TABLE {schema}.locations (\n    location_id VARCHAR,\n    zipcode VARCHAR,\n    latitude DOUBLE,\n    longitude DOUBLE,\n    PRIMARY KEY (location_id)\n);\n\n\"\"\"\n\nsql += f\"\"\"\nINSERT INTO {schema}.locations (location_id, zipcode, latitude, longitude)\n\nSELECT DISTINCT\n    MD5(COALESCE(zip || CAST(lat AS VARCHAR) || CAST(lon AS VARCHAR), '-1')),\n    zip,\n    lat,\n    lon\nFROM\n    raw_companies;\n\n\"\"\"\n\ncon.sql(sql)",
        "id": "748d493d"
      },
      "id": "748d493d",
      "cell_type": "code",
      "execution_count": null,
      "outputs": []
    },
    {
      "source": [
        "# create companies dimension\n",
        "# normalization benefits\n",
        "\n",
        "sql = f\"\"\"\n",
        "\n",
        "CREATE OR REPLACE TABLE {schema}.companies (\n",
        "    company_id VARCHAR,\n",
        "    company_name VARCHAR,\n",
        "    cusip_id VARCHAR,\n",
        "    ceo_id VARCHAR,\n",
        "    founding_year INTEGER,\n",
        "    ownership_type VARCHAR,\n",
        "    exit_type VARCHAR,\n",
        "    exit_comment VARCHAR,\n",
        "    location_id VARCHAR,\n",
        "    PRIMARY KEY (company_id)\n",
        "\n",
        ");\n",
        "\n",
        "\"\"\"\n",
        "\n",
        "con.sql(sql)\n",
        "\n",
        "sql += f\"\"\"\n",
        "\n",
        "INSERT INTO {schema}.companies (company_id, company_name, cusip_id, ceo_id, founding_year, ownership_type, exit_type, exit_comment, location_id)\n",
        "\n",
        "SELECT DISTINCT\n",
        "    MD5(COALESCE(   COALESCE(firmname, '-1') ||\n",
        "                    COALESCE(CAST(CUSIPHEADERID AS VARCHAR),'-1')||\n",
        "                    COALESCE(CAST(firmid AS VARCHAR),'-1')||\n",
        "                    COALESCE(CAST(found AS VARCHAR),'-1') ||\n",
        "                    COALESCE(CAST(own AS VARCHAR),'-1') ||\n",
        "                    COALESCE(CAST(fate AS VARCHAR),'-1') ||\n",
        "                    COALESCE(CAST(estate AS VARCHAR),'-1') ||\n",
        "                    COALESCE(ceo,'-1') ||\n",
        "                    COALESCE(zip,'-1')\n",
        "                    , '-1')) as id,\n",
        "    firmname,\n",
        "    MD5(COALESCE(CUSIPHEADERID || CUSIPHEADERNAME || CUSIPHISTORYID || CUSIPHISTORYNAME, '-1')),\n",
        "    MD5(COALESCE(ceo, '-1')),\n",
        "    found,\n",
        "    CASE own\n",
        "        WHEN 0 THEN 'Private'\n",
        "        WHEN 1 THEN 'Public'\n",
        "        WHEN 2 THEN 'Subsidiary'\n",
        "        ELSE NULL END,\n",
        "    CASE estate\n",
        "        WHEN 0 THEN 'Censored'\n",
        "        WHEN 1 THEN 'Exited market'\n",
        "        WHEN 2 THEN 'Acquired'\n",
        "        WHEN 3 THEN 'Spun off'\n",
        "        WHEN 4 THEN 'Changed Name'\n",
        "        ELSE NULL END,\n",
        "    fate,\n",
        "     MD5(COALESCE(zip || CAST(lat AS VARCHAR) || CAST(lon AS VARCHAR), '-1'))\n",
        "\n",
        "FROM\n",
        "    raw_companies\n",
        "\n",
        "    ;\n",
        "\"\"\"\n",
        "\n",
        "con.sql(sql)"
      ],
      "metadata": {
        "executionCancelledAt": null,
        "executionTime": 50,
        "lastExecutedAt": 1689089960795,
        "lastScheduledRunId": null,
        "lastSuccessfullyExecutedCode": "# create companies dimension\n# normalization benefits\n\nsql = f\"\"\"\n\nCREATE OR REPLACE TABLE {schema}.companies (\n    company_id VARCHAR,\n    company_name VARCHAR,\n    cusip_id VARCHAR,\n    ceo_id VARCHAR,\n    founding_year INTEGER,\n    ownership_type VARCHAR,\n    exit_type VARCHAR,\n    exit_comment VARCHAR,\n    location_id VARCHAR,\n    PRIMARY KEY (company_id)\n    \n);\n\n\"\"\"\n\ncon.sql(sql)\n\nsql += f\"\"\"\n\nINSERT INTO {schema}.companies (company_id, company_name, cusip_id, ceo_id, founding_year, ownership_type, exit_type, exit_comment, location_id)\n\nSELECT DISTINCT\n    MD5(COALESCE(   COALESCE(firmname, '-1') ||\n                    COALESCE(CAST(CUSIPHEADERID AS VARCHAR),'-1')||\n                    COALESCE(CAST(firmid AS VARCHAR),'-1')||\n                    COALESCE(CAST(found AS VARCHAR),'-1') ||\n                    COALESCE(CAST(own AS VARCHAR),'-1') ||\n                    COALESCE(CAST(fate AS VARCHAR),'-1') ||\n                    COALESCE(CAST(estate AS VARCHAR),'-1') ||\n                    COALESCE(ceo,'-1') ||\n                    COALESCE(zip,'-1')\n                    , '-1')) as id,\n    firmname,\n    MD5(COALESCE(CUSIPHEADERID || CUSIPHEADERNAME || CUSIPHISTORYID || CUSIPHISTORYNAME, '-1')),\n    MD5(COALESCE(ceo, '-1')),\n    found,\n    CASE own\n        WHEN 0 THEN 'Private'\n        WHEN 1 THEN 'Public'\n        WHEN 2 THEN 'Subsidiary'\n        ELSE NULL END,\n    CASE estate\n        WHEN 0 THEN 'Censored'\n        WHEN 1 THEN 'Exited market'\n        WHEN 2 THEN 'Acquired'\n        WHEN 3 THEN 'Spun off'\n        WHEN 4 THEN 'Changed Name'\n        ELSE NULL END,\n    fate,\n     MD5(COALESCE(zip || CAST(lat AS VARCHAR) || CAST(lon AS VARCHAR), '-1'))\n    \nFROM\n    raw_companies\n\n    ;\n\"\"\"\n\ncon.sql(sql)",
        "id": "975db7fa"
      },
      "id": "975db7fa",
      "cell_type": "code",
      "execution_count": null,
      "outputs": []
    },
    {
      "source": [
        "# create product_offerings dimension\n",
        "# what is a fact vs. a dimension\n",
        "# CTE\n",
        "sql = f\"\"\"\n",
        "\n",
        "CREATE OR REPLACE TABLE {schema}.product_offerings (\n",
        "    product_offering_id VARCHAR,\n",
        "    product_types_offered VARCHAR,\n",
        "    PRIMARY KEY (product_offering_id)\n",
        ");\n",
        "\n",
        "\"\"\"\n",
        "\n",
        "sql += f\"\"\"\n",
        "\n",
        "INSERT INTO {schema}.product_offerings (product_offering_id, product_types_offered)\n",
        "\n",
        "WITH po AS (\n",
        "     SELECT\n",
        "        CASE\n",
        "            WHEN system = 1 AND graphic = 0 THEN 'Desktop systems'\n",
        "            WHEN system = 0 AND graphic = 1 THEN 'Graphics systems'\n",
        "            WHEN system = 1 AND graphic = 1 THEN 'Desktop + Graphics systems'\n",
        "            ELSE NULL END as offering\n",
        "\n",
        "    from raw_companies\n",
        ")\n",
        "SELECT DISTINCT\n",
        "    MD5(COALESCE(offering, '-1')),\n",
        "    offering\n",
        "FROM\n",
        "    po;\n",
        "\"\"\"\n",
        "\n",
        "con.sql(sql)"
      ],
      "metadata": {
        "executionCancelledAt": null,
        "executionTime": 50,
        "lastExecutedAt": 1689090173287,
        "lastScheduledRunId": null,
        "lastSuccessfullyExecutedCode": "# create product_offerings dimension\n# what is a fact vs. a dimension\n# CTE\nsql = f\"\"\"\n\nCREATE OR REPLACE TABLE {schema}.product_offerings (\n    product_offering_id VARCHAR,\n    product_types_offered VARCHAR,\n    PRIMARY KEY (product_offering_id)\n);\n\n\"\"\"\n\nsql += f\"\"\"\n\nINSERT INTO {schema}.product_offerings (product_offering_id, product_types_offered)\n\nWITH po AS (\n     SELECT\n        CASE\n            WHEN system = 1 AND graphic = 0 THEN 'Desktop systems'\n            WHEN system = 0 AND graphic = 1 THEN 'Graphics systems'\n            WHEN system = 1 AND graphic = 1 THEN 'Desktop + Graphics systems'\n            ELSE NULL END as offering\n\n    from raw_companies\n)\nSELECT DISTINCT\n    MD5(COALESCE(offering, '-1')),\n    offering    \nFROM\n    po;\n\"\"\"\n\ncon.sql(sql)",
        "id": "86493556"
      },
      "id": "86493556",
      "cell_type": "code",
      "execution_count": null,
      "outputs": []
    },
    {
      "source": [
        "# create integration dimension\n",
        "# type 4 dimension - change fast\n",
        "sql = f\"\"\"\n",
        "\n",
        "CREATE OR REPLACE TABLE {schema}.integrations (\n",
        "   integration_id VARCHAR,\n",
        "    cpu_source VARCHAR,\n",
        "    os_source VARCHAR,\n",
        "    application_source VARCHAR,\n",
        "    communications_hardware_source VARCHAR,\n",
        "    disk_source VARCHAR,\n",
        "    ram_source VARCHAR,\n",
        "    motherboard_source VARCHAR,\n",
        "    PRIMARY KEY (integration_id)\n",
        ");\n",
        "\n",
        "\"\"\"\n",
        "\n",
        "sql += f\"\"\"\n",
        "INSERT INTO {schema}.integrations\n",
        "(\n",
        "    integration_id,\n",
        "    cpu_source,\n",
        "    os_source,\n",
        "    application_source,\n",
        "    communications_hardware_source,\n",
        "    disk_source,\n",
        "    ram_source,\n",
        "    motherboard_source\n",
        ")\n",
        "\n",
        "SELECT DISTINCT\n",
        "    MD5(\n",
        "        CASE WHEN cpu = 0 THEN 'Bought' ELSE 'Produced' END ||\n",
        "        CASE WHEN os = 0 THEN 'Bought' ELSE 'Produced' END ||\n",
        "        CASE WHEN apps = 0 THEN 'Bought' ELSE 'Produced' END ||\n",
        "        CASE WHEN comm = 0 THEN 'Bought' ELSE 'Produced' END ||\n",
        "        CASE WHEN disk = 0 THEN 'Bought' ELSE 'Produced' END ||\n",
        "        CASE WHEN memory = 0 THEN 'Bought' ELSE 'Produced' END ||\n",
        "        CASE WHEN board = 0 THEN 'Bought' ELSE 'Produced' END\n",
        "    ),\n",
        "    CASE WHEN cpu = 0 THEN 'Bought' ELSE 'Produced' END,\n",
        "    CASE WHEN os = 0 THEN 'Bought' ELSE 'Produced' END,\n",
        "    CASE WHEN apps = 0 THEN 'Bought' ELSE 'Produced' END,\n",
        "    CASE WHEN comm = 0 THEN 'Bought' ELSE 'Produced' END,\n",
        "    CASE WHEN disk = 0 THEN 'Bought' ELSE 'Produced' END,\n",
        "    CASE WHEN memory = 0 THEN 'Bought' ELSE 'Produced' END,\n",
        "    CASE WHEN board = 0 THEN 'Bought' ELSE 'Produced' END\n",
        "FROM\n",
        "    raw_companies;\n",
        "\n",
        "\n",
        "\"\"\"\n",
        "\n",
        "con.sql(sql)"
      ],
      "metadata": {
        "executionCancelledAt": null,
        "executionTime": 48,
        "lastExecutedAt": 1689090304147,
        "lastScheduledRunId": null,
        "lastSuccessfullyExecutedCode": "# create integration dimension\n# type 4 dimension - change fast\nsql = f\"\"\"\n\nCREATE OR REPLACE TABLE {schema}.integrations (\n   integration_id VARCHAR,\n    cpu_source VARCHAR,\n    os_source VARCHAR,\n    application_source VARCHAR,\n    communications_hardware_source VARCHAR,\n    disk_source VARCHAR,\n    ram_source VARCHAR,\n    motherboard_source VARCHAR,\n    PRIMARY KEY (integration_id)\n);\n\n\"\"\"\n\nsql += f\"\"\"\nINSERT INTO {schema}.integrations\n(\n    integration_id, \n    cpu_source, \n    os_source, \n    application_source, \n    communications_hardware_source, \n    disk_source, \n    ram_source, \n    motherboard_source\n)\n\nSELECT DISTINCT\n    MD5(\n        CASE WHEN cpu = 0 THEN 'Bought' ELSE 'Produced' END || \n        CASE WHEN os = 0 THEN 'Bought' ELSE 'Produced' END || \n        CASE WHEN apps = 0 THEN 'Bought' ELSE 'Produced' END || \n        CASE WHEN comm = 0 THEN 'Bought' ELSE 'Produced' END || \n        CASE WHEN disk = 0 THEN 'Bought' ELSE 'Produced' END || \n        CASE WHEN memory = 0 THEN 'Bought' ELSE 'Produced' END || \n        CASE WHEN board = 0 THEN 'Bought' ELSE 'Produced' END\n    ), \n    CASE WHEN cpu = 0 THEN 'Bought' ELSE 'Produced' END,\n    CASE WHEN os = 0 THEN 'Bought' ELSE 'Produced' END,\n    CASE WHEN apps = 0 THEN 'Bought' ELSE 'Produced' END,\n    CASE WHEN comm = 0 THEN 'Bought' ELSE 'Produced' END,\n    CASE WHEN disk = 0 THEN 'Bought' ELSE 'Produced' END,\n    CASE WHEN memory = 0 THEN 'Bought' ELSE 'Produced' END,\n    CASE WHEN board = 0 THEN 'Bought' ELSE 'Produced' END\nFROM\n    raw_companies;\n\n\n\"\"\"\n\ncon.sql(sql)",
        "id": "169188d1"
      },
      "id": "169188d1",
      "cell_type": "code",
      "execution_count": null,
      "outputs": []
    },
    {
      "source": [
        "### create years table by dynamically assigning values ###\n",
        "\n",
        "# integer values as key which helps with partitioning.\n",
        "# date table's grain goes, other date information\n",
        "# CTAS\n",
        "\n",
        "sql = \"\"\"\n",
        "CREATE OR REPLACE TABLE years AS\n",
        "\n",
        "WITH RECURSIVE years AS (\n",
        "    SELECT 1970 as year\n",
        "    UNION ALL\n",
        "    SELECT year + 1\n",
        "    FROM years\n",
        "    WHERE year < 2000\n",
        ")\n",
        "SELECT\n",
        "    year,\n",
        "    CASE\n",
        "        WHEN MOD(year - 1970, 12) = 0 THEN 'Dog'\n",
        "        WHEN MOD(year - 1970, 12) = 1 THEN 'Pig'\n",
        "        WHEN MOD(year - 1970, 12) = 2 THEN 'Rat'\n",
        "        WHEN MOD(year - 1970, 12) = 3 THEN 'Ox'\n",
        "        WHEN MOD(year - 1970, 12) = 4 THEN 'Tiger'\n",
        "        WHEN MOD(year - 1970, 12) = 5 THEN 'Rabbit'\n",
        "        WHEN MOD(year - 1970, 12) = 6 THEN 'Dragon'\n",
        "        WHEN MOD(year - 1970, 12) = 7 THEN 'Snake'\n",
        "        WHEN MOD(year - 1970, 12) = 8 THEN 'Horse'\n",
        "        WHEN MOD(year - 1970, 12) = 9 THEN 'Sheep'\n",
        "        WHEN MOD(year - 1970, 12) = 10 THEN 'Monkey'\n",
        "        WHEN MOD(year - 1970, 12) = 11 THEN 'Rooster'\n",
        "    END as zodiac_type\n",
        "FROM years;\n",
        "\"\"\"\n",
        "\n",
        "con.sql(sql)"
      ],
      "metadata": {
        "executionCancelledAt": null,
        "executionTime": 24,
        "lastExecutedAt": 1689090402149,
        "lastScheduledRunId": null,
        "lastSuccessfullyExecutedCode": "### create years table by dynamically assigning values ###\n\n# integer values as key which helps with partitioning.\n# date table's grain goes, other date information\n# CTAS\n\nsql = \"\"\"\nCREATE OR REPLACE TABLE years AS\n\nWITH RECURSIVE years AS (\n    SELECT 1970 as year\n    UNION ALL\n    SELECT year + 1\n    FROM years\n    WHERE year < 2000\n)\nSELECT \n    year,\n    CASE \n        WHEN MOD(year - 1970, 12) = 0 THEN 'Dog'\n        WHEN MOD(year - 1970, 12) = 1 THEN 'Pig'\n        WHEN MOD(year - 1970, 12) = 2 THEN 'Rat'\n        WHEN MOD(year - 1970, 12) = 3 THEN 'Ox'\n        WHEN MOD(year - 1970, 12) = 4 THEN 'Tiger'\n        WHEN MOD(year - 1970, 12) = 5 THEN 'Rabbit'\n        WHEN MOD(year - 1970, 12) = 6 THEN 'Dragon'\n        WHEN MOD(year - 1970, 12) = 7 THEN 'Snake'\n        WHEN MOD(year - 1970, 12) = 8 THEN 'Horse'\n        WHEN MOD(year - 1970, 12) = 9 THEN 'Sheep'\n        WHEN MOD(year - 1970, 12) = 10 THEN 'Monkey'\n        WHEN MOD(year - 1970, 12) = 11 THEN 'Rooster'\n    END as zodiac_type\nFROM years;\n\"\"\"\n\ncon.sql(sql)",
        "id": "5dff6c0d"
      },
      "id": "5dff6c0d",
      "cell_type": "code",
      "execution_count": null,
      "outputs": []
    },
    {
      "source": [
        "### making the fact table"
      ],
      "metadata": {
        "id": "e37f2ac5"
      },
      "id": "e37f2ac5",
      "cell_type": "markdown"
    },
    {
      "source": [
        "# create workstation_sales table\n",
        "# additive facts vs. non-additive\n",
        "\n",
        "sql = f\"\"\"\n",
        "\n",
        "CREATE OR REPLACE TABLE {schema}.workstation_sales (\n",
        "   year_id INTEGER,\n",
        "    company_id VARCHAR,\n",
        "    integration_id VARCHAR,\n",
        "    product_offering_id VARCHAR,\n",
        "    sales DOUBLE,\n",
        "    research_budget DOUBLE,\n",
        "    employee_count DOUBLE,\n",
        "    product_offering_count INTEGER,\n",
        "    product_category_count INTEGER,\n",
        ");\n",
        "\n",
        "\"\"\"\n",
        "\n",
        "con.sql(sql)\n",
        "\n",
        "sql += f\"\"\"\n",
        "\n",
        "INSERT INTO {schema}.workstation_sales\n",
        "   (year_id,\n",
        "    company_id ,\n",
        "    integration_id ,\n",
        "    product_offering_id ,\n",
        "    sales ,\n",
        "    research_budget ,\n",
        "    employee_count ,\n",
        "    product_offering_count ,\n",
        "    product_category_count\n",
        "    )\n",
        "\n",
        "SELECT\n",
        "    year,\n",
        "    MD5(COALESCE(   COALESCE(firmname, '-1') ||\n",
        "                    COALESCE(CAST(CUSIPHEADERID AS VARCHAR),'-1')||\n",
        "                    COALESCE(CAST(firmid AS VARCHAR),'-1')||\n",
        "                    COALESCE(CAST(found AS VARCHAR),'-1') ||\n",
        "                    COALESCE(CAST(own AS VARCHAR),'-1') ||\n",
        "                    COALESCE(CAST(fate AS VARCHAR),'-1') ||\n",
        "                    COALESCE(CAST(estate AS VARCHAR),'-1') ||\n",
        "                    COALESCE(ceo,'-1') ||\n",
        "                    COALESCE(zip,'-1')\n",
        "                    , '-1')) as id,\n",
        "\n",
        "    MD5(\n",
        "        CASE WHEN cpu = 0 THEN 'Bought' ELSE 'Produced' END ||\n",
        "        CASE WHEN os = 0 THEN 'Bought' ELSE 'Produced' END ||\n",
        "        CASE WHEN apps = 0 THEN 'Bought' ELSE 'Produced' END ||\n",
        "        CASE WHEN comm = 0 THEN 'Bought' ELSE 'Produced' END ||\n",
        "        CASE WHEN disk = 0 THEN 'Bought' ELSE 'Produced' END ||\n",
        "        CASE WHEN memory = 0 THEN 'Bought' ELSE 'Produced' END ||\n",
        "        CASE WHEN board = 0 THEN 'Bought' ELSE 'Produced' END\n",
        "    ),\n",
        "\n",
        "    MD5(COALESCE(\n",
        "        CASE\n",
        "            WHEN system = 1 AND graphic = 0 THEN 'Desktop systems'\n",
        "            WHEN system = 0 AND graphic = 1 THEN 'Graphics systems'\n",
        "            WHEN system = 1 AND graphic = 1 THEN 'Desktop + Graphics systems'\n",
        "            ELSE NULL END,\n",
        "        '-1'\n",
        "    )),\n",
        "\n",
        "    sales,\n",
        "    randd,\n",
        "    employ,\n",
        "    products,\n",
        "    ptypes\n",
        "\n",
        "\n",
        "FROM\n",
        "    raw_companies\n",
        "    ;\n",
        "\n",
        "\"\"\"\n",
        "\n",
        "con.sql(sql)"
      ],
      "metadata": {
        "executionCancelledAt": null,
        "executionTime": 52,
        "lastExecutedAt": 1689090502739,
        "lastScheduledRunId": null,
        "lastSuccessfullyExecutedCode": "# create workstation_sales table\n# additive facts vs. non-additive\n\nsql = f\"\"\"\n\nCREATE OR REPLACE TABLE {schema}.workstation_sales (\n   year_id INTEGER,\n    company_id VARCHAR,\n    integration_id VARCHAR,\n    product_offering_id VARCHAR,\n    sales DOUBLE,\n    research_budget DOUBLE,\n    employee_count DOUBLE,\n    product_offering_count INTEGER,\n    product_category_count INTEGER,\n);\n\n\"\"\"\n\ncon.sql(sql)\n\nsql += f\"\"\"\n\nINSERT INTO {schema}.workstation_sales \n   (year_id,\n    company_id ,\n    integration_id ,\n    product_offering_id ,\n    sales ,\n    research_budget ,\n    employee_count ,\n    product_offering_count ,\n    product_category_count\n    )\n\nSELECT\n    year,\n    MD5(COALESCE(   COALESCE(firmname, '-1') ||\n                    COALESCE(CAST(CUSIPHEADERID AS VARCHAR),'-1')||\n                    COALESCE(CAST(firmid AS VARCHAR),'-1')||\n                    COALESCE(CAST(found AS VARCHAR),'-1') ||\n                    COALESCE(CAST(own AS VARCHAR),'-1') ||\n                    COALESCE(CAST(fate AS VARCHAR),'-1') ||\n                    COALESCE(CAST(estate AS VARCHAR),'-1') ||\n                    COALESCE(ceo,'-1') ||\n                    COALESCE(zip,'-1')\n                    , '-1')) as id,\n\n    MD5(\n        CASE WHEN cpu = 0 THEN 'Bought' ELSE 'Produced' END || \n        CASE WHEN os = 0 THEN 'Bought' ELSE 'Produced' END || \n        CASE WHEN apps = 0 THEN 'Bought' ELSE 'Produced' END || \n        CASE WHEN comm = 0 THEN 'Bought' ELSE 'Produced' END || \n        CASE WHEN disk = 0 THEN 'Bought' ELSE 'Produced' END || \n        CASE WHEN memory = 0 THEN 'Bought' ELSE 'Produced' END || \n        CASE WHEN board = 0 THEN 'Bought' ELSE 'Produced' END\n    ),\n    \n    MD5(COALESCE(\n        CASE\n            WHEN system = 1 AND graphic = 0 THEN 'Desktop systems'\n            WHEN system = 0 AND graphic = 1 THEN 'Graphics systems'\n            WHEN system = 1 AND graphic = 1 THEN 'Desktop + Graphics systems'\n            ELSE NULL END,\n        '-1'\n    )),\n    \n    sales,\n    randd,\n    employ,\n    products,\n    ptypes\n    \n    \nFROM\n    raw_companies\n    ;\n\n\"\"\"\n\ncon.sql(sql)",
        "id": "cfcea844"
      },
      "id": "cfcea844",
      "cell_type": "code",
      "execution_count": null,
      "outputs": []
    },
    {
      "source": [
        "# con.sql('select count(*) from workstation_snowflake.workstation_sales a join workstation_snowflake.companies b on a.company_id = b.company_id')\n",
        "\n",
        "# con.sql('select count(*) from workstation_snowflake.workstation_sales a join workstation_snowflake.integrations b on a.integration_id = b.integration_id')\n",
        "\n",
        "# con.sql('select count(*) from workstation_snowflake.companies') # 388\n",
        "\n",
        "# con.sql(\"select 'locations', count(*) from workstation_snowflake.companies c join workstation_snowflake.locations l on c.location_id = l.location_id\")\n",
        "\n",
        "con.sql(\"select 'locations', count(*) from snow.companies c join snow.compustat s on c.cusip_id = s.cusip_id\")\n",
        "\n",
        "# con.sql(\"select 'locations', count(*) from workstation_snowflake.companies c join workstation_snowflake.ceos s on c.ceo_id = s.ceo_id\")\n",
        "\n",
        "# con.sql('select company_name, c.location_id, l.location_id from workstation_snowflake.companies c left join workstation_snowflake.locations l on c.location_id = l.location_id')\n",
        "\n",
        "# con.sql('select count(*) from raw_companies')"
      ],
      "metadata": {
        "executionCancelledAt": null,
        "executionTime": 50,
        "lastExecutedAt": 1689090569732,
        "lastScheduledRunId": null,
        "lastSuccessfullyExecutedCode": "# con.sql('select count(*) from workstation_snowflake.workstation_sales a join workstation_snowflake.companies b on a.company_id = b.company_id')\n\n# con.sql('select count(*) from workstation_snowflake.workstation_sales a join workstation_snowflake.integrations b on a.integration_id = b.integration_id')\n\n# con.sql('select count(*) from workstation_snowflake.companies') # 388\n\n# con.sql(\"select 'locations', count(*) from workstation_snowflake.companies c join workstation_snowflake.locations l on c.location_id = l.location_id\")\n\ncon.sql(\"select 'locations', count(*) from snow.companies c join snow.compustat s on c.cusip_id = s.cusip_id\")\n\n# con.sql(\"select 'locations', count(*) from workstation_snowflake.companies c join workstation_snowflake.ceos s on c.ceo_id = s.ceo_id\")\n\n# con.sql('select company_name, c.location_id, l.location_id from workstation_snowflake.companies c left join workstation_snowflake.locations l on c.location_id = l.location_id')\n\n# con.sql('select count(*) from raw_companies')",
        "id": "b7363459",
        "outputId": "42184aac-23b0-45a3-b077-328646545a6b"
      },
      "id": "b7363459",
      "cell_type": "code",
      "execution_count": null,
      "outputs": [
        {
          "output_type": "execute_result",
          "data": {
            "text/plain": "┌─────────────┬──────────────┐\n│ 'locations' │ count_star() │\n│   varchar   │    int64     │\n├─────────────┼──────────────┤\n│ locations   │          388 │\n└─────────────┴──────────────┘"
          },
          "metadata": {},
          "execution_count": 30
        }
      ]
    },
    {
      "source": [
        "## A star data model\n",
        "\n",
        "Steps of Kimball dimensional modeling:\n",
        "\n",
        "1. Select the business process\n",
        "2. Declare the grain\n",
        "3. Identify the dimensions\n",
        "4. Identify the facts\n",
        "\n",
        "![](star.png)"
      ],
      "metadata": {
        "id": "6b7d3c1e"
      },
      "id": "6b7d3c1e",
      "cell_type": "markdown"
    },
    {
      "source": [
        "# update schema\n",
        "schema = 'star'"
      ],
      "metadata": {
        "executionCancelledAt": null,
        "executionTime": 48,
        "lastExecutedAt": 1689090629923,
        "lastScheduledRunId": null,
        "lastSuccessfullyExecutedCode": "# update schema\nschema = 'star'",
        "id": "bc4696a9"
      },
      "id": "bc4696a9",
      "cell_type": "code",
      "execution_count": null,
      "outputs": []
    },
    {
      "source": [
        "# make new companies attribute which contains\n",
        "# pros/cons of denormalizing to star\n",
        "sql = f\"\"\"\n",
        "\n",
        "CREATE OR REPLACE TABLE {schema}.companies (\n",
        "       company_id VARCHAR,\n",
        "    company_name VARCHAR,\n",
        "    cusip_id VARCHAR,\n",
        "    cusip_name VARCHAR,\n",
        "    cusip_historical_id VARCHAR,\n",
        "    cusip_historical_name VARCHAR,\n",
        "    ceo_name VARCHAR,\n",
        "    founding_year INTEGER,\n",
        "    ownership_type VARCHAR,\n",
        "    exit_type VARCHAR,\n",
        "    exit_comment VARCHAR,\n",
        "    zipcode VARCHAR,\n",
        "    latitude DOUBLE,\n",
        "    longitude DOUBLE,\n",
        "    PRIMARY KEY (company_id),\n",
        ");\n",
        "\n",
        "\"\"\"\n",
        "\n",
        "con.sql(sql)\n",
        "\n",
        "sql += f\"\"\"\n",
        "\n",
        "INSERT INTO {schema}.companies (\n",
        "    company_id ,\n",
        "    company_name ,\n",
        "    cusip_id ,\n",
        "    cusip_name ,\n",
        "    cusip_historical_id ,\n",
        "    cusip_historical_name ,\n",
        "    ceo_name ,\n",
        "    founding_year ,\n",
        "    ownership_type ,\n",
        "    exit_type ,\n",
        "    exit_comment ,\n",
        "    zipcode ,\n",
        "    latitude ,\n",
        "    longitude )\n",
        "\n",
        "SELECT DISTINCT\n",
        "    MD5(COALESCE(   COALESCE(firmname, '-1') ||\n",
        "                    COALESCE(CAST(CUSIPHEADERID AS VARCHAR),'-1')||\n",
        "                    COALESCE(CAST(firmid AS VARCHAR),'-1')||\n",
        "                    COALESCE(CAST(found AS VARCHAR),'-1') ||\n",
        "                    COALESCE(CAST(own AS VARCHAR),'-1') ||\n",
        "                    COALESCE(CAST(fate AS VARCHAR),'-1') ||\n",
        "                    COALESCE(CAST(estate AS VARCHAR),'-1') ||\n",
        "                    COALESCE(ceo,'-1') ||\n",
        "                    COALESCE(zip,'-1')\n",
        "                    , '-1')) as id,\n",
        "    firmname,\n",
        "    CUSIPHEADERID,\n",
        "    CUSIPHeaderName,\n",
        "    CUSIPHISTORYID,\n",
        "    CUSIPHistoryName,\n",
        "    ceo,\n",
        "    found,\n",
        "    CASE own\n",
        "        WHEN 0 THEN 'Private'\n",
        "        WHEN 1 THEN 'Public'\n",
        "        WHEN 2 THEN 'Subsidiary'\n",
        "        ELSE NULL END,\n",
        "    CASE estate\n",
        "        WHEN 0 THEN 'Censored'\n",
        "        WHEN 1 THEN 'Exited market'\n",
        "        WHEN 2 THEN 'Acquired'\n",
        "        WHEN 3 THEN 'Spun off'\n",
        "        WHEN 4 THEN 'Changed Name'\n",
        "        ELSE NULL END,\n",
        "    fate,\n",
        "    ZIP,\n",
        "    lat,\n",
        "    lon\n",
        "\n",
        "FROM\n",
        "    raw_companies;\n",
        "\"\"\"\n",
        "\n",
        "con.sql(sql)"
      ],
      "metadata": {
        "executionCancelledAt": null,
        "executionTime": 51,
        "lastExecutedAt": 1689090688313,
        "lastScheduledRunId": null,
        "lastSuccessfullyExecutedCode": "# make new companies attribute which contains\n# pros/cons of denormalizing to star\nsql = f\"\"\"\n\nCREATE OR REPLACE TABLE {schema}.companies (\n       company_id VARCHAR,\n    company_name VARCHAR,\n    cusip_id VARCHAR,\n    cusip_name VARCHAR,\n    cusip_historical_id VARCHAR,\n    cusip_historical_name VARCHAR,\n    ceo_name VARCHAR,\n    founding_year INTEGER,\n    ownership_type VARCHAR,\n    exit_type VARCHAR,\n    exit_comment VARCHAR,\n    zipcode VARCHAR,\n    latitude DOUBLE,\n    longitude DOUBLE,\n    PRIMARY KEY (company_id),\n);\n\n\"\"\"\n\ncon.sql(sql)\n\nsql += f\"\"\"\n\nINSERT INTO {schema}.companies (\n    company_id ,\n    company_name ,\n    cusip_id ,\n    cusip_name ,\n    cusip_historical_id ,\n    cusip_historical_name ,\n    ceo_name ,\n    founding_year ,\n    ownership_type ,\n    exit_type ,\n    exit_comment ,\n    zipcode ,\n    latitude ,\n    longitude )\n\nSELECT DISTINCT\n    MD5(COALESCE(   COALESCE(firmname, '-1') ||\n                    COALESCE(CAST(CUSIPHEADERID AS VARCHAR),'-1')||\n                    COALESCE(CAST(firmid AS VARCHAR),'-1')||\n                    COALESCE(CAST(found AS VARCHAR),'-1') ||\n                    COALESCE(CAST(own AS VARCHAR),'-1') ||\n                    COALESCE(CAST(fate AS VARCHAR),'-1') ||\n                    COALESCE(CAST(estate AS VARCHAR),'-1') ||\n                    COALESCE(ceo,'-1') ||\n                    COALESCE(zip,'-1')\n                    , '-1')) as id,\n    firmname,\n    CUSIPHEADERID,\n    CUSIPHeaderName,\n    CUSIPHISTORYID,\n    CUSIPHistoryName,\n    ceo,\n    found,\n    CASE own\n        WHEN 0 THEN 'Private'\n        WHEN 1 THEN 'Public'\n        WHEN 2 THEN 'Subsidiary'\n        ELSE NULL END,\n    CASE estate\n        WHEN 0 THEN 'Censored'\n        WHEN 1 THEN 'Exited market'\n        WHEN 2 THEN 'Acquired'\n        WHEN 3 THEN 'Spun off'\n        WHEN 4 THEN 'Changed Name'\n        ELSE NULL END,\n    fate,\n    ZIP,\n    lat,\n    lon\n    \nFROM\n    raw_companies;\n\"\"\"\n\ncon.sql(sql)",
        "id": "e0fa2005"
      },
      "id": "e0fa2005",
      "cell_type": "code",
      "execution_count": null,
      "outputs": []
    },
    {
      "source": [
        "con.sql('select count(*) from workstation_snowflake.workstation_sales a join star.companies b on a.company_id = b.company_id')"
      ],
      "metadata": {
        "id": "fbb73bca"
      },
      "id": "fbb73bca",
      "cell_type": "code",
      "execution_count": null,
      "outputs": []
    },
    {
      "source": [
        "### Some query testing"
      ],
      "metadata": {
        "id": "36c410ee"
      },
      "id": "36c410ee",
      "cell_type": "markdown"
    },
    {
      "source": [
        "con.sql(\"\"\"\n",
        "select zipcode, sum(sales)\n",
        "from snow.workstation_sales a\n",
        "join snow.companies c on a.company_id=c.company_id\n",
        "join snow.locations l on c.location_id=l.location_id\n",
        "group by 1 order by 2 desc\"\"\")"
      ],
      "metadata": {
        "executionCancelledAt": null,
        "executionTime": 46,
        "lastExecutedAt": 1689090721168,
        "lastScheduledRunId": null,
        "lastSuccessfullyExecutedCode": "con.sql(\"\"\"\nselect zipcode, sum(sales) \nfrom snow.workstation_sales a \njoin snow.companies c on a.company_id=c.company_id\njoin snow.locations l on c.location_id=l.location_id\ngroup by 1 order by 2 desc\"\"\")",
        "id": "cee590b9",
        "outputId": "5c04d58f-97dc-4f7f-ec7b-fdddbdacaf39"
      },
      "id": "cee590b9",
      "cell_type": "code",
      "execution_count": null,
      "outputs": [
        {
          "output_type": "execute_result",
          "data": {
            "text/plain": "┌─────────┬────────────────┐\n│ zipcode │   sum(sales)   │\n│ varchar │     double     │\n├─────────┼────────────────┤\n│ 10504   │ 598003998720.0 │\n│ 45479   │ 154701496704.0 │\n│ 94304   │ 141994998272.0 │\n│ 01754   │ 132260221440.0 │\n│ 95054   │ 121301996099.0 │\n│ 14650   │  95705997312.0 │\n│ 01821   │  81184972152.0 │\n│ 95134   │  67506182944.0 │\n│ 07660   │  48000000000.0 │\n│ 95008   │  36615437056.0 │\n│   ·     │             ·  │\n│   ·     │             ·  │\n│   ·     │             ·  │\n│ 15276   │            1.0 │\n│ 97006   │            1.0 │\n│ 41048   │            1.0 │\n│ 27709   │           NULL │\n│ 92803   │           NULL │\n│ 97124   │           NULL │\n│ 94063   │           NULL │\n│ 94577   │           NULL │\n│ 19380   │           NULL │\n│ 77094   │           NULL │\n├─────────┴────────────────┤\n│   156 rows (20 shown)    │\n└──────────────────────────┘"
          },
          "metadata": {},
          "execution_count": 33
        }
      ]
    },
    {
      "source": [
        "con.sql(\"\"\"\n",
        "select zipcode, sum(sales)\n",
        "from snow.workstation_sales a\n",
        "join star.companies c on a.company_id=c.company_id\n",
        "group by 1 order by 2 desc\"\"\")"
      ],
      "metadata": {
        "executionCancelledAt": null,
        "executionTime": 50,
        "lastExecutedAt": 1689090746904,
        "lastScheduledRunId": null,
        "lastSuccessfullyExecutedCode": "con.sql(\"\"\"\nselect zipcode, sum(sales) \nfrom snow.workstation_sales a \njoin star.companies c on a.company_id=c.company_id\ngroup by 1 order by 2 desc\"\"\")",
        "id": "8cb2af57",
        "outputId": "10927ccf-677c-4575-9a13-a92986559daa"
      },
      "id": "8cb2af57",
      "cell_type": "code",
      "execution_count": null,
      "outputs": [
        {
          "output_type": "execute_result",
          "data": {
            "text/plain": "┌─────────┬────────────────┐\n│ zipcode │   sum(sales)   │\n│ varchar │     double     │\n├─────────┼────────────────┤\n│ 10504   │ 598003998720.0 │\n│ 45479   │ 154701496704.0 │\n│ 94304   │ 141994998272.0 │\n│ 01754   │ 132260221440.0 │\n│ 95054   │ 121301996099.0 │\n│ 14650   │  95705997312.0 │\n│ 01821   │  81184972152.0 │\n│ 95134   │  67506182944.0 │\n│ 07660   │  48000000000.0 │\n│ 95008   │  36615437056.0 │\n│   ·     │             ·  │\n│   ·     │             ·  │\n│   ·     │             ·  │\n│ 15276   │            1.0 │\n│ 97006   │            1.0 │\n│ 41048   │            1.0 │\n│ 27709   │           NULL │\n│ 92803   │           NULL │\n│ 97124   │           NULL │\n│ 94063   │           NULL │\n│ 94577   │           NULL │\n│ 19380   │           NULL │\n│ 77094   │           NULL │\n├─────────┴────────────────┤\n│   156 rows (20 shown)    │\n└──────────────────────────┘"
          },
          "metadata": {},
          "execution_count": 34
        }
      ]
    },
    {
      "source": [
        "%%timeit -n 10\n",
        "\n",
        "con.sql(\"\"\"\n",
        "select zipcode, sum(sales)\n",
        "from snow.workstation_sales a\n",
        "join snow.companies c on a.company_id=c.company_id\n",
        "join snow.locations l on c.location_id=l.location_id\n",
        "group by 1 order by 2 desc\"\"\")"
      ],
      "metadata": {
        "executionCancelledAt": null,
        "executionTime": 59,
        "lastExecutedAt": 1689090771336,
        "lastScheduledRunId": null,
        "lastSuccessfullyExecutedCode": "%%timeit -n 10\n\ncon.sql(\"\"\"\nselect zipcode, sum(sales) \nfrom snow.workstation_sales a \njoin snow.companies c on a.company_id=c.company_id\njoin snow.locations l on c.location_id=l.location_id\ngroup by 1 order by 2 desc\"\"\")",
        "outputsMetadata": {
          "0": {
            "height": 37,
            "type": "stream"
          }
        },
        "id": "881516e0",
        "outputId": "215afdd9-9887-4aa2-bef1-6ef36f9e39bd"
      },
      "id": "881516e0",
      "cell_type": "code",
      "execution_count": null,
      "outputs": [
        {
          "output_type": "stream",
          "name": "stdout",
          "text": "117 µs ± 13.3 µs per loop (mean ± std. dev. of 7 runs, 10 loops each)\n"
        }
      ]
    },
    {
      "source": [
        "%%timeit -n 10\n",
        "\n",
        "con.sql(\"\"\"\n",
        "select zipcode, sum(sales)\n",
        "from snow.workstation_sales a\n",
        "join star.companies c on a.company_id=c.company_id\n",
        "group by 1 order by 1 desc\"\"\")"
      ],
      "metadata": {
        "executionCancelledAt": null,
        "executionTime": 21,
        "lastExecutedAt": 1689090792300,
        "lastScheduledRunId": null,
        "lastSuccessfullyExecutedCode": "%%timeit -n 10\n\ncon.sql(\"\"\"\nselect zipcode, sum(sales) \nfrom snow.workstation_sales a \njoin star.companies c on a.company_id=c.company_id\ngroup by 1 order by 1 desc\"\"\")",
        "outputsMetadata": {
          "0": {
            "height": 37,
            "type": "stream"
          }
        },
        "id": "266cbad2",
        "outputId": "03bfc68d-392c-4687-a0f3-b66db6fbca6f"
      },
      "id": "266cbad2",
      "cell_type": "code",
      "execution_count": null,
      "outputs": [
        {
          "output_type": "stream",
          "name": "stdout",
          "text": "109 µs ± 13 µs per loop (mean ± std. dev. of 7 runs, 10 loops each)\n"
        }
      ]
    },
    {
      "source": [],
      "metadata": {
        "id": "b3baec91"
      },
      "id": "b3baec91",
      "cell_type": "code",
      "execution_count": null,
      "outputs": []
    }
  ],
  "metadata": {
    "language_info": {
      "name": "python",
      "version": "3.8.10",
      "mimetype": "text/x-python",
      "codemirror_mode": {
        "name": "ipython",
        "version": 3
      },
      "pygments_lexer": "ipython3",
      "nbconvert_exporter": "python",
      "file_extension": ".py"
    },
    "kernelspec": {
      "display_name": "Python 3 (ipykernel)",
      "language": "python",
      "name": "python3"
    },
    "editor": "DataCamp Workspace",
    "colab": {
      "provenance": []
    }
  },
  "nbformat": 4,
  "nbformat_minor": 5
}