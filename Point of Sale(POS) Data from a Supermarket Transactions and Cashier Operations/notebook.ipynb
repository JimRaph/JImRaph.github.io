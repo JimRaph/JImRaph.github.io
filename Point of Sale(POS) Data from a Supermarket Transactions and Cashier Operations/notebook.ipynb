{
  "cells": [
    {
      "source": [
        "# Point of Sale(POS) Data from a Supermarket: Transactions and Cashier Operations\n",
        "\n",
        "We will use SQL for queries and Plotly for visualization."
      ],
      "metadata": {
        "id": "93024ba2"
      },
      "id": "93024ba2",
      "cell_type": "markdown"
    },
    {
      "source": [
        "Importing libraries that we may use."
      ],
      "metadata": {
        "id": "b7a0a310-5cfd-477d-9f2a-3081a1c37c46"
      },
      "cell_type": "markdown",
      "id": "b7a0a310-5cfd-477d-9f2a-3081a1c37c46"
    },
    {
      "source": [
        "import plotly.express as px\n",
        "import numpy as np"
      ],
      "metadata": {
        "executionCancelledAt": null,
        "executionTime": 47,
        "lastExecutedAt": 1695822102008,
        "lastScheduledRunId": null,
        "lastSuccessfullyExecutedCode": "import plotly.express as px\nimport numpy as np",
        "id": "8f14fd78-c50f-4a2c-8c65-43777faca775"
      },
      "cell_type": "code",
      "id": "8f14fd78-c50f-4a2c-8c65-43777faca775",
      "execution_count": null,
      "outputs": []
    },
    {
      "source": [
        "## Task 1: Exploring the data"
      ],
      "metadata": {
        "id": "c15e7470-a319-4af1-a160-a42d982bf976"
      },
      "id": "c15e7470-a319-4af1-a160-a42d982bf976",
      "cell_type": "markdown"
    },
    {
      "source": [
        "A good first step in exploring a database is to select the first few rows from each table."
      ],
      "metadata": {
        "id": "d7e5c8be-aa11-44ad-8d86-8517c75fa01e"
      },
      "id": "d7e5c8be-aa11-44ad-8d86-8517c75fa01e",
      "cell_type": "markdown"
    },
    {
      "source": [
        "SELECT *\n",
        "FROM 'pos_operator_logs.csv'\n",
        "LIMIT 10"
      ],
      "metadata": {
        "customType": "sql",
        "dataFrameVariableName": "df",
        "sqlSource": {
          "type": "dataframesAndCsvs"
        },
        "visualizeDataframe": false,
        "chartConfig": {
          "bar": {
            "hasRoundedCorners": true,
            "stacked": false
          },
          "type": "bar",
          "version": "v1"
        },
        "executionTime": 159,
        "lastSuccessfullyExecutedCode": "SELECT *\nFROM 'pos_operator_logs.csv'\nLIMIT 10",
        "executionCancelledAt": null,
        "lastExecutedAt": 1695822102168,
        "lastScheduledRunId": null,
        "outputsMetadata": {
          "0": {
            "height": 327,
            "type": "dataFrame"
          }
        },
        "id": "c7326e4a-5c58-45f0-bca6-8b34ec7082cd",
        "outputId": "82eaffc9-9b15-4afa-9083-ac3e551d450a"
      },
      "id": "c7326e4a-5c58-45f0-bca6-8b34ec7082cd",
      "cell_type": "code",
      "execution_count": null,
      "outputs": [
        {
          "output_type": "execute_result",
          "data": {
            "application/com.datacamp.data-table.v1+json": {
              "table": {
                "schema": {
                  "fields": [
                    {
                      "name": "index",
                      "type": "integer"
                    },
                    {
                      "name": "id",
                      "type": "integer"
                    },
                    {
                      "name": "Workstation_Group_ID",
                      "type": "integer"
                    },
                    {
                      "name": "Workstation_ID",
                      "type": "integer"
                    },
                    {
                      "name": "begin_date_time",
                      "type": "datetime",
                      "tz": "UTC"
                    },
                    {
                      "name": "operator_id",
                      "type": "integer"
                    }
                  ],
                  "primaryKey": [
                    "index"
                  ],
                  "pandas_version": "1.4.0"
                },
                "data": [
                  {
                    "index": 0,
                    "id": 1,
                    "Workstation_Group_ID": 8,
                    "Workstation_ID": 19,
                    "begin_date_time": "2019-02-13T05:37:55.000Z",
                    "operator_id": 269
                  },
                  {
                    "index": 1,
                    "id": 2,
                    "Workstation_Group_ID": 8,
                    "Workstation_ID": 18,
                    "begin_date_time": "2019-02-13T05:37:55.000Z",
                    "operator_id": 268
                  },
                  {
                    "index": 2,
                    "id": 3,
                    "Workstation_Group_ID": 8,
                    "Workstation_ID": 17,
                    "begin_date_time": "2019-02-13T05:38:43.000Z",
                    "operator_id": 267
                  },
                  {
                    "index": 3,
                    "id": 4,
                    "Workstation_Group_ID": 1,
                    "Workstation_ID": 4,
                    "begin_date_time": "2019-02-13T07:01:26.000Z",
                    "operator_id": 332
                  },
                  {
                    "index": 4,
                    "id": 5,
                    "Workstation_Group_ID": 1,
                    "Workstation_ID": 7,
                    "begin_date_time": "2019-02-13T07:01:57.000Z",
                    "operator_id": 10
                  },
                  {
                    "index": 5,
                    "id": 6,
                    "Workstation_Group_ID": 1,
                    "Workstation_ID": 7,
                    "begin_date_time": "2019-02-13T07:02:16.000Z",
                    "operator_id": 10
                  },
                  {
                    "index": 6,
                    "id": 7,
                    "Workstation_Group_ID": 1,
                    "Workstation_ID": 4,
                    "begin_date_time": "2019-02-13T07:03:54.000Z",
                    "operator_id": 332
                  },
                  {
                    "index": 7,
                    "id": 8,
                    "Workstation_Group_ID": 1,
                    "Workstation_ID": 4,
                    "begin_date_time": "2019-02-13T07:05:52.000Z",
                    "operator_id": 332
                  },
                  {
                    "index": 8,
                    "id": 9,
                    "Workstation_Group_ID": 1,
                    "Workstation_ID": 7,
                    "begin_date_time": "2019-02-13T07:32:51.000Z",
                    "operator_id": 114
                  },
                  {
                    "index": 9,
                    "id": 10,
                    "Workstation_Group_ID": 1,
                    "Workstation_ID": 7,
                    "begin_date_time": "2019-02-13T07:35:12.000Z",
                    "operator_id": 114
                  }
                ]
              },
              "total_rows": 10,
              "truncation_type": null
            },
            "text/plain": "   id  Workstation_Group_ID  ...           begin_date_time operator_id\n0   1                     8  ... 2019-02-13 05:37:55+00:00         269\n1   2                     8  ... 2019-02-13 05:37:55+00:00         268\n2   3                     8  ... 2019-02-13 05:38:43+00:00         267\n3   4                     1  ... 2019-02-13 07:01:26+00:00         332\n4   5                     1  ... 2019-02-13 07:01:57+00:00          10\n5   6                     1  ... 2019-02-13 07:02:16+00:00          10\n6   7                     1  ... 2019-02-13 07:03:54+00:00         332\n7   8                     1  ... 2019-02-13 07:05:52+00:00         332\n8   9                     1  ... 2019-02-13 07:32:51+00:00         114\n9  10                     1  ... 2019-02-13 07:35:12+00:00         114\n\n[10 rows x 5 columns]",
            "text/html": "<div>\n<style scoped>\n    .dataframe tbody tr th:only-of-type {\n        vertical-align: middle;\n    }\n\n    .dataframe tbody tr th {\n        vertical-align: top;\n    }\n\n    .dataframe thead th {\n        text-align: right;\n    }\n</style>\n<table border=\"1\" class=\"dataframe\">\n  <thead>\n    <tr style=\"text-align: right;\">\n      <th></th>\n      <th>id</th>\n      <th>Workstation_Group_ID</th>\n      <th>Workstation_ID</th>\n      <th>begin_date_time</th>\n      <th>operator_id</th>\n    </tr>\n  </thead>\n  <tbody>\n    <tr>\n      <th>0</th>\n      <td>1</td>\n      <td>8</td>\n      <td>19</td>\n      <td>2019-02-13 05:37:55+00:00</td>\n      <td>269</td>\n    </tr>\n    <tr>\n      <th>1</th>\n      <td>2</td>\n      <td>8</td>\n      <td>18</td>\n      <td>2019-02-13 05:37:55+00:00</td>\n      <td>268</td>\n    </tr>\n    <tr>\n      <th>2</th>\n      <td>3</td>\n      <td>8</td>\n      <td>17</td>\n      <td>2019-02-13 05:38:43+00:00</td>\n      <td>267</td>\n    </tr>\n    <tr>\n      <th>3</th>\n      <td>4</td>\n      <td>1</td>\n      <td>4</td>\n      <td>2019-02-13 07:01:26+00:00</td>\n      <td>332</td>\n    </tr>\n    <tr>\n      <th>4</th>\n      <td>5</td>\n      <td>1</td>\n      <td>7</td>\n      <td>2019-02-13 07:01:57+00:00</td>\n      <td>10</td>\n    </tr>\n    <tr>\n      <th>5</th>\n      <td>6</td>\n      <td>1</td>\n      <td>7</td>\n      <td>2019-02-13 07:02:16+00:00</td>\n      <td>10</td>\n    </tr>\n    <tr>\n      <th>6</th>\n      <td>7</td>\n      <td>1</td>\n      <td>4</td>\n      <td>2019-02-13 07:03:54+00:00</td>\n      <td>332</td>\n    </tr>\n    <tr>\n      <th>7</th>\n      <td>8</td>\n      <td>1</td>\n      <td>4</td>\n      <td>2019-02-13 07:05:52+00:00</td>\n      <td>332</td>\n    </tr>\n    <tr>\n      <th>8</th>\n      <td>9</td>\n      <td>1</td>\n      <td>7</td>\n      <td>2019-02-13 07:32:51+00:00</td>\n      <td>114</td>\n    </tr>\n    <tr>\n      <th>9</th>\n      <td>10</td>\n      <td>1</td>\n      <td>7</td>\n      <td>2019-02-13 07:35:12+00:00</td>\n      <td>114</td>\n    </tr>\n  </tbody>\n</table>\n</div>"
          },
          "metadata": {},
          "execution_count": 78
        }
      ]
    },
    {
      "source": [
        "SELECT *\n",
        "FROM 'pos_transactions.csv'\n",
        "LIMIT 10"
      ],
      "metadata": {
        "customType": "sql",
        "dataFrameVariableName": "df",
        "sqlSource": {
          "type": "dataframesAndCsvs"
        },
        "executionTime": 300,
        "lastSuccessfullyExecutedCode": "SELECT *\nFROM 'pos_transactions.csv'\nLIMIT 10",
        "executionCancelledAt": null,
        "lastExecutedAt": 1695822102468,
        "lastScheduledRunId": null,
        "outputsMetadata": {
          "0": {
            "height": 327,
            "type": "dataFrame"
          }
        },
        "id": "1c76c74a-e3fe-4b2a-a04d-5055dbd9dc03",
        "outputId": "e7b5ea48-ef54-4306-9c3f-2afcc5b8ac05"
      },
      "id": "1c76c74a-e3fe-4b2a-a04d-5055dbd9dc03",
      "cell_type": "code",
      "execution_count": null,
      "outputs": [
        {
          "output_type": "execute_result",
          "data": {
            "application/com.datacamp.data-table.v1+json": {
              "table": {
                "schema": {
                  "fields": [
                    {
                      "name": "index",
                      "type": "integer"
                    },
                    {
                      "name": "id",
                      "type": "integer"
                    },
                    {
                      "name": "WorkstationGroupID",
                      "type": "integer"
                    },
                    {
                      "name": "begin_date_time",
                      "type": "datetime",
                      "tz": "UTC"
                    },
                    {
                      "name": "end_date_time",
                      "type": "datetime",
                      "tz": "UTC"
                    },
                    {
                      "name": "OperatorID",
                      "type": "integer"
                    },
                    {
                      "name": "basket_size",
                      "type": "integer"
                    },
                    {
                      "name": "t_cash",
                      "type": "boolean"
                    },
                    {
                      "name": "t_card",
                      "type": "boolean"
                    },
                    {
                      "name": "amount",
                      "type": "number"
                    }
                  ],
                  "primaryKey": [
                    "index"
                  ],
                  "pandas_version": "1.4.0"
                },
                "data": [
                  {
                    "index": 0,
                    "id": 1,
                    "WorkstationGroupID": 1,
                    "begin_date_time": "2017-12-07T14:23:23.000Z",
                    "end_date_time": "2017-12-07T14:24:36.000Z",
                    "OperatorID": 101,
                    "basket_size": 23,
                    "t_cash": true,
                    "t_card": false,
                    "amount": 112.71
                  },
                  {
                    "index": 1,
                    "id": 2,
                    "WorkstationGroupID": 1,
                    "begin_date_time": "2017-12-07T14:25:09.000Z",
                    "end_date_time": "2017-12-07T14:27:00.000Z",
                    "OperatorID": 101,
                    "basket_size": 29,
                    "t_cash": true,
                    "t_card": false,
                    "amount": 54.76
                  },
                  {
                    "index": 2,
                    "id": 3,
                    "WorkstationGroupID": 1,
                    "begin_date_time": "2017-12-07T14:27:28.000Z",
                    "end_date_time": "2017-12-07T14:27:48.000Z",
                    "OperatorID": 101,
                    "basket_size": 3,
                    "t_cash": true,
                    "t_card": false,
                    "amount": 14.77
                  },
                  {
                    "index": 3,
                    "id": 4,
                    "WorkstationGroupID": 1,
                    "begin_date_time": "2017-12-07T14:28:04.000Z",
                    "end_date_time": "2017-12-07T14:28:29.000Z",
                    "OperatorID": 101,
                    "basket_size": 12,
                    "t_cash": true,
                    "t_card": false,
                    "amount": 37.88
                  },
                  {
                    "index": 4,
                    "id": 5,
                    "WorkstationGroupID": 1,
                    "begin_date_time": "2017-12-07T14:29:40.000Z",
                    "end_date_time": "2017-12-07T14:30:32.000Z",
                    "OperatorID": 101,
                    "basket_size": 7,
                    "t_cash": true,
                    "t_card": false,
                    "amount": 115.34
                  },
                  {
                    "index": 5,
                    "id": 6,
                    "WorkstationGroupID": 1,
                    "begin_date_time": "2017-12-07T14:31:03.000Z",
                    "end_date_time": "2017-12-07T14:32:01.000Z",
                    "OperatorID": 101,
                    "basket_size": 12,
                    "t_cash": false,
                    "t_card": true,
                    "amount": 232.89
                  },
                  {
                    "index": 6,
                    "id": 7,
                    "WorkstationGroupID": 1,
                    "begin_date_time": "2017-12-07T14:32:25.000Z",
                    "end_date_time": "2017-12-07T14:36:03.000Z",
                    "OperatorID": 101,
                    "basket_size": 36,
                    "t_cash": true,
                    "t_card": false,
                    "amount": 183.15
                  },
                  {
                    "index": 7,
                    "id": 8,
                    "WorkstationGroupID": 1,
                    "begin_date_time": "2017-12-07T14:36:32.000Z",
                    "end_date_time": "2017-12-07T14:37:15.000Z",
                    "OperatorID": 101,
                    "basket_size": 10,
                    "t_cash": true,
                    "t_card": false,
                    "amount": 39.68
                  },
                  {
                    "index": 8,
                    "id": 9,
                    "WorkstationGroupID": 1,
                    "begin_date_time": "2017-12-07T14:37:31.000Z",
                    "end_date_time": "2017-12-07T14:38:07.000Z",
                    "OperatorID": 101,
                    "basket_size": 15,
                    "t_cash": true,
                    "t_card": false,
                    "amount": 44.53
                  },
                  {
                    "index": 9,
                    "id": 10,
                    "WorkstationGroupID": 1,
                    "begin_date_time": "2017-12-07T14:38:21.000Z",
                    "end_date_time": "2017-12-07T14:39:12.000Z",
                    "OperatorID": 101,
                    "basket_size": 15,
                    "t_cash": false,
                    "t_card": true,
                    "amount": 42.73
                  }
                ]
              },
              "total_rows": 10,
              "truncation_type": null
            },
            "text/plain": "   id  WorkstationGroupID           begin_date_time  ... t_cash  t_card  amount\n0   1                   1 2017-12-07 14:23:23+00:00  ...   True   False  112.71\n1   2                   1 2017-12-07 14:25:09+00:00  ...   True   False   54.76\n2   3                   1 2017-12-07 14:27:28+00:00  ...   True   False   14.77\n3   4                   1 2017-12-07 14:28:04+00:00  ...   True   False   37.88\n4   5                   1 2017-12-07 14:29:40+00:00  ...   True   False  115.34\n5   6                   1 2017-12-07 14:31:03+00:00  ...  False    True  232.89\n6   7                   1 2017-12-07 14:32:25+00:00  ...   True   False  183.15\n7   8                   1 2017-12-07 14:36:32+00:00  ...   True   False   39.68\n8   9                   1 2017-12-07 14:37:31+00:00  ...   True   False   44.53\n9  10                   1 2017-12-07 14:38:21+00:00  ...  False    True   42.73\n\n[10 rows x 9 columns]",
            "text/html": "<div>\n<style scoped>\n    .dataframe tbody tr th:only-of-type {\n        vertical-align: middle;\n    }\n\n    .dataframe tbody tr th {\n        vertical-align: top;\n    }\n\n    .dataframe thead th {\n        text-align: right;\n    }\n</style>\n<table border=\"1\" class=\"dataframe\">\n  <thead>\n    <tr style=\"text-align: right;\">\n      <th></th>\n      <th>id</th>\n      <th>WorkstationGroupID</th>\n      <th>begin_date_time</th>\n      <th>end_date_time</th>\n      <th>OperatorID</th>\n      <th>basket_size</th>\n      <th>t_cash</th>\n      <th>t_card</th>\n      <th>amount</th>\n    </tr>\n  </thead>\n  <tbody>\n    <tr>\n      <th>0</th>\n      <td>1</td>\n      <td>1</td>\n      <td>2017-12-07 14:23:23+00:00</td>\n      <td>2017-12-07 14:24:36+00:00</td>\n      <td>101</td>\n      <td>23</td>\n      <td>True</td>\n      <td>False</td>\n      <td>112.71</td>\n    </tr>\n    <tr>\n      <th>1</th>\n      <td>2</td>\n      <td>1</td>\n      <td>2017-12-07 14:25:09+00:00</td>\n      <td>2017-12-07 14:27:00+00:00</td>\n      <td>101</td>\n      <td>29</td>\n      <td>True</td>\n      <td>False</td>\n      <td>54.76</td>\n    </tr>\n    <tr>\n      <th>2</th>\n      <td>3</td>\n      <td>1</td>\n      <td>2017-12-07 14:27:28+00:00</td>\n      <td>2017-12-07 14:27:48+00:00</td>\n      <td>101</td>\n      <td>3</td>\n      <td>True</td>\n      <td>False</td>\n      <td>14.77</td>\n    </tr>\n    <tr>\n      <th>3</th>\n      <td>4</td>\n      <td>1</td>\n      <td>2017-12-07 14:28:04+00:00</td>\n      <td>2017-12-07 14:28:29+00:00</td>\n      <td>101</td>\n      <td>12</td>\n      <td>True</td>\n      <td>False</td>\n      <td>37.88</td>\n    </tr>\n    <tr>\n      <th>4</th>\n      <td>5</td>\n      <td>1</td>\n      <td>2017-12-07 14:29:40+00:00</td>\n      <td>2017-12-07 14:30:32+00:00</td>\n      <td>101</td>\n      <td>7</td>\n      <td>True</td>\n      <td>False</td>\n      <td>115.34</td>\n    </tr>\n    <tr>\n      <th>5</th>\n      <td>6</td>\n      <td>1</td>\n      <td>2017-12-07 14:31:03+00:00</td>\n      <td>2017-12-07 14:32:01+00:00</td>\n      <td>101</td>\n      <td>12</td>\n      <td>False</td>\n      <td>True</td>\n      <td>232.89</td>\n    </tr>\n    <tr>\n      <th>6</th>\n      <td>7</td>\n      <td>1</td>\n      <td>2017-12-07 14:32:25+00:00</td>\n      <td>2017-12-07 14:36:03+00:00</td>\n      <td>101</td>\n      <td>36</td>\n      <td>True</td>\n      <td>False</td>\n      <td>183.15</td>\n    </tr>\n    <tr>\n      <th>7</th>\n      <td>8</td>\n      <td>1</td>\n      <td>2017-12-07 14:36:32+00:00</td>\n      <td>2017-12-07 14:37:15+00:00</td>\n      <td>101</td>\n      <td>10</td>\n      <td>True</td>\n      <td>False</td>\n      <td>39.68</td>\n    </tr>\n    <tr>\n      <th>8</th>\n      <td>9</td>\n      <td>1</td>\n      <td>2017-12-07 14:37:31+00:00</td>\n      <td>2017-12-07 14:38:07+00:00</td>\n      <td>101</td>\n      <td>15</td>\n      <td>True</td>\n      <td>False</td>\n      <td>44.53</td>\n    </tr>\n    <tr>\n      <th>9</th>\n      <td>10</td>\n      <td>1</td>\n      <td>2017-12-07 14:38:21+00:00</td>\n      <td>2017-12-07 14:39:12+00:00</td>\n      <td>101</td>\n      <td>15</td>\n      <td>False</td>\n      <td>True</td>\n      <td>42.73</td>\n    </tr>\n  </tbody>\n</table>\n</div>"
          },
          "metadata": {},
          "execution_count": 79
        }
      ]
    },
    {
      "source": [
        "## Task 2: Do more people make transactions by card or by cash?"
      ],
      "metadata": {
        "id": "441167c8-3740-4c10-8d01-c6eef52d4773"
      },
      "id": "441167c8-3740-4c10-8d01-c6eef52d4773",
      "cell_type": "markdown"
    },
    {
      "source": [
        "Here we look to understand if people prefer to make transactions from their card or cash."
      ],
      "metadata": {
        "id": "7bc15459-9372-4548-bc33-28b1be376d56"
      },
      "id": "7bc15459-9372-4548-bc33-28b1be376d56",
      "cell_type": "markdown"
    },
    {
      "source": [
        "SELECT\n",
        "SUM(t_cash::numeric) AS trans_cash,\n",
        "SUM(t_card::numeric) AS trans_card\n",
        "FROM 'pos_transactions.csv'"
      ],
      "metadata": {
        "customType": "sql",
        "dataFrameVariableName": "df1",
        "sqlSource": {
          "type": "dataframesAndCsvs"
        },
        "executionTime": 358,
        "lastSuccessfullyExecutedCode": "SELECT \nSUM(t_cash::numeric) AS trans_cash,\nSUM(t_card::numeric) AS trans_card\nFROM 'pos_transactions.csv'",
        "executionCancelledAt": null,
        "lastExecutedAt": 1695822102826,
        "lastScheduledRunId": null,
        "outputsMetadata": {
          "0": {
            "height": 99,
            "type": "dataFrame"
          }
        },
        "id": "a6b927c0-a86b-46d1-a3f4-ba518bc09df7",
        "outputId": "014f337c-6391-4f4f-8ea5-22aabff46ccc"
      },
      "id": "a6b927c0-a86b-46d1-a3f4-ba518bc09df7",
      "cell_type": "code",
      "execution_count": null,
      "outputs": [
        {
          "output_type": "execute_result",
          "data": {
            "application/com.datacamp.data-table.v1+json": {
              "table": {
                "schema": {
                  "fields": [
                    {
                      "name": "index",
                      "type": "integer"
                    },
                    {
                      "name": "trans_cash",
                      "type": "number"
                    },
                    {
                      "name": "trans_card",
                      "type": "number"
                    }
                  ],
                  "primaryKey": [
                    "index"
                  ],
                  "pandas_version": "1.4.0"
                },
                "data": [
                  {
                    "index": 0,
                    "trans_cash": 84487,
                    "trans_card": 78246
                  }
                ]
              },
              "total_rows": 1,
              "truncation_type": null
            },
            "text/plain": "   trans_cash  trans_card\n0     84487.0     78246.0",
            "text/html": "<div>\n<style scoped>\n    .dataframe tbody tr th:only-of-type {\n        vertical-align: middle;\n    }\n\n    .dataframe tbody tr th {\n        vertical-align: top;\n    }\n\n    .dataframe thead th {\n        text-align: right;\n    }\n</style>\n<table border=\"1\" class=\"dataframe\">\n  <thead>\n    <tr style=\"text-align: right;\">\n      <th></th>\n      <th>trans_cash</th>\n      <th>trans_card</th>\n    </tr>\n  </thead>\n  <tbody>\n    <tr>\n      <th>0</th>\n      <td>84487.0</td>\n      <td>78246.0</td>\n    </tr>\n  </tbody>\n</table>\n</div>"
          },
          "metadata": {},
          "execution_count": 80
        }
      ]
    },
    {
      "source": [
        "More transactions were done using cash than with card.\n",
        "Let's visualise this using pie plot"
      ],
      "metadata": {
        "id": "743e748f-2887-4bb3-9809-4812b7314da7"
      },
      "cell_type": "markdown",
      "id": "743e748f-2887-4bb3-9809-4812b7314da7"
    },
    {
      "source": [
        "px.pie(df1,values= df1.iloc[0],names=['Trans_cash','Trans_card'],\n",
        "       title='RATIO OF TRANSACTION OF CASH AND CARD',\n",
        "      color_discrete_sequence=px.colors.sequential.Jet)"
      ],
      "metadata": {
        "executionCancelledAt": null,
        "executionTime": 47,
        "lastExecutedAt": 1695822102873,
        "lastScheduledRunId": null,
        "lastSuccessfullyExecutedCode": "px.pie(df1,values= df1.iloc[0],names=['Trans_cash','Trans_card'],\n       title='RATIO OF TRANSACTION OF CASH AND CARD',\n      color_discrete_sequence=px.colors.sequential.Jet)",
        "outputsMetadata": {
          "0": {
            "height": 467,
            "type": "plotly"
          }
        },
        "id": "448653d1-1448-4687-8a86-269bced5036e",
        "outputId": "6cf44ac1-6c2e-4079-bc3a-6287a9a8d1f1"
      },
      "cell_type": "code",
      "id": "448653d1-1448-4687-8a86-269bced5036e",
      "execution_count": null,
      "outputs": [
        {
          "output_type": "display_data",
          "data": {
            "application/vnd.plotly.v1+json": {
              "data": [
                {
                  "domain": {
                    "x": [
                      0,
                      1
                    ],
                    "y": [
                      0,
                      1
                    ]
                  },
                  "hovertemplate": "label=%{label}<br>value=%{value}<extra></extra>",
                  "labels": [
                    "Trans_cash",
                    "Trans_card"
                  ],
                  "legendgroup": "",
                  "name": "",
                  "showlegend": true,
                  "values": [
                    84487,
                    78246
                  ],
                  "type": "pie"
                }
              ],
              "layout": {
                "template": {
                  "data": {
                    "histogram2dcontour": [
                      {
                        "type": "histogram2dcontour",
                        "colorbar": {
                          "outlinewidth": 0,
                          "ticks": ""
                        },
                        "colorscale": [
                          [
                            0,
                            "#0d0887"
                          ],
                          [
                            0.1111111111111111,
                            "#46039f"
                          ],
                          [
                            0.2222222222222222,
                            "#7201a8"
                          ],
                          [
                            0.3333333333333333,
                            "#9c179e"
                          ],
                          [
                            0.4444444444444444,
                            "#bd3786"
                          ],
                          [
                            0.5555555555555556,
                            "#d8576b"
                          ],
                          [
                            0.6666666666666666,
                            "#ed7953"
                          ],
                          [
                            0.7777777777777778,
                            "#fb9f3a"
                          ],
                          [
                            0.8888888888888888,
                            "#fdca26"
                          ],
                          [
                            1,
                            "#f0f921"
                          ]
                        ]
                      }
                    ],
                    "choropleth": [
                      {
                        "type": "choropleth",
                        "colorbar": {
                          "outlinewidth": 0,
                          "ticks": ""
                        }
                      }
                    ],
                    "histogram2d": [
                      {
                        "type": "histogram2d",
                        "colorbar": {
                          "outlinewidth": 0,
                          "ticks": ""
                        },
                        "colorscale": [
                          [
                            0,
                            "#0d0887"
                          ],
                          [
                            0.1111111111111111,
                            "#46039f"
                          ],
                          [
                            0.2222222222222222,
                            "#7201a8"
                          ],
                          [
                            0.3333333333333333,
                            "#9c179e"
                          ],
                          [
                            0.4444444444444444,
                            "#bd3786"
                          ],
                          [
                            0.5555555555555556,
                            "#d8576b"
                          ],
                          [
                            0.6666666666666666,
                            "#ed7953"
                          ],
                          [
                            0.7777777777777778,
                            "#fb9f3a"
                          ],
                          [
                            0.8888888888888888,
                            "#fdca26"
                          ],
                          [
                            1,
                            "#f0f921"
                          ]
                        ]
                      }
                    ],
                    "heatmap": [
                      {
                        "type": "heatmap",
                        "colorbar": {
                          "outlinewidth": 0,
                          "ticks": ""
                        },
                        "colorscale": [
                          [
                            0,
                            "#0d0887"
                          ],
                          [
                            0.1111111111111111,
                            "#46039f"
                          ],
                          [
                            0.2222222222222222,
                            "#7201a8"
                          ],
                          [
                            0.3333333333333333,
                            "#9c179e"
                          ],
                          [
                            0.4444444444444444,
                            "#bd3786"
                          ],
                          [
                            0.5555555555555556,
                            "#d8576b"
                          ],
                          [
                            0.6666666666666666,
                            "#ed7953"
                          ],
                          [
                            0.7777777777777778,
                            "#fb9f3a"
                          ],
                          [
                            0.8888888888888888,
                            "#fdca26"
                          ],
                          [
                            1,
                            "#f0f921"
                          ]
                        ]
                      }
                    ],
                    "heatmapgl": [
                      {
                        "type": "heatmapgl",
                        "colorbar": {
                          "outlinewidth": 0,
                          "ticks": ""
                        },
                        "colorscale": [
                          [
                            0,
                            "#0d0887"
                          ],
                          [
                            0.1111111111111111,
                            "#46039f"
                          ],
                          [
                            0.2222222222222222,
                            "#7201a8"
                          ],
                          [
                            0.3333333333333333,
                            "#9c179e"
                          ],
                          [
                            0.4444444444444444,
                            "#bd3786"
                          ],
                          [
                            0.5555555555555556,
                            "#d8576b"
                          ],
                          [
                            0.6666666666666666,
                            "#ed7953"
                          ],
                          [
                            0.7777777777777778,
                            "#fb9f3a"
                          ],
                          [
                            0.8888888888888888,
                            "#fdca26"
                          ],
                          [
                            1,
                            "#f0f921"
                          ]
                        ]
                      }
                    ],
                    "contourcarpet": [
                      {
                        "type": "contourcarpet",
                        "colorbar": {
                          "outlinewidth": 0,
                          "ticks": ""
                        }
                      }
                    ],
                    "contour": [
                      {
                        "type": "contour",
                        "colorbar": {
                          "outlinewidth": 0,
                          "ticks": ""
                        },
                        "colorscale": [
                          [
                            0,
                            "#0d0887"
                          ],
                          [
                            0.1111111111111111,
                            "#46039f"
                          ],
                          [
                            0.2222222222222222,
                            "#7201a8"
                          ],
                          [
                            0.3333333333333333,
                            "#9c179e"
                          ],
                          [
                            0.4444444444444444,
                            "#bd3786"
                          ],
                          [
                            0.5555555555555556,
                            "#d8576b"
                          ],
                          [
                            0.6666666666666666,
                            "#ed7953"
                          ],
                          [
                            0.7777777777777778,
                            "#fb9f3a"
                          ],
                          [
                            0.8888888888888888,
                            "#fdca26"
                          ],
                          [
                            1,
                            "#f0f921"
                          ]
                        ]
                      }
                    ],
                    "surface": [
                      {
                        "type": "surface",
                        "colorbar": {
                          "outlinewidth": 0,
                          "ticks": ""
                        },
                        "colorscale": [
                          [
                            0,
                            "#0d0887"
                          ],
                          [
                            0.1111111111111111,
                            "#46039f"
                          ],
                          [
                            0.2222222222222222,
                            "#7201a8"
                          ],
                          [
                            0.3333333333333333,
                            "#9c179e"
                          ],
                          [
                            0.4444444444444444,
                            "#bd3786"
                          ],
                          [
                            0.5555555555555556,
                            "#d8576b"
                          ],
                          [
                            0.6666666666666666,
                            "#ed7953"
                          ],
                          [
                            0.7777777777777778,
                            "#fb9f3a"
                          ],
                          [
                            0.8888888888888888,
                            "#fdca26"
                          ],
                          [
                            1,
                            "#f0f921"
                          ]
                        ]
                      }
                    ],
                    "mesh3d": [
                      {
                        "type": "mesh3d",
                        "colorbar": {
                          "outlinewidth": 0,
                          "ticks": ""
                        }
                      }
                    ],
                    "scatter": [
                      {
                        "fillpattern": {
                          "fillmode": "overlay",
                          "size": 10,
                          "solidity": 0.2
                        },
                        "type": "scatter"
                      }
                    ],
                    "parcoords": [
                      {
                        "type": "parcoords",
                        "line": {
                          "colorbar": {
                            "outlinewidth": 0,
                            "ticks": ""
                          }
                        }
                      }
                    ],
                    "scatterpolargl": [
                      {
                        "type": "scatterpolargl",
                        "marker": {
                          "colorbar": {
                            "outlinewidth": 0,
                            "ticks": ""
                          }
                        }
                      }
                    ],
                    "bar": [
                      {
                        "error_x": {
                          "color": "#2a3f5f"
                        },
                        "error_y": {
                          "color": "#2a3f5f"
                        },
                        "marker": {
                          "line": {
                            "color": "#E5ECF6",
                            "width": 0.5
                          },
                          "pattern": {
                            "fillmode": "overlay",
                            "size": 10,
                            "solidity": 0.2
                          }
                        },
                        "type": "bar"
                      }
                    ],
                    "scattergeo": [
                      {
                        "type": "scattergeo",
                        "marker": {
                          "colorbar": {
                            "outlinewidth": 0,
                            "ticks": ""
                          }
                        }
                      }
                    ],
                    "scatterpolar": [
                      {
                        "type": "scatterpolar",
                        "marker": {
                          "colorbar": {
                            "outlinewidth": 0,
                            "ticks": ""
                          }
                        }
                      }
                    ],
                    "histogram": [
                      {
                        "marker": {
                          "pattern": {
                            "fillmode": "overlay",
                            "size": 10,
                            "solidity": 0.2
                          }
                        },
                        "type": "histogram"
                      }
                    ],
                    "scattergl": [
                      {
                        "type": "scattergl",
                        "marker": {
                          "colorbar": {
                            "outlinewidth": 0,
                            "ticks": ""
                          }
                        }
                      }
                    ],
                    "scatter3d": [
                      {
                        "type": "scatter3d",
                        "line": {
                          "colorbar": {
                            "outlinewidth": 0,
                            "ticks": ""
                          }
                        },
                        "marker": {
                          "colorbar": {
                            "outlinewidth": 0,
                            "ticks": ""
                          }
                        }
                      }
                    ],
                    "scattermapbox": [
                      {
                        "type": "scattermapbox",
                        "marker": {
                          "colorbar": {
                            "outlinewidth": 0,
                            "ticks": ""
                          }
                        }
                      }
                    ],
                    "scatterternary": [
                      {
                        "type": "scatterternary",
                        "marker": {
                          "colorbar": {
                            "outlinewidth": 0,
                            "ticks": ""
                          }
                        }
                      }
                    ],
                    "scattercarpet": [
                      {
                        "type": "scattercarpet",
                        "marker": {
                          "colorbar": {
                            "outlinewidth": 0,
                            "ticks": ""
                          }
                        }
                      }
                    ],
                    "carpet": [
                      {
                        "aaxis": {
                          "endlinecolor": "#2a3f5f",
                          "gridcolor": "white",
                          "linecolor": "white",
                          "minorgridcolor": "white",
                          "startlinecolor": "#2a3f5f"
                        },
                        "baxis": {
                          "endlinecolor": "#2a3f5f",
                          "gridcolor": "white",
                          "linecolor": "white",
                          "minorgridcolor": "white",
                          "startlinecolor": "#2a3f5f"
                        },
                        "type": "carpet"
                      }
                    ],
                    "table": [
                      {
                        "cells": {
                          "fill": {
                            "color": "#EBF0F8"
                          },
                          "line": {
                            "color": "white"
                          }
                        },
                        "header": {
                          "fill": {
                            "color": "#C8D4E3"
                          },
                          "line": {
                            "color": "white"
                          }
                        },
                        "type": "table"
                      }
                    ],
                    "barpolar": [
                      {
                        "marker": {
                          "line": {
                            "color": "#E5ECF6",
                            "width": 0.5
                          },
                          "pattern": {
                            "fillmode": "overlay",
                            "size": 10,
                            "solidity": 0.2
                          }
                        },
                        "type": "barpolar"
                      }
                    ],
                    "pie": [
                      {
                        "automargin": true,
                        "type": "pie"
                      }
                    ]
                  },
                  "layout": {
                    "autotypenumbers": "strict",
                    "colorway": [
                      "#636efa",
                      "#EF553B",
                      "#00cc96",
                      "#ab63fa",
                      "#FFA15A",
                      "#19d3f3",
                      "#FF6692",
                      "#B6E880",
                      "#FF97FF",
                      "#FECB52"
                    ],
                    "font": {
                      "color": "#2a3f5f"
                    },
                    "hovermode": "closest",
                    "hoverlabel": {
                      "align": "left"
                    },
                    "paper_bgcolor": "white",
                    "plot_bgcolor": "#E5ECF6",
                    "polar": {
                      "bgcolor": "#E5ECF6",
                      "angularaxis": {
                        "gridcolor": "white",
                        "linecolor": "white",
                        "ticks": ""
                      },
                      "radialaxis": {
                        "gridcolor": "white",
                        "linecolor": "white",
                        "ticks": ""
                      }
                    },
                    "ternary": {
                      "bgcolor": "#E5ECF6",
                      "aaxis": {
                        "gridcolor": "white",
                        "linecolor": "white",
                        "ticks": ""
                      },
                      "baxis": {
                        "gridcolor": "white",
                        "linecolor": "white",
                        "ticks": ""
                      },
                      "caxis": {
                        "gridcolor": "white",
                        "linecolor": "white",
                        "ticks": ""
                      }
                    },
                    "coloraxis": {
                      "colorbar": {
                        "outlinewidth": 0,
                        "ticks": ""
                      }
                    },
                    "colorscale": {
                      "sequential": [
                        [
                          0,
                          "#0d0887"
                        ],
                        [
                          0.1111111111111111,
                          "#46039f"
                        ],
                        [
                          0.2222222222222222,
                          "#7201a8"
                        ],
                        [
                          0.3333333333333333,
                          "#9c179e"
                        ],
                        [
                          0.4444444444444444,
                          "#bd3786"
                        ],
                        [
                          0.5555555555555556,
                          "#d8576b"
                        ],
                        [
                          0.6666666666666666,
                          "#ed7953"
                        ],
                        [
                          0.7777777777777778,
                          "#fb9f3a"
                        ],
                        [
                          0.8888888888888888,
                          "#fdca26"
                        ],
                        [
                          1,
                          "#f0f921"
                        ]
                      ],
                      "sequentialminus": [
                        [
                          0,
                          "#0d0887"
                        ],
                        [
                          0.1111111111111111,
                          "#46039f"
                        ],
                        [
                          0.2222222222222222,
                          "#7201a8"
                        ],
                        [
                          0.3333333333333333,
                          "#9c179e"
                        ],
                        [
                          0.4444444444444444,
                          "#bd3786"
                        ],
                        [
                          0.5555555555555556,
                          "#d8576b"
                        ],
                        [
                          0.6666666666666666,
                          "#ed7953"
                        ],
                        [
                          0.7777777777777778,
                          "#fb9f3a"
                        ],
                        [
                          0.8888888888888888,
                          "#fdca26"
                        ],
                        [
                          1,
                          "#f0f921"
                        ]
                      ],
                      "diverging": [
                        [
                          0,
                          "#8e0152"
                        ],
                        [
                          0.1,
                          "#c51b7d"
                        ],
                        [
                          0.2,
                          "#de77ae"
                        ],
                        [
                          0.3,
                          "#f1b6da"
                        ],
                        [
                          0.4,
                          "#fde0ef"
                        ],
                        [
                          0.5,
                          "#f7f7f7"
                        ],
                        [
                          0.6,
                          "#e6f5d0"
                        ],
                        [
                          0.7,
                          "#b8e186"
                        ],
                        [
                          0.8,
                          "#7fbc41"
                        ],
                        [
                          0.9,
                          "#4d9221"
                        ],
                        [
                          1,
                          "#276419"
                        ]
                      ]
                    },
                    "xaxis": {
                      "gridcolor": "white",
                      "linecolor": "white",
                      "ticks": "",
                      "title": {
                        "standoff": 15
                      },
                      "zerolinecolor": "white",
                      "automargin": true,
                      "zerolinewidth": 2
                    },
                    "yaxis": {
                      "gridcolor": "white",
                      "linecolor": "white",
                      "ticks": "",
                      "title": {
                        "standoff": 15
                      },
                      "zerolinecolor": "white",
                      "automargin": true,
                      "zerolinewidth": 2
                    },
                    "scene": {
                      "xaxis": {
                        "backgroundcolor": "#E5ECF6",
                        "gridcolor": "white",
                        "linecolor": "white",
                        "showbackground": true,
                        "ticks": "",
                        "zerolinecolor": "white",
                        "gridwidth": 2
                      },
                      "yaxis": {
                        "backgroundcolor": "#E5ECF6",
                        "gridcolor": "white",
                        "linecolor": "white",
                        "showbackground": true,
                        "ticks": "",
                        "zerolinecolor": "white",
                        "gridwidth": 2
                      },
                      "zaxis": {
                        "backgroundcolor": "#E5ECF6",
                        "gridcolor": "white",
                        "linecolor": "white",
                        "showbackground": true,
                        "ticks": "",
                        "zerolinecolor": "white",
                        "gridwidth": 2
                      }
                    },
                    "shapedefaults": {
                      "line": {
                        "color": "#2a3f5f"
                      }
                    },
                    "annotationdefaults": {
                      "arrowcolor": "#2a3f5f",
                      "arrowhead": 0,
                      "arrowwidth": 1
                    },
                    "geo": {
                      "bgcolor": "white",
                      "landcolor": "#E5ECF6",
                      "subunitcolor": "white",
                      "showland": true,
                      "showlakes": true,
                      "lakecolor": "white"
                    },
                    "title": {
                      "x": 0.05
                    },
                    "mapbox": {
                      "style": "light"
                    }
                  }
                },
                "legend": {
                  "tracegroupgap": 0
                },
                "title": {
                  "text": "RATIO OF TRANSACTION OF CASH AND CARD"
                },
                "piecolorway": [
                  "rgb(0,0,131)",
                  "rgb(0,60,170)",
                  "rgb(5,255,255)",
                  "rgb(255,255,0)",
                  "rgb(250,0,0)",
                  "rgb(128,0,0)"
                ]
              },
              "config": {
                "plotlyServerURL": "https://plot.ly"
              }
            }
          },
          "metadata": {}
        }
      ]
    },
    {
      "source": [
        "## Task 3: Do people spend more per transaction when using cash or card?"
      ],
      "metadata": {
        "id": "babc5742-5f84-4821-a20f-09eb37b240f8"
      },
      "id": "babc5742-5f84-4821-a20f-09eb37b240f8",
      "cell_type": "markdown"
    },
    {
      "source": [
        "Similarly, knowing how much people spend per transaction using different payment methods is helpful for deciding on security arrangments, and marketing to encourage shoppers to use different payment methods.\n"
      ],
      "metadata": {
        "id": "6f6af21e-fa66-480e-9b46-eb4243f4c078"
      },
      "id": "6f6af21e-fa66-480e-9b46-eb4243f4c078",
      "cell_type": "markdown"
    },
    {
      "source": [
        "SELECT\n",
        "AVG(CASE WHEN t_cash == 'True' THEN amount END) as avg_amount_cash,\n",
        "AVG(CASE WHEN t_card == 'True' THEN amount END) AS avg_amount_card\n",
        "FROM 'pos_transactions.csv'"
      ],
      "metadata": {
        "customType": "sql",
        "dataFrameVariableName": "df2",
        "sqlSource": {
          "type": "dataframesAndCsvs"
        },
        "executionTime": 356,
        "lastSuccessfullyExecutedCode": "SELECT \nAVG(CASE WHEN t_cash == 'True' THEN amount END) as avg_amount_cash,\nAVG(CASE WHEN t_card == 'True' THEN amount END) AS avg_amount_card\nFROM 'pos_transactions.csv'",
        "executionCancelledAt": null,
        "lastExecutedAt": 1695822103229,
        "lastScheduledRunId": null,
        "outputsMetadata": {
          "0": {
            "height": 99,
            "type": "dataFrame"
          }
        },
        "id": "6f6a219d-80b1-4890-9586-eb7c5609bd3b",
        "outputId": "ca810916-f638-4b15-a6a0-dd65888c32cc"
      },
      "id": "6f6a219d-80b1-4890-9586-eb7c5609bd3b",
      "cell_type": "code",
      "execution_count": null,
      "outputs": [
        {
          "output_type": "execute_result",
          "data": {
            "application/com.datacamp.data-table.v1+json": {
              "table": {
                "schema": {
                  "fields": [
                    {
                      "name": "index",
                      "type": "integer"
                    },
                    {
                      "name": "avg_amount_cash",
                      "type": "number"
                    },
                    {
                      "name": "avg_amount_card",
                      "type": "number"
                    }
                  ],
                  "primaryKey": [
                    "index"
                  ],
                  "pandas_version": "1.4.0"
                },
                "data": [
                  {
                    "index": 0,
                    "avg_amount_cash": 59.6223645058,
                    "avg_amount_card": 87.5608592133
                  }
                ]
              },
              "total_rows": 1,
              "truncation_type": null
            },
            "text/plain": "   avg_amount_cash  avg_amount_card\n0        59.622365        87.560859",
            "text/html": "<div>\n<style scoped>\n    .dataframe tbody tr th:only-of-type {\n        vertical-align: middle;\n    }\n\n    .dataframe tbody tr th {\n        vertical-align: top;\n    }\n\n    .dataframe thead th {\n        text-align: right;\n    }\n</style>\n<table border=\"1\" class=\"dataframe\">\n  <thead>\n    <tr style=\"text-align: right;\">\n      <th></th>\n      <th>avg_amount_cash</th>\n      <th>avg_amount_card</th>\n    </tr>\n  </thead>\n  <tbody>\n    <tr>\n      <th>0</th>\n      <td>59.622365</td>\n      <td>87.560859</td>\n    </tr>\n  </tbody>\n</table>\n</div>"
          },
          "metadata": {},
          "execution_count": 82
        }
      ]
    },
    {
      "source": [
        "The average amount using card is more than when using cash. This makes sense as purchases in high amount is more convenient using card.\n",
        "\n",
        "Let's visualise this with a pie plot. Hover the plot to see more details"
      ],
      "metadata": {
        "id": "56718c08-348a-4ae8-8671-695320bb6b24"
      },
      "cell_type": "markdown",
      "id": "56718c08-348a-4ae8-8671-695320bb6b24"
    },
    {
      "source": [
        "fig = px.pie(df2,values=df2.iloc[0],names=df2.columns,hover_data=df2.values,title='RATIO AMOUNT FROM CARD AND CASH', color_discrete_sequence=px.colors.sequential.Jet)\n",
        "fig.show()"
      ],
      "metadata": {
        "executionCancelledAt": null,
        "executionTime": 48,
        "lastExecutedAt": 1695822103277,
        "lastScheduledRunId": null,
        "lastSuccessfullyExecutedCode": "fig = px.pie(df2,values=df2.iloc[0],names=df2.columns,hover_data=df2.values,title='RATIO AMOUNT FROM CARD AND CASH', color_discrete_sequence=px.colors.sequential.Jet)\nfig.show()",
        "outputsMetadata": {
          "0": {
            "height": 467,
            "type": "plotly"
          }
        },
        "id": "f5285e63-7b45-4a77-af8f-5ae81d295c1a",
        "outputId": "1fd3e72e-85f5-467e-b7c0-9bc3062e809f"
      },
      "cell_type": "code",
      "id": "f5285e63-7b45-4a77-af8f-5ae81d295c1a",
      "execution_count": null,
      "outputs": [
        {
          "output_type": "display_data",
          "data": {
            "application/vnd.plotly.v1+json": {
              "data": [
                {
                  "customdata": [
                    [
                      59.622364505787004
                    ],
                    [
                      87.5608592132559
                    ]
                  ],
                  "domain": {
                    "x": [
                      0,
                      1
                    ],
                    "y": [
                      0,
                      1
                    ]
                  },
                  "hovertemplate": "label=%{label}<br>value=%{value}<br>hover_data_0=%{customdata[0]}<extra></extra>",
                  "labels": [
                    "avg_amount_cash",
                    "avg_amount_card"
                  ],
                  "legendgroup": "",
                  "name": "",
                  "showlegend": true,
                  "values": [
                    59.622364505787004,
                    87.5608592132559
                  ],
                  "type": "pie"
                }
              ],
              "layout": {
                "template": {
                  "data": {
                    "histogram2dcontour": [
                      {
                        "type": "histogram2dcontour",
                        "colorbar": {
                          "outlinewidth": 0,
                          "ticks": ""
                        },
                        "colorscale": [
                          [
                            0,
                            "#0d0887"
                          ],
                          [
                            0.1111111111111111,
                            "#46039f"
                          ],
                          [
                            0.2222222222222222,
                            "#7201a8"
                          ],
                          [
                            0.3333333333333333,
                            "#9c179e"
                          ],
                          [
                            0.4444444444444444,
                            "#bd3786"
                          ],
                          [
                            0.5555555555555556,
                            "#d8576b"
                          ],
                          [
                            0.6666666666666666,
                            "#ed7953"
                          ],
                          [
                            0.7777777777777778,
                            "#fb9f3a"
                          ],
                          [
                            0.8888888888888888,
                            "#fdca26"
                          ],
                          [
                            1,
                            "#f0f921"
                          ]
                        ]
                      }
                    ],
                    "choropleth": [
                      {
                        "type": "choropleth",
                        "colorbar": {
                          "outlinewidth": 0,
                          "ticks": ""
                        }
                      }
                    ],
                    "histogram2d": [
                      {
                        "type": "histogram2d",
                        "colorbar": {
                          "outlinewidth": 0,
                          "ticks": ""
                        },
                        "colorscale": [
                          [
                            0,
                            "#0d0887"
                          ],
                          [
                            0.1111111111111111,
                            "#46039f"
                          ],
                          [
                            0.2222222222222222,
                            "#7201a8"
                          ],
                          [
                            0.3333333333333333,
                            "#9c179e"
                          ],
                          [
                            0.4444444444444444,
                            "#bd3786"
                          ],
                          [
                            0.5555555555555556,
                            "#d8576b"
                          ],
                          [
                            0.6666666666666666,
                            "#ed7953"
                          ],
                          [
                            0.7777777777777778,
                            "#fb9f3a"
                          ],
                          [
                            0.8888888888888888,
                            "#fdca26"
                          ],
                          [
                            1,
                            "#f0f921"
                          ]
                        ]
                      }
                    ],
                    "heatmap": [
                      {
                        "type": "heatmap",
                        "colorbar": {
                          "outlinewidth": 0,
                          "ticks": ""
                        },
                        "colorscale": [
                          [
                            0,
                            "#0d0887"
                          ],
                          [
                            0.1111111111111111,
                            "#46039f"
                          ],
                          [
                            0.2222222222222222,
                            "#7201a8"
                          ],
                          [
                            0.3333333333333333,
                            "#9c179e"
                          ],
                          [
                            0.4444444444444444,
                            "#bd3786"
                          ],
                          [
                            0.5555555555555556,
                            "#d8576b"
                          ],
                          [
                            0.6666666666666666,
                            "#ed7953"
                          ],
                          [
                            0.7777777777777778,
                            "#fb9f3a"
                          ],
                          [
                            0.8888888888888888,
                            "#fdca26"
                          ],
                          [
                            1,
                            "#f0f921"
                          ]
                        ]
                      }
                    ],
                    "heatmapgl": [
                      {
                        "type": "heatmapgl",
                        "colorbar": {
                          "outlinewidth": 0,
                          "ticks": ""
                        },
                        "colorscale": [
                          [
                            0,
                            "#0d0887"
                          ],
                          [
                            0.1111111111111111,
                            "#46039f"
                          ],
                          [
                            0.2222222222222222,
                            "#7201a8"
                          ],
                          [
                            0.3333333333333333,
                            "#9c179e"
                          ],
                          [
                            0.4444444444444444,
                            "#bd3786"
                          ],
                          [
                            0.5555555555555556,
                            "#d8576b"
                          ],
                          [
                            0.6666666666666666,
                            "#ed7953"
                          ],
                          [
                            0.7777777777777778,
                            "#fb9f3a"
                          ],
                          [
                            0.8888888888888888,
                            "#fdca26"
                          ],
                          [
                            1,
                            "#f0f921"
                          ]
                        ]
                      }
                    ],
                    "contourcarpet": [
                      {
                        "type": "contourcarpet",
                        "colorbar": {
                          "outlinewidth": 0,
                          "ticks": ""
                        }
                      }
                    ],
                    "contour": [
                      {
                        "type": "contour",
                        "colorbar": {
                          "outlinewidth": 0,
                          "ticks": ""
                        },
                        "colorscale": [
                          [
                            0,
                            "#0d0887"
                          ],
                          [
                            0.1111111111111111,
                            "#46039f"
                          ],
                          [
                            0.2222222222222222,
                            "#7201a8"
                          ],
                          [
                            0.3333333333333333,
                            "#9c179e"
                          ],
                          [
                            0.4444444444444444,
                            "#bd3786"
                          ],
                          [
                            0.5555555555555556,
                            "#d8576b"
                          ],
                          [
                            0.6666666666666666,
                            "#ed7953"
                          ],
                          [
                            0.7777777777777778,
                            "#fb9f3a"
                          ],
                          [
                            0.8888888888888888,
                            "#fdca26"
                          ],
                          [
                            1,
                            "#f0f921"
                          ]
                        ]
                      }
                    ],
                    "surface": [
                      {
                        "type": "surface",
                        "colorbar": {
                          "outlinewidth": 0,
                          "ticks": ""
                        },
                        "colorscale": [
                          [
                            0,
                            "#0d0887"
                          ],
                          [
                            0.1111111111111111,
                            "#46039f"
                          ],
                          [
                            0.2222222222222222,
                            "#7201a8"
                          ],
                          [
                            0.3333333333333333,
                            "#9c179e"
                          ],
                          [
                            0.4444444444444444,
                            "#bd3786"
                          ],
                          [
                            0.5555555555555556,
                            "#d8576b"
                          ],
                          [
                            0.6666666666666666,
                            "#ed7953"
                          ],
                          [
                            0.7777777777777778,
                            "#fb9f3a"
                          ],
                          [
                            0.8888888888888888,
                            "#fdca26"
                          ],
                          [
                            1,
                            "#f0f921"
                          ]
                        ]
                      }
                    ],
                    "mesh3d": [
                      {
                        "type": "mesh3d",
                        "colorbar": {
                          "outlinewidth": 0,
                          "ticks": ""
                        }
                      }
                    ],
                    "scatter": [
                      {
                        "fillpattern": {
                          "fillmode": "overlay",
                          "size": 10,
                          "solidity": 0.2
                        },
                        "type": "scatter"
                      }
                    ],
                    "parcoords": [
                      {
                        "type": "parcoords",
                        "line": {
                          "colorbar": {
                            "outlinewidth": 0,
                            "ticks": ""
                          }
                        }
                      }
                    ],
                    "scatterpolargl": [
                      {
                        "type": "scatterpolargl",
                        "marker": {
                          "colorbar": {
                            "outlinewidth": 0,
                            "ticks": ""
                          }
                        }
                      }
                    ],
                    "bar": [
                      {
                        "error_x": {
                          "color": "#2a3f5f"
                        },
                        "error_y": {
                          "color": "#2a3f5f"
                        },
                        "marker": {
                          "line": {
                            "color": "#E5ECF6",
                            "width": 0.5
                          },
                          "pattern": {
                            "fillmode": "overlay",
                            "size": 10,
                            "solidity": 0.2
                          }
                        },
                        "type": "bar"
                      }
                    ],
                    "scattergeo": [
                      {
                        "type": "scattergeo",
                        "marker": {
                          "colorbar": {
                            "outlinewidth": 0,
                            "ticks": ""
                          }
                        }
                      }
                    ],
                    "scatterpolar": [
                      {
                        "type": "scatterpolar",
                        "marker": {
                          "colorbar": {
                            "outlinewidth": 0,
                            "ticks": ""
                          }
                        }
                      }
                    ],
                    "histogram": [
                      {
                        "marker": {
                          "pattern": {
                            "fillmode": "overlay",
                            "size": 10,
                            "solidity": 0.2
                          }
                        },
                        "type": "histogram"
                      }
                    ],
                    "scattergl": [
                      {
                        "type": "scattergl",
                        "marker": {
                          "colorbar": {
                            "outlinewidth": 0,
                            "ticks": ""
                          }
                        }
                      }
                    ],
                    "scatter3d": [
                      {
                        "type": "scatter3d",
                        "line": {
                          "colorbar": {
                            "outlinewidth": 0,
                            "ticks": ""
                          }
                        },
                        "marker": {
                          "colorbar": {
                            "outlinewidth": 0,
                            "ticks": ""
                          }
                        }
                      }
                    ],
                    "scattermapbox": [
                      {
                        "type": "scattermapbox",
                        "marker": {
                          "colorbar": {
                            "outlinewidth": 0,
                            "ticks": ""
                          }
                        }
                      }
                    ],
                    "scatterternary": [
                      {
                        "type": "scatterternary",
                        "marker": {
                          "colorbar": {
                            "outlinewidth": 0,
                            "ticks": ""
                          }
                        }
                      }
                    ],
                    "scattercarpet": [
                      {
                        "type": "scattercarpet",
                        "marker": {
                          "colorbar": {
                            "outlinewidth": 0,
                            "ticks": ""
                          }
                        }
                      }
                    ],
                    "carpet": [
                      {
                        "aaxis": {
                          "endlinecolor": "#2a3f5f",
                          "gridcolor": "white",
                          "linecolor": "white",
                          "minorgridcolor": "white",
                          "startlinecolor": "#2a3f5f"
                        },
                        "baxis": {
                          "endlinecolor": "#2a3f5f",
                          "gridcolor": "white",
                          "linecolor": "white",
                          "minorgridcolor": "white",
                          "startlinecolor": "#2a3f5f"
                        },
                        "type": "carpet"
                      }
                    ],
                    "table": [
                      {
                        "cells": {
                          "fill": {
                            "color": "#EBF0F8"
                          },
                          "line": {
                            "color": "white"
                          }
                        },
                        "header": {
                          "fill": {
                            "color": "#C8D4E3"
                          },
                          "line": {
                            "color": "white"
                          }
                        },
                        "type": "table"
                      }
                    ],
                    "barpolar": [
                      {
                        "marker": {
                          "line": {
                            "color": "#E5ECF6",
                            "width": 0.5
                          },
                          "pattern": {
                            "fillmode": "overlay",
                            "size": 10,
                            "solidity": 0.2
                          }
                        },
                        "type": "barpolar"
                      }
                    ],
                    "pie": [
                      {
                        "automargin": true,
                        "type": "pie"
                      }
                    ]
                  },
                  "layout": {
                    "autotypenumbers": "strict",
                    "colorway": [
                      "#636efa",
                      "#EF553B",
                      "#00cc96",
                      "#ab63fa",
                      "#FFA15A",
                      "#19d3f3",
                      "#FF6692",
                      "#B6E880",
                      "#FF97FF",
                      "#FECB52"
                    ],
                    "font": {
                      "color": "#2a3f5f"
                    },
                    "hovermode": "closest",
                    "hoverlabel": {
                      "align": "left"
                    },
                    "paper_bgcolor": "white",
                    "plot_bgcolor": "#E5ECF6",
                    "polar": {
                      "bgcolor": "#E5ECF6",
                      "angularaxis": {
                        "gridcolor": "white",
                        "linecolor": "white",
                        "ticks": ""
                      },
                      "radialaxis": {
                        "gridcolor": "white",
                        "linecolor": "white",
                        "ticks": ""
                      }
                    },
                    "ternary": {
                      "bgcolor": "#E5ECF6",
                      "aaxis": {
                        "gridcolor": "white",
                        "linecolor": "white",
                        "ticks": ""
                      },
                      "baxis": {
                        "gridcolor": "white",
                        "linecolor": "white",
                        "ticks": ""
                      },
                      "caxis": {
                        "gridcolor": "white",
                        "linecolor": "white",
                        "ticks": ""
                      }
                    },
                    "coloraxis": {
                      "colorbar": {
                        "outlinewidth": 0,
                        "ticks": ""
                      }
                    },
                    "colorscale": {
                      "sequential": [
                        [
                          0,
                          "#0d0887"
                        ],
                        [
                          0.1111111111111111,
                          "#46039f"
                        ],
                        [
                          0.2222222222222222,
                          "#7201a8"
                        ],
                        [
                          0.3333333333333333,
                          "#9c179e"
                        ],
                        [
                          0.4444444444444444,
                          "#bd3786"
                        ],
                        [
                          0.5555555555555556,
                          "#d8576b"
                        ],
                        [
                          0.6666666666666666,
                          "#ed7953"
                        ],
                        [
                          0.7777777777777778,
                          "#fb9f3a"
                        ],
                        [
                          0.8888888888888888,
                          "#fdca26"
                        ],
                        [
                          1,
                          "#f0f921"
                        ]
                      ],
                      "sequentialminus": [
                        [
                          0,
                          "#0d0887"
                        ],
                        [
                          0.1111111111111111,
                          "#46039f"
                        ],
                        [
                          0.2222222222222222,
                          "#7201a8"
                        ],
                        [
                          0.3333333333333333,
                          "#9c179e"
                        ],
                        [
                          0.4444444444444444,
                          "#bd3786"
                        ],
                        [
                          0.5555555555555556,
                          "#d8576b"
                        ],
                        [
                          0.6666666666666666,
                          "#ed7953"
                        ],
                        [
                          0.7777777777777778,
                          "#fb9f3a"
                        ],
                        [
                          0.8888888888888888,
                          "#fdca26"
                        ],
                        [
                          1,
                          "#f0f921"
                        ]
                      ],
                      "diverging": [
                        [
                          0,
                          "#8e0152"
                        ],
                        [
                          0.1,
                          "#c51b7d"
                        ],
                        [
                          0.2,
                          "#de77ae"
                        ],
                        [
                          0.3,
                          "#f1b6da"
                        ],
                        [
                          0.4,
                          "#fde0ef"
                        ],
                        [
                          0.5,
                          "#f7f7f7"
                        ],
                        [
                          0.6,
                          "#e6f5d0"
                        ],
                        [
                          0.7,
                          "#b8e186"
                        ],
                        [
                          0.8,
                          "#7fbc41"
                        ],
                        [
                          0.9,
                          "#4d9221"
                        ],
                        [
                          1,
                          "#276419"
                        ]
                      ]
                    },
                    "xaxis": {
                      "gridcolor": "white",
                      "linecolor": "white",
                      "ticks": "",
                      "title": {
                        "standoff": 15
                      },
                      "zerolinecolor": "white",
                      "automargin": true,
                      "zerolinewidth": 2
                    },
                    "yaxis": {
                      "gridcolor": "white",
                      "linecolor": "white",
                      "ticks": "",
                      "title": {
                        "standoff": 15
                      },
                      "zerolinecolor": "white",
                      "automargin": true,
                      "zerolinewidth": 2
                    },
                    "scene": {
                      "xaxis": {
                        "backgroundcolor": "#E5ECF6",
                        "gridcolor": "white",
                        "linecolor": "white",
                        "showbackground": true,
                        "ticks": "",
                        "zerolinecolor": "white",
                        "gridwidth": 2
                      },
                      "yaxis": {
                        "backgroundcolor": "#E5ECF6",
                        "gridcolor": "white",
                        "linecolor": "white",
                        "showbackground": true,
                        "ticks": "",
                        "zerolinecolor": "white",
                        "gridwidth": 2
                      },
                      "zaxis": {
                        "backgroundcolor": "#E5ECF6",
                        "gridcolor": "white",
                        "linecolor": "white",
                        "showbackground": true,
                        "ticks": "",
                        "zerolinecolor": "white",
                        "gridwidth": 2
                      }
                    },
                    "shapedefaults": {
                      "line": {
                        "color": "#2a3f5f"
                      }
                    },
                    "annotationdefaults": {
                      "arrowcolor": "#2a3f5f",
                      "arrowhead": 0,
                      "arrowwidth": 1
                    },
                    "geo": {
                      "bgcolor": "white",
                      "landcolor": "#E5ECF6",
                      "subunitcolor": "white",
                      "showland": true,
                      "showlakes": true,
                      "lakecolor": "white"
                    },
                    "title": {
                      "x": 0.05
                    },
                    "mapbox": {
                      "style": "light"
                    }
                  }
                },
                "legend": {
                  "tracegroupgap": 0
                },
                "title": {
                  "text": "RATIO AMOUNT FROM CARD AND CASH"
                },
                "piecolorway": [
                  "rgb(0,0,131)",
                  "rgb(0,60,170)",
                  "rgb(5,255,255)",
                  "rgb(255,255,0)",
                  "rgb(250,0,0)",
                  "rgb(128,0,0)"
                ]
              },
              "config": {
                "plotlyServerURL": "https://plot.ly"
              }
            }
          },
          "metadata": {}
        }
      ]
    },
    {
      "source": [
        "## Task 4: Exploring Sunday Trading"
      ],
      "metadata": {
        "id": "83481b51-1ccf-42dd-9d7f-73eef4a10880"
      },
      "id": "83481b51-1ccf-42dd-9d7f-73eef4a10880",
      "cell_type": "markdown"
    },
    {
      "source": [
        "\"Regulations were introduced in Poland in 2018 to banned shopping on some Sundays. It was generally two Sundays per month in 2018 and three Sundays per month in 2019. Supermarkets have reacted by extending the working hours on Fridays and Saturdays, while customers had to adapt to the changes in opening hours. **The dataset contains two working Sundays (24 February, 31 March) and two non-working Sundays (17 February, 7 April).\"**\n",
        "\n",
        "The above statement is from the data source(link is at the top of this workspace)."
      ],
      "metadata": {
        "id": "df7de881-862e-4b04-b588-d2c5c1241944"
      },
      "id": "df7de881-862e-4b04-b588-d2c5c1241944",
      "cell_type": "markdown"
    },
    {
      "source": [
        "SELECT\n",
        "DATE_PART('weeks', end_date_time::DATE) AS week_num,\n",
        "end_date_time::DATE AS end_date_time\n",
        "FROM 'pos_transactions.csv'\n",
        "WHERE end_date_time::DATE IN ('2019-02-17','2019-02-24','2019-03-31','2019-04-07')\n",
        "\tAND EXTRACT(YEAR from end_date_time::DATE) >= '2019'\n",
        "GROUP BY end_date_time::DATE"
      ],
      "metadata": {
        "customType": "sql",
        "dataFrameVariableName": "df",
        "sqlSource": {
          "type": "dataframesAndCsvs"
        },
        "executionTime": 377,
        "lastSuccessfullyExecutedCode": "SELECT\nDATE_PART('weeks', end_date_time::DATE) AS week_num,\nend_date_time::DATE AS end_date_time\nFROM 'pos_transactions.csv'\nWHERE end_date_time::DATE IN ('2019-02-17','2019-02-24','2019-03-31','2019-04-07') \n\tAND EXTRACT(YEAR from end_date_time::DATE) >= '2019'\nGROUP BY end_date_time::DATE",
        "executionCancelledAt": null,
        "lastExecutedAt": 1695822103654,
        "lastScheduledRunId": null,
        "outputsMetadata": {
          "0": {
            "height": 125,
            "type": "dataFrame"
          }
        },
        "id": "918b5932-fd96-4192-bc9f-564cd9fcccd6",
        "outputId": "77f80b36-61e0-4d7b-c6d6-069a90ef1431"
      },
      "id": "918b5932-fd96-4192-bc9f-564cd9fcccd6",
      "cell_type": "code",
      "execution_count": null,
      "outputs": [
        {
          "output_type": "execute_result",
          "data": {
            "application/com.datacamp.data-table.v1+json": {
              "table": {
                "schema": {
                  "fields": [
                    {
                      "name": "index",
                      "type": "integer"
                    },
                    {
                      "name": "week_num",
                      "type": "integer"
                    },
                    {
                      "name": "end_date_time",
                      "type": "datetime",
                      "tz": "UTC"
                    }
                  ],
                  "primaryKey": [
                    "index"
                  ],
                  "pandas_version": "1.4.0"
                },
                "data": [
                  {
                    "index": 0,
                    "week_num": 8,
                    "end_date_time": "2019-02-24T00:00:00.000Z"
                  },
                  {
                    "index": 1,
                    "week_num": 13,
                    "end_date_time": "2019-03-31T00:00:00.000Z"
                  }
                ]
              },
              "total_rows": 2,
              "truncation_type": null
            },
            "text/plain": "   week_num             end_date_time\n0         8 2019-02-24 00:00:00+00:00\n1        13 2019-03-31 00:00:00+00:00",
            "text/html": "<div>\n<style scoped>\n    .dataframe tbody tr th:only-of-type {\n        vertical-align: middle;\n    }\n\n    .dataframe tbody tr th {\n        vertical-align: top;\n    }\n\n    .dataframe thead th {\n        text-align: right;\n    }\n</style>\n<table border=\"1\" class=\"dataframe\">\n  <thead>\n    <tr style=\"text-align: right;\">\n      <th></th>\n      <th>week_num</th>\n      <th>end_date_time</th>\n    </tr>\n  </thead>\n  <tbody>\n    <tr>\n      <th>0</th>\n      <td>8</td>\n      <td>2019-02-24 00:00:00+00:00</td>\n    </tr>\n    <tr>\n      <th>1</th>\n      <td>13</td>\n      <td>2019-03-31 00:00:00+00:00</td>\n    </tr>\n  </tbody>\n</table>\n</div>"
          },
          "metadata": {},
          "execution_count": 84
        }
      ]
    },
    {
      "source": [
        "The last two dates in my query do not appear and rightly so, because they were non-working Sundays.\n",
        "\n",
        "So the Weeks with with working Sundays are 8 and 13. And the weeks with non-working Sundays are 7 and 14. Again, this information, I got it from the data source.\n",
        "\n",
        "Let's explore the data further to see if I have the full week data."
      ],
      "metadata": {
        "id": "73166dda-d315-4859-b05c-326e26faacda"
      },
      "id": "73166dda-d315-4859-b05c-326e26faacda",
      "cell_type": "markdown"
    },
    {
      "source": [
        "## Task 5: Analysis of daily trends"
      ],
      "metadata": {
        "id": "bcda94ce-c7ce-4021-bd76-17457c2a245e"
      },
      "id": "bcda94ce-c7ce-4021-bd76-17457c2a245e",
      "cell_type": "markdown"
    },
    {
      "source": [
        "Understanding which days are busiest is important for deciding how many staff to schedule shifts for, as well as helping to plan financially."
      ],
      "metadata": {
        "id": "c00dfd08-b142-4d86-840a-8bf594011fd0"
      },
      "id": "c00dfd08-b142-4d86-840a-8bf594011fd0",
      "cell_type": "markdown"
    },
    {
      "source": [
        "SELECT\n",
        "\n",
        "DATE_PART('weeks', end_date_time::DATE) as week_num,\n",
        "end_date_time::DATE as end_date,\n",
        "avg(amount) as average_daily_amount,\n",
        "median(amount) as median_daily_amount,\n",
        "sum(amount) as total_daily_amount\n",
        "\n",
        "FROM 'pos_transactions.csv'\n",
        "WHERE EXTRACT(YEAR FROM end_date_time) = '2019'\n",
        "\n",
        "GROUP BY end_date_time::DATE\n",
        "ORDER BY week_num"
      ],
      "metadata": {
        "customType": "sql",
        "dataFrameVariableName": "df3",
        "sqlSource": {
          "type": "dataframesAndCsvs"
        },
        "visualizeDataframe": false,
        "chartConfig": {
          "bar": {
            "hasRoundedCorners": true,
            "stacked": false
          },
          "type": "bar",
          "version": "v1",
          "x": {
            "field": "end_date",
            "type": "datetime"
          },
          "y": {
            "field": "avg_sale_amount",
            "type": "number"
          },
          "groupBy": {
            "field": "week_num",
            "type": "integer"
          }
        },
        "executionTime": 389,
        "lastSuccessfullyExecutedCode": "SELECT \n\nDATE_PART('weeks', end_date_time::DATE) as week_num,\nend_date_time::DATE as end_date,\navg(amount) as average_daily_amount,\nmedian(amount) as median_daily_amount,\nsum(amount) as total_daily_amount\n\nFROM 'pos_transactions.csv'\nWHERE EXTRACT(YEAR FROM end_date_time) = '2019'\n\nGROUP BY end_date_time::DATE\nORDER BY week_num",
        "executionCancelledAt": null,
        "lastExecutedAt": 1695822104043,
        "lastScheduledRunId": null,
        "outputsMetadata": {
          "0": {
            "height": 327,
            "type": "dataFrame"
          }
        },
        "id": "ddb87c85-e5ce-4efe-a2cf-84f53fa65c31",
        "outputId": "5a776712-a923-4de0-fc82-beb56fd92616"
      },
      "id": "ddb87c85-e5ce-4efe-a2cf-84f53fa65c31",
      "cell_type": "code",
      "execution_count": null,
      "outputs": [
        {
          "output_type": "execute_result",
          "data": {
            "application/com.datacamp.data-table.v1+json": {
              "table": {
                "schema": {
                  "fields": [
                    {
                      "name": "index",
                      "type": "integer"
                    },
                    {
                      "name": "week_num",
                      "type": "integer"
                    },
                    {
                      "name": "end_date",
                      "type": "datetime",
                      "tz": "UTC"
                    },
                    {
                      "name": "average_daily_amount",
                      "type": "number"
                    },
                    {
                      "name": "median_daily_amount",
                      "type": "number"
                    },
                    {
                      "name": "total_daily_amount",
                      "type": "number"
                    }
                  ],
                  "primaryKey": [
                    "index"
                  ],
                  "pandas_version": "1.4.0"
                },
                "data": [
                  {
                    "index": 0,
                    "week_num": 7,
                    "end_date": "2019-02-13T00:00:00.000Z",
                    "average_daily_amount": 59.7889630098,
                    "median_daily_amount": 37.58,
                    "total_daily_amount": 189112.4899999998
                  },
                  {
                    "index": 1,
                    "week_num": 7,
                    "end_date": "2019-02-14T00:00:00.000Z",
                    "average_daily_amount": 68.6290758401,
                    "median_daily_amount": 46.285,
                    "total_daily_amount": 302242.45
                  },
                  {
                    "index": 2,
                    "week_num": 7,
                    "end_date": "2019-02-15T00:00:00.000Z",
                    "average_daily_amount": 79.1645844704,
                    "median_daily_amount": 50.9,
                    "total_daily_amount": 319112.4399999984
                  },
                  {
                    "index": 3,
                    "week_num": 7,
                    "end_date": "2019-02-16T00:00:00.000Z",
                    "average_daily_amount": 86.8667359178,
                    "median_daily_amount": 57.6,
                    "total_daily_amount": 405580.7899999993
                  },
                  {
                    "index": 4,
                    "week_num": 8,
                    "end_date": "2019-02-23T00:00:00.000Z",
                    "average_daily_amount": 84.5919326769,
                    "median_daily_amount": 56.37,
                    "total_daily_amount": 369412.9699999995
                  },
                  {
                    "index": 5,
                    "week_num": 8,
                    "end_date": "2019-02-18T00:00:00.000Z",
                    "average_daily_amount": 59.0621681957,
                    "median_daily_amount": 37.42,
                    "total_daily_amount": 193133.2900000006
                  },
                  {
                    "index": 6,
                    "week_num": 8,
                    "end_date": "2019-02-19T00:00:00.000Z",
                    "average_daily_amount": 56.2784859504,
                    "median_daily_amount": 37.53,
                    "total_daily_amount": 170242.42
                  },
                  {
                    "index": 7,
                    "week_num": 8,
                    "end_date": "2019-02-21T00:00:00.000Z",
                    "average_daily_amount": 68.3637248168,
                    "median_daily_amount": 45.865,
                    "total_daily_amount": 298612.7499999987
                  },
                  {
                    "index": 8,
                    "week_num": 8,
                    "end_date": "2019-02-22T00:00:00.000Z",
                    "average_daily_amount": 74.9101745636,
                    "median_daily_amount": 49.06,
                    "total_daily_amount": 330428.7799999992
                  },
                  {
                    "index": 9,
                    "week_num": 8,
                    "end_date": "2019-02-24T00:00:00.000Z",
                    "average_daily_amount": 63.3416341895,
                    "median_daily_amount": 37.66,
                    "total_daily_amount": 143025.4100000001
                  },
                  {
                    "index": 10,
                    "week_num": 8,
                    "end_date": "2019-02-20T00:00:00.000Z",
                    "average_daily_amount": 59.64863711,
                    "median_daily_amount": 36.56,
                    "total_daily_amount": 181630.1000000004
                  },
                  {
                    "index": 11,
                    "week_num": 9,
                    "end_date": "2019-02-25T00:00:00.000Z",
                    "average_daily_amount": 53.7958188951,
                    "median_daily_amount": 34.81,
                    "total_daily_amount": 164561.4100000001
                  },
                  {
                    "index": 12,
                    "week_num": 9,
                    "end_date": "2019-02-26T00:00:00.000Z",
                    "average_daily_amount": 54.6606008011,
                    "median_daily_amount": 35.915,
                    "total_daily_amount": 163763.1600000004
                  },
                  {
                    "index": 13,
                    "week_num": 13,
                    "end_date": "2019-03-29T00:00:00.000Z",
                    "average_daily_amount": 79.8482981221,
                    "median_daily_amount": 51.03,
                    "total_daily_amount": 340153.749999999
                  },
                  {
                    "index": 14,
                    "week_num": 13,
                    "end_date": "2019-03-30T00:00:00.000Z",
                    "average_daily_amount": 86.8978331288,
                    "median_daily_amount": 56.28,
                    "total_daily_amount": 354108.6699999998
                  },
                  {
                    "index": 15,
                    "week_num": 13,
                    "end_date": "2019-03-31T00:00:00.000Z",
                    "average_daily_amount": 73.02,
                    "median_daily_amount": 46.335,
                    "total_daily_amount": 169698.4800000002
                  },
                  {
                    "index": 16,
                    "week_num": 13,
                    "end_date": "2019-03-28T00:00:00.000Z",
                    "average_daily_amount": 72.6479067122,
                    "median_daily_amount": 47.73,
                    "total_daily_amount": 319287.5499999993
                  },
                  {
                    "index": 17,
                    "week_num": 14,
                    "end_date": "2019-04-03T00:00:00.000Z",
                    "average_daily_amount": 57.1961645611,
                    "median_daily_amount": 36.55,
                    "total_daily_amount": 176564.5600000001
                  },
                  {
                    "index": 18,
                    "week_num": 14,
                    "end_date": "2019-04-01T00:00:00.000Z",
                    "average_daily_amount": 58.093587963,
                    "median_daily_amount": 36.46,
                    "total_daily_amount": 200771.4399999999
                  },
                  {
                    "index": 19,
                    "week_num": 14,
                    "end_date": "2019-04-04T00:00:00.000Z",
                    "average_daily_amount": 75.0150843373,
                    "median_daily_amount": 50.35,
                    "total_daily_amount": 342443.8600000001
                  },
                  {
                    "index": 20,
                    "week_num": 14,
                    "end_date": "2019-04-05T00:00:00.000Z",
                    "average_daily_amount": 81.0273726542,
                    "median_daily_amount": 54.31,
                    "total_daily_amount": 362678.5199999985
                  },
                  {
                    "index": 21,
                    "week_num": 14,
                    "end_date": "2019-04-06T00:00:00.000Z",
                    "average_daily_amount": 86.8971543895,
                    "median_daily_amount": 56.51,
                    "total_daily_amount": 430575.3999999991
                  },
                  {
                    "index": 22,
                    "week_num": 14,
                    "end_date": "2019-04-02T00:00:00.000Z",
                    "average_daily_amount": 55.1118271911,
                    "median_daily_amount": 34.91,
                    "total_daily_amount": 177956.0899999999
                  },
                  {
                    "index": 23,
                    "week_num": 15,
                    "end_date": "2019-04-09T00:00:00.000Z",
                    "average_daily_amount": 66.2037591993,
                    "median_daily_amount": 40.43,
                    "total_daily_amount": 224894.1699999999
                  },
                  {
                    "index": 24,
                    "week_num": 15,
                    "end_date": "2019-04-10T00:00:00.000Z",
                    "average_daily_amount": 68.3544095836,
                    "median_daily_amount": 43.05,
                    "total_daily_amount": 239650.5600000003
                  },
                  {
                    "index": 25,
                    "week_num": 15,
                    "end_date": "2019-04-08T00:00:00.000Z",
                    "average_daily_amount": 64.5034246196,
                    "median_daily_amount": 41.67,
                    "total_daily_amount": 233179.8800000004
                  }
                ]
              },
              "total_rows": 26,
              "truncation_type": null
            },
            "text/plain": "    week_num                  end_date  ...  median_daily_amount  total_daily_amount\n0          7 2019-02-13 00:00:00+00:00  ...               37.580           189112.49\n1          7 2019-02-14 00:00:00+00:00  ...               46.285           302242.45\n2          7 2019-02-15 00:00:00+00:00  ...               50.900           319112.44\n3          7 2019-02-16 00:00:00+00:00  ...               57.600           405580.79\n4          8 2019-02-23 00:00:00+00:00  ...               56.370           369412.97\n5          8 2019-02-18 00:00:00+00:00  ...               37.420           193133.29\n6          8 2019-02-19 00:00:00+00:00  ...               37.530           170242.42\n7          8 2019-02-21 00:00:00+00:00  ...               45.865           298612.75\n8          8 2019-02-22 00:00:00+00:00  ...               49.060           330428.78\n9          8 2019-02-24 00:00:00+00:00  ...               37.660           143025.41\n10         8 2019-02-20 00:00:00+00:00  ...               36.560           181630.10\n11         9 2019-02-25 00:00:00+00:00  ...               34.810           164561.41\n12         9 2019-02-26 00:00:00+00:00  ...               35.915           163763.16\n13        13 2019-03-29 00:00:00+00:00  ...               51.030           340153.75\n14        13 2019-03-30 00:00:00+00:00  ...               56.280           354108.67\n15        13 2019-03-31 00:00:00+00:00  ...               46.335           169698.48\n16        13 2019-03-28 00:00:00+00:00  ...               47.730           319287.55\n17        14 2019-04-03 00:00:00+00:00  ...               36.550           176564.56\n18        14 2019-04-01 00:00:00+00:00  ...               36.460           200771.44\n19        14 2019-04-04 00:00:00+00:00  ...               50.350           342443.86\n20        14 2019-04-05 00:00:00+00:00  ...               54.310           362678.52\n21        14 2019-04-06 00:00:00+00:00  ...               56.510           430575.40\n22        14 2019-04-02 00:00:00+00:00  ...               34.910           177956.09\n23        15 2019-04-09 00:00:00+00:00  ...               40.430           224894.17\n24        15 2019-04-10 00:00:00+00:00  ...               43.050           239650.56\n25        15 2019-04-08 00:00:00+00:00  ...               41.670           233179.88\n\n[26 rows x 5 columns]",
            "text/html": "<div>\n<style scoped>\n    .dataframe tbody tr th:only-of-type {\n        vertical-align: middle;\n    }\n\n    .dataframe tbody tr th {\n        vertical-align: top;\n    }\n\n    .dataframe thead th {\n        text-align: right;\n    }\n</style>\n<table border=\"1\" class=\"dataframe\">\n  <thead>\n    <tr style=\"text-align: right;\">\n      <th></th>\n      <th>week_num</th>\n      <th>end_date</th>\n      <th>average_daily_amount</th>\n      <th>median_daily_amount</th>\n      <th>total_daily_amount</th>\n    </tr>\n  </thead>\n  <tbody>\n    <tr>\n      <th>0</th>\n      <td>7</td>\n      <td>2019-02-13 00:00:00+00:00</td>\n      <td>59.788963</td>\n      <td>37.580</td>\n      <td>189112.49</td>\n    </tr>\n    <tr>\n      <th>1</th>\n      <td>7</td>\n      <td>2019-02-14 00:00:00+00:00</td>\n      <td>68.629076</td>\n      <td>46.285</td>\n      <td>302242.45</td>\n    </tr>\n    <tr>\n      <th>2</th>\n      <td>7</td>\n      <td>2019-02-15 00:00:00+00:00</td>\n      <td>79.164584</td>\n      <td>50.900</td>\n      <td>319112.44</td>\n    </tr>\n    <tr>\n      <th>3</th>\n      <td>7</td>\n      <td>2019-02-16 00:00:00+00:00</td>\n      <td>86.866736</td>\n      <td>57.600</td>\n      <td>405580.79</td>\n    </tr>\n    <tr>\n      <th>4</th>\n      <td>8</td>\n      <td>2019-02-23 00:00:00+00:00</td>\n      <td>84.591933</td>\n      <td>56.370</td>\n      <td>369412.97</td>\n    </tr>\n    <tr>\n      <th>5</th>\n      <td>8</td>\n      <td>2019-02-18 00:00:00+00:00</td>\n      <td>59.062168</td>\n      <td>37.420</td>\n      <td>193133.29</td>\n    </tr>\n    <tr>\n      <th>6</th>\n      <td>8</td>\n      <td>2019-02-19 00:00:00+00:00</td>\n      <td>56.278486</td>\n      <td>37.530</td>\n      <td>170242.42</td>\n    </tr>\n    <tr>\n      <th>7</th>\n      <td>8</td>\n      <td>2019-02-21 00:00:00+00:00</td>\n      <td>68.363725</td>\n      <td>45.865</td>\n      <td>298612.75</td>\n    </tr>\n    <tr>\n      <th>8</th>\n      <td>8</td>\n      <td>2019-02-22 00:00:00+00:00</td>\n      <td>74.910175</td>\n      <td>49.060</td>\n      <td>330428.78</td>\n    </tr>\n    <tr>\n      <th>9</th>\n      <td>8</td>\n      <td>2019-02-24 00:00:00+00:00</td>\n      <td>63.341634</td>\n      <td>37.660</td>\n      <td>143025.41</td>\n    </tr>\n    <tr>\n      <th>10</th>\n      <td>8</td>\n      <td>2019-02-20 00:00:00+00:00</td>\n      <td>59.648637</td>\n      <td>36.560</td>\n      <td>181630.10</td>\n    </tr>\n    <tr>\n      <th>11</th>\n      <td>9</td>\n      <td>2019-02-25 00:00:00+00:00</td>\n      <td>53.795819</td>\n      <td>34.810</td>\n      <td>164561.41</td>\n    </tr>\n    <tr>\n      <th>12</th>\n      <td>9</td>\n      <td>2019-02-26 00:00:00+00:00</td>\n      <td>54.660601</td>\n      <td>35.915</td>\n      <td>163763.16</td>\n    </tr>\n    <tr>\n      <th>13</th>\n      <td>13</td>\n      <td>2019-03-29 00:00:00+00:00</td>\n      <td>79.848298</td>\n      <td>51.030</td>\n      <td>340153.75</td>\n    </tr>\n    <tr>\n      <th>14</th>\n      <td>13</td>\n      <td>2019-03-30 00:00:00+00:00</td>\n      <td>86.897833</td>\n      <td>56.280</td>\n      <td>354108.67</td>\n    </tr>\n    <tr>\n      <th>15</th>\n      <td>13</td>\n      <td>2019-03-31 00:00:00+00:00</td>\n      <td>73.020000</td>\n      <td>46.335</td>\n      <td>169698.48</td>\n    </tr>\n    <tr>\n      <th>16</th>\n      <td>13</td>\n      <td>2019-03-28 00:00:00+00:00</td>\n      <td>72.647907</td>\n      <td>47.730</td>\n      <td>319287.55</td>\n    </tr>\n    <tr>\n      <th>17</th>\n      <td>14</td>\n      <td>2019-04-03 00:00:00+00:00</td>\n      <td>57.196165</td>\n      <td>36.550</td>\n      <td>176564.56</td>\n    </tr>\n    <tr>\n      <th>18</th>\n      <td>14</td>\n      <td>2019-04-01 00:00:00+00:00</td>\n      <td>58.093588</td>\n      <td>36.460</td>\n      <td>200771.44</td>\n    </tr>\n    <tr>\n      <th>19</th>\n      <td>14</td>\n      <td>2019-04-04 00:00:00+00:00</td>\n      <td>75.015084</td>\n      <td>50.350</td>\n      <td>342443.86</td>\n    </tr>\n    <tr>\n      <th>20</th>\n      <td>14</td>\n      <td>2019-04-05 00:00:00+00:00</td>\n      <td>81.027373</td>\n      <td>54.310</td>\n      <td>362678.52</td>\n    </tr>\n    <tr>\n      <th>21</th>\n      <td>14</td>\n      <td>2019-04-06 00:00:00+00:00</td>\n      <td>86.897154</td>\n      <td>56.510</td>\n      <td>430575.40</td>\n    </tr>\n    <tr>\n      <th>22</th>\n      <td>14</td>\n      <td>2019-04-02 00:00:00+00:00</td>\n      <td>55.111827</td>\n      <td>34.910</td>\n      <td>177956.09</td>\n    </tr>\n    <tr>\n      <th>23</th>\n      <td>15</td>\n      <td>2019-04-09 00:00:00+00:00</td>\n      <td>66.203759</td>\n      <td>40.430</td>\n      <td>224894.17</td>\n    </tr>\n    <tr>\n      <th>24</th>\n      <td>15</td>\n      <td>2019-04-10 00:00:00+00:00</td>\n      <td>68.354410</td>\n      <td>43.050</td>\n      <td>239650.56</td>\n    </tr>\n    <tr>\n      <th>25</th>\n      <td>15</td>\n      <td>2019-04-08 00:00:00+00:00</td>\n      <td>64.503425</td>\n      <td>41.670</td>\n      <td>233179.88</td>\n    </tr>\n  </tbody>\n</table>\n</div>"
          },
          "metadata": {},
          "execution_count": 85
        }
      ]
    },
    {
      "source": [
        "Let's visualise this and see what we have"
      ],
      "metadata": {
        "id": "6094cdf9-7026-48d4-ad0c-b426593a9919"
      },
      "cell_type": "markdown",
      "id": "6094cdf9-7026-48d4-ad0c-b426593a9919"
    },
    {
      "source": [
        "for i in ['average_daily_amount','median_daily_amount','total_daily_amount']:\n",
        "    fig = px.bar(df3,x='end_date', y=i,color='week_num',title=f'RELATIONSHIP BETWEEN {i.upper()} AND DAY OF WEEK', labels = {\n",
        "        'end_date':'day of week'\n",
        "    },  color_discrete_sequence=px.colors.sequential.Jet\n",
        "                )\n",
        "    fig.show()"
      ],
      "metadata": {
        "executionCancelledAt": null,
        "executionTime": 158,
        "lastExecutedAt": 1695822104201,
        "lastScheduledRunId": null,
        "lastSuccessfullyExecutedCode": "for i in ['average_daily_amount','median_daily_amount','total_daily_amount']:\n    fig = px.bar(df3,x='end_date', y=i,color='week_num',title=f'RELATIONSHIP BETWEEN {i.upper()} AND DAY OF WEEK', labels = {\n        'end_date':'day of week'\n    },  color_discrete_sequence=px.colors.sequential.Jet\n                )\n    fig.show()",
        "outputsMetadata": {
          "0": {
            "height": 467,
            "type": "plotly"
          },
          "1": {
            "height": 467,
            "type": "plotly"
          },
          "2": {
            "height": 467,
            "type": "plotly"
          }
        },
        "id": "556bfb1d-9f79-459b-8e13-1cbc71379990",
        "outputId": "081eb31e-3b14-4064-b8df-397b628c5429"
      },
      "cell_type": "code",
      "id": "556bfb1d-9f79-459b-8e13-1cbc71379990",
      "execution_count": null,
      "outputs": [
        {
          "output_type": "display_data",
          "data": {
            "application/vnd.plotly.v1+json": {
              "data": [
                {
                  "alignmentgroup": "True",
                  "hovertemplate": "day of week=%{x}<br>average_daily_amount=%{y}<br>week_num=%{marker.color}<extra></extra>",
                  "legendgroup": "",
                  "marker": {
                    "color": [
                      7,
                      7,
                      7,
                      7,
                      8,
                      8,
                      8,
                      8,
                      8,
                      8,
                      8,
                      9,
                      9,
                      13,
                      13,
                      13,
                      13,
                      14,
                      14,
                      14,
                      14,
                      14,
                      14,
                      15,
                      15,
                      15
                    ],
                    "coloraxis": "coloraxis",
                    "pattern": {
                      "shape": ""
                    }
                  },
                  "name": "",
                  "offsetgroup": "",
                  "orientation": "v",
                  "showlegend": false,
                  "textposition": "auto",
                  "x": [
                    "2019-02-13T00:00:00+00:00",
                    "2019-02-14T00:00:00+00:00",
                    "2019-02-15T00:00:00+00:00",
                    "2019-02-16T00:00:00+00:00",
                    "2019-02-23T00:00:00+00:00",
                    "2019-02-18T00:00:00+00:00",
                    "2019-02-19T00:00:00+00:00",
                    "2019-02-21T00:00:00+00:00",
                    "2019-02-22T00:00:00+00:00",
                    "2019-02-24T00:00:00+00:00",
                    "2019-02-20T00:00:00+00:00",
                    "2019-02-25T00:00:00+00:00",
                    "2019-02-26T00:00:00+00:00",
                    "2019-03-29T00:00:00+00:00",
                    "2019-03-30T00:00:00+00:00",
                    "2019-03-31T00:00:00+00:00",
                    "2019-03-28T00:00:00+00:00",
                    "2019-04-03T00:00:00+00:00",
                    "2019-04-01T00:00:00+00:00",
                    "2019-04-04T00:00:00+00:00",
                    "2019-04-05T00:00:00+00:00",
                    "2019-04-06T00:00:00+00:00",
                    "2019-04-02T00:00:00+00:00",
                    "2019-04-09T00:00:00+00:00",
                    "2019-04-10T00:00:00+00:00",
                    "2019-04-08T00:00:00+00:00"
                  ],
                  "xaxis": "x",
                  "y": [
                    59.788963009800746,
                    68.62907584014532,
                    79.16458447035434,
                    86.86673591775525,
                    84.59193267689479,
                    59.06216819571885,
                    56.27848595041323,
                    68.36372481684953,
                    74.91017456359084,
                    63.34163418954832,
                    59.648637110016566,
                    53.795818895063796,
                    54.66060080106822,
                    79.8482981220655,
                    86.89783312883429,
                    73.02000000000008,
                    72.64790671217277,
                    57.19616456106254,
                    58.093587962962935,
                    75.01508433734942,
                    81.02737265415516,
                    86.89715438950536,
                    55.11182719108079,
                    66.20375919929346,
                    68.3544095835711,
                    64.50342461964048
                  ],
                  "yaxis": "y",
                  "type": "bar"
                }
              ],
              "layout": {
                "template": {
                  "data": {
                    "histogram2dcontour": [
                      {
                        "type": "histogram2dcontour",
                        "colorbar": {
                          "outlinewidth": 0,
                          "ticks": ""
                        },
                        "colorscale": [
                          [
                            0,
                            "#0d0887"
                          ],
                          [
                            0.1111111111111111,
                            "#46039f"
                          ],
                          [
                            0.2222222222222222,
                            "#7201a8"
                          ],
                          [
                            0.3333333333333333,
                            "#9c179e"
                          ],
                          [
                            0.4444444444444444,
                            "#bd3786"
                          ],
                          [
                            0.5555555555555556,
                            "#d8576b"
                          ],
                          [
                            0.6666666666666666,
                            "#ed7953"
                          ],
                          [
                            0.7777777777777778,
                            "#fb9f3a"
                          ],
                          [
                            0.8888888888888888,
                            "#fdca26"
                          ],
                          [
                            1,
                            "#f0f921"
                          ]
                        ]
                      }
                    ],
                    "choropleth": [
                      {
                        "type": "choropleth",
                        "colorbar": {
                          "outlinewidth": 0,
                          "ticks": ""
                        }
                      }
                    ],
                    "histogram2d": [
                      {
                        "type": "histogram2d",
                        "colorbar": {
                          "outlinewidth": 0,
                          "ticks": ""
                        },
                        "colorscale": [
                          [
                            0,
                            "#0d0887"
                          ],
                          [
                            0.1111111111111111,
                            "#46039f"
                          ],
                          [
                            0.2222222222222222,
                            "#7201a8"
                          ],
                          [
                            0.3333333333333333,
                            "#9c179e"
                          ],
                          [
                            0.4444444444444444,
                            "#bd3786"
                          ],
                          [
                            0.5555555555555556,
                            "#d8576b"
                          ],
                          [
                            0.6666666666666666,
                            "#ed7953"
                          ],
                          [
                            0.7777777777777778,
                            "#fb9f3a"
                          ],
                          [
                            0.8888888888888888,
                            "#fdca26"
                          ],
                          [
                            1,
                            "#f0f921"
                          ]
                        ]
                      }
                    ],
                    "heatmap": [
                      {
                        "type": "heatmap",
                        "colorbar": {
                          "outlinewidth": 0,
                          "ticks": ""
                        },
                        "colorscale": [
                          [
                            0,
                            "#0d0887"
                          ],
                          [
                            0.1111111111111111,
                            "#46039f"
                          ],
                          [
                            0.2222222222222222,
                            "#7201a8"
                          ],
                          [
                            0.3333333333333333,
                            "#9c179e"
                          ],
                          [
                            0.4444444444444444,
                            "#bd3786"
                          ],
                          [
                            0.5555555555555556,
                            "#d8576b"
                          ],
                          [
                            0.6666666666666666,
                            "#ed7953"
                          ],
                          [
                            0.7777777777777778,
                            "#fb9f3a"
                          ],
                          [
                            0.8888888888888888,
                            "#fdca26"
                          ],
                          [
                            1,
                            "#f0f921"
                          ]
                        ]
                      }
                    ],
                    "heatmapgl": [
                      {
                        "type": "heatmapgl",
                        "colorbar": {
                          "outlinewidth": 0,
                          "ticks": ""
                        },
                        "colorscale": [
                          [
                            0,
                            "#0d0887"
                          ],
                          [
                            0.1111111111111111,
                            "#46039f"
                          ],
                          [
                            0.2222222222222222,
                            "#7201a8"
                          ],
                          [
                            0.3333333333333333,
                            "#9c179e"
                          ],
                          [
                            0.4444444444444444,
                            "#bd3786"
                          ],
                          [
                            0.5555555555555556,
                            "#d8576b"
                          ],
                          [
                            0.6666666666666666,
                            "#ed7953"
                          ],
                          [
                            0.7777777777777778,
                            "#fb9f3a"
                          ],
                          [
                            0.8888888888888888,
                            "#fdca26"
                          ],
                          [
                            1,
                            "#f0f921"
                          ]
                        ]
                      }
                    ],
                    "contourcarpet": [
                      {
                        "type": "contourcarpet",
                        "colorbar": {
                          "outlinewidth": 0,
                          "ticks": ""
                        }
                      }
                    ],
                    "contour": [
                      {
                        "type": "contour",
                        "colorbar": {
                          "outlinewidth": 0,
                          "ticks": ""
                        },
                        "colorscale": [
                          [
                            0,
                            "#0d0887"
                          ],
                          [
                            0.1111111111111111,
                            "#46039f"
                          ],
                          [
                            0.2222222222222222,
                            "#7201a8"
                          ],
                          [
                            0.3333333333333333,
                            "#9c179e"
                          ],
                          [
                            0.4444444444444444,
                            "#bd3786"
                          ],
                          [
                            0.5555555555555556,
                            "#d8576b"
                          ],
                          [
                            0.6666666666666666,
                            "#ed7953"
                          ],
                          [
                            0.7777777777777778,
                            "#fb9f3a"
                          ],
                          [
                            0.8888888888888888,
                            "#fdca26"
                          ],
                          [
                            1,
                            "#f0f921"
                          ]
                        ]
                      }
                    ],
                    "surface": [
                      {
                        "type": "surface",
                        "colorbar": {
                          "outlinewidth": 0,
                          "ticks": ""
                        },
                        "colorscale": [
                          [
                            0,
                            "#0d0887"
                          ],
                          [
                            0.1111111111111111,
                            "#46039f"
                          ],
                          [
                            0.2222222222222222,
                            "#7201a8"
                          ],
                          [
                            0.3333333333333333,
                            "#9c179e"
                          ],
                          [
                            0.4444444444444444,
                            "#bd3786"
                          ],
                          [
                            0.5555555555555556,
                            "#d8576b"
                          ],
                          [
                            0.6666666666666666,
                            "#ed7953"
                          ],
                          [
                            0.7777777777777778,
                            "#fb9f3a"
                          ],
                          [
                            0.8888888888888888,
                            "#fdca26"
                          ],
                          [
                            1,
                            "#f0f921"
                          ]
                        ]
                      }
                    ],
                    "mesh3d": [
                      {
                        "type": "mesh3d",
                        "colorbar": {
                          "outlinewidth": 0,
                          "ticks": ""
                        }
                      }
                    ],
                    "scatter": [
                      {
                        "fillpattern": {
                          "fillmode": "overlay",
                          "size": 10,
                          "solidity": 0.2
                        },
                        "type": "scatter"
                      }
                    ],
                    "parcoords": [
                      {
                        "type": "parcoords",
                        "line": {
                          "colorbar": {
                            "outlinewidth": 0,
                            "ticks": ""
                          }
                        }
                      }
                    ],
                    "scatterpolargl": [
                      {
                        "type": "scatterpolargl",
                        "marker": {
                          "colorbar": {
                            "outlinewidth": 0,
                            "ticks": ""
                          }
                        }
                      }
                    ],
                    "bar": [
                      {
                        "error_x": {
                          "color": "#2a3f5f"
                        },
                        "error_y": {
                          "color": "#2a3f5f"
                        },
                        "marker": {
                          "line": {
                            "color": "#E5ECF6",
                            "width": 0.5
                          },
                          "pattern": {
                            "fillmode": "overlay",
                            "size": 10,
                            "solidity": 0.2
                          }
                        },
                        "type": "bar"
                      }
                    ],
                    "scattergeo": [
                      {
                        "type": "scattergeo",
                        "marker": {
                          "colorbar": {
                            "outlinewidth": 0,
                            "ticks": ""
                          }
                        }
                      }
                    ],
                    "scatterpolar": [
                      {
                        "type": "scatterpolar",
                        "marker": {
                          "colorbar": {
                            "outlinewidth": 0,
                            "ticks": ""
                          }
                        }
                      }
                    ],
                    "histogram": [
                      {
                        "marker": {
                          "pattern": {
                            "fillmode": "overlay",
                            "size": 10,
                            "solidity": 0.2
                          }
                        },
                        "type": "histogram"
                      }
                    ],
                    "scattergl": [
                      {
                        "type": "scattergl",
                        "marker": {
                          "colorbar": {
                            "outlinewidth": 0,
                            "ticks": ""
                          }
                        }
                      }
                    ],
                    "scatter3d": [
                      {
                        "type": "scatter3d",
                        "line": {
                          "colorbar": {
                            "outlinewidth": 0,
                            "ticks": ""
                          }
                        },
                        "marker": {
                          "colorbar": {
                            "outlinewidth": 0,
                            "ticks": ""
                          }
                        }
                      }
                    ],
                    "scattermapbox": [
                      {
                        "type": "scattermapbox",
                        "marker": {
                          "colorbar": {
                            "outlinewidth": 0,
                            "ticks": ""
                          }
                        }
                      }
                    ],
                    "scatterternary": [
                      {
                        "type": "scatterternary",
                        "marker": {
                          "colorbar": {
                            "outlinewidth": 0,
                            "ticks": ""
                          }
                        }
                      }
                    ],
                    "scattercarpet": [
                      {
                        "type": "scattercarpet",
                        "marker": {
                          "colorbar": {
                            "outlinewidth": 0,
                            "ticks": ""
                          }
                        }
                      }
                    ],
                    "carpet": [
                      {
                        "aaxis": {
                          "endlinecolor": "#2a3f5f",
                          "gridcolor": "white",
                          "linecolor": "white",
                          "minorgridcolor": "white",
                          "startlinecolor": "#2a3f5f"
                        },
                        "baxis": {
                          "endlinecolor": "#2a3f5f",
                          "gridcolor": "white",
                          "linecolor": "white",
                          "minorgridcolor": "white",
                          "startlinecolor": "#2a3f5f"
                        },
                        "type": "carpet"
                      }
                    ],
                    "table": [
                      {
                        "cells": {
                          "fill": {
                            "color": "#EBF0F8"
                          },
                          "line": {
                            "color": "white"
                          }
                        },
                        "header": {
                          "fill": {
                            "color": "#C8D4E3"
                          },
                          "line": {
                            "color": "white"
                          }
                        },
                        "type": "table"
                      }
                    ],
                    "barpolar": [
                      {
                        "marker": {
                          "line": {
                            "color": "#E5ECF6",
                            "width": 0.5
                          },
                          "pattern": {
                            "fillmode": "overlay",
                            "size": 10,
                            "solidity": 0.2
                          }
                        },
                        "type": "barpolar"
                      }
                    ],
                    "pie": [
                      {
                        "automargin": true,
                        "type": "pie"
                      }
                    ]
                  },
                  "layout": {
                    "autotypenumbers": "strict",
                    "colorway": [
                      "#636efa",
                      "#EF553B",
                      "#00cc96",
                      "#ab63fa",
                      "#FFA15A",
                      "#19d3f3",
                      "#FF6692",
                      "#B6E880",
                      "#FF97FF",
                      "#FECB52"
                    ],
                    "font": {
                      "color": "#2a3f5f"
                    },
                    "hovermode": "closest",
                    "hoverlabel": {
                      "align": "left"
                    },
                    "paper_bgcolor": "white",
                    "plot_bgcolor": "#E5ECF6",
                    "polar": {
                      "bgcolor": "#E5ECF6",
                      "angularaxis": {
                        "gridcolor": "white",
                        "linecolor": "white",
                        "ticks": ""
                      },
                      "radialaxis": {
                        "gridcolor": "white",
                        "linecolor": "white",
                        "ticks": ""
                      }
                    },
                    "ternary": {
                      "bgcolor": "#E5ECF6",
                      "aaxis": {
                        "gridcolor": "white",
                        "linecolor": "white",
                        "ticks": ""
                      },
                      "baxis": {
                        "gridcolor": "white",
                        "linecolor": "white",
                        "ticks": ""
                      },
                      "caxis": {
                        "gridcolor": "white",
                        "linecolor": "white",
                        "ticks": ""
                      }
                    },
                    "coloraxis": {
                      "colorbar": {
                        "outlinewidth": 0,
                        "ticks": ""
                      }
                    },
                    "colorscale": {
                      "sequential": [
                        [
                          0,
                          "#0d0887"
                        ],
                        [
                          0.1111111111111111,
                          "#46039f"
                        ],
                        [
                          0.2222222222222222,
                          "#7201a8"
                        ],
                        [
                          0.3333333333333333,
                          "#9c179e"
                        ],
                        [
                          0.4444444444444444,
                          "#bd3786"
                        ],
                        [
                          0.5555555555555556,
                          "#d8576b"
                        ],
                        [
                          0.6666666666666666,
                          "#ed7953"
                        ],
                        [
                          0.7777777777777778,
                          "#fb9f3a"
                        ],
                        [
                          0.8888888888888888,
                          "#fdca26"
                        ],
                        [
                          1,
                          "#f0f921"
                        ]
                      ],
                      "sequentialminus": [
                        [
                          0,
                          "#0d0887"
                        ],
                        [
                          0.1111111111111111,
                          "#46039f"
                        ],
                        [
                          0.2222222222222222,
                          "#7201a8"
                        ],
                        [
                          0.3333333333333333,
                          "#9c179e"
                        ],
                        [
                          0.4444444444444444,
                          "#bd3786"
                        ],
                        [
                          0.5555555555555556,
                          "#d8576b"
                        ],
                        [
                          0.6666666666666666,
                          "#ed7953"
                        ],
                        [
                          0.7777777777777778,
                          "#fb9f3a"
                        ],
                        [
                          0.8888888888888888,
                          "#fdca26"
                        ],
                        [
                          1,
                          "#f0f921"
                        ]
                      ],
                      "diverging": [
                        [
                          0,
                          "#8e0152"
                        ],
                        [
                          0.1,
                          "#c51b7d"
                        ],
                        [
                          0.2,
                          "#de77ae"
                        ],
                        [
                          0.3,
                          "#f1b6da"
                        ],
                        [
                          0.4,
                          "#fde0ef"
                        ],
                        [
                          0.5,
                          "#f7f7f7"
                        ],
                        [
                          0.6,
                          "#e6f5d0"
                        ],
                        [
                          0.7,
                          "#b8e186"
                        ],
                        [
                          0.8,
                          "#7fbc41"
                        ],
                        [
                          0.9,
                          "#4d9221"
                        ],
                        [
                          1,
                          "#276419"
                        ]
                      ]
                    },
                    "xaxis": {
                      "gridcolor": "white",
                      "linecolor": "white",
                      "ticks": "",
                      "title": {
                        "standoff": 15
                      },
                      "zerolinecolor": "white",
                      "automargin": true,
                      "zerolinewidth": 2
                    },
                    "yaxis": {
                      "gridcolor": "white",
                      "linecolor": "white",
                      "ticks": "",
                      "title": {
                        "standoff": 15
                      },
                      "zerolinecolor": "white",
                      "automargin": true,
                      "zerolinewidth": 2
                    },
                    "scene": {
                      "xaxis": {
                        "backgroundcolor": "#E5ECF6",
                        "gridcolor": "white",
                        "linecolor": "white",
                        "showbackground": true,
                        "ticks": "",
                        "zerolinecolor": "white",
                        "gridwidth": 2
                      },
                      "yaxis": {
                        "backgroundcolor": "#E5ECF6",
                        "gridcolor": "white",
                        "linecolor": "white",
                        "showbackground": true,
                        "ticks": "",
                        "zerolinecolor": "white",
                        "gridwidth": 2
                      },
                      "zaxis": {
                        "backgroundcolor": "#E5ECF6",
                        "gridcolor": "white",
                        "linecolor": "white",
                        "showbackground": true,
                        "ticks": "",
                        "zerolinecolor": "white",
                        "gridwidth": 2
                      }
                    },
                    "shapedefaults": {
                      "line": {
                        "color": "#2a3f5f"
                      }
                    },
                    "annotationdefaults": {
                      "arrowcolor": "#2a3f5f",
                      "arrowhead": 0,
                      "arrowwidth": 1
                    },
                    "geo": {
                      "bgcolor": "white",
                      "landcolor": "#E5ECF6",
                      "subunitcolor": "white",
                      "showland": true,
                      "showlakes": true,
                      "lakecolor": "white"
                    },
                    "title": {
                      "x": 0.05
                    },
                    "mapbox": {
                      "style": "light"
                    }
                  }
                },
                "xaxis": {
                  "anchor": "y",
                  "domain": [
                    0,
                    1
                  ],
                  "title": {
                    "text": "day of week"
                  }
                },
                "yaxis": {
                  "anchor": "x",
                  "domain": [
                    0,
                    1
                  ],
                  "title": {
                    "text": "average_daily_amount"
                  }
                },
                "coloraxis": {
                  "colorbar": {
                    "title": {
                      "text": "week_num"
                    }
                  },
                  "colorscale": [
                    [
                      0,
                      "#0d0887"
                    ],
                    [
                      0.1111111111111111,
                      "#46039f"
                    ],
                    [
                      0.2222222222222222,
                      "#7201a8"
                    ],
                    [
                      0.3333333333333333,
                      "#9c179e"
                    ],
                    [
                      0.4444444444444444,
                      "#bd3786"
                    ],
                    [
                      0.5555555555555556,
                      "#d8576b"
                    ],
                    [
                      0.6666666666666666,
                      "#ed7953"
                    ],
                    [
                      0.7777777777777778,
                      "#fb9f3a"
                    ],
                    [
                      0.8888888888888888,
                      "#fdca26"
                    ],
                    [
                      1,
                      "#f0f921"
                    ]
                  ]
                },
                "legend": {
                  "tracegroupgap": 0
                },
                "title": {
                  "text": "RELATIONSHIP BETWEEN AVERAGE_DAILY_AMOUNT AND DAY OF WEEK"
                },
                "barmode": "relative"
              },
              "config": {
                "plotlyServerURL": "https://plot.ly"
              }
            }
          },
          "metadata": {}
        },
        {
          "output_type": "display_data",
          "data": {
            "application/vnd.plotly.v1+json": {
              "data": [
                {
                  "alignmentgroup": "True",
                  "hovertemplate": "day of week=%{x}<br>median_daily_amount=%{y}<br>week_num=%{marker.color}<extra></extra>",
                  "legendgroup": "",
                  "marker": {
                    "color": [
                      7,
                      7,
                      7,
                      7,
                      8,
                      8,
                      8,
                      8,
                      8,
                      8,
                      8,
                      9,
                      9,
                      13,
                      13,
                      13,
                      13,
                      14,
                      14,
                      14,
                      14,
                      14,
                      14,
                      15,
                      15,
                      15
                    ],
                    "coloraxis": "coloraxis",
                    "pattern": {
                      "shape": ""
                    }
                  },
                  "name": "",
                  "offsetgroup": "",
                  "orientation": "v",
                  "showlegend": false,
                  "textposition": "auto",
                  "x": [
                    "2019-02-13T00:00:00+00:00",
                    "2019-02-14T00:00:00+00:00",
                    "2019-02-15T00:00:00+00:00",
                    "2019-02-16T00:00:00+00:00",
                    "2019-02-23T00:00:00+00:00",
                    "2019-02-18T00:00:00+00:00",
                    "2019-02-19T00:00:00+00:00",
                    "2019-02-21T00:00:00+00:00",
                    "2019-02-22T00:00:00+00:00",
                    "2019-02-24T00:00:00+00:00",
                    "2019-02-20T00:00:00+00:00",
                    "2019-02-25T00:00:00+00:00",
                    "2019-02-26T00:00:00+00:00",
                    "2019-03-29T00:00:00+00:00",
                    "2019-03-30T00:00:00+00:00",
                    "2019-03-31T00:00:00+00:00",
                    "2019-03-28T00:00:00+00:00",
                    "2019-04-03T00:00:00+00:00",
                    "2019-04-01T00:00:00+00:00",
                    "2019-04-04T00:00:00+00:00",
                    "2019-04-05T00:00:00+00:00",
                    "2019-04-06T00:00:00+00:00",
                    "2019-04-02T00:00:00+00:00",
                    "2019-04-09T00:00:00+00:00",
                    "2019-04-10T00:00:00+00:00",
                    "2019-04-08T00:00:00+00:00"
                  ],
                  "xaxis": "x",
                  "y": [
                    37.58,
                    46.285,
                    50.9,
                    57.6,
                    56.37,
                    37.42,
                    37.53,
                    45.865,
                    49.06,
                    37.66,
                    36.56,
                    34.81,
                    35.915,
                    51.03,
                    56.28,
                    46.335,
                    47.73,
                    36.55,
                    36.46,
                    50.35,
                    54.31,
                    56.51,
                    34.91,
                    40.43,
                    43.05,
                    41.67
                  ],
                  "yaxis": "y",
                  "type": "bar"
                }
              ],
              "layout": {
                "template": {
                  "data": {
                    "histogram2dcontour": [
                      {
                        "type": "histogram2dcontour",
                        "colorbar": {
                          "outlinewidth": 0,
                          "ticks": ""
                        },
                        "colorscale": [
                          [
                            0,
                            "#0d0887"
                          ],
                          [
                            0.1111111111111111,
                            "#46039f"
                          ],
                          [
                            0.2222222222222222,
                            "#7201a8"
                          ],
                          [
                            0.3333333333333333,
                            "#9c179e"
                          ],
                          [
                            0.4444444444444444,
                            "#bd3786"
                          ],
                          [
                            0.5555555555555556,
                            "#d8576b"
                          ],
                          [
                            0.6666666666666666,
                            "#ed7953"
                          ],
                          [
                            0.7777777777777778,
                            "#fb9f3a"
                          ],
                          [
                            0.8888888888888888,
                            "#fdca26"
                          ],
                          [
                            1,
                            "#f0f921"
                          ]
                        ]
                      }
                    ],
                    "choropleth": [
                      {
                        "type": "choropleth",
                        "colorbar": {
                          "outlinewidth": 0,
                          "ticks": ""
                        }
                      }
                    ],
                    "histogram2d": [
                      {
                        "type": "histogram2d",
                        "colorbar": {
                          "outlinewidth": 0,
                          "ticks": ""
                        },
                        "colorscale": [
                          [
                            0,
                            "#0d0887"
                          ],
                          [
                            0.1111111111111111,
                            "#46039f"
                          ],
                          [
                            0.2222222222222222,
                            "#7201a8"
                          ],
                          [
                            0.3333333333333333,
                            "#9c179e"
                          ],
                          [
                            0.4444444444444444,
                            "#bd3786"
                          ],
                          [
                            0.5555555555555556,
                            "#d8576b"
                          ],
                          [
                            0.6666666666666666,
                            "#ed7953"
                          ],
                          [
                            0.7777777777777778,
                            "#fb9f3a"
                          ],
                          [
                            0.8888888888888888,
                            "#fdca26"
                          ],
                          [
                            1,
                            "#f0f921"
                          ]
                        ]
                      }
                    ],
                    "heatmap": [
                      {
                        "type": "heatmap",
                        "colorbar": {
                          "outlinewidth": 0,
                          "ticks": ""
                        },
                        "colorscale": [
                          [
                            0,
                            "#0d0887"
                          ],
                          [
                            0.1111111111111111,
                            "#46039f"
                          ],
                          [
                            0.2222222222222222,
                            "#7201a8"
                          ],
                          [
                            0.3333333333333333,
                            "#9c179e"
                          ],
                          [
                            0.4444444444444444,
                            "#bd3786"
                          ],
                          [
                            0.5555555555555556,
                            "#d8576b"
                          ],
                          [
                            0.6666666666666666,
                            "#ed7953"
                          ],
                          [
                            0.7777777777777778,
                            "#fb9f3a"
                          ],
                          [
                            0.8888888888888888,
                            "#fdca26"
                          ],
                          [
                            1,
                            "#f0f921"
                          ]
                        ]
                      }
                    ],
                    "heatmapgl": [
                      {
                        "type": "heatmapgl",
                        "colorbar": {
                          "outlinewidth": 0,
                          "ticks": ""
                        },
                        "colorscale": [
                          [
                            0,
                            "#0d0887"
                          ],
                          [
                            0.1111111111111111,
                            "#46039f"
                          ],
                          [
                            0.2222222222222222,
                            "#7201a8"
                          ],
                          [
                            0.3333333333333333,
                            "#9c179e"
                          ],
                          [
                            0.4444444444444444,
                            "#bd3786"
                          ],
                          [
                            0.5555555555555556,
                            "#d8576b"
                          ],
                          [
                            0.6666666666666666,
                            "#ed7953"
                          ],
                          [
                            0.7777777777777778,
                            "#fb9f3a"
                          ],
                          [
                            0.8888888888888888,
                            "#fdca26"
                          ],
                          [
                            1,
                            "#f0f921"
                          ]
                        ]
                      }
                    ],
                    "contourcarpet": [
                      {
                        "type": "contourcarpet",
                        "colorbar": {
                          "outlinewidth": 0,
                          "ticks": ""
                        }
                      }
                    ],
                    "contour": [
                      {
                        "type": "contour",
                        "colorbar": {
                          "outlinewidth": 0,
                          "ticks": ""
                        },
                        "colorscale": [
                          [
                            0,
                            "#0d0887"
                          ],
                          [
                            0.1111111111111111,
                            "#46039f"
                          ],
                          [
                            0.2222222222222222,
                            "#7201a8"
                          ],
                          [
                            0.3333333333333333,
                            "#9c179e"
                          ],
                          [
                            0.4444444444444444,
                            "#bd3786"
                          ],
                          [
                            0.5555555555555556,
                            "#d8576b"
                          ],
                          [
                            0.6666666666666666,
                            "#ed7953"
                          ],
                          [
                            0.7777777777777778,
                            "#fb9f3a"
                          ],
                          [
                            0.8888888888888888,
                            "#fdca26"
                          ],
                          [
                            1,
                            "#f0f921"
                          ]
                        ]
                      }
                    ],
                    "surface": [
                      {
                        "type": "surface",
                        "colorbar": {
                          "outlinewidth": 0,
                          "ticks": ""
                        },
                        "colorscale": [
                          [
                            0,
                            "#0d0887"
                          ],
                          [
                            0.1111111111111111,
                            "#46039f"
                          ],
                          [
                            0.2222222222222222,
                            "#7201a8"
                          ],
                          [
                            0.3333333333333333,
                            "#9c179e"
                          ],
                          [
                            0.4444444444444444,
                            "#bd3786"
                          ],
                          [
                            0.5555555555555556,
                            "#d8576b"
                          ],
                          [
                            0.6666666666666666,
                            "#ed7953"
                          ],
                          [
                            0.7777777777777778,
                            "#fb9f3a"
                          ],
                          [
                            0.8888888888888888,
                            "#fdca26"
                          ],
                          [
                            1,
                            "#f0f921"
                          ]
                        ]
                      }
                    ],
                    "mesh3d": [
                      {
                        "type": "mesh3d",
                        "colorbar": {
                          "outlinewidth": 0,
                          "ticks": ""
                        }
                      }
                    ],
                    "scatter": [
                      {
                        "fillpattern": {
                          "fillmode": "overlay",
                          "size": 10,
                          "solidity": 0.2
                        },
                        "type": "scatter"
                      }
                    ],
                    "parcoords": [
                      {
                        "type": "parcoords",
                        "line": {
                          "colorbar": {
                            "outlinewidth": 0,
                            "ticks": ""
                          }
                        }
                      }
                    ],
                    "scatterpolargl": [
                      {
                        "type": "scatterpolargl",
                        "marker": {
                          "colorbar": {
                            "outlinewidth": 0,
                            "ticks": ""
                          }
                        }
                      }
                    ],
                    "bar": [
                      {
                        "error_x": {
                          "color": "#2a3f5f"
                        },
                        "error_y": {
                          "color": "#2a3f5f"
                        },
                        "marker": {
                          "line": {
                            "color": "#E5ECF6",
                            "width": 0.5
                          },
                          "pattern": {
                            "fillmode": "overlay",
                            "size": 10,
                            "solidity": 0.2
                          }
                        },
                        "type": "bar"
                      }
                    ],
                    "scattergeo": [
                      {
                        "type": "scattergeo",
                        "marker": {
                          "colorbar": {
                            "outlinewidth": 0,
                            "ticks": ""
                          }
                        }
                      }
                    ],
                    "scatterpolar": [
                      {
                        "type": "scatterpolar",
                        "marker": {
                          "colorbar": {
                            "outlinewidth": 0,
                            "ticks": ""
                          }
                        }
                      }
                    ],
                    "histogram": [
                      {
                        "marker": {
                          "pattern": {
                            "fillmode": "overlay",
                            "size": 10,
                            "solidity": 0.2
                          }
                        },
                        "type": "histogram"
                      }
                    ],
                    "scattergl": [
                      {
                        "type": "scattergl",
                        "marker": {
                          "colorbar": {
                            "outlinewidth": 0,
                            "ticks": ""
                          }
                        }
                      }
                    ],
                    "scatter3d": [
                      {
                        "type": "scatter3d",
                        "line": {
                          "colorbar": {
                            "outlinewidth": 0,
                            "ticks": ""
                          }
                        },
                        "marker": {
                          "colorbar": {
                            "outlinewidth": 0,
                            "ticks": ""
                          }
                        }
                      }
                    ],
                    "scattermapbox": [
                      {
                        "type": "scattermapbox",
                        "marker": {
                          "colorbar": {
                            "outlinewidth": 0,
                            "ticks": ""
                          }
                        }
                      }
                    ],
                    "scatterternary": [
                      {
                        "type": "scatterternary",
                        "marker": {
                          "colorbar": {
                            "outlinewidth": 0,
                            "ticks": ""
                          }
                        }
                      }
                    ],
                    "scattercarpet": [
                      {
                        "type": "scattercarpet",
                        "marker": {
                          "colorbar": {
                            "outlinewidth": 0,
                            "ticks": ""
                          }
                        }
                      }
                    ],
                    "carpet": [
                      {
                        "aaxis": {
                          "endlinecolor": "#2a3f5f",
                          "gridcolor": "white",
                          "linecolor": "white",
                          "minorgridcolor": "white",
                          "startlinecolor": "#2a3f5f"
                        },
                        "baxis": {
                          "endlinecolor": "#2a3f5f",
                          "gridcolor": "white",
                          "linecolor": "white",
                          "minorgridcolor": "white",
                          "startlinecolor": "#2a3f5f"
                        },
                        "type": "carpet"
                      }
                    ],
                    "table": [
                      {
                        "cells": {
                          "fill": {
                            "color": "#EBF0F8"
                          },
                          "line": {
                            "color": "white"
                          }
                        },
                        "header": {
                          "fill": {
                            "color": "#C8D4E3"
                          },
                          "line": {
                            "color": "white"
                          }
                        },
                        "type": "table"
                      }
                    ],
                    "barpolar": [
                      {
                        "marker": {
                          "line": {
                            "color": "#E5ECF6",
                            "width": 0.5
                          },
                          "pattern": {
                            "fillmode": "overlay",
                            "size": 10,
                            "solidity": 0.2
                          }
                        },
                        "type": "barpolar"
                      }
                    ],
                    "pie": [
                      {
                        "automargin": true,
                        "type": "pie"
                      }
                    ]
                  },
                  "layout": {
                    "autotypenumbers": "strict",
                    "colorway": [
                      "#636efa",
                      "#EF553B",
                      "#00cc96",
                      "#ab63fa",
                      "#FFA15A",
                      "#19d3f3",
                      "#FF6692",
                      "#B6E880",
                      "#FF97FF",
                      "#FECB52"
                    ],
                    "font": {
                      "color": "#2a3f5f"
                    },
                    "hovermode": "closest",
                    "hoverlabel": {
                      "align": "left"
                    },
                    "paper_bgcolor": "white",
                    "plot_bgcolor": "#E5ECF6",
                    "polar": {
                      "bgcolor": "#E5ECF6",
                      "angularaxis": {
                        "gridcolor": "white",
                        "linecolor": "white",
                        "ticks": ""
                      },
                      "radialaxis": {
                        "gridcolor": "white",
                        "linecolor": "white",
                        "ticks": ""
                      }
                    },
                    "ternary": {
                      "bgcolor": "#E5ECF6",
                      "aaxis": {
                        "gridcolor": "white",
                        "linecolor": "white",
                        "ticks": ""
                      },
                      "baxis": {
                        "gridcolor": "white",
                        "linecolor": "white",
                        "ticks": ""
                      },
                      "caxis": {
                        "gridcolor": "white",
                        "linecolor": "white",
                        "ticks": ""
                      }
                    },
                    "coloraxis": {
                      "colorbar": {
                        "outlinewidth": 0,
                        "ticks": ""
                      }
                    },
                    "colorscale": {
                      "sequential": [
                        [
                          0,
                          "#0d0887"
                        ],
                        [
                          0.1111111111111111,
                          "#46039f"
                        ],
                        [
                          0.2222222222222222,
                          "#7201a8"
                        ],
                        [
                          0.3333333333333333,
                          "#9c179e"
                        ],
                        [
                          0.4444444444444444,
                          "#bd3786"
                        ],
                        [
                          0.5555555555555556,
                          "#d8576b"
                        ],
                        [
                          0.6666666666666666,
                          "#ed7953"
                        ],
                        [
                          0.7777777777777778,
                          "#fb9f3a"
                        ],
                        [
                          0.8888888888888888,
                          "#fdca26"
                        ],
                        [
                          1,
                          "#f0f921"
                        ]
                      ],
                      "sequentialminus": [
                        [
                          0,
                          "#0d0887"
                        ],
                        [
                          0.1111111111111111,
                          "#46039f"
                        ],
                        [
                          0.2222222222222222,
                          "#7201a8"
                        ],
                        [
                          0.3333333333333333,
                          "#9c179e"
                        ],
                        [
                          0.4444444444444444,
                          "#bd3786"
                        ],
                        [
                          0.5555555555555556,
                          "#d8576b"
                        ],
                        [
                          0.6666666666666666,
                          "#ed7953"
                        ],
                        [
                          0.7777777777777778,
                          "#fb9f3a"
                        ],
                        [
                          0.8888888888888888,
                          "#fdca26"
                        ],
                        [
                          1,
                          "#f0f921"
                        ]
                      ],
                      "diverging": [
                        [
                          0,
                          "#8e0152"
                        ],
                        [
                          0.1,
                          "#c51b7d"
                        ],
                        [
                          0.2,
                          "#de77ae"
                        ],
                        [
                          0.3,
                          "#f1b6da"
                        ],
                        [
                          0.4,
                          "#fde0ef"
                        ],
                        [
                          0.5,
                          "#f7f7f7"
                        ],
                        [
                          0.6,
                          "#e6f5d0"
                        ],
                        [
                          0.7,
                          "#b8e186"
                        ],
                        [
                          0.8,
                          "#7fbc41"
                        ],
                        [
                          0.9,
                          "#4d9221"
                        ],
                        [
                          1,
                          "#276419"
                        ]
                      ]
                    },
                    "xaxis": {
                      "gridcolor": "white",
                      "linecolor": "white",
                      "ticks": "",
                      "title": {
                        "standoff": 15
                      },
                      "zerolinecolor": "white",
                      "automargin": true,
                      "zerolinewidth": 2
                    },
                    "yaxis": {
                      "gridcolor": "white",
                      "linecolor": "white",
                      "ticks": "",
                      "title": {
                        "standoff": 15
                      },
                      "zerolinecolor": "white",
                      "automargin": true,
                      "zerolinewidth": 2
                    },
                    "scene": {
                      "xaxis": {
                        "backgroundcolor": "#E5ECF6",
                        "gridcolor": "white",
                        "linecolor": "white",
                        "showbackground": true,
                        "ticks": "",
                        "zerolinecolor": "white",
                        "gridwidth": 2
                      },
                      "yaxis": {
                        "backgroundcolor": "#E5ECF6",
                        "gridcolor": "white",
                        "linecolor": "white",
                        "showbackground": true,
                        "ticks": "",
                        "zerolinecolor": "white",
                        "gridwidth": 2
                      },
                      "zaxis": {
                        "backgroundcolor": "#E5ECF6",
                        "gridcolor": "white",
                        "linecolor": "white",
                        "showbackground": true,
                        "ticks": "",
                        "zerolinecolor": "white",
                        "gridwidth": 2
                      }
                    },
                    "shapedefaults": {
                      "line": {
                        "color": "#2a3f5f"
                      }
                    },
                    "annotationdefaults": {
                      "arrowcolor": "#2a3f5f",
                      "arrowhead": 0,
                      "arrowwidth": 1
                    },
                    "geo": {
                      "bgcolor": "white",
                      "landcolor": "#E5ECF6",
                      "subunitcolor": "white",
                      "showland": true,
                      "showlakes": true,
                      "lakecolor": "white"
                    },
                    "title": {
                      "x": 0.05
                    },
                    "mapbox": {
                      "style": "light"
                    }
                  }
                },
                "xaxis": {
                  "anchor": "y",
                  "domain": [
                    0,
                    1
                  ],
                  "title": {
                    "text": "day of week"
                  }
                },
                "yaxis": {
                  "anchor": "x",
                  "domain": [
                    0,
                    1
                  ],
                  "title": {
                    "text": "median_daily_amount"
                  }
                },
                "coloraxis": {
                  "colorbar": {
                    "title": {
                      "text": "week_num"
                    }
                  },
                  "colorscale": [
                    [
                      0,
                      "#0d0887"
                    ],
                    [
                      0.1111111111111111,
                      "#46039f"
                    ],
                    [
                      0.2222222222222222,
                      "#7201a8"
                    ],
                    [
                      0.3333333333333333,
                      "#9c179e"
                    ],
                    [
                      0.4444444444444444,
                      "#bd3786"
                    ],
                    [
                      0.5555555555555556,
                      "#d8576b"
                    ],
                    [
                      0.6666666666666666,
                      "#ed7953"
                    ],
                    [
                      0.7777777777777778,
                      "#fb9f3a"
                    ],
                    [
                      0.8888888888888888,
                      "#fdca26"
                    ],
                    [
                      1,
                      "#f0f921"
                    ]
                  ]
                },
                "legend": {
                  "tracegroupgap": 0
                },
                "title": {
                  "text": "RELATIONSHIP BETWEEN MEDIAN_DAILY_AMOUNT AND DAY OF WEEK"
                },
                "barmode": "relative"
              },
              "config": {
                "plotlyServerURL": "https://plot.ly"
              }
            }
          },
          "metadata": {}
        },
        {
          "output_type": "display_data",
          "data": {
            "application/vnd.plotly.v1+json": {
              "data": [
                {
                  "alignmentgroup": "True",
                  "hovertemplate": "day of week=%{x}<br>total_daily_amount=%{y}<br>week_num=%{marker.color}<extra></extra>",
                  "legendgroup": "",
                  "marker": {
                    "color": [
                      7,
                      7,
                      7,
                      7,
                      8,
                      8,
                      8,
                      8,
                      8,
                      8,
                      8,
                      9,
                      9,
                      13,
                      13,
                      13,
                      13,
                      14,
                      14,
                      14,
                      14,
                      14,
                      14,
                      15,
                      15,
                      15
                    ],
                    "coloraxis": "coloraxis",
                    "pattern": {
                      "shape": ""
                    }
                  },
                  "name": "",
                  "offsetgroup": "",
                  "orientation": "v",
                  "showlegend": false,
                  "textposition": "auto",
                  "x": [
                    "2019-02-13T00:00:00+00:00",
                    "2019-02-14T00:00:00+00:00",
                    "2019-02-15T00:00:00+00:00",
                    "2019-02-16T00:00:00+00:00",
                    "2019-02-23T00:00:00+00:00",
                    "2019-02-18T00:00:00+00:00",
                    "2019-02-19T00:00:00+00:00",
                    "2019-02-21T00:00:00+00:00",
                    "2019-02-22T00:00:00+00:00",
                    "2019-02-24T00:00:00+00:00",
                    "2019-02-20T00:00:00+00:00",
                    "2019-02-25T00:00:00+00:00",
                    "2019-02-26T00:00:00+00:00",
                    "2019-03-29T00:00:00+00:00",
                    "2019-03-30T00:00:00+00:00",
                    "2019-03-31T00:00:00+00:00",
                    "2019-03-28T00:00:00+00:00",
                    "2019-04-03T00:00:00+00:00",
                    "2019-04-01T00:00:00+00:00",
                    "2019-04-04T00:00:00+00:00",
                    "2019-04-05T00:00:00+00:00",
                    "2019-04-06T00:00:00+00:00",
                    "2019-04-02T00:00:00+00:00",
                    "2019-04-09T00:00:00+00:00",
                    "2019-04-10T00:00:00+00:00",
                    "2019-04-08T00:00:00+00:00"
                  ],
                  "xaxis": "x",
                  "y": [
                    189112.48999999976,
                    302242.44999999995,
                    319112.4399999984,
                    405580.7899999993,
                    369412.9699999995,
                    193133.29000000062,
                    170242.42,
                    298612.7499999987,
                    330428.7799999992,
                    143025.41000000012,
                    181630.10000000044,
                    164561.41000000015,
                    163763.16000000038,
                    340153.749999999,
                    354108.66999999975,
                    169698.48000000019,
                    319287.54999999935,
                    176564.56000000006,
                    200771.43999999992,
                    342443.8600000001,
                    362678.5199999985,
                    430575.3999999991,
                    177956.08999999988,
                    224894.16999999987,
                    239650.56000000026,
                    233179.88000000035
                  ],
                  "yaxis": "y",
                  "type": "bar"
                }
              ],
              "layout": {
                "template": {
                  "data": {
                    "histogram2dcontour": [
                      {
                        "type": "histogram2dcontour",
                        "colorbar": {
                          "outlinewidth": 0,
                          "ticks": ""
                        },
                        "colorscale": [
                          [
                            0,
                            "#0d0887"
                          ],
                          [
                            0.1111111111111111,
                            "#46039f"
                          ],
                          [
                            0.2222222222222222,
                            "#7201a8"
                          ],
                          [
                            0.3333333333333333,
                            "#9c179e"
                          ],
                          [
                            0.4444444444444444,
                            "#bd3786"
                          ],
                          [
                            0.5555555555555556,
                            "#d8576b"
                          ],
                          [
                            0.6666666666666666,
                            "#ed7953"
                          ],
                          [
                            0.7777777777777778,
                            "#fb9f3a"
                          ],
                          [
                            0.8888888888888888,
                            "#fdca26"
                          ],
                          [
                            1,
                            "#f0f921"
                          ]
                        ]
                      }
                    ],
                    "choropleth": [
                      {
                        "type": "choropleth",
                        "colorbar": {
                          "outlinewidth": 0,
                          "ticks": ""
                        }
                      }
                    ],
                    "histogram2d": [
                      {
                        "type": "histogram2d",
                        "colorbar": {
                          "outlinewidth": 0,
                          "ticks": ""
                        },
                        "colorscale": [
                          [
                            0,
                            "#0d0887"
                          ],
                          [
                            0.1111111111111111,
                            "#46039f"
                          ],
                          [
                            0.2222222222222222,
                            "#7201a8"
                          ],
                          [
                            0.3333333333333333,
                            "#9c179e"
                          ],
                          [
                            0.4444444444444444,
                            "#bd3786"
                          ],
                          [
                            0.5555555555555556,
                            "#d8576b"
                          ],
                          [
                            0.6666666666666666,
                            "#ed7953"
                          ],
                          [
                            0.7777777777777778,
                            "#fb9f3a"
                          ],
                          [
                            0.8888888888888888,
                            "#fdca26"
                          ],
                          [
                            1,
                            "#f0f921"
                          ]
                        ]
                      }
                    ],
                    "heatmap": [
                      {
                        "type": "heatmap",
                        "colorbar": {
                          "outlinewidth": 0,
                          "ticks": ""
                        },
                        "colorscale": [
                          [
                            0,
                            "#0d0887"
                          ],
                          [
                            0.1111111111111111,
                            "#46039f"
                          ],
                          [
                            0.2222222222222222,
                            "#7201a8"
                          ],
                          [
                            0.3333333333333333,
                            "#9c179e"
                          ],
                          [
                            0.4444444444444444,
                            "#bd3786"
                          ],
                          [
                            0.5555555555555556,
                            "#d8576b"
                          ],
                          [
                            0.6666666666666666,
                            "#ed7953"
                          ],
                          [
                            0.7777777777777778,
                            "#fb9f3a"
                          ],
                          [
                            0.8888888888888888,
                            "#fdca26"
                          ],
                          [
                            1,
                            "#f0f921"
                          ]
                        ]
                      }
                    ],
                    "heatmapgl": [
                      {
                        "type": "heatmapgl",
                        "colorbar": {
                          "outlinewidth": 0,
                          "ticks": ""
                        },
                        "colorscale": [
                          [
                            0,
                            "#0d0887"
                          ],
                          [
                            0.1111111111111111,
                            "#46039f"
                          ],
                          [
                            0.2222222222222222,
                            "#7201a8"
                          ],
                          [
                            0.3333333333333333,
                            "#9c179e"
                          ],
                          [
                            0.4444444444444444,
                            "#bd3786"
                          ],
                          [
                            0.5555555555555556,
                            "#d8576b"
                          ],
                          [
                            0.6666666666666666,
                            "#ed7953"
                          ],
                          [
                            0.7777777777777778,
                            "#fb9f3a"
                          ],
                          [
                            0.8888888888888888,
                            "#fdca26"
                          ],
                          [
                            1,
                            "#f0f921"
                          ]
                        ]
                      }
                    ],
                    "contourcarpet": [
                      {
                        "type": "contourcarpet",
                        "colorbar": {
                          "outlinewidth": 0,
                          "ticks": ""
                        }
                      }
                    ],
                    "contour": [
                      {
                        "type": "contour",
                        "colorbar": {
                          "outlinewidth": 0,
                          "ticks": ""
                        },
                        "colorscale": [
                          [
                            0,
                            "#0d0887"
                          ],
                          [
                            0.1111111111111111,
                            "#46039f"
                          ],
                          [
                            0.2222222222222222,
                            "#7201a8"
                          ],
                          [
                            0.3333333333333333,
                            "#9c179e"
                          ],
                          [
                            0.4444444444444444,
                            "#bd3786"
                          ],
                          [
                            0.5555555555555556,
                            "#d8576b"
                          ],
                          [
                            0.6666666666666666,
                            "#ed7953"
                          ],
                          [
                            0.7777777777777778,
                            "#fb9f3a"
                          ],
                          [
                            0.8888888888888888,
                            "#fdca26"
                          ],
                          [
                            1,
                            "#f0f921"
                          ]
                        ]
                      }
                    ],
                    "surface": [
                      {
                        "type": "surface",
                        "colorbar": {
                          "outlinewidth": 0,
                          "ticks": ""
                        },
                        "colorscale": [
                          [
                            0,
                            "#0d0887"
                          ],
                          [
                            0.1111111111111111,
                            "#46039f"
                          ],
                          [
                            0.2222222222222222,
                            "#7201a8"
                          ],
                          [
                            0.3333333333333333,
                            "#9c179e"
                          ],
                          [
                            0.4444444444444444,
                            "#bd3786"
                          ],
                          [
                            0.5555555555555556,
                            "#d8576b"
                          ],
                          [
                            0.6666666666666666,
                            "#ed7953"
                          ],
                          [
                            0.7777777777777778,
                            "#fb9f3a"
                          ],
                          [
                            0.8888888888888888,
                            "#fdca26"
                          ],
                          [
                            1,
                            "#f0f921"
                          ]
                        ]
                      }
                    ],
                    "mesh3d": [
                      {
                        "type": "mesh3d",
                        "colorbar": {
                          "outlinewidth": 0,
                          "ticks": ""
                        }
                      }
                    ],
                    "scatter": [
                      {
                        "fillpattern": {
                          "fillmode": "overlay",
                          "size": 10,
                          "solidity": 0.2
                        },
                        "type": "scatter"
                      }
                    ],
                    "parcoords": [
                      {
                        "type": "parcoords",
                        "line": {
                          "colorbar": {
                            "outlinewidth": 0,
                            "ticks": ""
                          }
                        }
                      }
                    ],
                    "scatterpolargl": [
                      {
                        "type": "scatterpolargl",
                        "marker": {
                          "colorbar": {
                            "outlinewidth": 0,
                            "ticks": ""
                          }
                        }
                      }
                    ],
                    "bar": [
                      {
                        "error_x": {
                          "color": "#2a3f5f"
                        },
                        "error_y": {
                          "color": "#2a3f5f"
                        },
                        "marker": {
                          "line": {
                            "color": "#E5ECF6",
                            "width": 0.5
                          },
                          "pattern": {
                            "fillmode": "overlay",
                            "size": 10,
                            "solidity": 0.2
                          }
                        },
                        "type": "bar"
                      }
                    ],
                    "scattergeo": [
                      {
                        "type": "scattergeo",
                        "marker": {
                          "colorbar": {
                            "outlinewidth": 0,
                            "ticks": ""
                          }
                        }
                      }
                    ],
                    "scatterpolar": [
                      {
                        "type": "scatterpolar",
                        "marker": {
                          "colorbar": {
                            "outlinewidth": 0,
                            "ticks": ""
                          }
                        }
                      }
                    ],
                    "histogram": [
                      {
                        "marker": {
                          "pattern": {
                            "fillmode": "overlay",
                            "size": 10,
                            "solidity": 0.2
                          }
                        },
                        "type": "histogram"
                      }
                    ],
                    "scattergl": [
                      {
                        "type": "scattergl",
                        "marker": {
                          "colorbar": {
                            "outlinewidth": 0,
                            "ticks": ""
                          }
                        }
                      }
                    ],
                    "scatter3d": [
                      {
                        "type": "scatter3d",
                        "line": {
                          "colorbar": {
                            "outlinewidth": 0,
                            "ticks": ""
                          }
                        },
                        "marker": {
                          "colorbar": {
                            "outlinewidth": 0,
                            "ticks": ""
                          }
                        }
                      }
                    ],
                    "scattermapbox": [
                      {
                        "type": "scattermapbox",
                        "marker": {
                          "colorbar": {
                            "outlinewidth": 0,
                            "ticks": ""
                          }
                        }
                      }
                    ],
                    "scatterternary": [
                      {
                        "type": "scatterternary",
                        "marker": {
                          "colorbar": {
                            "outlinewidth": 0,
                            "ticks": ""
                          }
                        }
                      }
                    ],
                    "scattercarpet": [
                      {
                        "type": "scattercarpet",
                        "marker": {
                          "colorbar": {
                            "outlinewidth": 0,
                            "ticks": ""
                          }
                        }
                      }
                    ],
                    "carpet": [
                      {
                        "aaxis": {
                          "endlinecolor": "#2a3f5f",
                          "gridcolor": "white",
                          "linecolor": "white",
                          "minorgridcolor": "white",
                          "startlinecolor": "#2a3f5f"
                        },
                        "baxis": {
                          "endlinecolor": "#2a3f5f",
                          "gridcolor": "white",
                          "linecolor": "white",
                          "minorgridcolor": "white",
                          "startlinecolor": "#2a3f5f"
                        },
                        "type": "carpet"
                      }
                    ],
                    "table": [
                      {
                        "cells": {
                          "fill": {
                            "color": "#EBF0F8"
                          },
                          "line": {
                            "color": "white"
                          }
                        },
                        "header": {
                          "fill": {
                            "color": "#C8D4E3"
                          },
                          "line": {
                            "color": "white"
                          }
                        },
                        "type": "table"
                      }
                    ],
                    "barpolar": [
                      {
                        "marker": {
                          "line": {
                            "color": "#E5ECF6",
                            "width": 0.5
                          },
                          "pattern": {
                            "fillmode": "overlay",
                            "size": 10,
                            "solidity": 0.2
                          }
                        },
                        "type": "barpolar"
                      }
                    ],
                    "pie": [
                      {
                        "automargin": true,
                        "type": "pie"
                      }
                    ]
                  },
                  "layout": {
                    "autotypenumbers": "strict",
                    "colorway": [
                      "#636efa",
                      "#EF553B",
                      "#00cc96",
                      "#ab63fa",
                      "#FFA15A",
                      "#19d3f3",
                      "#FF6692",
                      "#B6E880",
                      "#FF97FF",
                      "#FECB52"
                    ],
                    "font": {
                      "color": "#2a3f5f"
                    },
                    "hovermode": "closest",
                    "hoverlabel": {
                      "align": "left"
                    },
                    "paper_bgcolor": "white",
                    "plot_bgcolor": "#E5ECF6",
                    "polar": {
                      "bgcolor": "#E5ECF6",
                      "angularaxis": {
                        "gridcolor": "white",
                        "linecolor": "white",
                        "ticks": ""
                      },
                      "radialaxis": {
                        "gridcolor": "white",
                        "linecolor": "white",
                        "ticks": ""
                      }
                    },
                    "ternary": {
                      "bgcolor": "#E5ECF6",
                      "aaxis": {
                        "gridcolor": "white",
                        "linecolor": "white",
                        "ticks": ""
                      },
                      "baxis": {
                        "gridcolor": "white",
                        "linecolor": "white",
                        "ticks": ""
                      },
                      "caxis": {
                        "gridcolor": "white",
                        "linecolor": "white",
                        "ticks": ""
                      }
                    },
                    "coloraxis": {
                      "colorbar": {
                        "outlinewidth": 0,
                        "ticks": ""
                      }
                    },
                    "colorscale": {
                      "sequential": [
                        [
                          0,
                          "#0d0887"
                        ],
                        [
                          0.1111111111111111,
                          "#46039f"
                        ],
                        [
                          0.2222222222222222,
                          "#7201a8"
                        ],
                        [
                          0.3333333333333333,
                          "#9c179e"
                        ],
                        [
                          0.4444444444444444,
                          "#bd3786"
                        ],
                        [
                          0.5555555555555556,
                          "#d8576b"
                        ],
                        [
                          0.6666666666666666,
                          "#ed7953"
                        ],
                        [
                          0.7777777777777778,
                          "#fb9f3a"
                        ],
                        [
                          0.8888888888888888,
                          "#fdca26"
                        ],
                        [
                          1,
                          "#f0f921"
                        ]
                      ],
                      "sequentialminus": [
                        [
                          0,
                          "#0d0887"
                        ],
                        [
                          0.1111111111111111,
                          "#46039f"
                        ],
                        [
                          0.2222222222222222,
                          "#7201a8"
                        ],
                        [
                          0.3333333333333333,
                          "#9c179e"
                        ],
                        [
                          0.4444444444444444,
                          "#bd3786"
                        ],
                        [
                          0.5555555555555556,
                          "#d8576b"
                        ],
                        [
                          0.6666666666666666,
                          "#ed7953"
                        ],
                        [
                          0.7777777777777778,
                          "#fb9f3a"
                        ],
                        [
                          0.8888888888888888,
                          "#fdca26"
                        ],
                        [
                          1,
                          "#f0f921"
                        ]
                      ],
                      "diverging": [
                        [
                          0,
                          "#8e0152"
                        ],
                        [
                          0.1,
                          "#c51b7d"
                        ],
                        [
                          0.2,
                          "#de77ae"
                        ],
                        [
                          0.3,
                          "#f1b6da"
                        ],
                        [
                          0.4,
                          "#fde0ef"
                        ],
                        [
                          0.5,
                          "#f7f7f7"
                        ],
                        [
                          0.6,
                          "#e6f5d0"
                        ],
                        [
                          0.7,
                          "#b8e186"
                        ],
                        [
                          0.8,
                          "#7fbc41"
                        ],
                        [
                          0.9,
                          "#4d9221"
                        ],
                        [
                          1,
                          "#276419"
                        ]
                      ]
                    },
                    "xaxis": {
                      "gridcolor": "white",
                      "linecolor": "white",
                      "ticks": "",
                      "title": {
                        "standoff": 15
                      },
                      "zerolinecolor": "white",
                      "automargin": true,
                      "zerolinewidth": 2
                    },
                    "yaxis": {
                      "gridcolor": "white",
                      "linecolor": "white",
                      "ticks": "",
                      "title": {
                        "standoff": 15
                      },
                      "zerolinecolor": "white",
                      "automargin": true,
                      "zerolinewidth": 2
                    },
                    "scene": {
                      "xaxis": {
                        "backgroundcolor": "#E5ECF6",
                        "gridcolor": "white",
                        "linecolor": "white",
                        "showbackground": true,
                        "ticks": "",
                        "zerolinecolor": "white",
                        "gridwidth": 2
                      },
                      "yaxis": {
                        "backgroundcolor": "#E5ECF6",
                        "gridcolor": "white",
                        "linecolor": "white",
                        "showbackground": true,
                        "ticks": "",
                        "zerolinecolor": "white",
                        "gridwidth": 2
                      },
                      "zaxis": {
                        "backgroundcolor": "#E5ECF6",
                        "gridcolor": "white",
                        "linecolor": "white",
                        "showbackground": true,
                        "ticks": "",
                        "zerolinecolor": "white",
                        "gridwidth": 2
                      }
                    },
                    "shapedefaults": {
                      "line": {
                        "color": "#2a3f5f"
                      }
                    },
                    "annotationdefaults": {
                      "arrowcolor": "#2a3f5f",
                      "arrowhead": 0,
                      "arrowwidth": 1
                    },
                    "geo": {
                      "bgcolor": "white",
                      "landcolor": "#E5ECF6",
                      "subunitcolor": "white",
                      "showland": true,
                      "showlakes": true,
                      "lakecolor": "white"
                    },
                    "title": {
                      "x": 0.05
                    },
                    "mapbox": {
                      "style": "light"
                    }
                  }
                },
                "xaxis": {
                  "anchor": "y",
                  "domain": [
                    0,
                    1
                  ],
                  "title": {
                    "text": "day of week"
                  }
                },
                "yaxis": {
                  "anchor": "x",
                  "domain": [
                    0,
                    1
                  ],
                  "title": {
                    "text": "total_daily_amount"
                  }
                },
                "coloraxis": {
                  "colorbar": {
                    "title": {
                      "text": "week_num"
                    }
                  },
                  "colorscale": [
                    [
                      0,
                      "#0d0887"
                    ],
                    [
                      0.1111111111111111,
                      "#46039f"
                    ],
                    [
                      0.2222222222222222,
                      "#7201a8"
                    ],
                    [
                      0.3333333333333333,
                      "#9c179e"
                    ],
                    [
                      0.4444444444444444,
                      "#bd3786"
                    ],
                    [
                      0.5555555555555556,
                      "#d8576b"
                    ],
                    [
                      0.6666666666666666,
                      "#ed7953"
                    ],
                    [
                      0.7777777777777778,
                      "#fb9f3a"
                    ],
                    [
                      0.8888888888888888,
                      "#fdca26"
                    ],
                    [
                      1,
                      "#f0f921"
                    ]
                  ]
                },
                "legend": {
                  "tracegroupgap": 0
                },
                "title": {
                  "text": "RELATIONSHIP BETWEEN TOTAL_DAILY_AMOUNT AND DAY OF WEEK"
                },
                "barmode": "relative"
              },
              "config": {
                "plotlyServerURL": "https://plot.ly"
              }
            }
          },
          "metadata": {}
        }
      ]
    },
    {
      "source": [
        "We see that across the three plots that the three peaks occurs in Thursday,Friday and Saturday, that means, most activities occurs between thursday and saturday. Sunday has low daily amount purchases. It would make sense to schedule more staffs for the three aforementioned days.\n",
        "\n",
        "This's an interesting pattern/trend."
      ],
      "metadata": {
        "id": "ad33d6ce-c409-45ca-85b6-1f168839048c"
      },
      "cell_type": "markdown",
      "id": "ad33d6ce-c409-45ca-85b6-1f168839048c"
    },
    {
      "source": [
        "Let's build on the previous analysis, adding the average and median `basket_size` per day in 2019. This will inform us on how the number of items people buy changes at different times.\n",
        "\n",
        "I've included day in the query, just to make the visuals more concise."
      ],
      "metadata": {
        "id": "80bfcd20-b0cd-499b-a542-66c84033ae2a"
      },
      "id": "80bfcd20-b0cd-499b-a542-66c84033ae2a",
      "cell_type": "markdown"
    },
    {
      "source": [
        "SELECT\n",
        "\n",
        "\tDATE_PART('weeks', end_date_time::DATE) as week_num,\n",
        "\tDATE_PART('dayofweek', end_date_time::DATE) as day,\n",
        "\tend_date_time::DATE as end_date,\n",
        "\tavg(amount) as average_daily_amount,\n",
        "\tmedian(amount) as median_daily_amount,\n",
        "\tsum(amount) as total_daily_amount,\n",
        "\tavg(basket_size) as avg_basket_size,\n",
        "\tmedian(basket_size) as median_basket_size\n",
        "\n",
        "FROM 'pos_transactions.csv'\n",
        "WHERE EXTRACT(YEAR FROM end_date_time) = '2019'\n",
        "\n",
        "GROUP BY end_date_time::DATE\n",
        "ORDER BY week_num"
      ],
      "metadata": {
        "customType": "sql",
        "dataFrameVariableName": "df4",
        "sqlSource": {
          "type": "dataframesAndCsvs"
        },
        "visualizeDataframe": false,
        "chartConfig": {
          "bar": {
            "hasRoundedCorners": true,
            "stacked": false
          },
          "type": "bar",
          "version": "v1",
          "x": {
            "field": "end_date",
            "type": "datetime"
          },
          "y": {
            "field": "median_basket_size",
            "type": "number"
          },
          "groupBy": {
            "field": "week_num",
            "type": "integer"
          }
        },
        "executionTime": 389,
        "lastSuccessfullyExecutedCode": "SELECT \n\n\tDATE_PART('weeks', end_date_time::DATE) as week_num,\n\tDATE_PART('dayofweek', end_date_time::DATE) as day,\n\tend_date_time::DATE as end_date,\n\tavg(amount) as average_daily_amount,\n\tmedian(amount) as median_daily_amount,\n\tsum(amount) as total_daily_amount,\n\tavg(basket_size) as avg_basket_size,\n\tmedian(basket_size) as median_basket_size\n\nFROM 'pos_transactions.csv'\nWHERE EXTRACT(YEAR FROM end_date_time) = '2019'\n\nGROUP BY end_date_time::DATE\nORDER BY week_num",
        "executionCancelledAt": null,
        "lastExecutedAt": 1695822104590,
        "lastScheduledRunId": null,
        "outputsMetadata": {
          "0": {
            "height": 340,
            "type": "dataFrame"
          }
        },
        "id": "88d6d2aa-7fb9-4c2d-ab81-5c2f2c538f00",
        "outputId": "64776af3-5ba9-489a-b2d5-7f865f0de8bb"
      },
      "id": "88d6d2aa-7fb9-4c2d-ab81-5c2f2c538f00",
      "cell_type": "code",
      "execution_count": null,
      "outputs": [
        {
          "output_type": "execute_result",
          "data": {
            "application/com.datacamp.data-table.v1+json": {
              "table": {
                "schema": {
                  "fields": [
                    {
                      "name": "index",
                      "type": "integer"
                    },
                    {
                      "name": "week_num",
                      "type": "integer"
                    },
                    {
                      "name": "day",
                      "type": "integer"
                    },
                    {
                      "name": "end_date",
                      "type": "datetime",
                      "tz": "UTC"
                    },
                    {
                      "name": "average_daily_amount",
                      "type": "number"
                    },
                    {
                      "name": "median_daily_amount",
                      "type": "number"
                    },
                    {
                      "name": "total_daily_amount",
                      "type": "number"
                    },
                    {
                      "name": "avg_basket_size",
                      "type": "number"
                    },
                    {
                      "name": "median_basket_size",
                      "type": "number"
                    }
                  ],
                  "primaryKey": [
                    "index"
                  ],
                  "pandas_version": "1.4.0"
                },
                "data": [
                  {
                    "index": 0,
                    "week_num": 7,
                    "day": 3,
                    "end_date": "2019-02-13T00:00:00.000Z",
                    "average_daily_amount": 59.7889630098,
                    "median_daily_amount": 37.58,
                    "total_daily_amount": 189112.4899999998,
                    "avg_basket_size": 12.9159026241,
                    "median_basket_size": 9
                  },
                  {
                    "index": 1,
                    "week_num": 7,
                    "day": 4,
                    "end_date": "2019-02-14T00:00:00.000Z",
                    "average_daily_amount": 68.6290758401,
                    "median_daily_amount": 46.285,
                    "total_daily_amount": 302242.45,
                    "avg_basket_size": 14.1721162579,
                    "median_basket_size": 10
                  },
                  {
                    "index": 2,
                    "week_num": 7,
                    "day": 5,
                    "end_date": "2019-02-15T00:00:00.000Z",
                    "average_daily_amount": 79.1645844704,
                    "median_daily_amount": 50.9,
                    "total_daily_amount": 319112.4399999984,
                    "avg_basket_size": 17.1848176631,
                    "median_basket_size": 12
                  },
                  {
                    "index": 3,
                    "week_num": 7,
                    "day": 6,
                    "end_date": "2019-02-16T00:00:00.000Z",
                    "average_daily_amount": 86.8667359178,
                    "median_daily_amount": 57.6,
                    "total_daily_amount": 405580.7899999993,
                    "avg_basket_size": 19.7333476119,
                    "median_basket_size": 14
                  },
                  {
                    "index": 4,
                    "week_num": 8,
                    "day": 6,
                    "end_date": "2019-02-23T00:00:00.000Z",
                    "average_daily_amount": 84.5919326769,
                    "median_daily_amount": 56.37,
                    "total_daily_amount": 369412.9699999995,
                    "avg_basket_size": 19.8131440348,
                    "median_basket_size": 14
                  },
                  {
                    "index": 5,
                    "week_num": 8,
                    "day": 1,
                    "end_date": "2019-02-18T00:00:00.000Z",
                    "average_daily_amount": 59.0621681957,
                    "median_daily_amount": 37.42,
                    "total_daily_amount": 193133.2900000006,
                    "avg_basket_size": 13.8100917431,
                    "median_basket_size": 10
                  },
                  {
                    "index": 6,
                    "week_num": 8,
                    "day": 2,
                    "end_date": "2019-02-19T00:00:00.000Z",
                    "average_daily_amount": 56.2784859504,
                    "median_daily_amount": 37.53,
                    "total_daily_amount": 170242.42,
                    "avg_basket_size": 13.4327272727,
                    "median_basket_size": 9
                  },
                  {
                    "index": 7,
                    "week_num": 8,
                    "day": 4,
                    "end_date": "2019-02-21T00:00:00.000Z",
                    "average_daily_amount": 68.3637248168,
                    "median_daily_amount": 45.865,
                    "total_daily_amount": 298612.7499999987,
                    "avg_basket_size": 16.4883241758,
                    "median_basket_size": 12
                  },
                  {
                    "index": 8,
                    "week_num": 8,
                    "day": 5,
                    "end_date": "2019-02-22T00:00:00.000Z",
                    "average_daily_amount": 74.9101745636,
                    "median_daily_amount": 49.06,
                    "total_daily_amount": 330428.7799999992,
                    "avg_basket_size": 17.7365676717,
                    "median_basket_size": 12
                  },
                  {
                    "index": 9,
                    "week_num": 8,
                    "day": 0,
                    "end_date": "2019-02-24T00:00:00.000Z",
                    "average_daily_amount": 63.3416341895,
                    "median_daily_amount": 37.66,
                    "total_daily_amount": 143025.4100000001,
                    "avg_basket_size": 15.1691762622,
                    "median_basket_size": 10
                  },
                  {
                    "index": 10,
                    "week_num": 8,
                    "day": 3,
                    "end_date": "2019-02-20T00:00:00.000Z",
                    "average_daily_amount": 59.64863711,
                    "median_daily_amount": 36.56,
                    "total_daily_amount": 181630.1000000004,
                    "avg_basket_size": 13.5944170772,
                    "median_basket_size": 9
                  },
                  {
                    "index": 11,
                    "week_num": 9,
                    "day": 1,
                    "end_date": "2019-02-25T00:00:00.000Z",
                    "average_daily_amount": 53.7958188951,
                    "median_daily_amount": 34.81,
                    "total_daily_amount": 164561.4100000001,
                    "avg_basket_size": 13.0863027133,
                    "median_basket_size": 10
                  },
                  {
                    "index": 12,
                    "week_num": 9,
                    "day": 2,
                    "end_date": "2019-02-26T00:00:00.000Z",
                    "average_daily_amount": 54.6606008011,
                    "median_daily_amount": 35.915,
                    "total_daily_amount": 163763.1600000004,
                    "avg_basket_size": 13.6535380507,
                    "median_basket_size": 10
                  },
                  {
                    "index": 13,
                    "week_num": 13,
                    "day": 5,
                    "end_date": "2019-03-29T00:00:00.000Z",
                    "average_daily_amount": 79.8482981221,
                    "median_daily_amount": 51.03,
                    "total_daily_amount": 340153.749999999,
                    "avg_basket_size": 17.9863849765,
                    "median_basket_size": 12
                  },
                  {
                    "index": 14,
                    "week_num": 13,
                    "day": 6,
                    "end_date": "2019-03-30T00:00:00.000Z",
                    "average_daily_amount": 86.8978331288,
                    "median_daily_amount": 56.28,
                    "total_daily_amount": 354108.6699999998,
                    "avg_basket_size": 19.9506748466,
                    "median_basket_size": 13
                  },
                  {
                    "index": 15,
                    "week_num": 13,
                    "day": 0,
                    "end_date": "2019-03-31T00:00:00.000Z",
                    "average_daily_amount": 73.02,
                    "median_daily_amount": 46.335,
                    "total_daily_amount": 169698.4800000002,
                    "avg_basket_size": 16.7147160069,
                    "median_basket_size": 11
                  },
                  {
                    "index": 16,
                    "week_num": 13,
                    "day": 4,
                    "end_date": "2019-03-28T00:00:00.000Z",
                    "average_daily_amount": 72.6479067122,
                    "median_daily_amount": 47.73,
                    "total_daily_amount": 319287.5499999993,
                    "avg_basket_size": 16.3638225256,
                    "median_basket_size": 11
                  },
                  {
                    "index": 17,
                    "week_num": 14,
                    "day": 3,
                    "end_date": "2019-04-03T00:00:00.000Z",
                    "average_daily_amount": 57.1961645611,
                    "median_daily_amount": 36.55,
                    "total_daily_amount": 176564.5600000001,
                    "avg_basket_size": 13.6219630709,
                    "median_basket_size": 9
                  },
                  {
                    "index": 18,
                    "week_num": 14,
                    "day": 1,
                    "end_date": "2019-04-01T00:00:00.000Z",
                    "average_daily_amount": 58.093587963,
                    "median_daily_amount": 36.46,
                    "total_daily_amount": 200771.4399999999,
                    "avg_basket_size": 13.84375,
                    "median_basket_size": 9
                  },
                  {
                    "index": 19,
                    "week_num": 14,
                    "day": 4,
                    "end_date": "2019-04-04T00:00:00.000Z",
                    "average_daily_amount": 75.0150843373,
                    "median_daily_amount": 50.35,
                    "total_daily_amount": 342443.8600000001,
                    "avg_basket_size": 17.2341730559,
                    "median_basket_size": 12
                  },
                  {
                    "index": 20,
                    "week_num": 14,
                    "day": 5,
                    "end_date": "2019-04-05T00:00:00.000Z",
                    "average_daily_amount": 81.0273726542,
                    "median_daily_amount": 54.31,
                    "total_daily_amount": 362678.5199999985,
                    "avg_basket_size": 19.1289097408,
                    "median_basket_size": 13
                  },
                  {
                    "index": 21,
                    "week_num": 14,
                    "day": 6,
                    "end_date": "2019-04-06T00:00:00.000Z",
                    "average_daily_amount": 86.8971543895,
                    "median_daily_amount": 56.51,
                    "total_daily_amount": 430575.3999999991,
                    "avg_basket_size": 20.1243188698,
                    "median_basket_size": 13
                  },
                  {
                    "index": 22,
                    "week_num": 14,
                    "day": 2,
                    "end_date": "2019-04-02T00:00:00.000Z",
                    "average_daily_amount": 55.1118271911,
                    "median_daily_amount": 34.91,
                    "total_daily_amount": 177956.0899999999,
                    "avg_basket_size": 13.752864664,
                    "median_basket_size": 9
                  },
                  {
                    "index": 23,
                    "week_num": 15,
                    "day": 2,
                    "end_date": "2019-04-09T00:00:00.000Z",
                    "average_daily_amount": 66.2037591993,
                    "median_daily_amount": 40.43,
                    "total_daily_amount": 224894.1699999999,
                    "avg_basket_size": 15.6741242273,
                    "median_basket_size": 10
                  },
                  {
                    "index": 24,
                    "week_num": 15,
                    "day": 3,
                    "end_date": "2019-04-10T00:00:00.000Z",
                    "average_daily_amount": 68.3544095836,
                    "median_daily_amount": 43.05,
                    "total_daily_amount": 239650.5600000003,
                    "avg_basket_size": 15.9255561894,
                    "median_basket_size": 11
                  },
                  {
                    "index": 25,
                    "week_num": 15,
                    "day": 1,
                    "end_date": "2019-04-08T00:00:00.000Z",
                    "average_daily_amount": 64.5034246196,
                    "median_daily_amount": 41.67,
                    "total_daily_amount": 233179.8800000004,
                    "avg_basket_size": 15.5903181189,
                    "median_basket_size": 11
                  }
                ]
              },
              "total_rows": 26,
              "truncation_type": null
            },
            "text/plain": "    week_num  day  ... avg_basket_size  median_basket_size\n0          7    3  ...       12.915903                 9.0\n1          7    4  ...       14.172116                10.0\n2          7    5  ...       17.184818                12.0\n3          7    6  ...       19.733348                14.0\n4          8    6  ...       19.813144                14.0\n5          8    1  ...       13.810092                10.0\n6          8    2  ...       13.432727                 9.0\n7          8    4  ...       16.488324                12.0\n8          8    5  ...       17.736568                12.0\n9          8    0  ...       15.169176                10.0\n10         8    3  ...       13.594417                 9.0\n11         9    1  ...       13.086303                10.0\n12         9    2  ...       13.653538                10.0\n13        13    5  ...       17.986385                12.0\n14        13    6  ...       19.950675                13.0\n15        13    0  ...       16.714716                11.0\n16        13    4  ...       16.363823                11.0\n17        14    3  ...       13.621963                 9.0\n18        14    1  ...       13.843750                 9.0\n19        14    4  ...       17.234173                12.0\n20        14    5  ...       19.128910                13.0\n21        14    6  ...       20.124319                13.0\n22        14    2  ...       13.752865                 9.0\n23        15    2  ...       15.674124                10.0\n24        15    3  ...       15.925556                11.0\n25        15    1  ...       15.590318                11.0\n\n[26 rows x 8 columns]",
            "text/html": "<div>\n<style scoped>\n    .dataframe tbody tr th:only-of-type {\n        vertical-align: middle;\n    }\n\n    .dataframe tbody tr th {\n        vertical-align: top;\n    }\n\n    .dataframe thead th {\n        text-align: right;\n    }\n</style>\n<table border=\"1\" class=\"dataframe\">\n  <thead>\n    <tr style=\"text-align: right;\">\n      <th></th>\n      <th>week_num</th>\n      <th>day</th>\n      <th>end_date</th>\n      <th>average_daily_amount</th>\n      <th>median_daily_amount</th>\n      <th>total_daily_amount</th>\n      <th>avg_basket_size</th>\n      <th>median_basket_size</th>\n    </tr>\n  </thead>\n  <tbody>\n    <tr>\n      <th>0</th>\n      <td>7</td>\n      <td>3</td>\n      <td>2019-02-13 00:00:00+00:00</td>\n      <td>59.788963</td>\n      <td>37.580</td>\n      <td>189112.49</td>\n      <td>12.915903</td>\n      <td>9.0</td>\n    </tr>\n    <tr>\n      <th>1</th>\n      <td>7</td>\n      <td>4</td>\n      <td>2019-02-14 00:00:00+00:00</td>\n      <td>68.629076</td>\n      <td>46.285</td>\n      <td>302242.45</td>\n      <td>14.172116</td>\n      <td>10.0</td>\n    </tr>\n    <tr>\n      <th>2</th>\n      <td>7</td>\n      <td>5</td>\n      <td>2019-02-15 00:00:00+00:00</td>\n      <td>79.164584</td>\n      <td>50.900</td>\n      <td>319112.44</td>\n      <td>17.184818</td>\n      <td>12.0</td>\n    </tr>\n    <tr>\n      <th>3</th>\n      <td>7</td>\n      <td>6</td>\n      <td>2019-02-16 00:00:00+00:00</td>\n      <td>86.866736</td>\n      <td>57.600</td>\n      <td>405580.79</td>\n      <td>19.733348</td>\n      <td>14.0</td>\n    </tr>\n    <tr>\n      <th>4</th>\n      <td>8</td>\n      <td>6</td>\n      <td>2019-02-23 00:00:00+00:00</td>\n      <td>84.591933</td>\n      <td>56.370</td>\n      <td>369412.97</td>\n      <td>19.813144</td>\n      <td>14.0</td>\n    </tr>\n    <tr>\n      <th>5</th>\n      <td>8</td>\n      <td>1</td>\n      <td>2019-02-18 00:00:00+00:00</td>\n      <td>59.062168</td>\n      <td>37.420</td>\n      <td>193133.29</td>\n      <td>13.810092</td>\n      <td>10.0</td>\n    </tr>\n    <tr>\n      <th>6</th>\n      <td>8</td>\n      <td>2</td>\n      <td>2019-02-19 00:00:00+00:00</td>\n      <td>56.278486</td>\n      <td>37.530</td>\n      <td>170242.42</td>\n      <td>13.432727</td>\n      <td>9.0</td>\n    </tr>\n    <tr>\n      <th>7</th>\n      <td>8</td>\n      <td>4</td>\n      <td>2019-02-21 00:00:00+00:00</td>\n      <td>68.363725</td>\n      <td>45.865</td>\n      <td>298612.75</td>\n      <td>16.488324</td>\n      <td>12.0</td>\n    </tr>\n    <tr>\n      <th>8</th>\n      <td>8</td>\n      <td>5</td>\n      <td>2019-02-22 00:00:00+00:00</td>\n      <td>74.910175</td>\n      <td>49.060</td>\n      <td>330428.78</td>\n      <td>17.736568</td>\n      <td>12.0</td>\n    </tr>\n    <tr>\n      <th>9</th>\n      <td>8</td>\n      <td>0</td>\n      <td>2019-02-24 00:00:00+00:00</td>\n      <td>63.341634</td>\n      <td>37.660</td>\n      <td>143025.41</td>\n      <td>15.169176</td>\n      <td>10.0</td>\n    </tr>\n    <tr>\n      <th>10</th>\n      <td>8</td>\n      <td>3</td>\n      <td>2019-02-20 00:00:00+00:00</td>\n      <td>59.648637</td>\n      <td>36.560</td>\n      <td>181630.10</td>\n      <td>13.594417</td>\n      <td>9.0</td>\n    </tr>\n    <tr>\n      <th>11</th>\n      <td>9</td>\n      <td>1</td>\n      <td>2019-02-25 00:00:00+00:00</td>\n      <td>53.795819</td>\n      <td>34.810</td>\n      <td>164561.41</td>\n      <td>13.086303</td>\n      <td>10.0</td>\n    </tr>\n    <tr>\n      <th>12</th>\n      <td>9</td>\n      <td>2</td>\n      <td>2019-02-26 00:00:00+00:00</td>\n      <td>54.660601</td>\n      <td>35.915</td>\n      <td>163763.16</td>\n      <td>13.653538</td>\n      <td>10.0</td>\n    </tr>\n    <tr>\n      <th>13</th>\n      <td>13</td>\n      <td>5</td>\n      <td>2019-03-29 00:00:00+00:00</td>\n      <td>79.848298</td>\n      <td>51.030</td>\n      <td>340153.75</td>\n      <td>17.986385</td>\n      <td>12.0</td>\n    </tr>\n    <tr>\n      <th>14</th>\n      <td>13</td>\n      <td>6</td>\n      <td>2019-03-30 00:00:00+00:00</td>\n      <td>86.897833</td>\n      <td>56.280</td>\n      <td>354108.67</td>\n      <td>19.950675</td>\n      <td>13.0</td>\n    </tr>\n    <tr>\n      <th>15</th>\n      <td>13</td>\n      <td>0</td>\n      <td>2019-03-31 00:00:00+00:00</td>\n      <td>73.020000</td>\n      <td>46.335</td>\n      <td>169698.48</td>\n      <td>16.714716</td>\n      <td>11.0</td>\n    </tr>\n    <tr>\n      <th>16</th>\n      <td>13</td>\n      <td>4</td>\n      <td>2019-03-28 00:00:00+00:00</td>\n      <td>72.647907</td>\n      <td>47.730</td>\n      <td>319287.55</td>\n      <td>16.363823</td>\n      <td>11.0</td>\n    </tr>\n    <tr>\n      <th>17</th>\n      <td>14</td>\n      <td>3</td>\n      <td>2019-04-03 00:00:00+00:00</td>\n      <td>57.196165</td>\n      <td>36.550</td>\n      <td>176564.56</td>\n      <td>13.621963</td>\n      <td>9.0</td>\n    </tr>\n    <tr>\n      <th>18</th>\n      <td>14</td>\n      <td>1</td>\n      <td>2019-04-01 00:00:00+00:00</td>\n      <td>58.093588</td>\n      <td>36.460</td>\n      <td>200771.44</td>\n      <td>13.843750</td>\n      <td>9.0</td>\n    </tr>\n    <tr>\n      <th>19</th>\n      <td>14</td>\n      <td>4</td>\n      <td>2019-04-04 00:00:00+00:00</td>\n      <td>75.015084</td>\n      <td>50.350</td>\n      <td>342443.86</td>\n      <td>17.234173</td>\n      <td>12.0</td>\n    </tr>\n    <tr>\n      <th>20</th>\n      <td>14</td>\n      <td>5</td>\n      <td>2019-04-05 00:00:00+00:00</td>\n      <td>81.027373</td>\n      <td>54.310</td>\n      <td>362678.52</td>\n      <td>19.128910</td>\n      <td>13.0</td>\n    </tr>\n    <tr>\n      <th>21</th>\n      <td>14</td>\n      <td>6</td>\n      <td>2019-04-06 00:00:00+00:00</td>\n      <td>86.897154</td>\n      <td>56.510</td>\n      <td>430575.40</td>\n      <td>20.124319</td>\n      <td>13.0</td>\n    </tr>\n    <tr>\n      <th>22</th>\n      <td>14</td>\n      <td>2</td>\n      <td>2019-04-02 00:00:00+00:00</td>\n      <td>55.111827</td>\n      <td>34.910</td>\n      <td>177956.09</td>\n      <td>13.752865</td>\n      <td>9.0</td>\n    </tr>\n    <tr>\n      <th>23</th>\n      <td>15</td>\n      <td>2</td>\n      <td>2019-04-09 00:00:00+00:00</td>\n      <td>66.203759</td>\n      <td>40.430</td>\n      <td>224894.17</td>\n      <td>15.674124</td>\n      <td>10.0</td>\n    </tr>\n    <tr>\n      <th>24</th>\n      <td>15</td>\n      <td>3</td>\n      <td>2019-04-10 00:00:00+00:00</td>\n      <td>68.354410</td>\n      <td>43.050</td>\n      <td>239650.56</td>\n      <td>15.925556</td>\n      <td>11.0</td>\n    </tr>\n    <tr>\n      <th>25</th>\n      <td>15</td>\n      <td>1</td>\n      <td>2019-04-08 00:00:00+00:00</td>\n      <td>64.503425</td>\n      <td>41.670</td>\n      <td>233179.88</td>\n      <td>15.590318</td>\n      <td>11.0</td>\n    </tr>\n  </tbody>\n</table>\n</div>"
          },
          "metadata": {},
          "execution_count": 87
        }
      ]
    },
    {
      "source": [
        "Before moving to next task, let's visualise the newly added analysis using bar plot"
      ],
      "metadata": {
        "id": "f9a42edb-07d5-416c-a162-cc35537a78f0"
      },
      "cell_type": "markdown",
      "id": "f9a42edb-07d5-416c-a162-cc35537a78f0"
    },
    {
      "source": [
        "for i in ['avg_basket_size','median_basket_size']:\n",
        "    fig = px.bar(df4, x='end_date',y=i,title=f'RELATIONSHIP BETWEEN {i.upper()} AND DAY OF THE WEEK',\n",
        "                labels = {\n",
        "                    'end_date':'day of the week'\n",
        "                }, color='day',  color_discrete_sequence=px.colors.sequential.Jet)\n",
        "    fig.show()"
      ],
      "metadata": {
        "executionCancelledAt": null,
        "executionTime": 84,
        "lastExecutedAt": 1695822104674,
        "lastScheduledRunId": null,
        "lastSuccessfullyExecutedCode": "for i in ['avg_basket_size','median_basket_size']:\n    fig = px.bar(df4, x='end_date',y=i,title=f'RELATIONSHIP BETWEEN {i.upper()} AND DAY OF THE WEEK',\n                labels = {\n                    'end_date':'day of the week'\n                }, color='day',  color_discrete_sequence=px.colors.sequential.Jet)\n    fig.show()",
        "outputsMetadata": {
          "0": {
            "height": 467,
            "type": "plotly"
          },
          "1": {
            "height": 467,
            "type": "plotly"
          }
        },
        "id": "8ec59369-4ef4-43f6-a39b-9393bc145aea",
        "outputId": "14741de3-3503-420e-81d2-a4f85fc4a922"
      },
      "cell_type": "code",
      "id": "8ec59369-4ef4-43f6-a39b-9393bc145aea",
      "execution_count": null,
      "outputs": [
        {
          "output_type": "display_data",
          "data": {
            "application/vnd.plotly.v1+json": {
              "data": [
                {
                  "alignmentgroup": "True",
                  "hovertemplate": "day of the week=%{x}<br>avg_basket_size=%{y}<br>day=%{marker.color}<extra></extra>",
                  "legendgroup": "",
                  "marker": {
                    "color": [
                      3,
                      4,
                      5,
                      6,
                      6,
                      1,
                      2,
                      4,
                      5,
                      0,
                      3,
                      1,
                      2,
                      5,
                      6,
                      0,
                      4,
                      3,
                      1,
                      4,
                      5,
                      6,
                      2,
                      2,
                      3,
                      1
                    ],
                    "coloraxis": "coloraxis",
                    "pattern": {
                      "shape": ""
                    }
                  },
                  "name": "",
                  "offsetgroup": "",
                  "orientation": "v",
                  "showlegend": false,
                  "textposition": "auto",
                  "x": [
                    "2019-02-13T00:00:00+00:00",
                    "2019-02-14T00:00:00+00:00",
                    "2019-02-15T00:00:00+00:00",
                    "2019-02-16T00:00:00+00:00",
                    "2019-02-23T00:00:00+00:00",
                    "2019-02-18T00:00:00+00:00",
                    "2019-02-19T00:00:00+00:00",
                    "2019-02-21T00:00:00+00:00",
                    "2019-02-22T00:00:00+00:00",
                    "2019-02-24T00:00:00+00:00",
                    "2019-02-20T00:00:00+00:00",
                    "2019-02-25T00:00:00+00:00",
                    "2019-02-26T00:00:00+00:00",
                    "2019-03-29T00:00:00+00:00",
                    "2019-03-30T00:00:00+00:00",
                    "2019-03-31T00:00:00+00:00",
                    "2019-03-28T00:00:00+00:00",
                    "2019-04-03T00:00:00+00:00",
                    "2019-04-01T00:00:00+00:00",
                    "2019-04-04T00:00:00+00:00",
                    "2019-04-05T00:00:00+00:00",
                    "2019-04-06T00:00:00+00:00",
                    "2019-04-02T00:00:00+00:00",
                    "2019-04-09T00:00:00+00:00",
                    "2019-04-10T00:00:00+00:00",
                    "2019-04-08T00:00:00+00:00"
                  ],
                  "xaxis": "x",
                  "y": [
                    12.915902624091053,
                    14.172116257947321,
                    17.18481766311089,
                    19.733347611908332,
                    19.813144034806502,
                    13.810091743119266,
                    13.432727272727274,
                    16.488324175824175,
                    17.736567671729766,
                    15.169176262178919,
                    13.594417077175699,
                    13.086302713305002,
                    13.653538050734312,
                    17.986384976525823,
                    19.950674846625766,
                    16.714716006884682,
                    16.36382252559727,
                    13.621963070942662,
                    13.84375,
                    17.234173055859802,
                    19.128909740840037,
                    20.124318869828457,
                    13.752864663982658,
                    15.674124227259346,
                    15.925556189389617,
                    15.590318118948824
                  ],
                  "yaxis": "y",
                  "type": "bar"
                }
              ],
              "layout": {
                "template": {
                  "data": {
                    "histogram2dcontour": [
                      {
                        "type": "histogram2dcontour",
                        "colorbar": {
                          "outlinewidth": 0,
                          "ticks": ""
                        },
                        "colorscale": [
                          [
                            0,
                            "#0d0887"
                          ],
                          [
                            0.1111111111111111,
                            "#46039f"
                          ],
                          [
                            0.2222222222222222,
                            "#7201a8"
                          ],
                          [
                            0.3333333333333333,
                            "#9c179e"
                          ],
                          [
                            0.4444444444444444,
                            "#bd3786"
                          ],
                          [
                            0.5555555555555556,
                            "#d8576b"
                          ],
                          [
                            0.6666666666666666,
                            "#ed7953"
                          ],
                          [
                            0.7777777777777778,
                            "#fb9f3a"
                          ],
                          [
                            0.8888888888888888,
                            "#fdca26"
                          ],
                          [
                            1,
                            "#f0f921"
                          ]
                        ]
                      }
                    ],
                    "choropleth": [
                      {
                        "type": "choropleth",
                        "colorbar": {
                          "outlinewidth": 0,
                          "ticks": ""
                        }
                      }
                    ],
                    "histogram2d": [
                      {
                        "type": "histogram2d",
                        "colorbar": {
                          "outlinewidth": 0,
                          "ticks": ""
                        },
                        "colorscale": [
                          [
                            0,
                            "#0d0887"
                          ],
                          [
                            0.1111111111111111,
                            "#46039f"
                          ],
                          [
                            0.2222222222222222,
                            "#7201a8"
                          ],
                          [
                            0.3333333333333333,
                            "#9c179e"
                          ],
                          [
                            0.4444444444444444,
                            "#bd3786"
                          ],
                          [
                            0.5555555555555556,
                            "#d8576b"
                          ],
                          [
                            0.6666666666666666,
                            "#ed7953"
                          ],
                          [
                            0.7777777777777778,
                            "#fb9f3a"
                          ],
                          [
                            0.8888888888888888,
                            "#fdca26"
                          ],
                          [
                            1,
                            "#f0f921"
                          ]
                        ]
                      }
                    ],
                    "heatmap": [
                      {
                        "type": "heatmap",
                        "colorbar": {
                          "outlinewidth": 0,
                          "ticks": ""
                        },
                        "colorscale": [
                          [
                            0,
                            "#0d0887"
                          ],
                          [
                            0.1111111111111111,
                            "#46039f"
                          ],
                          [
                            0.2222222222222222,
                            "#7201a8"
                          ],
                          [
                            0.3333333333333333,
                            "#9c179e"
                          ],
                          [
                            0.4444444444444444,
                            "#bd3786"
                          ],
                          [
                            0.5555555555555556,
                            "#d8576b"
                          ],
                          [
                            0.6666666666666666,
                            "#ed7953"
                          ],
                          [
                            0.7777777777777778,
                            "#fb9f3a"
                          ],
                          [
                            0.8888888888888888,
                            "#fdca26"
                          ],
                          [
                            1,
                            "#f0f921"
                          ]
                        ]
                      }
                    ],
                    "heatmapgl": [
                      {
                        "type": "heatmapgl",
                        "colorbar": {
                          "outlinewidth": 0,
                          "ticks": ""
                        },
                        "colorscale": [
                          [
                            0,
                            "#0d0887"
                          ],
                          [
                            0.1111111111111111,
                            "#46039f"
                          ],
                          [
                            0.2222222222222222,
                            "#7201a8"
                          ],
                          [
                            0.3333333333333333,
                            "#9c179e"
                          ],
                          [
                            0.4444444444444444,
                            "#bd3786"
                          ],
                          [
                            0.5555555555555556,
                            "#d8576b"
                          ],
                          [
                            0.6666666666666666,
                            "#ed7953"
                          ],
                          [
                            0.7777777777777778,
                            "#fb9f3a"
                          ],
                          [
                            0.8888888888888888,
                            "#fdca26"
                          ],
                          [
                            1,
                            "#f0f921"
                          ]
                        ]
                      }
                    ],
                    "contourcarpet": [
                      {
                        "type": "contourcarpet",
                        "colorbar": {
                          "outlinewidth": 0,
                          "ticks": ""
                        }
                      }
                    ],
                    "contour": [
                      {
                        "type": "contour",
                        "colorbar": {
                          "outlinewidth": 0,
                          "ticks": ""
                        },
                        "colorscale": [
                          [
                            0,
                            "#0d0887"
                          ],
                          [
                            0.1111111111111111,
                            "#46039f"
                          ],
                          [
                            0.2222222222222222,
                            "#7201a8"
                          ],
                          [
                            0.3333333333333333,
                            "#9c179e"
                          ],
                          [
                            0.4444444444444444,
                            "#bd3786"
                          ],
                          [
                            0.5555555555555556,
                            "#d8576b"
                          ],
                          [
                            0.6666666666666666,
                            "#ed7953"
                          ],
                          [
                            0.7777777777777778,
                            "#fb9f3a"
                          ],
                          [
                            0.8888888888888888,
                            "#fdca26"
                          ],
                          [
                            1,
                            "#f0f921"
                          ]
                        ]
                      }
                    ],
                    "surface": [
                      {
                        "type": "surface",
                        "colorbar": {
                          "outlinewidth": 0,
                          "ticks": ""
                        },
                        "colorscale": [
                          [
                            0,
                            "#0d0887"
                          ],
                          [
                            0.1111111111111111,
                            "#46039f"
                          ],
                          [
                            0.2222222222222222,
                            "#7201a8"
                          ],
                          [
                            0.3333333333333333,
                            "#9c179e"
                          ],
                          [
                            0.4444444444444444,
                            "#bd3786"
                          ],
                          [
                            0.5555555555555556,
                            "#d8576b"
                          ],
                          [
                            0.6666666666666666,
                            "#ed7953"
                          ],
                          [
                            0.7777777777777778,
                            "#fb9f3a"
                          ],
                          [
                            0.8888888888888888,
                            "#fdca26"
                          ],
                          [
                            1,
                            "#f0f921"
                          ]
                        ]
                      }
                    ],
                    "mesh3d": [
                      {
                        "type": "mesh3d",
                        "colorbar": {
                          "outlinewidth": 0,
                          "ticks": ""
                        }
                      }
                    ],
                    "scatter": [
                      {
                        "fillpattern": {
                          "fillmode": "overlay",
                          "size": 10,
                          "solidity": 0.2
                        },
                        "type": "scatter"
                      }
                    ],
                    "parcoords": [
                      {
                        "type": "parcoords",
                        "line": {
                          "colorbar": {
                            "outlinewidth": 0,
                            "ticks": ""
                          }
                        }
                      }
                    ],
                    "scatterpolargl": [
                      {
                        "type": "scatterpolargl",
                        "marker": {
                          "colorbar": {
                            "outlinewidth": 0,
                            "ticks": ""
                          }
                        }
                      }
                    ],
                    "bar": [
                      {
                        "error_x": {
                          "color": "#2a3f5f"
                        },
                        "error_y": {
                          "color": "#2a3f5f"
                        },
                        "marker": {
                          "line": {
                            "color": "#E5ECF6",
                            "width": 0.5
                          },
                          "pattern": {
                            "fillmode": "overlay",
                            "size": 10,
                            "solidity": 0.2
                          }
                        },
                        "type": "bar"
                      }
                    ],
                    "scattergeo": [
                      {
                        "type": "scattergeo",
                        "marker": {
                          "colorbar": {
                            "outlinewidth": 0,
                            "ticks": ""
                          }
                        }
                      }
                    ],
                    "scatterpolar": [
                      {
                        "type": "scatterpolar",
                        "marker": {
                          "colorbar": {
                            "outlinewidth": 0,
                            "ticks": ""
                          }
                        }
                      }
                    ],
                    "histogram": [
                      {
                        "marker": {
                          "pattern": {
                            "fillmode": "overlay",
                            "size": 10,
                            "solidity": 0.2
                          }
                        },
                        "type": "histogram"
                      }
                    ],
                    "scattergl": [
                      {
                        "type": "scattergl",
                        "marker": {
                          "colorbar": {
                            "outlinewidth": 0,
                            "ticks": ""
                          }
                        }
                      }
                    ],
                    "scatter3d": [
                      {
                        "type": "scatter3d",
                        "line": {
                          "colorbar": {
                            "outlinewidth": 0,
                            "ticks": ""
                          }
                        },
                        "marker": {
                          "colorbar": {
                            "outlinewidth": 0,
                            "ticks": ""
                          }
                        }
                      }
                    ],
                    "scattermapbox": [
                      {
                        "type": "scattermapbox",
                        "marker": {
                          "colorbar": {
                            "outlinewidth": 0,
                            "ticks": ""
                          }
                        }
                      }
                    ],
                    "scatterternary": [
                      {
                        "type": "scatterternary",
                        "marker": {
                          "colorbar": {
                            "outlinewidth": 0,
                            "ticks": ""
                          }
                        }
                      }
                    ],
                    "scattercarpet": [
                      {
                        "type": "scattercarpet",
                        "marker": {
                          "colorbar": {
                            "outlinewidth": 0,
                            "ticks": ""
                          }
                        }
                      }
                    ],
                    "carpet": [
                      {
                        "aaxis": {
                          "endlinecolor": "#2a3f5f",
                          "gridcolor": "white",
                          "linecolor": "white",
                          "minorgridcolor": "white",
                          "startlinecolor": "#2a3f5f"
                        },
                        "baxis": {
                          "endlinecolor": "#2a3f5f",
                          "gridcolor": "white",
                          "linecolor": "white",
                          "minorgridcolor": "white",
                          "startlinecolor": "#2a3f5f"
                        },
                        "type": "carpet"
                      }
                    ],
                    "table": [
                      {
                        "cells": {
                          "fill": {
                            "color": "#EBF0F8"
                          },
                          "line": {
                            "color": "white"
                          }
                        },
                        "header": {
                          "fill": {
                            "color": "#C8D4E3"
                          },
                          "line": {
                            "color": "white"
                          }
                        },
                        "type": "table"
                      }
                    ],
                    "barpolar": [
                      {
                        "marker": {
                          "line": {
                            "color": "#E5ECF6",
                            "width": 0.5
                          },
                          "pattern": {
                            "fillmode": "overlay",
                            "size": 10,
                            "solidity": 0.2
                          }
                        },
                        "type": "barpolar"
                      }
                    ],
                    "pie": [
                      {
                        "automargin": true,
                        "type": "pie"
                      }
                    ]
                  },
                  "layout": {
                    "autotypenumbers": "strict",
                    "colorway": [
                      "#636efa",
                      "#EF553B",
                      "#00cc96",
                      "#ab63fa",
                      "#FFA15A",
                      "#19d3f3",
                      "#FF6692",
                      "#B6E880",
                      "#FF97FF",
                      "#FECB52"
                    ],
                    "font": {
                      "color": "#2a3f5f"
                    },
                    "hovermode": "closest",
                    "hoverlabel": {
                      "align": "left"
                    },
                    "paper_bgcolor": "white",
                    "plot_bgcolor": "#E5ECF6",
                    "polar": {
                      "bgcolor": "#E5ECF6",
                      "angularaxis": {
                        "gridcolor": "white",
                        "linecolor": "white",
                        "ticks": ""
                      },
                      "radialaxis": {
                        "gridcolor": "white",
                        "linecolor": "white",
                        "ticks": ""
                      }
                    },
                    "ternary": {
                      "bgcolor": "#E5ECF6",
                      "aaxis": {
                        "gridcolor": "white",
                        "linecolor": "white",
                        "ticks": ""
                      },
                      "baxis": {
                        "gridcolor": "white",
                        "linecolor": "white",
                        "ticks": ""
                      },
                      "caxis": {
                        "gridcolor": "white",
                        "linecolor": "white",
                        "ticks": ""
                      }
                    },
                    "coloraxis": {
                      "colorbar": {
                        "outlinewidth": 0,
                        "ticks": ""
                      }
                    },
                    "colorscale": {
                      "sequential": [
                        [
                          0,
                          "#0d0887"
                        ],
                        [
                          0.1111111111111111,
                          "#46039f"
                        ],
                        [
                          0.2222222222222222,
                          "#7201a8"
                        ],
                        [
                          0.3333333333333333,
                          "#9c179e"
                        ],
                        [
                          0.4444444444444444,
                          "#bd3786"
                        ],
                        [
                          0.5555555555555556,
                          "#d8576b"
                        ],
                        [
                          0.6666666666666666,
                          "#ed7953"
                        ],
                        [
                          0.7777777777777778,
                          "#fb9f3a"
                        ],
                        [
                          0.8888888888888888,
                          "#fdca26"
                        ],
                        [
                          1,
                          "#f0f921"
                        ]
                      ],
                      "sequentialminus": [
                        [
                          0,
                          "#0d0887"
                        ],
                        [
                          0.1111111111111111,
                          "#46039f"
                        ],
                        [
                          0.2222222222222222,
                          "#7201a8"
                        ],
                        [
                          0.3333333333333333,
                          "#9c179e"
                        ],
                        [
                          0.4444444444444444,
                          "#bd3786"
                        ],
                        [
                          0.5555555555555556,
                          "#d8576b"
                        ],
                        [
                          0.6666666666666666,
                          "#ed7953"
                        ],
                        [
                          0.7777777777777778,
                          "#fb9f3a"
                        ],
                        [
                          0.8888888888888888,
                          "#fdca26"
                        ],
                        [
                          1,
                          "#f0f921"
                        ]
                      ],
                      "diverging": [
                        [
                          0,
                          "#8e0152"
                        ],
                        [
                          0.1,
                          "#c51b7d"
                        ],
                        [
                          0.2,
                          "#de77ae"
                        ],
                        [
                          0.3,
                          "#f1b6da"
                        ],
                        [
                          0.4,
                          "#fde0ef"
                        ],
                        [
                          0.5,
                          "#f7f7f7"
                        ],
                        [
                          0.6,
                          "#e6f5d0"
                        ],
                        [
                          0.7,
                          "#b8e186"
                        ],
                        [
                          0.8,
                          "#7fbc41"
                        ],
                        [
                          0.9,
                          "#4d9221"
                        ],
                        [
                          1,
                          "#276419"
                        ]
                      ]
                    },
                    "xaxis": {
                      "gridcolor": "white",
                      "linecolor": "white",
                      "ticks": "",
                      "title": {
                        "standoff": 15
                      },
                      "zerolinecolor": "white",
                      "automargin": true,
                      "zerolinewidth": 2
                    },
                    "yaxis": {
                      "gridcolor": "white",
                      "linecolor": "white",
                      "ticks": "",
                      "title": {
                        "standoff": 15
                      },
                      "zerolinecolor": "white",
                      "automargin": true,
                      "zerolinewidth": 2
                    },
                    "scene": {
                      "xaxis": {
                        "backgroundcolor": "#E5ECF6",
                        "gridcolor": "white",
                        "linecolor": "white",
                        "showbackground": true,
                        "ticks": "",
                        "zerolinecolor": "white",
                        "gridwidth": 2
                      },
                      "yaxis": {
                        "backgroundcolor": "#E5ECF6",
                        "gridcolor": "white",
                        "linecolor": "white",
                        "showbackground": true,
                        "ticks": "",
                        "zerolinecolor": "white",
                        "gridwidth": 2
                      },
                      "zaxis": {
                        "backgroundcolor": "#E5ECF6",
                        "gridcolor": "white",
                        "linecolor": "white",
                        "showbackground": true,
                        "ticks": "",
                        "zerolinecolor": "white",
                        "gridwidth": 2
                      }
                    },
                    "shapedefaults": {
                      "line": {
                        "color": "#2a3f5f"
                      }
                    },
                    "annotationdefaults": {
                      "arrowcolor": "#2a3f5f",
                      "arrowhead": 0,
                      "arrowwidth": 1
                    },
                    "geo": {
                      "bgcolor": "white",
                      "landcolor": "#E5ECF6",
                      "subunitcolor": "white",
                      "showland": true,
                      "showlakes": true,
                      "lakecolor": "white"
                    },
                    "title": {
                      "x": 0.05
                    },
                    "mapbox": {
                      "style": "light"
                    }
                  }
                },
                "xaxis": {
                  "anchor": "y",
                  "domain": [
                    0,
                    1
                  ],
                  "title": {
                    "text": "day of the week"
                  }
                },
                "yaxis": {
                  "anchor": "x",
                  "domain": [
                    0,
                    1
                  ],
                  "title": {
                    "text": "avg_basket_size"
                  }
                },
                "coloraxis": {
                  "colorbar": {
                    "title": {
                      "text": "day"
                    }
                  },
                  "colorscale": [
                    [
                      0,
                      "#0d0887"
                    ],
                    [
                      0.1111111111111111,
                      "#46039f"
                    ],
                    [
                      0.2222222222222222,
                      "#7201a8"
                    ],
                    [
                      0.3333333333333333,
                      "#9c179e"
                    ],
                    [
                      0.4444444444444444,
                      "#bd3786"
                    ],
                    [
                      0.5555555555555556,
                      "#d8576b"
                    ],
                    [
                      0.6666666666666666,
                      "#ed7953"
                    ],
                    [
                      0.7777777777777778,
                      "#fb9f3a"
                    ],
                    [
                      0.8888888888888888,
                      "#fdca26"
                    ],
                    [
                      1,
                      "#f0f921"
                    ]
                  ]
                },
                "legend": {
                  "tracegroupgap": 0
                },
                "title": {
                  "text": "RELATIONSHIP BETWEEN AVG_BASKET_SIZE AND DAY OF THE WEEK"
                },
                "barmode": "relative"
              },
              "config": {
                "plotlyServerURL": "https://plot.ly"
              }
            }
          },
          "metadata": {}
        },
        {
          "output_type": "display_data",
          "data": {
            "application/vnd.plotly.v1+json": {
              "data": [
                {
                  "alignmentgroup": "True",
                  "hovertemplate": "day of the week=%{x}<br>median_basket_size=%{y}<br>day=%{marker.color}<extra></extra>",
                  "legendgroup": "",
                  "marker": {
                    "color": [
                      3,
                      4,
                      5,
                      6,
                      6,
                      1,
                      2,
                      4,
                      5,
                      0,
                      3,
                      1,
                      2,
                      5,
                      6,
                      0,
                      4,
                      3,
                      1,
                      4,
                      5,
                      6,
                      2,
                      2,
                      3,
                      1
                    ],
                    "coloraxis": "coloraxis",
                    "pattern": {
                      "shape": ""
                    }
                  },
                  "name": "",
                  "offsetgroup": "",
                  "orientation": "v",
                  "showlegend": false,
                  "textposition": "auto",
                  "x": [
                    "2019-02-13T00:00:00+00:00",
                    "2019-02-14T00:00:00+00:00",
                    "2019-02-15T00:00:00+00:00",
                    "2019-02-16T00:00:00+00:00",
                    "2019-02-23T00:00:00+00:00",
                    "2019-02-18T00:00:00+00:00",
                    "2019-02-19T00:00:00+00:00",
                    "2019-02-21T00:00:00+00:00",
                    "2019-02-22T00:00:00+00:00",
                    "2019-02-24T00:00:00+00:00",
                    "2019-02-20T00:00:00+00:00",
                    "2019-02-25T00:00:00+00:00",
                    "2019-02-26T00:00:00+00:00",
                    "2019-03-29T00:00:00+00:00",
                    "2019-03-30T00:00:00+00:00",
                    "2019-03-31T00:00:00+00:00",
                    "2019-03-28T00:00:00+00:00",
                    "2019-04-03T00:00:00+00:00",
                    "2019-04-01T00:00:00+00:00",
                    "2019-04-04T00:00:00+00:00",
                    "2019-04-05T00:00:00+00:00",
                    "2019-04-06T00:00:00+00:00",
                    "2019-04-02T00:00:00+00:00",
                    "2019-04-09T00:00:00+00:00",
                    "2019-04-10T00:00:00+00:00",
                    "2019-04-08T00:00:00+00:00"
                  ],
                  "xaxis": "x",
                  "y": [
                    9,
                    10,
                    12,
                    14,
                    14,
                    10,
                    9,
                    12,
                    12,
                    10,
                    9,
                    10,
                    10,
                    12,
                    13,
                    11,
                    11,
                    9,
                    9,
                    12,
                    13,
                    13,
                    9,
                    10,
                    11,
                    11
                  ],
                  "yaxis": "y",
                  "type": "bar"
                }
              ],
              "layout": {
                "template": {
                  "data": {
                    "histogram2dcontour": [
                      {
                        "type": "histogram2dcontour",
                        "colorbar": {
                          "outlinewidth": 0,
                          "ticks": ""
                        },
                        "colorscale": [
                          [
                            0,
                            "#0d0887"
                          ],
                          [
                            0.1111111111111111,
                            "#46039f"
                          ],
                          [
                            0.2222222222222222,
                            "#7201a8"
                          ],
                          [
                            0.3333333333333333,
                            "#9c179e"
                          ],
                          [
                            0.4444444444444444,
                            "#bd3786"
                          ],
                          [
                            0.5555555555555556,
                            "#d8576b"
                          ],
                          [
                            0.6666666666666666,
                            "#ed7953"
                          ],
                          [
                            0.7777777777777778,
                            "#fb9f3a"
                          ],
                          [
                            0.8888888888888888,
                            "#fdca26"
                          ],
                          [
                            1,
                            "#f0f921"
                          ]
                        ]
                      }
                    ],
                    "choropleth": [
                      {
                        "type": "choropleth",
                        "colorbar": {
                          "outlinewidth": 0,
                          "ticks": ""
                        }
                      }
                    ],
                    "histogram2d": [
                      {
                        "type": "histogram2d",
                        "colorbar": {
                          "outlinewidth": 0,
                          "ticks": ""
                        },
                        "colorscale": [
                          [
                            0,
                            "#0d0887"
                          ],
                          [
                            0.1111111111111111,
                            "#46039f"
                          ],
                          [
                            0.2222222222222222,
                            "#7201a8"
                          ],
                          [
                            0.3333333333333333,
                            "#9c179e"
                          ],
                          [
                            0.4444444444444444,
                            "#bd3786"
                          ],
                          [
                            0.5555555555555556,
                            "#d8576b"
                          ],
                          [
                            0.6666666666666666,
                            "#ed7953"
                          ],
                          [
                            0.7777777777777778,
                            "#fb9f3a"
                          ],
                          [
                            0.8888888888888888,
                            "#fdca26"
                          ],
                          [
                            1,
                            "#f0f921"
                          ]
                        ]
                      }
                    ],
                    "heatmap": [
                      {
                        "type": "heatmap",
                        "colorbar": {
                          "outlinewidth": 0,
                          "ticks": ""
                        },
                        "colorscale": [
                          [
                            0,
                            "#0d0887"
                          ],
                          [
                            0.1111111111111111,
                            "#46039f"
                          ],
                          [
                            0.2222222222222222,
                            "#7201a8"
                          ],
                          [
                            0.3333333333333333,
                            "#9c179e"
                          ],
                          [
                            0.4444444444444444,
                            "#bd3786"
                          ],
                          [
                            0.5555555555555556,
                            "#d8576b"
                          ],
                          [
                            0.6666666666666666,
                            "#ed7953"
                          ],
                          [
                            0.7777777777777778,
                            "#fb9f3a"
                          ],
                          [
                            0.8888888888888888,
                            "#fdca26"
                          ],
                          [
                            1,
                            "#f0f921"
                          ]
                        ]
                      }
                    ],
                    "heatmapgl": [
                      {
                        "type": "heatmapgl",
                        "colorbar": {
                          "outlinewidth": 0,
                          "ticks": ""
                        },
                        "colorscale": [
                          [
                            0,
                            "#0d0887"
                          ],
                          [
                            0.1111111111111111,
                            "#46039f"
                          ],
                          [
                            0.2222222222222222,
                            "#7201a8"
                          ],
                          [
                            0.3333333333333333,
                            "#9c179e"
                          ],
                          [
                            0.4444444444444444,
                            "#bd3786"
                          ],
                          [
                            0.5555555555555556,
                            "#d8576b"
                          ],
                          [
                            0.6666666666666666,
                            "#ed7953"
                          ],
                          [
                            0.7777777777777778,
                            "#fb9f3a"
                          ],
                          [
                            0.8888888888888888,
                            "#fdca26"
                          ],
                          [
                            1,
                            "#f0f921"
                          ]
                        ]
                      }
                    ],
                    "contourcarpet": [
                      {
                        "type": "contourcarpet",
                        "colorbar": {
                          "outlinewidth": 0,
                          "ticks": ""
                        }
                      }
                    ],
                    "contour": [
                      {
                        "type": "contour",
                        "colorbar": {
                          "outlinewidth": 0,
                          "ticks": ""
                        },
                        "colorscale": [
                          [
                            0,
                            "#0d0887"
                          ],
                          [
                            0.1111111111111111,
                            "#46039f"
                          ],
                          [
                            0.2222222222222222,
                            "#7201a8"
                          ],
                          [
                            0.3333333333333333,
                            "#9c179e"
                          ],
                          [
                            0.4444444444444444,
                            "#bd3786"
                          ],
                          [
                            0.5555555555555556,
                            "#d8576b"
                          ],
                          [
                            0.6666666666666666,
                            "#ed7953"
                          ],
                          [
                            0.7777777777777778,
                            "#fb9f3a"
                          ],
                          [
                            0.8888888888888888,
                            "#fdca26"
                          ],
                          [
                            1,
                            "#f0f921"
                          ]
                        ]
                      }
                    ],
                    "surface": [
                      {
                        "type": "surface",
                        "colorbar": {
                          "outlinewidth": 0,
                          "ticks": ""
                        },
                        "colorscale": [
                          [
                            0,
                            "#0d0887"
                          ],
                          [
                            0.1111111111111111,
                            "#46039f"
                          ],
                          [
                            0.2222222222222222,
                            "#7201a8"
                          ],
                          [
                            0.3333333333333333,
                            "#9c179e"
                          ],
                          [
                            0.4444444444444444,
                            "#bd3786"
                          ],
                          [
                            0.5555555555555556,
                            "#d8576b"
                          ],
                          [
                            0.6666666666666666,
                            "#ed7953"
                          ],
                          [
                            0.7777777777777778,
                            "#fb9f3a"
                          ],
                          [
                            0.8888888888888888,
                            "#fdca26"
                          ],
                          [
                            1,
                            "#f0f921"
                          ]
                        ]
                      }
                    ],
                    "mesh3d": [
                      {
                        "type": "mesh3d",
                        "colorbar": {
                          "outlinewidth": 0,
                          "ticks": ""
                        }
                      }
                    ],
                    "scatter": [
                      {
                        "fillpattern": {
                          "fillmode": "overlay",
                          "size": 10,
                          "solidity": 0.2
                        },
                        "type": "scatter"
                      }
                    ],
                    "parcoords": [
                      {
                        "type": "parcoords",
                        "line": {
                          "colorbar": {
                            "outlinewidth": 0,
                            "ticks": ""
                          }
                        }
                      }
                    ],
                    "scatterpolargl": [
                      {
                        "type": "scatterpolargl",
                        "marker": {
                          "colorbar": {
                            "outlinewidth": 0,
                            "ticks": ""
                          }
                        }
                      }
                    ],
                    "bar": [
                      {
                        "error_x": {
                          "color": "#2a3f5f"
                        },
                        "error_y": {
                          "color": "#2a3f5f"
                        },
                        "marker": {
                          "line": {
                            "color": "#E5ECF6",
                            "width": 0.5
                          },
                          "pattern": {
                            "fillmode": "overlay",
                            "size": 10,
                            "solidity": 0.2
                          }
                        },
                        "type": "bar"
                      }
                    ],
                    "scattergeo": [
                      {
                        "type": "scattergeo",
                        "marker": {
                          "colorbar": {
                            "outlinewidth": 0,
                            "ticks": ""
                          }
                        }
                      }
                    ],
                    "scatterpolar": [
                      {
                        "type": "scatterpolar",
                        "marker": {
                          "colorbar": {
                            "outlinewidth": 0,
                            "ticks": ""
                          }
                        }
                      }
                    ],
                    "histogram": [
                      {
                        "marker": {
                          "pattern": {
                            "fillmode": "overlay",
                            "size": 10,
                            "solidity": 0.2
                          }
                        },
                        "type": "histogram"
                      }
                    ],
                    "scattergl": [
                      {
                        "type": "scattergl",
                        "marker": {
                          "colorbar": {
                            "outlinewidth": 0,
                            "ticks": ""
                          }
                        }
                      }
                    ],
                    "scatter3d": [
                      {
                        "type": "scatter3d",
                        "line": {
                          "colorbar": {
                            "outlinewidth": 0,
                            "ticks": ""
                          }
                        },
                        "marker": {
                          "colorbar": {
                            "outlinewidth": 0,
                            "ticks": ""
                          }
                        }
                      }
                    ],
                    "scattermapbox": [
                      {
                        "type": "scattermapbox",
                        "marker": {
                          "colorbar": {
                            "outlinewidth": 0,
                            "ticks": ""
                          }
                        }
                      }
                    ],
                    "scatterternary": [
                      {
                        "type": "scatterternary",
                        "marker": {
                          "colorbar": {
                            "outlinewidth": 0,
                            "ticks": ""
                          }
                        }
                      }
                    ],
                    "scattercarpet": [
                      {
                        "type": "scattercarpet",
                        "marker": {
                          "colorbar": {
                            "outlinewidth": 0,
                            "ticks": ""
                          }
                        }
                      }
                    ],
                    "carpet": [
                      {
                        "aaxis": {
                          "endlinecolor": "#2a3f5f",
                          "gridcolor": "white",
                          "linecolor": "white",
                          "minorgridcolor": "white",
                          "startlinecolor": "#2a3f5f"
                        },
                        "baxis": {
                          "endlinecolor": "#2a3f5f",
                          "gridcolor": "white",
                          "linecolor": "white",
                          "minorgridcolor": "white",
                          "startlinecolor": "#2a3f5f"
                        },
                        "type": "carpet"
                      }
                    ],
                    "table": [
                      {
                        "cells": {
                          "fill": {
                            "color": "#EBF0F8"
                          },
                          "line": {
                            "color": "white"
                          }
                        },
                        "header": {
                          "fill": {
                            "color": "#C8D4E3"
                          },
                          "line": {
                            "color": "white"
                          }
                        },
                        "type": "table"
                      }
                    ],
                    "barpolar": [
                      {
                        "marker": {
                          "line": {
                            "color": "#E5ECF6",
                            "width": 0.5
                          },
                          "pattern": {
                            "fillmode": "overlay",
                            "size": 10,
                            "solidity": 0.2
                          }
                        },
                        "type": "barpolar"
                      }
                    ],
                    "pie": [
                      {
                        "automargin": true,
                        "type": "pie"
                      }
                    ]
                  },
                  "layout": {
                    "autotypenumbers": "strict",
                    "colorway": [
                      "#636efa",
                      "#EF553B",
                      "#00cc96",
                      "#ab63fa",
                      "#FFA15A",
                      "#19d3f3",
                      "#FF6692",
                      "#B6E880",
                      "#FF97FF",
                      "#FECB52"
                    ],
                    "font": {
                      "color": "#2a3f5f"
                    },
                    "hovermode": "closest",
                    "hoverlabel": {
                      "align": "left"
                    },
                    "paper_bgcolor": "white",
                    "plot_bgcolor": "#E5ECF6",
                    "polar": {
                      "bgcolor": "#E5ECF6",
                      "angularaxis": {
                        "gridcolor": "white",
                        "linecolor": "white",
                        "ticks": ""
                      },
                      "radialaxis": {
                        "gridcolor": "white",
                        "linecolor": "white",
                        "ticks": ""
                      }
                    },
                    "ternary": {
                      "bgcolor": "#E5ECF6",
                      "aaxis": {
                        "gridcolor": "white",
                        "linecolor": "white",
                        "ticks": ""
                      },
                      "baxis": {
                        "gridcolor": "white",
                        "linecolor": "white",
                        "ticks": ""
                      },
                      "caxis": {
                        "gridcolor": "white",
                        "linecolor": "white",
                        "ticks": ""
                      }
                    },
                    "coloraxis": {
                      "colorbar": {
                        "outlinewidth": 0,
                        "ticks": ""
                      }
                    },
                    "colorscale": {
                      "sequential": [
                        [
                          0,
                          "#0d0887"
                        ],
                        [
                          0.1111111111111111,
                          "#46039f"
                        ],
                        [
                          0.2222222222222222,
                          "#7201a8"
                        ],
                        [
                          0.3333333333333333,
                          "#9c179e"
                        ],
                        [
                          0.4444444444444444,
                          "#bd3786"
                        ],
                        [
                          0.5555555555555556,
                          "#d8576b"
                        ],
                        [
                          0.6666666666666666,
                          "#ed7953"
                        ],
                        [
                          0.7777777777777778,
                          "#fb9f3a"
                        ],
                        [
                          0.8888888888888888,
                          "#fdca26"
                        ],
                        [
                          1,
                          "#f0f921"
                        ]
                      ],
                      "sequentialminus": [
                        [
                          0,
                          "#0d0887"
                        ],
                        [
                          0.1111111111111111,
                          "#46039f"
                        ],
                        [
                          0.2222222222222222,
                          "#7201a8"
                        ],
                        [
                          0.3333333333333333,
                          "#9c179e"
                        ],
                        [
                          0.4444444444444444,
                          "#bd3786"
                        ],
                        [
                          0.5555555555555556,
                          "#d8576b"
                        ],
                        [
                          0.6666666666666666,
                          "#ed7953"
                        ],
                        [
                          0.7777777777777778,
                          "#fb9f3a"
                        ],
                        [
                          0.8888888888888888,
                          "#fdca26"
                        ],
                        [
                          1,
                          "#f0f921"
                        ]
                      ],
                      "diverging": [
                        [
                          0,
                          "#8e0152"
                        ],
                        [
                          0.1,
                          "#c51b7d"
                        ],
                        [
                          0.2,
                          "#de77ae"
                        ],
                        [
                          0.3,
                          "#f1b6da"
                        ],
                        [
                          0.4,
                          "#fde0ef"
                        ],
                        [
                          0.5,
                          "#f7f7f7"
                        ],
                        [
                          0.6,
                          "#e6f5d0"
                        ],
                        [
                          0.7,
                          "#b8e186"
                        ],
                        [
                          0.8,
                          "#7fbc41"
                        ],
                        [
                          0.9,
                          "#4d9221"
                        ],
                        [
                          1,
                          "#276419"
                        ]
                      ]
                    },
                    "xaxis": {
                      "gridcolor": "white",
                      "linecolor": "white",
                      "ticks": "",
                      "title": {
                        "standoff": 15
                      },
                      "zerolinecolor": "white",
                      "automargin": true,
                      "zerolinewidth": 2
                    },
                    "yaxis": {
                      "gridcolor": "white",
                      "linecolor": "white",
                      "ticks": "",
                      "title": {
                        "standoff": 15
                      },
                      "zerolinecolor": "white",
                      "automargin": true,
                      "zerolinewidth": 2
                    },
                    "scene": {
                      "xaxis": {
                        "backgroundcolor": "#E5ECF6",
                        "gridcolor": "white",
                        "linecolor": "white",
                        "showbackground": true,
                        "ticks": "",
                        "zerolinecolor": "white",
                        "gridwidth": 2
                      },
                      "yaxis": {
                        "backgroundcolor": "#E5ECF6",
                        "gridcolor": "white",
                        "linecolor": "white",
                        "showbackground": true,
                        "ticks": "",
                        "zerolinecolor": "white",
                        "gridwidth": 2
                      },
                      "zaxis": {
                        "backgroundcolor": "#E5ECF6",
                        "gridcolor": "white",
                        "linecolor": "white",
                        "showbackground": true,
                        "ticks": "",
                        "zerolinecolor": "white",
                        "gridwidth": 2
                      }
                    },
                    "shapedefaults": {
                      "line": {
                        "color": "#2a3f5f"
                      }
                    },
                    "annotationdefaults": {
                      "arrowcolor": "#2a3f5f",
                      "arrowhead": 0,
                      "arrowwidth": 1
                    },
                    "geo": {
                      "bgcolor": "white",
                      "landcolor": "#E5ECF6",
                      "subunitcolor": "white",
                      "showland": true,
                      "showlakes": true,
                      "lakecolor": "white"
                    },
                    "title": {
                      "x": 0.05
                    },
                    "mapbox": {
                      "style": "light"
                    }
                  }
                },
                "xaxis": {
                  "anchor": "y",
                  "domain": [
                    0,
                    1
                  ],
                  "title": {
                    "text": "day of the week"
                  }
                },
                "yaxis": {
                  "anchor": "x",
                  "domain": [
                    0,
                    1
                  ],
                  "title": {
                    "text": "median_basket_size"
                  }
                },
                "coloraxis": {
                  "colorbar": {
                    "title": {
                      "text": "day"
                    }
                  },
                  "colorscale": [
                    [
                      0,
                      "#0d0887"
                    ],
                    [
                      0.1111111111111111,
                      "#46039f"
                    ],
                    [
                      0.2222222222222222,
                      "#7201a8"
                    ],
                    [
                      0.3333333333333333,
                      "#9c179e"
                    ],
                    [
                      0.4444444444444444,
                      "#bd3786"
                    ],
                    [
                      0.5555555555555556,
                      "#d8576b"
                    ],
                    [
                      0.6666666666666666,
                      "#ed7953"
                    ],
                    [
                      0.7777777777777778,
                      "#fb9f3a"
                    ],
                    [
                      0.8888888888888888,
                      "#fdca26"
                    ],
                    [
                      1,
                      "#f0f921"
                    ]
                  ]
                },
                "legend": {
                  "tracegroupgap": 0
                },
                "title": {
                  "text": "RELATIONSHIP BETWEEN MEDIAN_BASKET_SIZE AND DAY OF THE WEEK"
                },
                "barmode": "relative"
              },
              "config": {
                "plotlyServerURL": "https://plot.ly"
              }
            }
          },
          "metadata": {}
        }
      ]
    },
    {
      "source": [
        "Sunday is regarded as day 0 in our plot and Saturday, day 6. Now it is obvious and easy to spot the three peaks as associated with Thursday, Friday and Saturday."
      ],
      "metadata": {
        "id": "79b27dfa-efd4-4c95-a86f-e4e4811b3662"
      },
      "cell_type": "markdown",
      "id": "79b27dfa-efd4-4c95-a86f-e4e4811b3662"
    },
    {
      "source": [
        "## Task 6: Should the supermarket open on Sundays?"
      ],
      "metadata": {
        "id": "5da21ae7-93d3-4ff4-a3a8-503bd796860d"
      },
      "id": "5da21ae7-93d3-4ff4-a3a8-503bd796860d",
      "cell_type": "markdown"
    },
    {
      "source": [
        "Remember, working sundays were in week 8 and 13, while non working Sundays were in week 7 and 14.\n",
        "\n",
        "Let's explore our dataset a little more. For weeks with working Sundays, We will see the total amount made each day and the two weeks."
      ],
      "metadata": {
        "id": "19dad582-abc6-4c8c-a459-692666217a9f"
      },
      "cell_type": "markdown",
      "id": "19dad582-abc6-4c8c-a459-692666217a9f"
    },
    {
      "source": [
        "SELECT\n",
        "\n",
        "\tDATE_PART('dayofweek',end_date_time::DATE) AS dayofweek,\n",
        "\tsum(amount) as total_amount\n",
        "FROM 'pos_transactions.csv'\n",
        "WHERE dayofweek IN (4,5,6,0,1,2,3) AND DATE_PART('week',end_date_time::DATE) IN (8,13)\n",
        "GROUP BY DATE_PART('dayofweek',end_date_time::DATE)"
      ],
      "metadata": {
        "customType": "sql",
        "dataFrameVariableName": "df5",
        "sqlCellMode": "dataFrame",
        "sqlSource": {
          "type": "dataframesAndCsvs"
        },
        "executionCancelledAt": null,
        "executionTime": 373,
        "lastExecutedAt": 1695822105048,
        "lastScheduledRunId": null,
        "lastSuccessfullyExecutedCode": "SELECT \n\t\n\tDATE_PART('dayofweek',end_date_time::DATE) AS dayofweek,\n\tsum(amount) as total_amount\nFROM 'pos_transactions.csv'\nWHERE dayofweek IN (4,5,6,0,1,2,3) AND DATE_PART('week',end_date_time::DATE) IN (8,13)\nGROUP BY DATE_PART('dayofweek',end_date_time::DATE) ",
        "outputsMetadata": {
          "0": {
            "height": 244,
            "type": "dataFrame"
          }
        },
        "id": "73f5a6e5-4a3d-4730-a1f2-94f40e1850d5",
        "outputId": "d7b11e50-c67e-4017-ea40-bc2a01497608"
      },
      "cell_type": "code",
      "id": "73f5a6e5-4a3d-4730-a1f2-94f40e1850d5",
      "execution_count": null,
      "outputs": [
        {
          "output_type": "execute_result",
          "data": {
            "application/com.datacamp.data-table.v1+json": {
              "table": {
                "schema": {
                  "fields": [
                    {
                      "name": "index",
                      "type": "integer"
                    },
                    {
                      "name": "dayofweek",
                      "type": "integer"
                    },
                    {
                      "name": "total_amount",
                      "type": "number"
                    }
                  ],
                  "primaryKey": [
                    "index"
                  ],
                  "pandas_version": "1.4.0"
                },
                "data": [
                  {
                    "index": 0,
                    "dayofweek": 0,
                    "total_amount": 312723.89
                  },
                  {
                    "index": 1,
                    "dayofweek": 1,
                    "total_amount": 193133.2900000006
                  },
                  {
                    "index": 2,
                    "dayofweek": 2,
                    "total_amount": 170242.42
                  },
                  {
                    "index": 3,
                    "dayofweek": 3,
                    "total_amount": 181630.1000000004
                  },
                  {
                    "index": 4,
                    "dayofweek": 4,
                    "total_amount": 617900.2999999953
                  },
                  {
                    "index": 5,
                    "dayofweek": 5,
                    "total_amount": 670582.5299999972
                  },
                  {
                    "index": 6,
                    "dayofweek": 6,
                    "total_amount": 723521.6399999956
                  }
                ]
              },
              "total_rows": 7,
              "truncation_type": null
            },
            "text/plain": "   dayofweek  total_amount\n0          0     312723.89\n1          1     193133.29\n2          2     170242.42\n3          3     181630.10\n4          4     617900.30\n5          5     670582.53\n6          6     723521.64",
            "text/html": "<div>\n<style scoped>\n    .dataframe tbody tr th:only-of-type {\n        vertical-align: middle;\n    }\n\n    .dataframe tbody tr th {\n        vertical-align: top;\n    }\n\n    .dataframe thead th {\n        text-align: right;\n    }\n</style>\n<table border=\"1\" class=\"dataframe\">\n  <thead>\n    <tr style=\"text-align: right;\">\n      <th></th>\n      <th>dayofweek</th>\n      <th>total_amount</th>\n    </tr>\n  </thead>\n  <tbody>\n    <tr>\n      <th>0</th>\n      <td>0</td>\n      <td>312723.89</td>\n    </tr>\n    <tr>\n      <th>1</th>\n      <td>1</td>\n      <td>193133.29</td>\n    </tr>\n    <tr>\n      <th>2</th>\n      <td>2</td>\n      <td>170242.42</td>\n    </tr>\n    <tr>\n      <th>3</th>\n      <td>3</td>\n      <td>181630.10</td>\n    </tr>\n    <tr>\n      <th>4</th>\n      <td>4</td>\n      <td>617900.30</td>\n    </tr>\n    <tr>\n      <th>5</th>\n      <td>5</td>\n      <td>670582.53</td>\n    </tr>\n    <tr>\n      <th>6</th>\n      <td>6</td>\n      <td>723521.64</td>\n    </tr>\n  </tbody>\n</table>\n</div>"
          },
          "metadata": {},
          "execution_count": 89
        }
      ]
    },
    {
      "source": [
        "Let's visualise the trend using a line plot. We will see the same pattern but this time more clearly. The peaks of transaction occurred on Thursdays, Saturdays and Fridays."
      ],
      "metadata": {
        "id": "55b7a2e2-20c3-45bb-84b3-3e4f1417d2e8"
      },
      "cell_type": "markdown",
      "id": "55b7a2e2-20c3-45bb-84b3-3e4f1417d2e8"
    },
    {
      "source": [
        "\n",
        "name_label = ['Sunday','Monday','Tuesday','Wednesday','Thurday','Friday','Saturday']\n",
        "figure = px.line(df5, 'dayofweek','total_amount',title='TREND OF AMOUNT ACROSS DAYS OF WEEK',text=name_label)\n",
        "figure.update_traces(textposition=\"bottom center\",\n",
        "                    line_color='white', textfont={'color':'white'})\n",
        "figure.update_xaxes(showgrid=False,zeroline=False)\n",
        "figure.update_yaxes(gridcolor='gray')\n",
        "figure.update_layout(\n",
        "    plot_bgcolor=\"#0932e8\"\n",
        ")\n",
        "\n",
        "figure.show()"
      ],
      "metadata": {
        "executionCancelledAt": null,
        "executionTime": 57,
        "lastExecutedAt": 1695822105105,
        "lastScheduledRunId": null,
        "lastSuccessfullyExecutedCode": "\nname_label = ['Sunday','Monday','Tuesday','Wednesday','Thurday','Friday','Saturday']\nfigure = px.line(df5, 'dayofweek','total_amount',title='TREND OF AMOUNT ACROSS DAYS OF WEEK',text=name_label)\nfigure.update_traces(textposition=\"bottom center\",\n                    line_color='white', textfont={'color':'white'})\nfigure.update_xaxes(showgrid=False,zeroline=False)\nfigure.update_yaxes(gridcolor='gray')\nfigure.update_layout(\n    plot_bgcolor=\"#0932e8\"\n)\n\nfigure.show()",
        "outputsMetadata": {
          "0": {
            "height": 17,
            "type": "plotly"
          }
        },
        "id": "00f085fb-f17a-41a8-ad2a-9a3f06fb4824",
        "outputId": "a8766deb-b6f1-4cee-e965-2953c82285af"
      },
      "cell_type": "code",
      "id": "00f085fb-f17a-41a8-ad2a-9a3f06fb4824",
      "execution_count": null,
      "outputs": [
        {
          "output_type": "display_data",
          "data": {
            "application/vnd.plotly.v1+json": {
              "data": [
                {
                  "hovertemplate": "dayofweek=%{x}<br>total_amount=%{y}<br>text=%{text}<extra></extra>",
                  "legendgroup": "",
                  "line": {
                    "color": "white",
                    "dash": "solid"
                  },
                  "marker": {
                    "symbol": "circle"
                  },
                  "mode": "markers+lines+text",
                  "name": "",
                  "orientation": "v",
                  "showlegend": false,
                  "text": [
                    "Sunday",
                    "Monday",
                    "Tuesday",
                    "Wednesday",
                    "Thurday",
                    "Friday",
                    "Saturday"
                  ],
                  "x": [
                    0,
                    1,
                    2,
                    3,
                    4,
                    5,
                    6
                  ],
                  "xaxis": "x",
                  "y": [
                    312723.88999999996,
                    193133.29000000062,
                    170242.42,
                    181630.10000000044,
                    617900.2999999953,
                    670582.5299999972,
                    723521.6399999956
                  ],
                  "yaxis": "y",
                  "type": "scatter",
                  "textfont": {
                    "color": "white"
                  },
                  "textposition": "bottom center"
                }
              ],
              "layout": {
                "template": {
                  "data": {
                    "histogram2dcontour": [
                      {
                        "type": "histogram2dcontour",
                        "colorbar": {
                          "outlinewidth": 0,
                          "ticks": ""
                        },
                        "colorscale": [
                          [
                            0,
                            "#0d0887"
                          ],
                          [
                            0.1111111111111111,
                            "#46039f"
                          ],
                          [
                            0.2222222222222222,
                            "#7201a8"
                          ],
                          [
                            0.3333333333333333,
                            "#9c179e"
                          ],
                          [
                            0.4444444444444444,
                            "#bd3786"
                          ],
                          [
                            0.5555555555555556,
                            "#d8576b"
                          ],
                          [
                            0.6666666666666666,
                            "#ed7953"
                          ],
                          [
                            0.7777777777777778,
                            "#fb9f3a"
                          ],
                          [
                            0.8888888888888888,
                            "#fdca26"
                          ],
                          [
                            1,
                            "#f0f921"
                          ]
                        ]
                      }
                    ],
                    "choropleth": [
                      {
                        "type": "choropleth",
                        "colorbar": {
                          "outlinewidth": 0,
                          "ticks": ""
                        }
                      }
                    ],
                    "histogram2d": [
                      {
                        "type": "histogram2d",
                        "colorbar": {
                          "outlinewidth": 0,
                          "ticks": ""
                        },
                        "colorscale": [
                          [
                            0,
                            "#0d0887"
                          ],
                          [
                            0.1111111111111111,
                            "#46039f"
                          ],
                          [
                            0.2222222222222222,
                            "#7201a8"
                          ],
                          [
                            0.3333333333333333,
                            "#9c179e"
                          ],
                          [
                            0.4444444444444444,
                            "#bd3786"
                          ],
                          [
                            0.5555555555555556,
                            "#d8576b"
                          ],
                          [
                            0.6666666666666666,
                            "#ed7953"
                          ],
                          [
                            0.7777777777777778,
                            "#fb9f3a"
                          ],
                          [
                            0.8888888888888888,
                            "#fdca26"
                          ],
                          [
                            1,
                            "#f0f921"
                          ]
                        ]
                      }
                    ],
                    "heatmap": [
                      {
                        "type": "heatmap",
                        "colorbar": {
                          "outlinewidth": 0,
                          "ticks": ""
                        },
                        "colorscale": [
                          [
                            0,
                            "#0d0887"
                          ],
                          [
                            0.1111111111111111,
                            "#46039f"
                          ],
                          [
                            0.2222222222222222,
                            "#7201a8"
                          ],
                          [
                            0.3333333333333333,
                            "#9c179e"
                          ],
                          [
                            0.4444444444444444,
                            "#bd3786"
                          ],
                          [
                            0.5555555555555556,
                            "#d8576b"
                          ],
                          [
                            0.6666666666666666,
                            "#ed7953"
                          ],
                          [
                            0.7777777777777778,
                            "#fb9f3a"
                          ],
                          [
                            0.8888888888888888,
                            "#fdca26"
                          ],
                          [
                            1,
                            "#f0f921"
                          ]
                        ]
                      }
                    ],
                    "heatmapgl": [
                      {
                        "type": "heatmapgl",
                        "colorbar": {
                          "outlinewidth": 0,
                          "ticks": ""
                        },
                        "colorscale": [
                          [
                            0,
                            "#0d0887"
                          ],
                          [
                            0.1111111111111111,
                            "#46039f"
                          ],
                          [
                            0.2222222222222222,
                            "#7201a8"
                          ],
                          [
                            0.3333333333333333,
                            "#9c179e"
                          ],
                          [
                            0.4444444444444444,
                            "#bd3786"
                          ],
                          [
                            0.5555555555555556,
                            "#d8576b"
                          ],
                          [
                            0.6666666666666666,
                            "#ed7953"
                          ],
                          [
                            0.7777777777777778,
                            "#fb9f3a"
                          ],
                          [
                            0.8888888888888888,
                            "#fdca26"
                          ],
                          [
                            1,
                            "#f0f921"
                          ]
                        ]
                      }
                    ],
                    "contourcarpet": [
                      {
                        "type": "contourcarpet",
                        "colorbar": {
                          "outlinewidth": 0,
                          "ticks": ""
                        }
                      }
                    ],
                    "contour": [
                      {
                        "type": "contour",
                        "colorbar": {
                          "outlinewidth": 0,
                          "ticks": ""
                        },
                        "colorscale": [
                          [
                            0,
                            "#0d0887"
                          ],
                          [
                            0.1111111111111111,
                            "#46039f"
                          ],
                          [
                            0.2222222222222222,
                            "#7201a8"
                          ],
                          [
                            0.3333333333333333,
                            "#9c179e"
                          ],
                          [
                            0.4444444444444444,
                            "#bd3786"
                          ],
                          [
                            0.5555555555555556,
                            "#d8576b"
                          ],
                          [
                            0.6666666666666666,
                            "#ed7953"
                          ],
                          [
                            0.7777777777777778,
                            "#fb9f3a"
                          ],
                          [
                            0.8888888888888888,
                            "#fdca26"
                          ],
                          [
                            1,
                            "#f0f921"
                          ]
                        ]
                      }
                    ],
                    "surface": [
                      {
                        "type": "surface",
                        "colorbar": {
                          "outlinewidth": 0,
                          "ticks": ""
                        },
                        "colorscale": [
                          [
                            0,
                            "#0d0887"
                          ],
                          [
                            0.1111111111111111,
                            "#46039f"
                          ],
                          [
                            0.2222222222222222,
                            "#7201a8"
                          ],
                          [
                            0.3333333333333333,
                            "#9c179e"
                          ],
                          [
                            0.4444444444444444,
                            "#bd3786"
                          ],
                          [
                            0.5555555555555556,
                            "#d8576b"
                          ],
                          [
                            0.6666666666666666,
                            "#ed7953"
                          ],
                          [
                            0.7777777777777778,
                            "#fb9f3a"
                          ],
                          [
                            0.8888888888888888,
                            "#fdca26"
                          ],
                          [
                            1,
                            "#f0f921"
                          ]
                        ]
                      }
                    ],
                    "mesh3d": [
                      {
                        "type": "mesh3d",
                        "colorbar": {
                          "outlinewidth": 0,
                          "ticks": ""
                        }
                      }
                    ],
                    "scatter": [
                      {
                        "fillpattern": {
                          "fillmode": "overlay",
                          "size": 10,
                          "solidity": 0.2
                        },
                        "type": "scatter"
                      }
                    ],
                    "parcoords": [
                      {
                        "type": "parcoords",
                        "line": {
                          "colorbar": {
                            "outlinewidth": 0,
                            "ticks": ""
                          }
                        }
                      }
                    ],
                    "scatterpolargl": [
                      {
                        "type": "scatterpolargl",
                        "marker": {
                          "colorbar": {
                            "outlinewidth": 0,
                            "ticks": ""
                          }
                        }
                      }
                    ],
                    "bar": [
                      {
                        "error_x": {
                          "color": "#2a3f5f"
                        },
                        "error_y": {
                          "color": "#2a3f5f"
                        },
                        "marker": {
                          "line": {
                            "color": "#E5ECF6",
                            "width": 0.5
                          },
                          "pattern": {
                            "fillmode": "overlay",
                            "size": 10,
                            "solidity": 0.2
                          }
                        },
                        "type": "bar"
                      }
                    ],
                    "scattergeo": [
                      {
                        "type": "scattergeo",
                        "marker": {
                          "colorbar": {
                            "outlinewidth": 0,
                            "ticks": ""
                          }
                        }
                      }
                    ],
                    "scatterpolar": [
                      {
                        "type": "scatterpolar",
                        "marker": {
                          "colorbar": {
                            "outlinewidth": 0,
                            "ticks": ""
                          }
                        }
                      }
                    ],
                    "histogram": [
                      {
                        "marker": {
                          "pattern": {
                            "fillmode": "overlay",
                            "size": 10,
                            "solidity": 0.2
                          }
                        },
                        "type": "histogram"
                      }
                    ],
                    "scattergl": [
                      {
                        "type": "scattergl",
                        "marker": {
                          "colorbar": {
                            "outlinewidth": 0,
                            "ticks": ""
                          }
                        }
                      }
                    ],
                    "scatter3d": [
                      {
                        "type": "scatter3d",
                        "line": {
                          "colorbar": {
                            "outlinewidth": 0,
                            "ticks": ""
                          }
                        },
                        "marker": {
                          "colorbar": {
                            "outlinewidth": 0,
                            "ticks": ""
                          }
                        }
                      }
                    ],
                    "scattermapbox": [
                      {
                        "type": "scattermapbox",
                        "marker": {
                          "colorbar": {
                            "outlinewidth": 0,
                            "ticks": ""
                          }
                        }
                      }
                    ],
                    "scatterternary": [
                      {
                        "type": "scatterternary",
                        "marker": {
                          "colorbar": {
                            "outlinewidth": 0,
                            "ticks": ""
                          }
                        }
                      }
                    ],
                    "scattercarpet": [
                      {
                        "type": "scattercarpet",
                        "marker": {
                          "colorbar": {
                            "outlinewidth": 0,
                            "ticks": ""
                          }
                        }
                      }
                    ],
                    "carpet": [
                      {
                        "aaxis": {
                          "endlinecolor": "#2a3f5f",
                          "gridcolor": "white",
                          "linecolor": "white",
                          "minorgridcolor": "white",
                          "startlinecolor": "#2a3f5f"
                        },
                        "baxis": {
                          "endlinecolor": "#2a3f5f",
                          "gridcolor": "white",
                          "linecolor": "white",
                          "minorgridcolor": "white",
                          "startlinecolor": "#2a3f5f"
                        },
                        "type": "carpet"
                      }
                    ],
                    "table": [
                      {
                        "cells": {
                          "fill": {
                            "color": "#EBF0F8"
                          },
                          "line": {
                            "color": "white"
                          }
                        },
                        "header": {
                          "fill": {
                            "color": "#C8D4E3"
                          },
                          "line": {
                            "color": "white"
                          }
                        },
                        "type": "table"
                      }
                    ],
                    "barpolar": [
                      {
                        "marker": {
                          "line": {
                            "color": "#E5ECF6",
                            "width": 0.5
                          },
                          "pattern": {
                            "fillmode": "overlay",
                            "size": 10,
                            "solidity": 0.2
                          }
                        },
                        "type": "barpolar"
                      }
                    ],
                    "pie": [
                      {
                        "automargin": true,
                        "type": "pie"
                      }
                    ]
                  },
                  "layout": {
                    "autotypenumbers": "strict",
                    "colorway": [
                      "#636efa",
                      "#EF553B",
                      "#00cc96",
                      "#ab63fa",
                      "#FFA15A",
                      "#19d3f3",
                      "#FF6692",
                      "#B6E880",
                      "#FF97FF",
                      "#FECB52"
                    ],
                    "font": {
                      "color": "#2a3f5f"
                    },
                    "hovermode": "closest",
                    "hoverlabel": {
                      "align": "left"
                    },
                    "paper_bgcolor": "white",
                    "plot_bgcolor": "#E5ECF6",
                    "polar": {
                      "bgcolor": "#E5ECF6",
                      "angularaxis": {
                        "gridcolor": "white",
                        "linecolor": "white",
                        "ticks": ""
                      },
                      "radialaxis": {
                        "gridcolor": "white",
                        "linecolor": "white",
                        "ticks": ""
                      }
                    },
                    "ternary": {
                      "bgcolor": "#E5ECF6",
                      "aaxis": {
                        "gridcolor": "white",
                        "linecolor": "white",
                        "ticks": ""
                      },
                      "baxis": {
                        "gridcolor": "white",
                        "linecolor": "white",
                        "ticks": ""
                      },
                      "caxis": {
                        "gridcolor": "white",
                        "linecolor": "white",
                        "ticks": ""
                      }
                    },
                    "coloraxis": {
                      "colorbar": {
                        "outlinewidth": 0,
                        "ticks": ""
                      }
                    },
                    "colorscale": {
                      "sequential": [
                        [
                          0,
                          "#0d0887"
                        ],
                        [
                          0.1111111111111111,
                          "#46039f"
                        ],
                        [
                          0.2222222222222222,
                          "#7201a8"
                        ],
                        [
                          0.3333333333333333,
                          "#9c179e"
                        ],
                        [
                          0.4444444444444444,
                          "#bd3786"
                        ],
                        [
                          0.5555555555555556,
                          "#d8576b"
                        ],
                        [
                          0.6666666666666666,
                          "#ed7953"
                        ],
                        [
                          0.7777777777777778,
                          "#fb9f3a"
                        ],
                        [
                          0.8888888888888888,
                          "#fdca26"
                        ],
                        [
                          1,
                          "#f0f921"
                        ]
                      ],
                      "sequentialminus": [
                        [
                          0,
                          "#0d0887"
                        ],
                        [
                          0.1111111111111111,
                          "#46039f"
                        ],
                        [
                          0.2222222222222222,
                          "#7201a8"
                        ],
                        [
                          0.3333333333333333,
                          "#9c179e"
                        ],
                        [
                          0.4444444444444444,
                          "#bd3786"
                        ],
                        [
                          0.5555555555555556,
                          "#d8576b"
                        ],
                        [
                          0.6666666666666666,
                          "#ed7953"
                        ],
                        [
                          0.7777777777777778,
                          "#fb9f3a"
                        ],
                        [
                          0.8888888888888888,
                          "#fdca26"
                        ],
                        [
                          1,
                          "#f0f921"
                        ]
                      ],
                      "diverging": [
                        [
                          0,
                          "#8e0152"
                        ],
                        [
                          0.1,
                          "#c51b7d"
                        ],
                        [
                          0.2,
                          "#de77ae"
                        ],
                        [
                          0.3,
                          "#f1b6da"
                        ],
                        [
                          0.4,
                          "#fde0ef"
                        ],
                        [
                          0.5,
                          "#f7f7f7"
                        ],
                        [
                          0.6,
                          "#e6f5d0"
                        ],
                        [
                          0.7,
                          "#b8e186"
                        ],
                        [
                          0.8,
                          "#7fbc41"
                        ],
                        [
                          0.9,
                          "#4d9221"
                        ],
                        [
                          1,
                          "#276419"
                        ]
                      ]
                    },
                    "xaxis": {
                      "gridcolor": "white",
                      "linecolor": "white",
                      "ticks": "",
                      "title": {
                        "standoff": 15
                      },
                      "zerolinecolor": "white",
                      "automargin": true,
                      "zerolinewidth": 2
                    },
                    "yaxis": {
                      "gridcolor": "white",
                      "linecolor": "white",
                      "ticks": "",
                      "title": {
                        "standoff": 15
                      },
                      "zerolinecolor": "white",
                      "automargin": true,
                      "zerolinewidth": 2
                    },
                    "scene": {
                      "xaxis": {
                        "backgroundcolor": "#E5ECF6",
                        "gridcolor": "white",
                        "linecolor": "white",
                        "showbackground": true,
                        "ticks": "",
                        "zerolinecolor": "white",
                        "gridwidth": 2
                      },
                      "yaxis": {
                        "backgroundcolor": "#E5ECF6",
                        "gridcolor": "white",
                        "linecolor": "white",
                        "showbackground": true,
                        "ticks": "",
                        "zerolinecolor": "white",
                        "gridwidth": 2
                      },
                      "zaxis": {
                        "backgroundcolor": "#E5ECF6",
                        "gridcolor": "white",
                        "linecolor": "white",
                        "showbackground": true,
                        "ticks": "",
                        "zerolinecolor": "white",
                        "gridwidth": 2
                      }
                    },
                    "shapedefaults": {
                      "line": {
                        "color": "#2a3f5f"
                      }
                    },
                    "annotationdefaults": {
                      "arrowcolor": "#2a3f5f",
                      "arrowhead": 0,
                      "arrowwidth": 1
                    },
                    "geo": {
                      "bgcolor": "white",
                      "landcolor": "#E5ECF6",
                      "subunitcolor": "white",
                      "showland": true,
                      "showlakes": true,
                      "lakecolor": "white"
                    },
                    "title": {
                      "x": 0.05
                    },
                    "mapbox": {
                      "style": "light"
                    }
                  }
                },
                "xaxis": {
                  "anchor": "y",
                  "domain": [
                    0,
                    1
                  ],
                  "title": {
                    "text": "dayofweek"
                  },
                  "showgrid": false,
                  "zeroline": false
                },
                "yaxis": {
                  "anchor": "x",
                  "domain": [
                    0,
                    1
                  ],
                  "title": {
                    "text": "total_amount"
                  },
                  "gridcolor": "gray"
                },
                "legend": {
                  "tracegroupgap": 0
                },
                "title": {
                  "text": "TREND OF AMOUNT ACROSS DAYS OF WEEK"
                },
                "plot_bgcolor": "#0932e8"
              },
              "config": {
                "plotlyServerURL": "https://plot.ly"
              }
            }
          },
          "metadata": {}
        }
      ]
    },
    {
      "source": [
        "Now let's query and see the total amount made in the three categories of interest: Sunday, Thursday-Saturday, Mon-Weds. By visualising the result of our query, we see that there were low purchases on sundays relative to the others. This is expected as the supermarket didn't open on some Sundays."
      ],
      "metadata": {
        "id": "ef3d2109-b146-42ce-9272-6806ca1e48d2"
      },
      "cell_type": "markdown",
      "id": "ef3d2109-b146-42ce-9272-6806ca1e48d2"
    },
    {
      "source": [
        "SELECT\n",
        "\tSUM(amount) AS daily_thur_fri_sat,\n",
        "\t(SELECT\n",
        "\tSUM(amount) AS total_daily_amount\n",
        "FROM 'pos_transactions.csv'\n",
        "WHERE DATE_PART('dayofweek',end_date_time::DATE) in (0)\n",
        "\t) AS sunday,\n",
        "(SELECT\n",
        "\tSUM(amount) AS total_daily_amount\n",
        "FROM 'pos_transactions.csv'\n",
        "WHERE DATE_PART('dayofweek',end_date_time::DATE) in (1,2,3)\n",
        " ) AS daily_total_mon_tues_weds,\n",
        "FROM 'pos_transactions.csv'\n",
        "WHERE DATE_PART('dayofweek',end_date_time::DATE) in (4,5,6)"
      ],
      "metadata": {
        "customType": "sql",
        "dataFrameVariableName": "df6",
        "sqlCellMode": "dataFrame",
        "sqlSource": {
          "type": "dataframesAndCsvs"
        },
        "executionCancelledAt": null,
        "executionTime": 967,
        "lastExecutedAt": 1695822106072,
        "lastScheduledRunId": null,
        "lastSuccessfullyExecutedCode": "SELECT \n\tSUM(amount) AS daily_thur_fri_sat,\n\t(SELECT \n\tSUM(amount) AS total_daily_amount\nFROM 'pos_transactions.csv'\nWHERE DATE_PART('dayofweek',end_date_time::DATE) in (0)\n\t) AS sunday,\n(SELECT \n\tSUM(amount) AS total_daily_amount\nFROM 'pos_transactions.csv'\nWHERE DATE_PART('dayofweek',end_date_time::DATE) in (1,2,3)\n ) AS daily_total_mon_tues_weds,\nFROM 'pos_transactions.csv'\nWHERE DATE_PART('dayofweek',end_date_time::DATE) in (4,5,6)",
        "outputsMetadata": {
          "0": {
            "height": 96,
            "type": "dataFrame"
          }
        },
        "id": "928e5ee0-b921-415c-a611-ada32054666d",
        "outputId": "115e50ac-fc7f-4c73-8647-3d897202e99d"
      },
      "cell_type": "code",
      "id": "928e5ee0-b921-415c-a611-ada32054666d",
      "execution_count": null,
      "outputs": [
        {
          "output_type": "execute_result",
          "data": {
            "application/com.datacamp.data-table.v1+json": {
              "table": {
                "schema": {
                  "fields": [
                    {
                      "name": "index",
                      "type": "integer"
                    },
                    {
                      "name": "daily_thur_fri_sat",
                      "type": "number"
                    },
                    {
                      "name": "sunday",
                      "type": "number"
                    },
                    {
                      "name": "daily_total_mon_tues_weds",
                      "type": "number"
                    }
                  ],
                  "primaryKey": [
                    "index"
                  ],
                  "pandas_version": "1.4.0"
                },
                "data": [
                  {
                    "index": 0,
                    "daily_thur_fri_sat": 6955164.750000509,
                    "sunday": 933108.8999999869,
                    "daily_total_mon_tues_weds": 3970181.360000197
                  }
                ]
              },
              "total_rows": 1,
              "truncation_type": null
            },
            "text/plain": "   daily_thur_fri_sat    sunday  daily_total_mon_tues_weds\n0        6.955165e+06  933108.9                 3970181.36",
            "text/html": "<div>\n<style scoped>\n    .dataframe tbody tr th:only-of-type {\n        vertical-align: middle;\n    }\n\n    .dataframe tbody tr th {\n        vertical-align: top;\n    }\n\n    .dataframe thead th {\n        text-align: right;\n    }\n</style>\n<table border=\"1\" class=\"dataframe\">\n  <thead>\n    <tr style=\"text-align: right;\">\n      <th></th>\n      <th>daily_thur_fri_sat</th>\n      <th>sunday</th>\n      <th>daily_total_mon_tues_weds</th>\n    </tr>\n  </thead>\n  <tbody>\n    <tr>\n      <th>0</th>\n      <td>6.955165e+06</td>\n      <td>933108.9</td>\n      <td>3970181.36</td>\n    </tr>\n  </tbody>\n</table>\n</div>"
          },
          "metadata": {},
          "execution_count": 91
        }
      ]
    },
    {
      "source": [
        "fig = px.bar(df6.iloc[0],title='TOTAL AMOUNT ACROSS THE THREE CATEGORIES', labels={\n",
        "    'value':'Amount', 'index':'Category'\n",
        "})\n",
        "fig.update_traces(\n",
        "    marker_color='#0932e8'\n",
        ")\n",
        "fig.update_layout(\n",
        "    plot_bgcolor=\"#cfe4ff\",\n",
        "    showlegend=False\n",
        ")"
      ],
      "metadata": {
        "executionCancelledAt": null,
        "executionTime": 61,
        "lastExecutedAt": 1695822106133,
        "lastScheduledRunId": null,
        "lastSuccessfullyExecutedCode": "fig = px.bar(df6.iloc[0],title='TOTAL AMOUNT ACROSS THE THREE CATEGORIES', labels={\n    'value':'Amount', 'index':'Category'\n})\nfig.update_traces(\n    marker_color='#0932e8'\n)\nfig.update_layout(\n    plot_bgcolor=\"#cfe4ff\",\n    showlegend=False\n)",
        "outputsMetadata": {
          "0": {
            "height": 17,
            "type": "plotly"
          }
        },
        "id": "fb1aa817-fb22-4ddf-8d73-ff21c03e8195",
        "outputId": "0adfd371-b52b-48c0-846a-c5fbfeb259be"
      },
      "cell_type": "code",
      "id": "fb1aa817-fb22-4ddf-8d73-ff21c03e8195",
      "execution_count": null,
      "outputs": [
        {
          "output_type": "display_data",
          "data": {
            "application/vnd.plotly.v1+json": {
              "data": [
                {
                  "alignmentgroup": "True",
                  "hovertemplate": "variable=0<br>Category=%{x}<br>Amount=%{y}<extra></extra>",
                  "legendgroup": "0",
                  "marker": {
                    "color": "#0932e8",
                    "pattern": {
                      "shape": ""
                    }
                  },
                  "name": "0",
                  "offsetgroup": "0",
                  "orientation": "v",
                  "showlegend": true,
                  "textposition": "auto",
                  "x": [
                    "daily_thur_fri_sat",
                    "sunday",
                    "daily_total_mon_tues_weds"
                  ],
                  "xaxis": "x",
                  "y": [
                    6955164.750000509,
                    933108.8999999869,
                    3970181.360000197
                  ],
                  "yaxis": "y",
                  "type": "bar"
                }
              ],
              "layout": {
                "template": {
                  "data": {
                    "histogram2dcontour": [
                      {
                        "type": "histogram2dcontour",
                        "colorbar": {
                          "outlinewidth": 0,
                          "ticks": ""
                        },
                        "colorscale": [
                          [
                            0,
                            "#0d0887"
                          ],
                          [
                            0.1111111111111111,
                            "#46039f"
                          ],
                          [
                            0.2222222222222222,
                            "#7201a8"
                          ],
                          [
                            0.3333333333333333,
                            "#9c179e"
                          ],
                          [
                            0.4444444444444444,
                            "#bd3786"
                          ],
                          [
                            0.5555555555555556,
                            "#d8576b"
                          ],
                          [
                            0.6666666666666666,
                            "#ed7953"
                          ],
                          [
                            0.7777777777777778,
                            "#fb9f3a"
                          ],
                          [
                            0.8888888888888888,
                            "#fdca26"
                          ],
                          [
                            1,
                            "#f0f921"
                          ]
                        ]
                      }
                    ],
                    "choropleth": [
                      {
                        "type": "choropleth",
                        "colorbar": {
                          "outlinewidth": 0,
                          "ticks": ""
                        }
                      }
                    ],
                    "histogram2d": [
                      {
                        "type": "histogram2d",
                        "colorbar": {
                          "outlinewidth": 0,
                          "ticks": ""
                        },
                        "colorscale": [
                          [
                            0,
                            "#0d0887"
                          ],
                          [
                            0.1111111111111111,
                            "#46039f"
                          ],
                          [
                            0.2222222222222222,
                            "#7201a8"
                          ],
                          [
                            0.3333333333333333,
                            "#9c179e"
                          ],
                          [
                            0.4444444444444444,
                            "#bd3786"
                          ],
                          [
                            0.5555555555555556,
                            "#d8576b"
                          ],
                          [
                            0.6666666666666666,
                            "#ed7953"
                          ],
                          [
                            0.7777777777777778,
                            "#fb9f3a"
                          ],
                          [
                            0.8888888888888888,
                            "#fdca26"
                          ],
                          [
                            1,
                            "#f0f921"
                          ]
                        ]
                      }
                    ],
                    "heatmap": [
                      {
                        "type": "heatmap",
                        "colorbar": {
                          "outlinewidth": 0,
                          "ticks": ""
                        },
                        "colorscale": [
                          [
                            0,
                            "#0d0887"
                          ],
                          [
                            0.1111111111111111,
                            "#46039f"
                          ],
                          [
                            0.2222222222222222,
                            "#7201a8"
                          ],
                          [
                            0.3333333333333333,
                            "#9c179e"
                          ],
                          [
                            0.4444444444444444,
                            "#bd3786"
                          ],
                          [
                            0.5555555555555556,
                            "#d8576b"
                          ],
                          [
                            0.6666666666666666,
                            "#ed7953"
                          ],
                          [
                            0.7777777777777778,
                            "#fb9f3a"
                          ],
                          [
                            0.8888888888888888,
                            "#fdca26"
                          ],
                          [
                            1,
                            "#f0f921"
                          ]
                        ]
                      }
                    ],
                    "heatmapgl": [
                      {
                        "type": "heatmapgl",
                        "colorbar": {
                          "outlinewidth": 0,
                          "ticks": ""
                        },
                        "colorscale": [
                          [
                            0,
                            "#0d0887"
                          ],
                          [
                            0.1111111111111111,
                            "#46039f"
                          ],
                          [
                            0.2222222222222222,
                            "#7201a8"
                          ],
                          [
                            0.3333333333333333,
                            "#9c179e"
                          ],
                          [
                            0.4444444444444444,
                            "#bd3786"
                          ],
                          [
                            0.5555555555555556,
                            "#d8576b"
                          ],
                          [
                            0.6666666666666666,
                            "#ed7953"
                          ],
                          [
                            0.7777777777777778,
                            "#fb9f3a"
                          ],
                          [
                            0.8888888888888888,
                            "#fdca26"
                          ],
                          [
                            1,
                            "#f0f921"
                          ]
                        ]
                      }
                    ],
                    "contourcarpet": [
                      {
                        "type": "contourcarpet",
                        "colorbar": {
                          "outlinewidth": 0,
                          "ticks": ""
                        }
                      }
                    ],
                    "contour": [
                      {
                        "type": "contour",
                        "colorbar": {
                          "outlinewidth": 0,
                          "ticks": ""
                        },
                        "colorscale": [
                          [
                            0,
                            "#0d0887"
                          ],
                          [
                            0.1111111111111111,
                            "#46039f"
                          ],
                          [
                            0.2222222222222222,
                            "#7201a8"
                          ],
                          [
                            0.3333333333333333,
                            "#9c179e"
                          ],
                          [
                            0.4444444444444444,
                            "#bd3786"
                          ],
                          [
                            0.5555555555555556,
                            "#d8576b"
                          ],
                          [
                            0.6666666666666666,
                            "#ed7953"
                          ],
                          [
                            0.7777777777777778,
                            "#fb9f3a"
                          ],
                          [
                            0.8888888888888888,
                            "#fdca26"
                          ],
                          [
                            1,
                            "#f0f921"
                          ]
                        ]
                      }
                    ],
                    "surface": [
                      {
                        "type": "surface",
                        "colorbar": {
                          "outlinewidth": 0,
                          "ticks": ""
                        },
                        "colorscale": [
                          [
                            0,
                            "#0d0887"
                          ],
                          [
                            0.1111111111111111,
                            "#46039f"
                          ],
                          [
                            0.2222222222222222,
                            "#7201a8"
                          ],
                          [
                            0.3333333333333333,
                            "#9c179e"
                          ],
                          [
                            0.4444444444444444,
                            "#bd3786"
                          ],
                          [
                            0.5555555555555556,
                            "#d8576b"
                          ],
                          [
                            0.6666666666666666,
                            "#ed7953"
                          ],
                          [
                            0.7777777777777778,
                            "#fb9f3a"
                          ],
                          [
                            0.8888888888888888,
                            "#fdca26"
                          ],
                          [
                            1,
                            "#f0f921"
                          ]
                        ]
                      }
                    ],
                    "mesh3d": [
                      {
                        "type": "mesh3d",
                        "colorbar": {
                          "outlinewidth": 0,
                          "ticks": ""
                        }
                      }
                    ],
                    "scatter": [
                      {
                        "fillpattern": {
                          "fillmode": "overlay",
                          "size": 10,
                          "solidity": 0.2
                        },
                        "type": "scatter"
                      }
                    ],
                    "parcoords": [
                      {
                        "type": "parcoords",
                        "line": {
                          "colorbar": {
                            "outlinewidth": 0,
                            "ticks": ""
                          }
                        }
                      }
                    ],
                    "scatterpolargl": [
                      {
                        "type": "scatterpolargl",
                        "marker": {
                          "colorbar": {
                            "outlinewidth": 0,
                            "ticks": ""
                          }
                        }
                      }
                    ],
                    "bar": [
                      {
                        "error_x": {
                          "color": "#2a3f5f"
                        },
                        "error_y": {
                          "color": "#2a3f5f"
                        },
                        "marker": {
                          "line": {
                            "color": "#E5ECF6",
                            "width": 0.5
                          },
                          "pattern": {
                            "fillmode": "overlay",
                            "size": 10,
                            "solidity": 0.2
                          }
                        },
                        "type": "bar"
                      }
                    ],
                    "scattergeo": [
                      {
                        "type": "scattergeo",
                        "marker": {
                          "colorbar": {
                            "outlinewidth": 0,
                            "ticks": ""
                          }
                        }
                      }
                    ],
                    "scatterpolar": [
                      {
                        "type": "scatterpolar",
                        "marker": {
                          "colorbar": {
                            "outlinewidth": 0,
                            "ticks": ""
                          }
                        }
                      }
                    ],
                    "histogram": [
                      {
                        "marker": {
                          "pattern": {
                            "fillmode": "overlay",
                            "size": 10,
                            "solidity": 0.2
                          }
                        },
                        "type": "histogram"
                      }
                    ],
                    "scattergl": [
                      {
                        "type": "scattergl",
                        "marker": {
                          "colorbar": {
                            "outlinewidth": 0,
                            "ticks": ""
                          }
                        }
                      }
                    ],
                    "scatter3d": [
                      {
                        "type": "scatter3d",
                        "line": {
                          "colorbar": {
                            "outlinewidth": 0,
                            "ticks": ""
                          }
                        },
                        "marker": {
                          "colorbar": {
                            "outlinewidth": 0,
                            "ticks": ""
                          }
                        }
                      }
                    ],
                    "scattermapbox": [
                      {
                        "type": "scattermapbox",
                        "marker": {
                          "colorbar": {
                            "outlinewidth": 0,
                            "ticks": ""
                          }
                        }
                      }
                    ],
                    "scatterternary": [
                      {
                        "type": "scatterternary",
                        "marker": {
                          "colorbar": {
                            "outlinewidth": 0,
                            "ticks": ""
                          }
                        }
                      }
                    ],
                    "scattercarpet": [
                      {
                        "type": "scattercarpet",
                        "marker": {
                          "colorbar": {
                            "outlinewidth": 0,
                            "ticks": ""
                          }
                        }
                      }
                    ],
                    "carpet": [
                      {
                        "aaxis": {
                          "endlinecolor": "#2a3f5f",
                          "gridcolor": "white",
                          "linecolor": "white",
                          "minorgridcolor": "white",
                          "startlinecolor": "#2a3f5f"
                        },
                        "baxis": {
                          "endlinecolor": "#2a3f5f",
                          "gridcolor": "white",
                          "linecolor": "white",
                          "minorgridcolor": "white",
                          "startlinecolor": "#2a3f5f"
                        },
                        "type": "carpet"
                      }
                    ],
                    "table": [
                      {
                        "cells": {
                          "fill": {
                            "color": "#EBF0F8"
                          },
                          "line": {
                            "color": "white"
                          }
                        },
                        "header": {
                          "fill": {
                            "color": "#C8D4E3"
                          },
                          "line": {
                            "color": "white"
                          }
                        },
                        "type": "table"
                      }
                    ],
                    "barpolar": [
                      {
                        "marker": {
                          "line": {
                            "color": "#E5ECF6",
                            "width": 0.5
                          },
                          "pattern": {
                            "fillmode": "overlay",
                            "size": 10,
                            "solidity": 0.2
                          }
                        },
                        "type": "barpolar"
                      }
                    ],
                    "pie": [
                      {
                        "automargin": true,
                        "type": "pie"
                      }
                    ]
                  },
                  "layout": {
                    "autotypenumbers": "strict",
                    "colorway": [
                      "#636efa",
                      "#EF553B",
                      "#00cc96",
                      "#ab63fa",
                      "#FFA15A",
                      "#19d3f3",
                      "#FF6692",
                      "#B6E880",
                      "#FF97FF",
                      "#FECB52"
                    ],
                    "font": {
                      "color": "#2a3f5f"
                    },
                    "hovermode": "closest",
                    "hoverlabel": {
                      "align": "left"
                    },
                    "paper_bgcolor": "white",
                    "plot_bgcolor": "#E5ECF6",
                    "polar": {
                      "bgcolor": "#E5ECF6",
                      "angularaxis": {
                        "gridcolor": "white",
                        "linecolor": "white",
                        "ticks": ""
                      },
                      "radialaxis": {
                        "gridcolor": "white",
                        "linecolor": "white",
                        "ticks": ""
                      }
                    },
                    "ternary": {
                      "bgcolor": "#E5ECF6",
                      "aaxis": {
                        "gridcolor": "white",
                        "linecolor": "white",
                        "ticks": ""
                      },
                      "baxis": {
                        "gridcolor": "white",
                        "linecolor": "white",
                        "ticks": ""
                      },
                      "caxis": {
                        "gridcolor": "white",
                        "linecolor": "white",
                        "ticks": ""
                      }
                    },
                    "coloraxis": {
                      "colorbar": {
                        "outlinewidth": 0,
                        "ticks": ""
                      }
                    },
                    "colorscale": {
                      "sequential": [
                        [
                          0,
                          "#0d0887"
                        ],
                        [
                          0.1111111111111111,
                          "#46039f"
                        ],
                        [
                          0.2222222222222222,
                          "#7201a8"
                        ],
                        [
                          0.3333333333333333,
                          "#9c179e"
                        ],
                        [
                          0.4444444444444444,
                          "#bd3786"
                        ],
                        [
                          0.5555555555555556,
                          "#d8576b"
                        ],
                        [
                          0.6666666666666666,
                          "#ed7953"
                        ],
                        [
                          0.7777777777777778,
                          "#fb9f3a"
                        ],
                        [
                          0.8888888888888888,
                          "#fdca26"
                        ],
                        [
                          1,
                          "#f0f921"
                        ]
                      ],
                      "sequentialminus": [
                        [
                          0,
                          "#0d0887"
                        ],
                        [
                          0.1111111111111111,
                          "#46039f"
                        ],
                        [
                          0.2222222222222222,
                          "#7201a8"
                        ],
                        [
                          0.3333333333333333,
                          "#9c179e"
                        ],
                        [
                          0.4444444444444444,
                          "#bd3786"
                        ],
                        [
                          0.5555555555555556,
                          "#d8576b"
                        ],
                        [
                          0.6666666666666666,
                          "#ed7953"
                        ],
                        [
                          0.7777777777777778,
                          "#fb9f3a"
                        ],
                        [
                          0.8888888888888888,
                          "#fdca26"
                        ],
                        [
                          1,
                          "#f0f921"
                        ]
                      ],
                      "diverging": [
                        [
                          0,
                          "#8e0152"
                        ],
                        [
                          0.1,
                          "#c51b7d"
                        ],
                        [
                          0.2,
                          "#de77ae"
                        ],
                        [
                          0.3,
                          "#f1b6da"
                        ],
                        [
                          0.4,
                          "#fde0ef"
                        ],
                        [
                          0.5,
                          "#f7f7f7"
                        ],
                        [
                          0.6,
                          "#e6f5d0"
                        ],
                        [
                          0.7,
                          "#b8e186"
                        ],
                        [
                          0.8,
                          "#7fbc41"
                        ],
                        [
                          0.9,
                          "#4d9221"
                        ],
                        [
                          1,
                          "#276419"
                        ]
                      ]
                    },
                    "xaxis": {
                      "gridcolor": "white",
                      "linecolor": "white",
                      "ticks": "",
                      "title": {
                        "standoff": 15
                      },
                      "zerolinecolor": "white",
                      "automargin": true,
                      "zerolinewidth": 2
                    },
                    "yaxis": {
                      "gridcolor": "white",
                      "linecolor": "white",
                      "ticks": "",
                      "title": {
                        "standoff": 15
                      },
                      "zerolinecolor": "white",
                      "automargin": true,
                      "zerolinewidth": 2
                    },
                    "scene": {
                      "xaxis": {
                        "backgroundcolor": "#E5ECF6",
                        "gridcolor": "white",
                        "linecolor": "white",
                        "showbackground": true,
                        "ticks": "",
                        "zerolinecolor": "white",
                        "gridwidth": 2
                      },
                      "yaxis": {
                        "backgroundcolor": "#E5ECF6",
                        "gridcolor": "white",
                        "linecolor": "white",
                        "showbackground": true,
                        "ticks": "",
                        "zerolinecolor": "white",
                        "gridwidth": 2
                      },
                      "zaxis": {
                        "backgroundcolor": "#E5ECF6",
                        "gridcolor": "white",
                        "linecolor": "white",
                        "showbackground": true,
                        "ticks": "",
                        "zerolinecolor": "white",
                        "gridwidth": 2
                      }
                    },
                    "shapedefaults": {
                      "line": {
                        "color": "#2a3f5f"
                      }
                    },
                    "annotationdefaults": {
                      "arrowcolor": "#2a3f5f",
                      "arrowhead": 0,
                      "arrowwidth": 1
                    },
                    "geo": {
                      "bgcolor": "white",
                      "landcolor": "#E5ECF6",
                      "subunitcolor": "white",
                      "showland": true,
                      "showlakes": true,
                      "lakecolor": "white"
                    },
                    "title": {
                      "x": 0.05
                    },
                    "mapbox": {
                      "style": "light"
                    }
                  }
                },
                "xaxis": {
                  "anchor": "y",
                  "domain": [
                    0,
                    1
                  ],
                  "title": {
                    "text": "Category"
                  }
                },
                "yaxis": {
                  "anchor": "x",
                  "domain": [
                    0,
                    1
                  ],
                  "title": {
                    "text": "Amount"
                  }
                },
                "legend": {
                  "title": {
                    "text": "variable"
                  },
                  "tracegroupgap": 0
                },
                "title": {
                  "text": "TOTAL AMOUNT ACROSS THE THREE CATEGORIES"
                },
                "barmode": "relative",
                "plot_bgcolor": "#cfe4ff",
                "showlegend": false
              },
              "config": {
                "plotlyServerURL": "https://plot.ly"
              }
            }
          },
          "metadata": {}
        }
      ]
    },
    {
      "source": [
        "The two Sundays I see are significantly lower in volume of transactions than all other days.\n",
        "Also, Thursdays, Fridays and Saturdays are approximately 25% higher in number of transactions and 40% higher in sales revenue than Mondays, Tuesdays and Wednesdays.\n",
        "\n",
        "Does it make sense to open stores on Sundays?\n",
        "\n",
        "The full week data is available only for week 8 and week 14. Let's compare these two.\n"
      ],
      "metadata": {
        "id": "0fc03ecd-ace1-4eae-a09d-2b23ac44025b"
      },
      "id": "0fc03ecd-ace1-4eae-a09d-2b23ac44025b",
      "cell_type": "markdown"
    },
    {
      "source": [
        "SELECT\n",
        "\n",
        "DATE_PART('week',end_date_time::DATE) AS week_num,\n",
        "SUM(amount) AS Amount\n",
        "\n",
        "FROM 'pos_transactions.csv'\n",
        "WHERE EXTRACT(YEAR FROM end_date_time) = '2019' AND DATE_PART('week',end_date_time::DATE) IN (8,14)\n",
        "GROUP BY week_num"
      ],
      "metadata": {
        "customType": "sql",
        "dataFrameVariableName": "df7",
        "sqlSource": {
          "type": "dataframesAndCsvs"
        },
        "visualizeDataframe": false,
        "chartConfig": {
          "bar": {
            "hasRoundedCorners": true,
            "stacked": false
          },
          "type": "bar",
          "version": "v1",
          "x": {
            "field": "week_num",
            "type": "integer"
          },
          "y": {
            "field": "sum",
            "type": "number"
          }
        },
        "executionTime": 375,
        "lastSuccessfullyExecutedCode": "SELECT \n\nDATE_PART('week',end_date_time::DATE) AS week_num,\nSUM(amount) AS Amount\n\nFROM 'pos_transactions.csv'\nWHERE EXTRACT(YEAR FROM end_date_time) = '2019' AND DATE_PART('week',end_date_time::DATE) IN (8,14)\nGROUP BY week_num",
        "executionCancelledAt": null,
        "lastExecutedAt": 1695822106508,
        "lastScheduledRunId": null,
        "outputsMetadata": {
          "0": {
            "height": 120,
            "type": "dataFrame"
          }
        },
        "id": "144932f1-d449-4991-95a4-c18038b58bef",
        "outputId": "a9c5604f-5be8-4d93-f8e0-119706b467fc"
      },
      "id": "144932f1-d449-4991-95a4-c18038b58bef",
      "cell_type": "code",
      "execution_count": null,
      "outputs": [
        {
          "output_type": "execute_result",
          "data": {
            "application/com.datacamp.data-table.v1+json": {
              "table": {
                "schema": {
                  "fields": [
                    {
                      "name": "index",
                      "type": "integer"
                    },
                    {
                      "name": "week_num",
                      "type": "integer"
                    },
                    {
                      "name": "Amount",
                      "type": "number"
                    }
                  ],
                  "primaryKey": [
                    "index"
                  ],
                  "pandas_version": "1.4.0"
                },
                "data": [
                  {
                    "index": 0,
                    "week_num": 8,
                    "Amount": 1686485.7199999623
                  },
                  {
                    "index": 1,
                    "week_num": 14,
                    "Amount": 1690989.869999981
                  }
                ]
              },
              "total_rows": 2,
              "truncation_type": null
            },
            "text/plain": "   week_num      Amount\n0         8  1686485.72\n1        14  1690989.87",
            "text/html": "<div>\n<style scoped>\n    .dataframe tbody tr th:only-of-type {\n        vertical-align: middle;\n    }\n\n    .dataframe tbody tr th {\n        vertical-align: top;\n    }\n\n    .dataframe thead th {\n        text-align: right;\n    }\n</style>\n<table border=\"1\" class=\"dataframe\">\n  <thead>\n    <tr style=\"text-align: right;\">\n      <th></th>\n      <th>week_num</th>\n      <th>Amount</th>\n    </tr>\n  </thead>\n  <tbody>\n    <tr>\n      <th>0</th>\n      <td>8</td>\n      <td>1686485.72</td>\n    </tr>\n    <tr>\n      <th>1</th>\n      <td>14</td>\n      <td>1690989.87</td>\n    </tr>\n  </tbody>\n</table>\n</div>"
          },
          "metadata": {},
          "execution_count": 93
        }
      ]
    },
    {
      "source": [
        "print(f'The difference in amount made between the two weeks is {np.abs(df7.loc[0,\"Amount\"]-df7.loc[1,\"Amount\"])}')"
      ],
      "metadata": {
        "executionCancelledAt": null,
        "executionTime": 49,
        "lastExecutedAt": 1695822106557,
        "lastScheduledRunId": null,
        "lastSuccessfullyExecutedCode": "print(f'The difference in amount made between the two weeks is {np.abs(df7.loc[0,\"Amount\"]-df7.loc[1,\"Amount\"])}')",
        "outputsMetadata": {
          "0": {
            "height": 36,
            "type": "stream"
          }
        },
        "id": "8acf0dea-7b62-42a5-b09a-b677ece1f2a3",
        "outputId": "a58a4909-7731-4759-89a7-de98ed88d727"
      },
      "cell_type": "code",
      "id": "8acf0dea-7b62-42a5-b09a-b677ece1f2a3",
      "execution_count": null,
      "outputs": [
        {
          "output_type": "stream",
          "name": "stdout",
          "text": "The difference in amount made between the two weeks is 4504.150000018766\n"
        }
      ]
    },
    {
      "source": [
        "This does not look like a big difference, however, to answer the question if it makes sense to open the stores on Sundays, other factors have to be considered, like, is the operational cost for Sundays lesser than what is made?\n",
        "\n",
        "Looking at the table below, we see that the stores had 18 employees working on Sunday 24 February and 20 employees working on Sunday 31 March.\n",
        "I would look into the hours per shift and the cost per hour to calcute the average savings per Sunday, as well as estimate all other costs of keeping stores open and operational (e.g. energy costs). I would also consider if the stocks will be affected in terms of life span, etc.\n",
        "\n",
        "These estimates will provide the basis to decide if it is sensible to open the stores on Sundays."
      ],
      "metadata": {
        "id": "035cfc85-0831-4df2-81ef-e161dd19519e"
      },
      "cell_type": "markdown",
      "id": "035cfc85-0831-4df2-81ef-e161dd19519e"
    },
    {
      "source": [
        "SELECT\n",
        "(begin_date_time::DATE) as working_day,\n",
        "COUNT(DISTINCT(operator_id)),\n",
        "(CASE\n",
        "\tWHEN DATE_PART('month',begin_date_time::DATE) == 1 THEN 'January'\n",
        "\tWHEN DATE_PART('month',begin_date_time::DATE) == 2 THEN 'Febraury'\n",
        "\tWHEN DATE_PART('month',begin_date_time::DATE) == 3 THEN 'March'\n",
        "\tWHEN DATE_PART('month',begin_date_time::DATE) == 4 THEN 'April'\n",
        "END\t)\n",
        " as month,\n",
        "(CASE\n",
        "\tWHEN DATE_PART('dayofweek',begin_date_time::DATE) == 0 THEN 'Sunday'\n",
        " \tWHEN DATE_PART('dayofweek',begin_date_time::DATE) == 1 THEN 'Monday'\n",
        " \tWHEN DATE_PART('dayofweek',begin_date_time::DATE) == 2 THEN 'Tuesday'\n",
        " \tWHEN DATE_PART('dayofweek',begin_date_time::DATE) == 3 THEN 'Wednesday'\n",
        " \tWHEN DATE_PART('dayofweek',begin_date_time::DATE) == 4 THEN 'Thursday'\n",
        "\tWHEN DATE_PART('dayofweek',begin_date_time::DATE) == 5 THEN 'Friday'\n",
        "\tWHEN DATE_PART('dayofweek',begin_date_time::DATE) == 6 THEN 'Saturday'\n",
        "END ) AS dayofweek\n",
        "\n",
        "FROM 'pos_operator_logs.csv'\n",
        "\n",
        "WHERE EXTRACT(YEAR FROM begin_date_time) >= '2019'\n",
        "\n",
        "GROUP BY working_day"
      ],
      "metadata": {
        "customType": "sql",
        "dataFrameVariableName": "df",
        "sqlSource": {
          "type": "dataframesAndCsvs"
        },
        "visualizeDataframe": false,
        "chartConfig": {
          "bar": {
            "hasRoundedCorners": true,
            "stacked": false
          },
          "type": "bar",
          "version": "v1",
          "x": {
            "field": "working_day",
            "type": "datetime"
          },
          "groupBy": {
            "field": "week_num",
            "type": "integer"
          },
          "y": {
            "field": "count",
            "type": "integer"
          }
        },
        "executionTime": 177,
        "lastSuccessfullyExecutedCode": "SELECT \n(begin_date_time::DATE) as working_day,\nCOUNT(DISTINCT(operator_id)),\n(CASE\n\tWHEN DATE_PART('month',begin_date_time::DATE) == 1 THEN 'January'\n\tWHEN DATE_PART('month',begin_date_time::DATE) == 2 THEN 'Febraury'\n\tWHEN DATE_PART('month',begin_date_time::DATE) == 3 THEN 'March'\n\tWHEN DATE_PART('month',begin_date_time::DATE) == 4 THEN 'April'\nEND\t)\n as month,\n(CASE\n\tWHEN DATE_PART('dayofweek',begin_date_time::DATE) == 0 THEN 'Sunday'\n \tWHEN DATE_PART('dayofweek',begin_date_time::DATE) == 1 THEN 'Monday'\n \tWHEN DATE_PART('dayofweek',begin_date_time::DATE) == 2 THEN 'Tuesday'\n \tWHEN DATE_PART('dayofweek',begin_date_time::DATE) == 3 THEN 'Wednesday'\n \tWHEN DATE_PART('dayofweek',begin_date_time::DATE) == 4 THEN 'Thursday'\n\tWHEN DATE_PART('dayofweek',begin_date_time::DATE) == 5 THEN 'Friday'\n\tWHEN DATE_PART('dayofweek',begin_date_time::DATE) == 6 THEN 'Saturday'\nEND ) AS dayofweek\n\nFROM 'pos_operator_logs.csv'\n\nWHERE EXTRACT(YEAR FROM begin_date_time) >= '2019'\n\nGROUP BY working_day",
        "executionCancelledAt": null,
        "lastExecutedAt": 1695822106734,
        "lastScheduledRunId": null,
        "outputsMetadata": {
          "0": {
            "height": 318,
            "type": "dataFrame"
          }
        },
        "id": "349fc11f-626d-4809-93d1-6ca39484c1f9",
        "outputId": "bdca705c-4ecf-4a2c-ade5-cce474e3865a"
      },
      "id": "349fc11f-626d-4809-93d1-6ca39484c1f9",
      "cell_type": "code",
      "execution_count": null,
      "outputs": [
        {
          "output_type": "execute_result",
          "data": {
            "application/com.datacamp.data-table.v1+json": {
              "table": {
                "schema": {
                  "fields": [
                    {
                      "name": "index",
                      "type": "integer"
                    },
                    {
                      "name": "working_day",
                      "type": "datetime",
                      "tz": "UTC"
                    },
                    {
                      "name": "count(DISTINCT operator_id)",
                      "type": "integer"
                    },
                    {
                      "name": "month",
                      "type": "string"
                    },
                    {
                      "name": "dayofweek",
                      "type": "string"
                    }
                  ],
                  "primaryKey": [
                    "index"
                  ],
                  "pandas_version": "1.4.0"
                },
                "data": [
                  {
                    "index": 0,
                    "working_day": "2019-02-13T00:00:00.000Z",
                    "count(DISTINCT operator_id)": 20,
                    "month": "Febraury",
                    "dayofweek": "Wednesday"
                  },
                  {
                    "index": 1,
                    "working_day": "2019-02-14T00:00:00.000Z",
                    "count(DISTINCT operator_id)": 26,
                    "month": "Febraury",
                    "dayofweek": "Thursday"
                  },
                  {
                    "index": 2,
                    "working_day": "2019-02-15T00:00:00.000Z",
                    "count(DISTINCT operator_id)": 24,
                    "month": "Febraury",
                    "dayofweek": "Friday"
                  },
                  {
                    "index": 3,
                    "working_day": "2019-02-16T00:00:00.000Z",
                    "count(DISTINCT operator_id)": 28,
                    "month": "Febraury",
                    "dayofweek": "Saturday"
                  },
                  {
                    "index": 4,
                    "working_day": "2019-02-18T00:00:00.000Z",
                    "count(DISTINCT operator_id)": 20,
                    "month": "Febraury",
                    "dayofweek": "Monday"
                  },
                  {
                    "index": 5,
                    "working_day": "2019-02-19T00:00:00.000Z",
                    "count(DISTINCT operator_id)": 21,
                    "month": "Febraury",
                    "dayofweek": "Tuesday"
                  },
                  {
                    "index": 6,
                    "working_day": "2019-02-20T00:00:00.000Z",
                    "count(DISTINCT operator_id)": 19,
                    "month": "Febraury",
                    "dayofweek": "Wednesday"
                  },
                  {
                    "index": 7,
                    "working_day": "2019-02-21T00:00:00.000Z",
                    "count(DISTINCT operator_id)": 27,
                    "month": "Febraury",
                    "dayofweek": "Thursday"
                  },
                  {
                    "index": 8,
                    "working_day": "2019-02-22T00:00:00.000Z",
                    "count(DISTINCT operator_id)": 26,
                    "month": "Febraury",
                    "dayofweek": "Friday"
                  },
                  {
                    "index": 9,
                    "working_day": "2019-02-23T00:00:00.000Z",
                    "count(DISTINCT operator_id)": 25,
                    "month": "Febraury",
                    "dayofweek": "Saturday"
                  },
                  {
                    "index": 10,
                    "working_day": "2019-02-24T00:00:00.000Z",
                    "count(DISTINCT operator_id)": 18,
                    "month": "Febraury",
                    "dayofweek": "Sunday"
                  },
                  {
                    "index": 11,
                    "working_day": "2019-02-25T00:00:00.000Z",
                    "count(DISTINCT operator_id)": 20,
                    "month": "Febraury",
                    "dayofweek": "Monday"
                  },
                  {
                    "index": 12,
                    "working_day": "2019-02-26T00:00:00.000Z",
                    "count(DISTINCT operator_id)": 20,
                    "month": "Febraury",
                    "dayofweek": "Tuesday"
                  },
                  {
                    "index": 13,
                    "working_day": "2019-03-28T00:00:00.000Z",
                    "count(DISTINCT operator_id)": 25,
                    "month": "March",
                    "dayofweek": "Thursday"
                  },
                  {
                    "index": 14,
                    "working_day": "2019-03-29T00:00:00.000Z",
                    "count(DISTINCT operator_id)": 27,
                    "month": "March",
                    "dayofweek": "Friday"
                  },
                  {
                    "index": 15,
                    "working_day": "2019-03-30T00:00:00.000Z",
                    "count(DISTINCT operator_id)": 26,
                    "month": "March",
                    "dayofweek": "Saturday"
                  },
                  {
                    "index": 16,
                    "working_day": "2019-03-31T00:00:00.000Z",
                    "count(DISTINCT operator_id)": 20,
                    "month": "March",
                    "dayofweek": "Sunday"
                  },
                  {
                    "index": 17,
                    "working_day": "2019-04-01T00:00:00.000Z",
                    "count(DISTINCT operator_id)": 23,
                    "month": "April",
                    "dayofweek": "Monday"
                  },
                  {
                    "index": 18,
                    "working_day": "2019-04-02T00:00:00.000Z",
                    "count(DISTINCT operator_id)": 21,
                    "month": "April",
                    "dayofweek": "Tuesday"
                  },
                  {
                    "index": 19,
                    "working_day": "2019-04-03T00:00:00.000Z",
                    "count(DISTINCT operator_id)": 21,
                    "month": "April",
                    "dayofweek": "Wednesday"
                  },
                  {
                    "index": 20,
                    "working_day": "2019-04-04T00:00:00.000Z",
                    "count(DISTINCT operator_id)": 26,
                    "month": "April",
                    "dayofweek": "Thursday"
                  },
                  {
                    "index": 21,
                    "working_day": "2019-04-05T00:00:00.000Z",
                    "count(DISTINCT operator_id)": 25,
                    "month": "April",
                    "dayofweek": "Friday"
                  },
                  {
                    "index": 22,
                    "working_day": "2019-04-06T00:00:00.000Z",
                    "count(DISTINCT operator_id)": 25,
                    "month": "April",
                    "dayofweek": "Saturday"
                  },
                  {
                    "index": 23,
                    "working_day": "2019-04-08T00:00:00.000Z",
                    "count(DISTINCT operator_id)": 21,
                    "month": "April",
                    "dayofweek": "Monday"
                  },
                  {
                    "index": 24,
                    "working_day": "2019-04-09T00:00:00.000Z",
                    "count(DISTINCT operator_id)": 19,
                    "month": "April",
                    "dayofweek": "Tuesday"
                  },
                  {
                    "index": 25,
                    "working_day": "2019-04-10T00:00:00.000Z",
                    "count(DISTINCT operator_id)": 20,
                    "month": "April",
                    "dayofweek": "Wednesday"
                  }
                ]
              },
              "total_rows": 26,
              "truncation_type": null
            },
            "text/plain": "                 working_day  count(DISTINCT operator_id)     month  dayofweek\n0  2019-02-13 00:00:00+00:00                           20  Febraury  Wednesday\n1  2019-02-14 00:00:00+00:00                           26  Febraury   Thursday\n2  2019-02-15 00:00:00+00:00                           24  Febraury     Friday\n3  2019-02-16 00:00:00+00:00                           28  Febraury   Saturday\n4  2019-02-18 00:00:00+00:00                           20  Febraury     Monday\n5  2019-02-19 00:00:00+00:00                           21  Febraury    Tuesday\n6  2019-02-20 00:00:00+00:00                           19  Febraury  Wednesday\n7  2019-02-21 00:00:00+00:00                           27  Febraury   Thursday\n8  2019-02-22 00:00:00+00:00                           26  Febraury     Friday\n9  2019-02-23 00:00:00+00:00                           25  Febraury   Saturday\n10 2019-02-24 00:00:00+00:00                           18  Febraury     Sunday\n11 2019-02-25 00:00:00+00:00                           20  Febraury     Monday\n12 2019-02-26 00:00:00+00:00                           20  Febraury    Tuesday\n13 2019-03-28 00:00:00+00:00                           25     March   Thursday\n14 2019-03-29 00:00:00+00:00                           27     March     Friday\n15 2019-03-30 00:00:00+00:00                           26     March   Saturday\n16 2019-03-31 00:00:00+00:00                           20     March     Sunday\n17 2019-04-01 00:00:00+00:00                           23     April     Monday\n18 2019-04-02 00:00:00+00:00                           21     April    Tuesday\n19 2019-04-03 00:00:00+00:00                           21     April  Wednesday\n20 2019-04-04 00:00:00+00:00                           26     April   Thursday\n21 2019-04-05 00:00:00+00:00                           25     April     Friday\n22 2019-04-06 00:00:00+00:00                           25     April   Saturday\n23 2019-04-08 00:00:00+00:00                           21     April     Monday\n24 2019-04-09 00:00:00+00:00                           19     April    Tuesday\n25 2019-04-10 00:00:00+00:00                           20     April  Wednesday",
            "text/html": "<div>\n<style scoped>\n    .dataframe tbody tr th:only-of-type {\n        vertical-align: middle;\n    }\n\n    .dataframe tbody tr th {\n        vertical-align: top;\n    }\n\n    .dataframe thead th {\n        text-align: right;\n    }\n</style>\n<table border=\"1\" class=\"dataframe\">\n  <thead>\n    <tr style=\"text-align: right;\">\n      <th></th>\n      <th>working_day</th>\n      <th>count(DISTINCT operator_id)</th>\n      <th>month</th>\n      <th>dayofweek</th>\n    </tr>\n  </thead>\n  <tbody>\n    <tr>\n      <th>0</th>\n      <td>2019-02-13 00:00:00+00:00</td>\n      <td>20</td>\n      <td>Febraury</td>\n      <td>Wednesday</td>\n    </tr>\n    <tr>\n      <th>1</th>\n      <td>2019-02-14 00:00:00+00:00</td>\n      <td>26</td>\n      <td>Febraury</td>\n      <td>Thursday</td>\n    </tr>\n    <tr>\n      <th>2</th>\n      <td>2019-02-15 00:00:00+00:00</td>\n      <td>24</td>\n      <td>Febraury</td>\n      <td>Friday</td>\n    </tr>\n    <tr>\n      <th>3</th>\n      <td>2019-02-16 00:00:00+00:00</td>\n      <td>28</td>\n      <td>Febraury</td>\n      <td>Saturday</td>\n    </tr>\n    <tr>\n      <th>4</th>\n      <td>2019-02-18 00:00:00+00:00</td>\n      <td>20</td>\n      <td>Febraury</td>\n      <td>Monday</td>\n    </tr>\n    <tr>\n      <th>5</th>\n      <td>2019-02-19 00:00:00+00:00</td>\n      <td>21</td>\n      <td>Febraury</td>\n      <td>Tuesday</td>\n    </tr>\n    <tr>\n      <th>6</th>\n      <td>2019-02-20 00:00:00+00:00</td>\n      <td>19</td>\n      <td>Febraury</td>\n      <td>Wednesday</td>\n    </tr>\n    <tr>\n      <th>7</th>\n      <td>2019-02-21 00:00:00+00:00</td>\n      <td>27</td>\n      <td>Febraury</td>\n      <td>Thursday</td>\n    </tr>\n    <tr>\n      <th>8</th>\n      <td>2019-02-22 00:00:00+00:00</td>\n      <td>26</td>\n      <td>Febraury</td>\n      <td>Friday</td>\n    </tr>\n    <tr>\n      <th>9</th>\n      <td>2019-02-23 00:00:00+00:00</td>\n      <td>25</td>\n      <td>Febraury</td>\n      <td>Saturday</td>\n    </tr>\n    <tr>\n      <th>10</th>\n      <td>2019-02-24 00:00:00+00:00</td>\n      <td>18</td>\n      <td>Febraury</td>\n      <td>Sunday</td>\n    </tr>\n    <tr>\n      <th>11</th>\n      <td>2019-02-25 00:00:00+00:00</td>\n      <td>20</td>\n      <td>Febraury</td>\n      <td>Monday</td>\n    </tr>\n    <tr>\n      <th>12</th>\n      <td>2019-02-26 00:00:00+00:00</td>\n      <td>20</td>\n      <td>Febraury</td>\n      <td>Tuesday</td>\n    </tr>\n    <tr>\n      <th>13</th>\n      <td>2019-03-28 00:00:00+00:00</td>\n      <td>25</td>\n      <td>March</td>\n      <td>Thursday</td>\n    </tr>\n    <tr>\n      <th>14</th>\n      <td>2019-03-29 00:00:00+00:00</td>\n      <td>27</td>\n      <td>March</td>\n      <td>Friday</td>\n    </tr>\n    <tr>\n      <th>15</th>\n      <td>2019-03-30 00:00:00+00:00</td>\n      <td>26</td>\n      <td>March</td>\n      <td>Saturday</td>\n    </tr>\n    <tr>\n      <th>16</th>\n      <td>2019-03-31 00:00:00+00:00</td>\n      <td>20</td>\n      <td>March</td>\n      <td>Sunday</td>\n    </tr>\n    <tr>\n      <th>17</th>\n      <td>2019-04-01 00:00:00+00:00</td>\n      <td>23</td>\n      <td>April</td>\n      <td>Monday</td>\n    </tr>\n    <tr>\n      <th>18</th>\n      <td>2019-04-02 00:00:00+00:00</td>\n      <td>21</td>\n      <td>April</td>\n      <td>Tuesday</td>\n    </tr>\n    <tr>\n      <th>19</th>\n      <td>2019-04-03 00:00:00+00:00</td>\n      <td>21</td>\n      <td>April</td>\n      <td>Wednesday</td>\n    </tr>\n    <tr>\n      <th>20</th>\n      <td>2019-04-04 00:00:00+00:00</td>\n      <td>26</td>\n      <td>April</td>\n      <td>Thursday</td>\n    </tr>\n    <tr>\n      <th>21</th>\n      <td>2019-04-05 00:00:00+00:00</td>\n      <td>25</td>\n      <td>April</td>\n      <td>Friday</td>\n    </tr>\n    <tr>\n      <th>22</th>\n      <td>2019-04-06 00:00:00+00:00</td>\n      <td>25</td>\n      <td>April</td>\n      <td>Saturday</td>\n    </tr>\n    <tr>\n      <th>23</th>\n      <td>2019-04-08 00:00:00+00:00</td>\n      <td>21</td>\n      <td>April</td>\n      <td>Monday</td>\n    </tr>\n    <tr>\n      <th>24</th>\n      <td>2019-04-09 00:00:00+00:00</td>\n      <td>19</td>\n      <td>April</td>\n      <td>Tuesday</td>\n    </tr>\n    <tr>\n      <th>25</th>\n      <td>2019-04-10 00:00:00+00:00</td>\n      <td>20</td>\n      <td>April</td>\n      <td>Wednesday</td>\n    </tr>\n  </tbody>\n</table>\n</div>"
          },
          "metadata": {},
          "execution_count": 95
        }
      ]
    }
  ],
  "metadata": {
    "colab": {
      "provenance": []
    },
    "kernelspec": {
      "display_name": "Python 3 (ipykernel)",
      "language": "python",
      "name": "python3"
    },
    "language_info": {
      "name": "python",
      "version": "3.8.10",
      "mimetype": "text/x-python",
      "codemirror_mode": {
        "name": "ipython",
        "version": 3
      },
      "pygments_lexer": "ipython3",
      "nbconvert_exporter": "python",
      "file_extension": ".py"
    },
    "editor": "DataCamp Workspace"
  },
  "nbformat": 4,
  "nbformat_minor": 5
}