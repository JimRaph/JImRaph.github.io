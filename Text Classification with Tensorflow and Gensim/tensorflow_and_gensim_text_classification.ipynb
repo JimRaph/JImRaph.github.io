{
  "cells": [
    {
      "cell_type": "markdown",
      "metadata": {
        "id": "e3cc4451"
      },
      "source": [
        "<h3><b>Text Classification using Tensorflow and Gensim<b/><h3/>"
      ],
      "id": "e3cc4451"
    },
    {
      "cell_type": "markdown",
      "source": [
        "IMPORT REQUIRED PACKAGES"
      ],
      "metadata": {
        "id": "m1wMBD-OF7SM"
      },
      "id": "m1wMBD-OF7SM"
    },
    {
      "cell_type": "code",
      "execution_count": 4,
      "metadata": {
        "id": "e3d2c714"
      },
      "outputs": [],
      "source": [
        "import numpy as np # linear algebra\n",
        "import pandas as pan # data processing, CSV file I/O (e.g. pd.read_csv)\n",
        "import gensim\n",
        "import nltk\n",
        "import tensorflow as tf\n",
        "from sklearn.model_selection import train_test_split\n",
        "from keras.layers import Embedding, Dense, Flatten\n",
        "from keras.models import Sequential\n",
        "from keras.optimizers import Adam\n",
        "from keras.callbacks import EarlyStopping\n",
        "from keras.utils import pad_sequences"
      ],
      "id": "e3d2c714"
    },
    {
      "cell_type": "markdown",
      "source": [
        "LOAD DATASET"
      ],
      "metadata": {
        "id": "LZuB98lUGFJl"
      },
      "id": "LZuB98lUGFJl"
    },
    {
      "cell_type": "code",
      "execution_count": 5,
      "metadata": {
        "id": "0753f9fe"
      },
      "outputs": [],
      "source": [
        "#read in the data\n",
        "data_df = pan.read_csv(\"sample_data/train.csv\")\n",
        "test_df = pan.read_csv(\"sample_data/test.csv\")"
      ],
      "id": "0753f9fe"
    },
    {
      "cell_type": "code",
      "source": [
        "data_df.head()"
      ],
      "metadata": {
        "colab": {
          "base_uri": "https://localhost:8080/",
          "height": 206
        },
        "id": "awYNAFvq6Xj4",
        "outputId": "482dd693-5ce7-4e19-9ad1-e27e0bd6ef96"
      },
      "id": "awYNAFvq6Xj4",
      "execution_count": 6,
      "outputs": [
        {
          "output_type": "execute_result",
          "data": {
            "text/plain": [
              "      id                                         movie_name  \\\n",
              "0  44978                                           Super Me   \n",
              "1  50185                                     Entity Project   \n",
              "2  34131  Behavioral Family Therapy for Serious Psychiat...   \n",
              "3  78522                                      Blood Glacier   \n",
              "4   2206                                      Apat na anino   \n",
              "\n",
              "                                            synopsis    genre  \n",
              "0  A young scriptwriter starts bringing valuable ...  fantasy  \n",
              "1  A director and her friends renting a haunted h...   horror  \n",
              "2  This is an educational video for families and ...   family  \n",
              "3  Scientists working in the Austrian Alps discov...    scifi  \n",
              "4  Buy Day - Four Men Widely - Apart in Life - By...   action  "
            ],
            "text/html": [
              "\n",
              "  <div id=\"df-959a202b-8f0b-4bc5-ad87-a09677d39828\" class=\"colab-df-container\">\n",
              "    <div>\n",
              "<style scoped>\n",
              "    .dataframe tbody tr th:only-of-type {\n",
              "        vertical-align: middle;\n",
              "    }\n",
              "\n",
              "    .dataframe tbody tr th {\n",
              "        vertical-align: top;\n",
              "    }\n",
              "\n",
              "    .dataframe thead th {\n",
              "        text-align: right;\n",
              "    }\n",
              "</style>\n",
              "<table border=\"1\" class=\"dataframe\">\n",
              "  <thead>\n",
              "    <tr style=\"text-align: right;\">\n",
              "      <th></th>\n",
              "      <th>id</th>\n",
              "      <th>movie_name</th>\n",
              "      <th>synopsis</th>\n",
              "      <th>genre</th>\n",
              "    </tr>\n",
              "  </thead>\n",
              "  <tbody>\n",
              "    <tr>\n",
              "      <th>0</th>\n",
              "      <td>44978</td>\n",
              "      <td>Super Me</td>\n",
              "      <td>A young scriptwriter starts bringing valuable ...</td>\n",
              "      <td>fantasy</td>\n",
              "    </tr>\n",
              "    <tr>\n",
              "      <th>1</th>\n",
              "      <td>50185</td>\n",
              "      <td>Entity Project</td>\n",
              "      <td>A director and her friends renting a haunted h...</td>\n",
              "      <td>horror</td>\n",
              "    </tr>\n",
              "    <tr>\n",
              "      <th>2</th>\n",
              "      <td>34131</td>\n",
              "      <td>Behavioral Family Therapy for Serious Psychiat...</td>\n",
              "      <td>This is an educational video for families and ...</td>\n",
              "      <td>family</td>\n",
              "    </tr>\n",
              "    <tr>\n",
              "      <th>3</th>\n",
              "      <td>78522</td>\n",
              "      <td>Blood Glacier</td>\n",
              "      <td>Scientists working in the Austrian Alps discov...</td>\n",
              "      <td>scifi</td>\n",
              "    </tr>\n",
              "    <tr>\n",
              "      <th>4</th>\n",
              "      <td>2206</td>\n",
              "      <td>Apat na anino</td>\n",
              "      <td>Buy Day - Four Men Widely - Apart in Life - By...</td>\n",
              "      <td>action</td>\n",
              "    </tr>\n",
              "  </tbody>\n",
              "</table>\n",
              "</div>\n",
              "    <div class=\"colab-df-buttons\">\n",
              "\n",
              "  <div class=\"colab-df-container\">\n",
              "    <button class=\"colab-df-convert\" onclick=\"convertToInteractive('df-959a202b-8f0b-4bc5-ad87-a09677d39828')\"\n",
              "            title=\"Convert this dataframe to an interactive table.\"\n",
              "            style=\"display:none;\">\n",
              "\n",
              "  <svg xmlns=\"http://www.w3.org/2000/svg\" height=\"24px\" viewBox=\"0 -960 960 960\">\n",
              "    <path d=\"M120-120v-720h720v720H120Zm60-500h600v-160H180v160Zm220 220h160v-160H400v160Zm0 220h160v-160H400v160ZM180-400h160v-160H180v160Zm440 0h160v-160H620v160ZM180-180h160v-160H180v160Zm440 0h160v-160H620v160Z\"/>\n",
              "  </svg>\n",
              "    </button>\n",
              "\n",
              "  <style>\n",
              "    .colab-df-container {\n",
              "      display:flex;\n",
              "      gap: 12px;\n",
              "    }\n",
              "\n",
              "    .colab-df-convert {\n",
              "      background-color: #E8F0FE;\n",
              "      border: none;\n",
              "      border-radius: 50%;\n",
              "      cursor: pointer;\n",
              "      display: none;\n",
              "      fill: #1967D2;\n",
              "      height: 32px;\n",
              "      padding: 0 0 0 0;\n",
              "      width: 32px;\n",
              "    }\n",
              "\n",
              "    .colab-df-convert:hover {\n",
              "      background-color: #E2EBFA;\n",
              "      box-shadow: 0px 1px 2px rgba(60, 64, 67, 0.3), 0px 1px 3px 1px rgba(60, 64, 67, 0.15);\n",
              "      fill: #174EA6;\n",
              "    }\n",
              "\n",
              "    .colab-df-buttons div {\n",
              "      margin-bottom: 4px;\n",
              "    }\n",
              "\n",
              "    [theme=dark] .colab-df-convert {\n",
              "      background-color: #3B4455;\n",
              "      fill: #D2E3FC;\n",
              "    }\n",
              "\n",
              "    [theme=dark] .colab-df-convert:hover {\n",
              "      background-color: #434B5C;\n",
              "      box-shadow: 0px 1px 3px 1px rgba(0, 0, 0, 0.15);\n",
              "      filter: drop-shadow(0px 1px 2px rgba(0, 0, 0, 0.3));\n",
              "      fill: #FFFFFF;\n",
              "    }\n",
              "  </style>\n",
              "\n",
              "    <script>\n",
              "      const buttonEl =\n",
              "        document.querySelector('#df-959a202b-8f0b-4bc5-ad87-a09677d39828 button.colab-df-convert');\n",
              "      buttonEl.style.display =\n",
              "        google.colab.kernel.accessAllowed ? 'block' : 'none';\n",
              "\n",
              "      async function convertToInteractive(key) {\n",
              "        const element = document.querySelector('#df-959a202b-8f0b-4bc5-ad87-a09677d39828');\n",
              "        const dataTable =\n",
              "          await google.colab.kernel.invokeFunction('convertToInteractive',\n",
              "                                                    [key], {});\n",
              "        if (!dataTable) return;\n",
              "\n",
              "        const docLinkHtml = 'Like what you see? Visit the ' +\n",
              "          '<a target=\"_blank\" href=https://colab.research.google.com/notebooks/data_table.ipynb>data table notebook</a>'\n",
              "          + ' to learn more about interactive tables.';\n",
              "        element.innerHTML = '';\n",
              "        dataTable['output_type'] = 'display_data';\n",
              "        await google.colab.output.renderOutput(dataTable, element);\n",
              "        const docLink = document.createElement('div');\n",
              "        docLink.innerHTML = docLinkHtml;\n",
              "        element.appendChild(docLink);\n",
              "      }\n",
              "    </script>\n",
              "  </div>\n",
              "\n",
              "\n",
              "<div id=\"df-f463d8de-dbca-4ef8-a52b-101f30f554e5\">\n",
              "  <button class=\"colab-df-quickchart\" onclick=\"quickchart('df-f463d8de-dbca-4ef8-a52b-101f30f554e5')\"\n",
              "            title=\"Suggest charts\"\n",
              "            style=\"display:none;\">\n",
              "\n",
              "<svg xmlns=\"http://www.w3.org/2000/svg\" height=\"24px\"viewBox=\"0 0 24 24\"\n",
              "     width=\"24px\">\n",
              "    <g>\n",
              "        <path d=\"M19 3H5c-1.1 0-2 .9-2 2v14c0 1.1.9 2 2 2h14c1.1 0 2-.9 2-2V5c0-1.1-.9-2-2-2zM9 17H7v-7h2v7zm4 0h-2V7h2v10zm4 0h-2v-4h2v4z\"/>\n",
              "    </g>\n",
              "</svg>\n",
              "  </button>\n",
              "\n",
              "<style>\n",
              "  .colab-df-quickchart {\n",
              "      --bg-color: #E8F0FE;\n",
              "      --fill-color: #1967D2;\n",
              "      --hover-bg-color: #E2EBFA;\n",
              "      --hover-fill-color: #174EA6;\n",
              "      --disabled-fill-color: #AAA;\n",
              "      --disabled-bg-color: #DDD;\n",
              "  }\n",
              "\n",
              "  [theme=dark] .colab-df-quickchart {\n",
              "      --bg-color: #3B4455;\n",
              "      --fill-color: #D2E3FC;\n",
              "      --hover-bg-color: #434B5C;\n",
              "      --hover-fill-color: #FFFFFF;\n",
              "      --disabled-bg-color: #3B4455;\n",
              "      --disabled-fill-color: #666;\n",
              "  }\n",
              "\n",
              "  .colab-df-quickchart {\n",
              "    background-color: var(--bg-color);\n",
              "    border: none;\n",
              "    border-radius: 50%;\n",
              "    cursor: pointer;\n",
              "    display: none;\n",
              "    fill: var(--fill-color);\n",
              "    height: 32px;\n",
              "    padding: 0;\n",
              "    width: 32px;\n",
              "  }\n",
              "\n",
              "  .colab-df-quickchart:hover {\n",
              "    background-color: var(--hover-bg-color);\n",
              "    box-shadow: 0 1px 2px rgba(60, 64, 67, 0.3), 0 1px 3px 1px rgba(60, 64, 67, 0.15);\n",
              "    fill: var(--button-hover-fill-color);\n",
              "  }\n",
              "\n",
              "  .colab-df-quickchart-complete:disabled,\n",
              "  .colab-df-quickchart-complete:disabled:hover {\n",
              "    background-color: var(--disabled-bg-color);\n",
              "    fill: var(--disabled-fill-color);\n",
              "    box-shadow: none;\n",
              "  }\n",
              "\n",
              "  .colab-df-spinner {\n",
              "    border: 2px solid var(--fill-color);\n",
              "    border-color: transparent;\n",
              "    border-bottom-color: var(--fill-color);\n",
              "    animation:\n",
              "      spin 1s steps(1) infinite;\n",
              "  }\n",
              "\n",
              "  @keyframes spin {\n",
              "    0% {\n",
              "      border-color: transparent;\n",
              "      border-bottom-color: var(--fill-color);\n",
              "      border-left-color: var(--fill-color);\n",
              "    }\n",
              "    20% {\n",
              "      border-color: transparent;\n",
              "      border-left-color: var(--fill-color);\n",
              "      border-top-color: var(--fill-color);\n",
              "    }\n",
              "    30% {\n",
              "      border-color: transparent;\n",
              "      border-left-color: var(--fill-color);\n",
              "      border-top-color: var(--fill-color);\n",
              "      border-right-color: var(--fill-color);\n",
              "    }\n",
              "    40% {\n",
              "      border-color: transparent;\n",
              "      border-right-color: var(--fill-color);\n",
              "      border-top-color: var(--fill-color);\n",
              "    }\n",
              "    60% {\n",
              "      border-color: transparent;\n",
              "      border-right-color: var(--fill-color);\n",
              "    }\n",
              "    80% {\n",
              "      border-color: transparent;\n",
              "      border-right-color: var(--fill-color);\n",
              "      border-bottom-color: var(--fill-color);\n",
              "    }\n",
              "    90% {\n",
              "      border-color: transparent;\n",
              "      border-bottom-color: var(--fill-color);\n",
              "    }\n",
              "  }\n",
              "</style>\n",
              "\n",
              "  <script>\n",
              "    async function quickchart(key) {\n",
              "      const quickchartButtonEl =\n",
              "        document.querySelector('#' + key + ' button');\n",
              "      quickchartButtonEl.disabled = true;  // To prevent multiple clicks.\n",
              "      quickchartButtonEl.classList.add('colab-df-spinner');\n",
              "      try {\n",
              "        const charts = await google.colab.kernel.invokeFunction(\n",
              "            'suggestCharts', [key], {});\n",
              "      } catch (error) {\n",
              "        console.error('Error during call to suggestCharts:', error);\n",
              "      }\n",
              "      quickchartButtonEl.classList.remove('colab-df-spinner');\n",
              "      quickchartButtonEl.classList.add('colab-df-quickchart-complete');\n",
              "    }\n",
              "    (() => {\n",
              "      let quickchartButtonEl =\n",
              "        document.querySelector('#df-f463d8de-dbca-4ef8-a52b-101f30f554e5 button');\n",
              "      quickchartButtonEl.style.display =\n",
              "        google.colab.kernel.accessAllowed ? 'block' : 'none';\n",
              "    })();\n",
              "  </script>\n",
              "</div>\n",
              "\n",
              "    </div>\n",
              "  </div>\n"
            ]
          },
          "metadata": {},
          "execution_count": 6
        }
      ]
    },
    {
      "cell_type": "code",
      "execution_count": 7,
      "metadata": {
        "id": "e35bef70",
        "colab": {
          "base_uri": "https://localhost:8080/"
        },
        "outputId": "d6662a13-3a25-482f-b027-ba0bbc7d0fd4"
      },
      "outputs": [
        {
          "output_type": "stream",
          "name": "stdout",
          "text": [
            "<class 'pandas.core.frame.DataFrame'>\n",
            "RangeIndex: 54000 entries, 0 to 53999\n",
            "Data columns (total 4 columns):\n",
            " #   Column      Non-Null Count  Dtype \n",
            "---  ------      --------------  ----- \n",
            " 0   id          54000 non-null  int64 \n",
            " 1   movie_name  54000 non-null  object\n",
            " 2   synopsis    54000 non-null  object\n",
            " 3   genre       54000 non-null  object\n",
            "dtypes: int64(1), object(3)\n",
            "memory usage: 1.6+ MB\n"
          ]
        }
      ],
      "source": [
        "data_df.info()"
      ],
      "id": "e35bef70"
    },
    {
      "cell_type": "markdown",
      "source": [
        "DATA PREPROCESSING"
      ],
      "metadata": {
        "id": "Slrp4ZsmGRLL"
      },
      "id": "Slrp4ZsmGRLL"
    },
    {
      "cell_type": "code",
      "execution_count": 8,
      "metadata": {
        "id": "cddeb4da"
      },
      "outputs": [],
      "source": [
        "#preprocessing\n",
        "data_df.drop(columns = [\"id\"], inplace = True)\n",
        "test_df.drop(columns = [\"id\"], inplace = True)\n",
        "\n",
        "#merge the movie_name and synopsis cols\n",
        "data_df[\"All text\"] = np.vectorize(lambda x, y: x + \" : \" + y)(data_df[\"movie_name\"], data_df[\"synopsis\"])\n",
        "test_df[\"All text\"] = np.vectorize(lambda x, y: x + \" : \" + y)(test_df[\"movie_name\"], test_df[\"synopsis\"])\n",
        "\n"
      ],
      "id": "cddeb4da"
    },
    {
      "cell_type": "code",
      "source": [
        "nltk.download('stopwords')\n",
        "nltk.download('punkt')"
      ],
      "metadata": {
        "colab": {
          "base_uri": "https://localhost:8080/"
        },
        "id": "KLNl5IceAQSf",
        "outputId": "4f9c823d-360e-45f1-f918-409068608994"
      },
      "id": "KLNl5IceAQSf",
      "execution_count": 13,
      "outputs": [
        {
          "output_type": "stream",
          "name": "stderr",
          "text": [
            "[nltk_data] Downloading package stopwords to /root/nltk_data...\n",
            "[nltk_data]   Package stopwords is already up-to-date!\n",
            "[nltk_data] Downloading package punkt to /root/nltk_data...\n",
            "[nltk_data]   Unzipping tokenizers/punkt.zip.\n"
          ]
        },
        {
          "output_type": "execute_result",
          "data": {
            "text/plain": [
              "True"
            ]
          },
          "metadata": {},
          "execution_count": 13
        }
      ]
    },
    {
      "cell_type": "code",
      "source": [
        "#remove stopwords and tokenize the strings\n",
        "stop_words = nltk.corpus.stopwords.words(\"english\")\n",
        "stop_words.extend([\":\", \"!\", \".\", \"?\", \";\", \",\", \"-\"])\n",
        "\n",
        "def tokenize_and_strip_stops(text):\n",
        "    txt = nltk.tokenize.word_tokenize(text)\n",
        "    filtered = [i for i in txt if i not in stop_words]\n",
        "    return \" \".join(filtered)\n",
        "\n",
        "data_df[\"All text\"] = np.vectorize(tokenize_and_strip_stops)(data_df[\"All text\"])\n",
        "test_df[\"All text\"] = np.vectorize(tokenize_and_strip_stops)(test_df[\"All text\"])\n",
        "data_df.drop(columns = [\"movie_name\", \"synopsis\"], inplace = True)\n",
        "test_df.drop(columns = [\"movie_name\", \"synopsis\"], inplace = True)\n",
        "\n",
        "data_df.head(5)"
      ],
      "metadata": {
        "colab": {
          "base_uri": "https://localhost:8080/",
          "height": 206
        },
        "id": "-fCxM80yAKHo",
        "outputId": "d7c9bbea-4749-4a33-d6a2-3fa03fb03152"
      },
      "id": "-fCxM80yAKHo",
      "execution_count": 14,
      "outputs": [
        {
          "output_type": "execute_result",
          "data": {
            "text/plain": [
              "     genre                                           All text\n",
              "0  fantasy  Super Me A young scriptwriter starts bringing ...\n",
              "1   horror  Entity Project A director friends renting haun...\n",
              "2   family  Behavioral Family Therapy Serious Psychiatric ...\n",
              "3    scifi  Blood Glacier Scientists working Austrian Alps...\n",
              "4   action  Apat na anino Buy Day Four Men Widely Apart Li..."
            ],
            "text/html": [
              "\n",
              "  <div id=\"df-eccd5dbb-de39-4fe3-a46e-b07875ec7d11\" class=\"colab-df-container\">\n",
              "    <div>\n",
              "<style scoped>\n",
              "    .dataframe tbody tr th:only-of-type {\n",
              "        vertical-align: middle;\n",
              "    }\n",
              "\n",
              "    .dataframe tbody tr th {\n",
              "        vertical-align: top;\n",
              "    }\n",
              "\n",
              "    .dataframe thead th {\n",
              "        text-align: right;\n",
              "    }\n",
              "</style>\n",
              "<table border=\"1\" class=\"dataframe\">\n",
              "  <thead>\n",
              "    <tr style=\"text-align: right;\">\n",
              "      <th></th>\n",
              "      <th>genre</th>\n",
              "      <th>All text</th>\n",
              "    </tr>\n",
              "  </thead>\n",
              "  <tbody>\n",
              "    <tr>\n",
              "      <th>0</th>\n",
              "      <td>fantasy</td>\n",
              "      <td>Super Me A young scriptwriter starts bringing ...</td>\n",
              "    </tr>\n",
              "    <tr>\n",
              "      <th>1</th>\n",
              "      <td>horror</td>\n",
              "      <td>Entity Project A director friends renting haun...</td>\n",
              "    </tr>\n",
              "    <tr>\n",
              "      <th>2</th>\n",
              "      <td>family</td>\n",
              "      <td>Behavioral Family Therapy Serious Psychiatric ...</td>\n",
              "    </tr>\n",
              "    <tr>\n",
              "      <th>3</th>\n",
              "      <td>scifi</td>\n",
              "      <td>Blood Glacier Scientists working Austrian Alps...</td>\n",
              "    </tr>\n",
              "    <tr>\n",
              "      <th>4</th>\n",
              "      <td>action</td>\n",
              "      <td>Apat na anino Buy Day Four Men Widely Apart Li...</td>\n",
              "    </tr>\n",
              "  </tbody>\n",
              "</table>\n",
              "</div>\n",
              "    <div class=\"colab-df-buttons\">\n",
              "\n",
              "  <div class=\"colab-df-container\">\n",
              "    <button class=\"colab-df-convert\" onclick=\"convertToInteractive('df-eccd5dbb-de39-4fe3-a46e-b07875ec7d11')\"\n",
              "            title=\"Convert this dataframe to an interactive table.\"\n",
              "            style=\"display:none;\">\n",
              "\n",
              "  <svg xmlns=\"http://www.w3.org/2000/svg\" height=\"24px\" viewBox=\"0 -960 960 960\">\n",
              "    <path d=\"M120-120v-720h720v720H120Zm60-500h600v-160H180v160Zm220 220h160v-160H400v160Zm0 220h160v-160H400v160ZM180-400h160v-160H180v160Zm440 0h160v-160H620v160ZM180-180h160v-160H180v160Zm440 0h160v-160H620v160Z\"/>\n",
              "  </svg>\n",
              "    </button>\n",
              "\n",
              "  <style>\n",
              "    .colab-df-container {\n",
              "      display:flex;\n",
              "      gap: 12px;\n",
              "    }\n",
              "\n",
              "    .colab-df-convert {\n",
              "      background-color: #E8F0FE;\n",
              "      border: none;\n",
              "      border-radius: 50%;\n",
              "      cursor: pointer;\n",
              "      display: none;\n",
              "      fill: #1967D2;\n",
              "      height: 32px;\n",
              "      padding: 0 0 0 0;\n",
              "      width: 32px;\n",
              "    }\n",
              "\n",
              "    .colab-df-convert:hover {\n",
              "      background-color: #E2EBFA;\n",
              "      box-shadow: 0px 1px 2px rgba(60, 64, 67, 0.3), 0px 1px 3px 1px rgba(60, 64, 67, 0.15);\n",
              "      fill: #174EA6;\n",
              "    }\n",
              "\n",
              "    .colab-df-buttons div {\n",
              "      margin-bottom: 4px;\n",
              "    }\n",
              "\n",
              "    [theme=dark] .colab-df-convert {\n",
              "      background-color: #3B4455;\n",
              "      fill: #D2E3FC;\n",
              "    }\n",
              "\n",
              "    [theme=dark] .colab-df-convert:hover {\n",
              "      background-color: #434B5C;\n",
              "      box-shadow: 0px 1px 3px 1px rgba(0, 0, 0, 0.15);\n",
              "      filter: drop-shadow(0px 1px 2px rgba(0, 0, 0, 0.3));\n",
              "      fill: #FFFFFF;\n",
              "    }\n",
              "  </style>\n",
              "\n",
              "    <script>\n",
              "      const buttonEl =\n",
              "        document.querySelector('#df-eccd5dbb-de39-4fe3-a46e-b07875ec7d11 button.colab-df-convert');\n",
              "      buttonEl.style.display =\n",
              "        google.colab.kernel.accessAllowed ? 'block' : 'none';\n",
              "\n",
              "      async function convertToInteractive(key) {\n",
              "        const element = document.querySelector('#df-eccd5dbb-de39-4fe3-a46e-b07875ec7d11');\n",
              "        const dataTable =\n",
              "          await google.colab.kernel.invokeFunction('convertToInteractive',\n",
              "                                                    [key], {});\n",
              "        if (!dataTable) return;\n",
              "\n",
              "        const docLinkHtml = 'Like what you see? Visit the ' +\n",
              "          '<a target=\"_blank\" href=https://colab.research.google.com/notebooks/data_table.ipynb>data table notebook</a>'\n",
              "          + ' to learn more about interactive tables.';\n",
              "        element.innerHTML = '';\n",
              "        dataTable['output_type'] = 'display_data';\n",
              "        await google.colab.output.renderOutput(dataTable, element);\n",
              "        const docLink = document.createElement('div');\n",
              "        docLink.innerHTML = docLinkHtml;\n",
              "        element.appendChild(docLink);\n",
              "      }\n",
              "    </script>\n",
              "  </div>\n",
              "\n",
              "\n",
              "<div id=\"df-217f34e1-df05-4305-bfe3-e50a4d2c3e85\">\n",
              "  <button class=\"colab-df-quickchart\" onclick=\"quickchart('df-217f34e1-df05-4305-bfe3-e50a4d2c3e85')\"\n",
              "            title=\"Suggest charts\"\n",
              "            style=\"display:none;\">\n",
              "\n",
              "<svg xmlns=\"http://www.w3.org/2000/svg\" height=\"24px\"viewBox=\"0 0 24 24\"\n",
              "     width=\"24px\">\n",
              "    <g>\n",
              "        <path d=\"M19 3H5c-1.1 0-2 .9-2 2v14c0 1.1.9 2 2 2h14c1.1 0 2-.9 2-2V5c0-1.1-.9-2-2-2zM9 17H7v-7h2v7zm4 0h-2V7h2v10zm4 0h-2v-4h2v4z\"/>\n",
              "    </g>\n",
              "</svg>\n",
              "  </button>\n",
              "\n",
              "<style>\n",
              "  .colab-df-quickchart {\n",
              "      --bg-color: #E8F0FE;\n",
              "      --fill-color: #1967D2;\n",
              "      --hover-bg-color: #E2EBFA;\n",
              "      --hover-fill-color: #174EA6;\n",
              "      --disabled-fill-color: #AAA;\n",
              "      --disabled-bg-color: #DDD;\n",
              "  }\n",
              "\n",
              "  [theme=dark] .colab-df-quickchart {\n",
              "      --bg-color: #3B4455;\n",
              "      --fill-color: #D2E3FC;\n",
              "      --hover-bg-color: #434B5C;\n",
              "      --hover-fill-color: #FFFFFF;\n",
              "      --disabled-bg-color: #3B4455;\n",
              "      --disabled-fill-color: #666;\n",
              "  }\n",
              "\n",
              "  .colab-df-quickchart {\n",
              "    background-color: var(--bg-color);\n",
              "    border: none;\n",
              "    border-radius: 50%;\n",
              "    cursor: pointer;\n",
              "    display: none;\n",
              "    fill: var(--fill-color);\n",
              "    height: 32px;\n",
              "    padding: 0;\n",
              "    width: 32px;\n",
              "  }\n",
              "\n",
              "  .colab-df-quickchart:hover {\n",
              "    background-color: var(--hover-bg-color);\n",
              "    box-shadow: 0 1px 2px rgba(60, 64, 67, 0.3), 0 1px 3px 1px rgba(60, 64, 67, 0.15);\n",
              "    fill: var(--button-hover-fill-color);\n",
              "  }\n",
              "\n",
              "  .colab-df-quickchart-complete:disabled,\n",
              "  .colab-df-quickchart-complete:disabled:hover {\n",
              "    background-color: var(--disabled-bg-color);\n",
              "    fill: var(--disabled-fill-color);\n",
              "    box-shadow: none;\n",
              "  }\n",
              "\n",
              "  .colab-df-spinner {\n",
              "    border: 2px solid var(--fill-color);\n",
              "    border-color: transparent;\n",
              "    border-bottom-color: var(--fill-color);\n",
              "    animation:\n",
              "      spin 1s steps(1) infinite;\n",
              "  }\n",
              "\n",
              "  @keyframes spin {\n",
              "    0% {\n",
              "      border-color: transparent;\n",
              "      border-bottom-color: var(--fill-color);\n",
              "      border-left-color: var(--fill-color);\n",
              "    }\n",
              "    20% {\n",
              "      border-color: transparent;\n",
              "      border-left-color: var(--fill-color);\n",
              "      border-top-color: var(--fill-color);\n",
              "    }\n",
              "    30% {\n",
              "      border-color: transparent;\n",
              "      border-left-color: var(--fill-color);\n",
              "      border-top-color: var(--fill-color);\n",
              "      border-right-color: var(--fill-color);\n",
              "    }\n",
              "    40% {\n",
              "      border-color: transparent;\n",
              "      border-right-color: var(--fill-color);\n",
              "      border-top-color: var(--fill-color);\n",
              "    }\n",
              "    60% {\n",
              "      border-color: transparent;\n",
              "      border-right-color: var(--fill-color);\n",
              "    }\n",
              "    80% {\n",
              "      border-color: transparent;\n",
              "      border-right-color: var(--fill-color);\n",
              "      border-bottom-color: var(--fill-color);\n",
              "    }\n",
              "    90% {\n",
              "      border-color: transparent;\n",
              "      border-bottom-color: var(--fill-color);\n",
              "    }\n",
              "  }\n",
              "</style>\n",
              "\n",
              "  <script>\n",
              "    async function quickchart(key) {\n",
              "      const quickchartButtonEl =\n",
              "        document.querySelector('#' + key + ' button');\n",
              "      quickchartButtonEl.disabled = true;  // To prevent multiple clicks.\n",
              "      quickchartButtonEl.classList.add('colab-df-spinner');\n",
              "      try {\n",
              "        const charts = await google.colab.kernel.invokeFunction(\n",
              "            'suggestCharts', [key], {});\n",
              "      } catch (error) {\n",
              "        console.error('Error during call to suggestCharts:', error);\n",
              "      }\n",
              "      quickchartButtonEl.classList.remove('colab-df-spinner');\n",
              "      quickchartButtonEl.classList.add('colab-df-quickchart-complete');\n",
              "    }\n",
              "    (() => {\n",
              "      let quickchartButtonEl =\n",
              "        document.querySelector('#df-217f34e1-df05-4305-bfe3-e50a4d2c3e85 button');\n",
              "      quickchartButtonEl.style.display =\n",
              "        google.colab.kernel.accessAllowed ? 'block' : 'none';\n",
              "    })();\n",
              "  </script>\n",
              "</div>\n",
              "\n",
              "    </div>\n",
              "  </div>\n"
            ]
          },
          "metadata": {},
          "execution_count": 14
        }
      ]
    },
    {
      "cell_type": "markdown",
      "source": [
        "CREATE WORD2VEC EMBEDDING"
      ],
      "metadata": {
        "id": "CyF7Mm4hGWsr"
      },
      "id": "CyF7Mm4hGWsr"
    },
    {
      "cell_type": "code",
      "execution_count": 16,
      "metadata": {
        "id": "d275a47a"
      },
      "outputs": [],
      "source": [
        "features = data_df[\"All text\"]\n",
        "label = data_df[\"genre\"]\n",
        "\n",
        "features_for_gensim = [i.split() for i in features]\n",
        "\n",
        "word_2_vec_learner = gensim.models.Word2Vec(sentences = features_for_gensim, vector_size = 100, window = 5, min_count = 2, workers = 4, sg =1)"
      ],
      "id": "d275a47a"
    },
    {
      "cell_type": "code",
      "source": [
        "#check first 2 features\n",
        "features_for_gensim[:2]"
      ],
      "metadata": {
        "id": "omePlbG9Dzks"
      },
      "id": "omePlbG9Dzks",
      "execution_count": null,
      "outputs": []
    },
    {
      "cell_type": "code",
      "execution_count": null,
      "metadata": {
        "id": "739dee7d"
      },
      "outputs": [],
      "source": [
        "#love_syn = word_2_vec_learner.wv.most_similar(\"joy\")\n",
        "#love_syn #Beautiful!"
      ],
      "id": "739dee7d"
    },
    {
      "cell_type": "code",
      "source": [
        "dir(word_2_vec_learner)"
      ],
      "metadata": {
        "id": "Wr2Pk6sVCo48"
      },
      "id": "Wr2Pk6sVCo48",
      "execution_count": null,
      "outputs": []
    },
    {
      "cell_type": "code",
      "source": [
        "#get wordvector\n",
        "vectors = word_2_vec_learner.wv"
      ],
      "metadata": {
        "id": "3QJF6yYFBxKS"
      },
      "id": "3QJF6yYFBxKS",
      "execution_count": 17,
      "outputs": []
    },
    {
      "cell_type": "code",
      "source": [
        "dir(vectors)"
      ],
      "metadata": {
        "id": "fKZlvogzBzsc"
      },
      "id": "fKZlvogzBzsc",
      "execution_count": null,
      "outputs": []
    },
    {
      "cell_type": "code",
      "source": [
        "#confirming vector size\n",
        "len(vectors['A'])"
      ],
      "metadata": {
        "colab": {
          "base_uri": "https://localhost:8080/"
        },
        "id": "EzpZyoubDNcy",
        "outputId": "3fd0f64a-81ee-4bbf-e7ff-19a0065492ef"
      },
      "id": "EzpZyoubDNcy",
      "execution_count": 24,
      "outputs": [
        {
          "output_type": "execute_result",
          "data": {
            "text/plain": [
              "100"
            ]
          },
          "metadata": {},
          "execution_count": 24
        }
      ]
    },
    {
      "cell_type": "code",
      "execution_count": 20,
      "metadata": {
        "id": "a6f5fbe8",
        "colab": {
          "base_uri": "https://localhost:8080/"
        },
        "outputId": "bfc07238-989b-45f6-ed0d-a3f6e6dec983"
      },
      "outputs": [
        {
          "output_type": "execute_result",
          "data": {
            "text/plain": [
              "['A', 'The', \"'s\", 'young', 'man']"
            ]
          },
          "metadata": {},
          "execution_count": 20
        }
      ],
      "source": [
        "vocabulary = list(vectors.index_to_key)\n",
        "vocabulary[: 5]"
      ],
      "id": "a6f5fbe8"
    },
    {
      "cell_type": "code",
      "execution_count": 32,
      "metadata": {
        "id": "a505a718"
      },
      "outputs": [],
      "source": [
        "#create embedding matrix for our vocabulary (len(vocabulary), 100)\n",
        "embed_mat = np.zeros((len(vocabulary), vectors.vector_size))\n",
        "\n",
        "for i, w in enumerate(vocabulary):\n",
        "    embed_mat[i] = vectors[w]"
      ],
      "id": "a505a718"
    },
    {
      "cell_type": "code",
      "execution_count": 40,
      "metadata": {
        "id": "88e1e0fc"
      },
      "outputs": [],
      "source": [
        "#flip index-word to word-index for vocabulary\n",
        "word_to_index = {w: i for i, w in enumerate(vocabulary)}\n",
        "\n",
        "#convert each word into its index in our vocabulary\n",
        "features = [[word_to_index.get(i, 0) for i in entry] for entry in features_for_gensim]"
      ],
      "id": "88e1e0fc"
    },
    {
      "cell_type": "code",
      "source": [
        "#confirm changes\n",
        "features[:2]"
      ],
      "metadata": {
        "colab": {
          "base_uri": "https://localhost:8080/"
        },
        "id": "dRlsCnmhEq0z",
        "outputId": "f4970167-d75b-4636-b5cc-a66c8b8119d0"
      },
      "id": "dRlsCnmhEq0z",
      "execution_count": 36,
      "outputs": [
        {
          "output_type": "execute_result",
          "data": {
            "text/plain": [
              "[[1164,\n",
              "  504,\n",
              "  0,\n",
              "  3,\n",
              "  19372,\n",
              "  226,\n",
              "  2532,\n",
              "  1992,\n",
              "  6311,\n",
              "  36,\n",
              "  612,\n",
              "  1137,\n",
              "  2560,\n",
              "  672,\n",
              "  23331,\n",
              "  253,\n",
              "  269],\n",
              " [9339, 517, 0, 762, 25, 23330, 221, 71, 1065, 1071, 134, 78, 566, 77, 818]]"
            ]
          },
          "metadata": {},
          "execution_count": 36
        }
      ]
    },
    {
      "cell_type": "markdown",
      "source": [
        "DATA PREPARATION FOR ML"
      ],
      "metadata": {
        "id": "z5TkAAk6GkoH"
      },
      "id": "z5TkAAk6GkoH"
    },
    {
      "cell_type": "code",
      "execution_count": 41,
      "metadata": {
        "id": "ada930ee"
      },
      "outputs": [],
      "source": [
        "#map function to encode label\n",
        "mapper = {l: i for i, l in enumerate(label.unique())}"
      ],
      "id": "ada930ee"
    },
    {
      "cell_type": "code",
      "execution_count": 42,
      "metadata": {
        "id": "679a655c"
      },
      "outputs": [],
      "source": [
        "#split dataset and pad sequence(pad_sequences is used to ensure all our features contain the same number of element, i.e have same size)\n",
        "feature_train, feature_test, label_train, label_test = train_test_split(features, label, test_size = 0.2, random_state = 42)\n",
        "feature_train_dataset = pad_sequences(feature_train, padding = \"post\", value = 0, maxlen = 65)\n",
        "feature_test_dataset = pad_sequences(feature_test, padding = \"post\", value = 0, maxlen = 65)\n",
        "\n",
        "#encoding the label\n",
        "label_train_dataset = tf.keras.utils.to_categorical(label_train.map(mapper), 10)\n",
        "label_test_dataset = tf.keras.utils.to_categorical(label_test.map(mapper), 10)"
      ],
      "id": "679a655c"
    },
    {
      "cell_type": "markdown",
      "source": [
        "BUILDING TENSORFLOW MODEL"
      ],
      "metadata": {
        "id": "r8tVg0kzGuZW"
      },
      "id": "r8tVg0kzGuZW"
    },
    {
      "cell_type": "code",
      "execution_count": 50,
      "metadata": {
        "id": "591d623a",
        "outputId": "69b1aa43-2494-4259-dfbd-8da75e57ff99",
        "colab": {
          "base_uri": "https://localhost:8080/"
        }
      },
      "outputs": [
        {
          "output_type": "stream",
          "name": "stdout",
          "text": [
            "Model: \"sequential_7\"\n",
            "_________________________________________________________________\n",
            " Layer (type)                Output Shape              Param #   \n",
            "=================================================================\n",
            " embedding_7 (Embedding)     (None, 65, 100)           4236600   \n",
            "                                                                 \n",
            " conv1d (Conv1D)             (None, 65, 65)            32565     \n",
            "                                                                 \n",
            " max_pooling1d_3 (MaxPoolin  (None, 22, 65)            0         \n",
            " g1D)                                                            \n",
            "                                                                 \n",
            " flatten_7 (Flatten)         (None, 1430)              0         \n",
            "                                                                 \n",
            " dense_7 (Dense)             (None, 256)               366336    \n",
            "                                                                 \n",
            " dense_8 (Dense)             (None, 512)               131584    \n",
            "                                                                 \n",
            " dense_9 (Dense)             (None, 10)                5130      \n",
            "                                                                 \n",
            "=================================================================\n",
            "Total params: 4772215 (18.20 MB)\n",
            "Trainable params: 535615 (2.04 MB)\n",
            "Non-trainable params: 4236600 (16.16 MB)\n",
            "_________________________________________________________________\n"
          ]
        }
      ],
      "source": [
        "#build model\n",
        "text_learner = Sequential()\n",
        "text_learner.add(Embedding(\n",
        "                input_dim = len(vocabulary),\n",
        "                output_dim = vectors.vector_size,\n",
        "                weights = [embed_mat],\n",
        "                input_length = 65,\n",
        "                trainable = False))\n",
        "text_learner.add(tf.keras.layers.Conv1D(65, 5, activation='relu', padding='same'))\n",
        "text_learner.add(tf.keras.layers.MaxPooling1D(pool_size=3,padding='same'))\n",
        "text_learner.add(Flatten())\n",
        "text_learner.add(Dense(units = 256, activation = \"relu\"))\n",
        "text_learner.add(Dense(units = 512, activation = \"relu\"))\n",
        "text_learner.add(Dense(units = 10, activation = \"softmax\"))\n",
        "text_learner.compile(loss = \"categorical_crossentropy\", optimizer = tf.keras.optimizers.Adam(learning_rate = 1e-5), metrics = [\"accuracy\"])\n",
        "text_learner.summary()"
      ],
      "id": "591d623a"
    },
    {
      "cell_type": "code",
      "execution_count": 51,
      "metadata": {
        "id": "83db27da",
        "outputId": "807149fa-3b32-4075-bc15-9c9ad268d435",
        "colab": {
          "base_uri": "https://localhost:8080/"
        }
      },
      "outputs": [
        {
          "output_type": "stream",
          "name": "stdout",
          "text": [
            "Epoch 1/40\n",
            "675/675 [==============================] - 6s 4ms/step - loss: 2.2892 - accuracy: 0.1366 - val_loss: 2.2674 - val_accuracy: 0.1858\n",
            "Epoch 2/40\n",
            "675/675 [==============================] - 2s 3ms/step - loss: 2.2341 - accuracy: 0.2045 - val_loss: 2.1926 - val_accuracy: 0.2257\n",
            "Epoch 3/40\n",
            "675/675 [==============================] - 3s 5ms/step - loss: 2.1391 - accuracy: 0.2493 - val_loss: 2.0890 - val_accuracy: 0.2650\n",
            "Epoch 4/40\n",
            "675/675 [==============================] - 2s 4ms/step - loss: 2.0449 - accuracy: 0.2775 - val_loss: 2.0112 - val_accuracy: 0.2859\n",
            "Epoch 5/40\n",
            "675/675 [==============================] - 2s 4ms/step - loss: 1.9830 - accuracy: 0.2921 - val_loss: 1.9680 - val_accuracy: 0.2882\n",
            "Epoch 6/40\n",
            "675/675 [==============================] - 2s 4ms/step - loss: 1.9469 - accuracy: 0.3018 - val_loss: 1.9414 - val_accuracy: 0.2934\n",
            "Epoch 7/40\n",
            "675/675 [==============================] - 3s 4ms/step - loss: 1.9233 - accuracy: 0.3069 - val_loss: 1.9254 - val_accuracy: 0.2994\n",
            "Epoch 8/40\n",
            "675/675 [==============================] - 3s 4ms/step - loss: 1.9067 - accuracy: 0.3130 - val_loss: 1.9163 - val_accuracy: 0.3030\n",
            "Epoch 9/40\n",
            "675/675 [==============================] - 2s 3ms/step - loss: 1.8947 - accuracy: 0.3179 - val_loss: 1.9043 - val_accuracy: 0.3069\n",
            "Epoch 10/40\n",
            "675/675 [==============================] - 2s 3ms/step - loss: 1.8849 - accuracy: 0.3222 - val_loss: 1.9063 - val_accuracy: 0.3058\n",
            "Epoch 11/40\n",
            "675/675 [==============================] - 2s 3ms/step - loss: 1.8759 - accuracy: 0.3246 - val_loss: 1.8887 - val_accuracy: 0.3177\n",
            "Epoch 12/40\n",
            "675/675 [==============================] - 2s 4ms/step - loss: 1.8683 - accuracy: 0.3285 - val_loss: 1.8832 - val_accuracy: 0.3169\n",
            "Epoch 13/40\n",
            "675/675 [==============================] - 3s 4ms/step - loss: 1.8617 - accuracy: 0.3296 - val_loss: 1.8790 - val_accuracy: 0.3207\n",
            "Epoch 14/40\n",
            "675/675 [==============================] - 2s 3ms/step - loss: 1.8550 - accuracy: 0.3335 - val_loss: 1.8758 - val_accuracy: 0.3205\n",
            "Epoch 15/40\n",
            "675/675 [==============================] - 2s 3ms/step - loss: 1.8496 - accuracy: 0.3364 - val_loss: 1.8727 - val_accuracy: 0.3201\n",
            "Epoch 16/40\n",
            "675/675 [==============================] - 2s 3ms/step - loss: 1.8437 - accuracy: 0.3409 - val_loss: 1.8702 - val_accuracy: 0.3190\n",
            "Epoch 17/40\n",
            "675/675 [==============================] - 3s 4ms/step - loss: 1.8384 - accuracy: 0.3391 - val_loss: 1.8631 - val_accuracy: 0.3269\n",
            "Epoch 18/40\n",
            "675/675 [==============================] - 3s 4ms/step - loss: 1.8338 - accuracy: 0.3413 - val_loss: 1.8644 - val_accuracy: 0.3244\n",
            "Epoch 19/40\n",
            "675/675 [==============================] - 2s 3ms/step - loss: 1.8294 - accuracy: 0.3425 - val_loss: 1.8567 - val_accuracy: 0.3270\n",
            "Epoch 20/40\n",
            "675/675 [==============================] - 2s 3ms/step - loss: 1.8246 - accuracy: 0.3471 - val_loss: 1.8588 - val_accuracy: 0.3257\n",
            "Epoch 21/40\n",
            "675/675 [==============================] - 2s 3ms/step - loss: 1.8203 - accuracy: 0.3491 - val_loss: 1.8534 - val_accuracy: 0.3287\n",
            "Epoch 22/40\n",
            "675/675 [==============================] - 3s 4ms/step - loss: 1.8162 - accuracy: 0.3496 - val_loss: 1.8508 - val_accuracy: 0.3306\n",
            "Epoch 23/40\n",
            "675/675 [==============================] - 3s 4ms/step - loss: 1.8123 - accuracy: 0.3503 - val_loss: 1.8500 - val_accuracy: 0.3336\n",
            "Epoch 24/40\n",
            "675/675 [==============================] - 2s 3ms/step - loss: 1.8092 - accuracy: 0.3540 - val_loss: 1.8463 - val_accuracy: 0.3300\n",
            "Epoch 25/40\n",
            "675/675 [==============================] - 2s 3ms/step - loss: 1.8050 - accuracy: 0.3545 - val_loss: 1.8477 - val_accuracy: 0.3298\n",
            "Epoch 26/40\n",
            "675/675 [==============================] - 2s 4ms/step - loss: 1.8021 - accuracy: 0.3556 - val_loss: 1.8421 - val_accuracy: 0.3354\n",
            "Epoch 27/40\n",
            "675/675 [==============================] - 3s 4ms/step - loss: 1.7982 - accuracy: 0.3577 - val_loss: 1.8457 - val_accuracy: 0.3320\n",
            "Epoch 28/40\n",
            "675/675 [==============================] - 2s 4ms/step - loss: 1.7950 - accuracy: 0.3576 - val_loss: 1.8424 - val_accuracy: 0.3358\n",
            "Epoch 29/40\n",
            "675/675 [==============================] - 2s 4ms/step - loss: 1.7920 - accuracy: 0.3589 - val_loss: 1.8416 - val_accuracy: 0.3331\n",
            "Epoch 30/40\n",
            "675/675 [==============================] - 2s 3ms/step - loss: 1.7895 - accuracy: 0.3609 - val_loss: 1.8378 - val_accuracy: 0.3368\n",
            "Epoch 31/40\n",
            "675/675 [==============================] - 2s 3ms/step - loss: 1.7861 - accuracy: 0.3629 - val_loss: 1.8378 - val_accuracy: 0.3338\n",
            "Epoch 32/40\n",
            "675/675 [==============================] - 3s 4ms/step - loss: 1.7832 - accuracy: 0.3635 - val_loss: 1.8359 - val_accuracy: 0.3376\n",
            "Epoch 33/40\n",
            "675/675 [==============================] - 2s 3ms/step - loss: 1.7808 - accuracy: 0.3636 - val_loss: 1.8349 - val_accuracy: 0.3384\n",
            "Epoch 34/40\n",
            "675/675 [==============================] - 2s 3ms/step - loss: 1.7776 - accuracy: 0.3653 - val_loss: 1.8358 - val_accuracy: 0.3339\n",
            "Epoch 35/40\n",
            "675/675 [==============================] - 2s 3ms/step - loss: 1.7749 - accuracy: 0.3670 - val_loss: 1.8328 - val_accuracy: 0.3355\n",
            "Epoch 36/40\n",
            "675/675 [==============================] - 2s 3ms/step - loss: 1.7724 - accuracy: 0.3677 - val_loss: 1.8331 - val_accuracy: 0.3337\n",
            "Epoch 37/40\n",
            "675/675 [==============================] - 3s 4ms/step - loss: 1.7693 - accuracy: 0.3690 - val_loss: 1.8312 - val_accuracy: 0.3378\n",
            "Epoch 38/40\n",
            "675/675 [==============================] - 2s 3ms/step - loss: 1.7672 - accuracy: 0.3691 - val_loss: 1.8322 - val_accuracy: 0.3388\n",
            "Epoch 39/40\n",
            "675/675 [==============================] - 2s 4ms/step - loss: 1.7648 - accuracy: 0.3699 - val_loss: 1.8300 - val_accuracy: 0.3389\n",
            "Epoch 40/40\n",
            "675/675 [==============================] - 2s 3ms/step - loss: 1.7625 - accuracy: 0.3715 - val_loss: 1.8299 - val_accuracy: 0.3383\n"
          ]
        },
        {
          "output_type": "execute_result",
          "data": {
            "text/plain": [
              "<keras.src.callbacks.History at 0x7c785d5c51b0>"
            ]
          },
          "metadata": {},
          "execution_count": 51
        }
      ],
      "source": [
        "callb = EarlyStopping(patience = 5)\n",
        "text_learner.fit(x = feature_train_dataset, y = label_train_dataset,  validation_data = (feature_test_dataset, label_test_dataset), epochs = 40, callbacks = [callb], batch_size = 64, validation_batch_size = 512)"
      ],
      "id": "83db27da"
    },
    {
      "cell_type": "markdown",
      "source": [
        "There is a increase in the accuracy and validation accuracy;\n",
        "<li>Hyperparameter tuning</li>\n",
        "<li>Trying more layers</li>\n",
        "<li>Training for a longer epoch</li>\n",
        "would all lead to improvement"
      ],
      "metadata": {
        "id": "pBVIlCJCLFfb"
      },
      "id": "pBVIlCJCLFfb"
    }
  ],
  "metadata": {
    "colab": {
      "provenance": [],
      "gpuType": "T4"
    },
    "kernelspec": {
      "display_name": "Python 3",
      "name": "python3"
    },
    "language_info": {
      "codemirror_mode": {
        "name": "ipython",
        "version": 3
      },
      "file_extension": ".py",
      "mimetype": "text/x-python",
      "name": "python",
      "nbconvert_exporter": "python",
      "pygments_lexer": "ipython3",
      "version": "3.10.12"
    },
    "papermill": {
      "default_parameters": {},
      "duration": 153.563178,
      "end_time": "2023-09-12T15:41:55.612161",
      "environment_variables": {},
      "exception": null,
      "input_path": "__notebook__.ipynb",
      "output_path": "__notebook__.ipynb",
      "parameters": {},
      "start_time": "2023-09-12T15:39:22.048983",
      "version": "2.4.0"
    },
    "accelerator": "GPU"
  },
  "nbformat": 4,
  "nbformat_minor": 5
}