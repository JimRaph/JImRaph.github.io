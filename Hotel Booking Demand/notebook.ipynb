{
  "cells": [
    {
      "source": [
        "# Hotel Booking Demand\n"
      ],
      "metadata": {
        "id": "driving-sunglasses"
      },
      "id": "driving-sunglasses",
      "cell_type": "markdown"
    },
    {
      "source": [
        "import pandas as pd\n",
        "\n",
        "dataset_main = pd.read_csv(\"hotel_bookings_clean.csv\")\n",
        "dataset = dataset_main.copy()"
      ],
      "metadata": {
        "id": "e1a14e5f",
        "executionTime": 219,
        "lastSuccessfullyExecutedCode": "import pandas as pd\n\ndataset_main = pd.read_csv(\"hotel_bookings_clean.csv\")\ndataset = dataset_main.copy()",
        "executionCancelledAt": null,
        "lastExecutedAt": 1686568936790,
        "lastScheduledRunId": null
      },
      "id": "e1a14e5f",
      "cell_type": "code",
      "execution_count": null,
      "outputs": []
    },
    {
      "source": [
        "## Data Dictionary\n",
        "_Note: For binary variables: `1` = true and `0` = false._\n",
        "\n",
        "| Column                                                                                                                                                                                                          | Explanation                                                                                                                            |   |   |   |\n",
        "|-----------------------------------------------------------------------------------------------------------------------------------------------------------------------------------------------------------------|----------------------------------------------------------------------------------------------------------------------------------------|---|---|---|\n",
        "| is_canceled                                                                                                                                                                                                     | Binary variable indicating whether a booking was canceled                                                                              |   |   |   |\n",
        "| lead_time                                                                                                                                                                                                       | Number of days between booking date and arrival date                                                                                   |   |   |   |\n",
        "| arrival_date_week_number, arrival_date_day_of_month, arrival_date_month                                                                                                                                         | Week number, day date, and month number of arrival date                                                                                |   |   |   |\n",
        "| stays_in_weekend_nights, stays_in_week_nights                                                                                                                                                                   | Number of weekend nights (Saturday and Sunday) and weeknights (Monday to Friday) the customer booked                                   |   |   |   |\n",
        "| adults, children, babies                                                                                                                                                                                        | Number of adults, children, babies booked for the stay                                                                                 |   |   |   |\n",
        "| is_repeated_guest                                                                                                                                                                                               | Binary variable indicating whether the customer was a repeat guest                                                                     |   |   |   |\n",
        "| previous_cancellations                                                                                                                                                                                          | Number of prior bookings that were canceled by the customer                                                                            |   |   |   |\n",
        "| previous_bookings_not_canceled                                                                                                                                                                                  | Number of prior bookings that were not canceled by the customer                                                                        |   |   |   |\n",
        "| required_car_parking_spaces                                                                                                                                                                                     | Number of parking spaces requested by the customer                                                                                     |   |   |   |\n",
        "| total_of_special_requests                                                                                                                                                                                       | Number of special requests made by the customer                                                                                        |   |   |   |\n",
        "| avg_daily_rate                                                                                                                                                                                                  | Average daily rate, as defined by dividing the sum of all lodging transactions by the total number of staying nights                   |   |   |   |\n",
        "| booked_by_company                                                                                                                                                                                               | Binary variable indicating whether a company booked the booking                                                                        |   |   |   |\n",
        "| booked_by_agent                                                                                                                                                                                                 | Binary variable indicating whether an agent booked the booking                                                                         |   |   |   |\n",
        "| hotel_City                                                                                                                                                                                                      | Binary variable indicating whether the booked hotel is a \"City Hotel\"                                                                  |   |   |   |\n",
        "| hotel_Resort                                                                                                                                                                                                    | Binary variable indicating whether the booked hotel is a \"Resort Hotel\"                                                                |   |   |   |\n",
        "| meal_BB                                                                                                                                                                                                         | Binary variable indicating whether a bed & breakfast meal was booked                                                                   |   |   |   |\n",
        "| meal_HB                                                                                                                                                                                                         | Binary variable indicating whether a half board meal was booked                                                                        |   |   |   |\n",
        "| meal_FB                                                                                                                                                                                                         | Binary variable indicating whether a full board meal was booked                                                                        |   |   |   |\n",
        "| meal_No_meal                                                                                                                                                                                                    | Binary variable indicating whether there was no meal package booked                                                                    |   |   |   |\n",
        "| market_segment_Aviation, market_segment_Complementary, market_segment_Corporate, market_segment_Direct, market_segment_Groups, market_segment_Offline_TA_TO, market_segment_Online_TA, market_segment_Undefined | Indicates market segment designation with a value of 1. \"TA\"= travel agent, \"TO\"= tour operators                                       |   |   |   |\n",
        "| distribution_channel_Corporate, distribution_channel_Direct, distribution_channel_GDS, distribution_channel_TA_TO, distribution_channel_Undefined                                                               | Indicates booking distribution channel with a value of 1. \"TA\"= travel agent, \"TO\"= tour operators, \"GDS\" = Global Distribution System |   |   |   |\n",
        "| reserved_room_type_A, reserved_room_type_B, reserved_room_type_C, reserved_room_type_D, reserved_room_type_E, reserved_room_type_F, reserved_room_type_G, reserved_room_type_H, reserved_room_type_L            | Indicates code of room type reserved with a value of 1. Code is presented instead of designation for anonymity reasons                 |   |   |   |\n",
        "| deposit_type_No_Deposit                                                                                                                                                                                         | Binary variable indicating whether a deposit was made                                                                                  |   |   |   |\n",
        "| deposit_type_Non_Refund                                                                                                                                                                                         | Binary variable indicating whether a deposit was made in the value of the total stay cost                                              |   |   |   |\n",
        "| deposit_type_Refundable                                                                                                                                                                                         | Binary variable indicating whether a deposit was made with a value under the total stay cost                                           |   |   |   |\n",
        "| customer_type_Contract                                                                                                                                                                                          | Binary variable indicating whether the booking has an allotment or other type of contract associated to it                             |   |   |   |\n",
        "| customer_type_Group                                                                                                                                                                                             | Binary variable indicating whether the booking is associated to a group                                                                |   |   |   |\n",
        "| customer_type_Transient                                                                                                                                                                                         | Binary variable indicating whether the booking is not part of a group or contract, and is not associated to other transient booking    |   |   |   |\n",
        "| customer_type_Transient-Party                                                                                                                                                                                   | Binary variable indicating whether the booking is transient, but is associated to at least another transient booking                   |   |   |   |"
      ],
      "metadata": {
        "id": "8d155fe4-fd70-4ed9-9cfd-a2ab9ac26210"
      },
      "id": "8d155fe4-fd70-4ed9-9cfd-a2ab9ac26210",
      "cell_type": "markdown"
    },
    {
      "source": [
        "dataset_columns = dataset.columns\n",
        "print(dataset_columns)"
      ],
      "metadata": {
        "executionTime": 49,
        "lastSuccessfullyExecutedCode": "dataset_columns = dataset.columns\nprint(dataset_columns)",
        "executionCancelledAt": null,
        "lastExecutedAt": 1686568936840,
        "lastScheduledRunId": null,
        "outputsMetadata": {
          "0": {
            "height": 457,
            "type": "stream"
          }
        },
        "id": "9df32265-0c3e-4e08-851c-3f6dbf34a2bd",
        "outputId": "022de19e-616e-434e-a80f-1f03bfc9ba6b"
      },
      "cell_type": "code",
      "id": "9df32265-0c3e-4e08-851c-3f6dbf34a2bd",
      "execution_count": null,
      "outputs": [
        {
          "output_type": "stream",
          "name": "stdout",
          "text": "Index(['is_canceled', 'lead_time', 'arrival_date_week_number',\n       'arrival_date_day_of_month', 'arrival_date_month',\n       'stays_in_weekend_nights', 'stays_in_week_nights', 'adults', 'children',\n       'babies', 'is_repeated_guest', 'previous_cancellations',\n       'previous_bookings_not_canceled', 'required_car_parking_spaces',\n       'total_of_special_requests', 'avg_daily_rate', 'booked_by_company',\n       'booked_by_agent', 'hotel_City', 'hotel_Resort', 'meal_BB', 'meal_FB',\n       'meal_HB', 'meal_No_meal', 'market_segment_Aviation',\n       'market_segment_Complementary', 'market_segment_Corporate',\n       'market_segment_Direct', 'market_segment_Groups',\n       'market_segment_Offline_TA_TO', 'market_segment_Online_TA',\n       'market_segment_Undefined', 'distribution_channel_Corporate',\n       'distribution_channel_Direct', 'distribution_channel_GDS',\n       'distribution_channel_TA_TO', 'distribution_channel_Undefined',\n       'reserved_room_type_A', 'reserved_room_type_B', 'reserved_room_type_C',\n       'reserved_room_type_D', 'reserved_room_type_E', 'reserved_room_type_F',\n       'reserved_room_type_G', 'reserved_room_type_H', 'reserved_room_type_L',\n       'deposit_type_No_Deposit', 'deposit_type_Non_Refund',\n       'deposit_type_Refundable', 'customer_type_Contract',\n       'customer_type_Group', 'customer_type_Transient',\n       'customer_type_Transient-Party'],\n      dtype='object')\n"
        }
      ]
    },
    {
      "source": [
        "dataset.info()"
      ],
      "metadata": {
        "executionTime": 48,
        "lastSuccessfullyExecutedCode": "dataset.info()",
        "executionCancelledAt": null,
        "lastExecutedAt": 1686568936888,
        "lastScheduledRunId": null,
        "outputsMetadata": {
          "0": {
            "height": 616,
            "type": "stream"
          }
        },
        "id": "ce29b85f-60fe-4aa8-ba0f-00dc6216f9f7",
        "outputId": "77a5067f-9076-47fd-afe6-ac7dc2235587"
      },
      "cell_type": "code",
      "id": "ce29b85f-60fe-4aa8-ba0f-00dc6216f9f7",
      "execution_count": null,
      "outputs": [
        {
          "output_type": "stream",
          "name": "stdout",
          "text": "<class 'pandas.core.frame.DataFrame'>\nRangeIndex: 119210 entries, 0 to 119209\nData columns (total 53 columns):\n #   Column                          Non-Null Count   Dtype  \n---  ------                          --------------   -----  \n 0   is_canceled                     119210 non-null  int64  \n 1   lead_time                       119210 non-null  int64  \n 2   arrival_date_week_number        119210 non-null  int64  \n 3   arrival_date_day_of_month       119210 non-null  int64  \n 4   arrival_date_month              119210 non-null  int64  \n 5   stays_in_weekend_nights         119210 non-null  int64  \n 6   stays_in_week_nights            119210 non-null  int64  \n 7   adults                          119210 non-null  int64  \n 8   children                        119206 non-null  float64\n 9   babies                          119210 non-null  int64  \n 10  is_repeated_guest               119210 non-null  int64  \n 11  previous_cancellations          119210 non-null  int64  \n 12  previous_bookings_not_canceled  119210 non-null  int64  \n 13  required_car_parking_spaces     119210 non-null  int64  \n 14  total_of_special_requests       119210 non-null  int64  \n 15  avg_daily_rate                  119210 non-null  float64\n 16  booked_by_company               119210 non-null  int64  \n 17  booked_by_agent                 119210 non-null  int64  \n 18  hotel_City                      119210 non-null  int64  \n 19  hotel_Resort                    119210 non-null  int64  \n 20  meal_BB                         119210 non-null  int64  \n 21  meal_FB                         119210 non-null  int64  \n 22  meal_HB                         119210 non-null  int64  \n 23  meal_No_meal                    119210 non-null  int64  \n 24  market_segment_Aviation         119210 non-null  int64  \n 25  market_segment_Complementary    119210 non-null  int64  \n 26  market_segment_Corporate        119210 non-null  int64  \n 27  market_segment_Direct           119210 non-null  int64  \n 28  market_segment_Groups           119210 non-null  int64  \n 29  market_segment_Offline_TA_TO    119210 non-null  int64  \n 30  market_segment_Online_TA        119210 non-null  int64  \n 31  market_segment_Undefined        119210 non-null  int64  \n 32  distribution_channel_Corporate  119210 non-null  int64  \n 33  distribution_channel_Direct     119210 non-null  int64  \n 34  distribution_channel_GDS        119210 non-null  int64  \n 35  distribution_channel_TA_TO      119210 non-null  int64  \n 36  distribution_channel_Undefined  119210 non-null  int64  \n 37  reserved_room_type_A            119210 non-null  int64  \n 38  reserved_room_type_B            119210 non-null  int64  \n 39  reserved_room_type_C            119210 non-null  int64  \n 40  reserved_room_type_D            119210 non-null  int64  \n 41  reserved_room_type_E            119210 non-null  int64  \n 42  reserved_room_type_F            119210 non-null  int64  \n 43  reserved_room_type_G            119210 non-null  int64  \n 44  reserved_room_type_H            119210 non-null  int64  \n 45  reserved_room_type_L            119210 non-null  int64  \n 46  deposit_type_No_Deposit         119210 non-null  int64  \n 47  deposit_type_Non_Refund         119210 non-null  int64  \n 48  deposit_type_Refundable         119210 non-null  int64  \n 49  customer_type_Contract          119210 non-null  int64  \n 50  customer_type_Group             119210 non-null  int64  \n 51  customer_type_Transient         119210 non-null  int64  \n 52  customer_type_Transient-Party   119210 non-null  int64  \ndtypes: float64(2), int64(51)\nmemory usage: 48.2 MB\n"
        }
      ]
    },
    {
      "source": [
        "import numpy as np\n",
        "dataset.isna().sum()\n",
        "val_t = np.where(dataset['children'].isna()==True)\n",
        "val_t = list(val_t[0])\n",
        "val_t"
      ],
      "metadata": {
        "executionTime": 49,
        "lastSuccessfullyExecutedCode": "import numpy as np\ndataset.isna().sum()\nval_t = np.where(dataset['children'].isna()==True)\nval_t = list(val_t[0])\nval_t",
        "executionCancelledAt": null,
        "lastExecutedAt": 1686568936937,
        "lastScheduledRunId": null,
        "id": "28b5faac-ed47-413c-b747-199c4f5504e0",
        "outputId": "06c759e3-3253-4e24-a6a7-eb4207aa3ca7"
      },
      "cell_type": "code",
      "id": "28b5faac-ed47-413c-b747-199c4f5504e0",
      "execution_count": null,
      "outputs": [
        {
          "output_type": "execute_result",
          "data": {
            "text/plain": "[40586, 40653, 40665, 41143]"
          },
          "metadata": {},
          "execution_count": 50
        }
      ]
    },
    {
      "source": [
        "children_index = dataset.columns.get_loc('children')\n",
        "adult_index = dataset.columns.get_loc('adults')\n",
        "babies_index = dataset.columns.get_loc('babies')\n",
        "dataset.iloc[val_t,[children_index,adult_index,babies_index]]"
      ],
      "metadata": {
        "executionTime": 51,
        "lastSuccessfullyExecutedCode": "children_index = dataset.columns.get_loc('children')\nadult_index = dataset.columns.get_loc('adults')\nbabies_index = dataset.columns.get_loc('babies')\ndataset.iloc[val_t,[children_index,adult_index,babies_index]]",
        "executionCancelledAt": null,
        "lastExecutedAt": 1686568936988,
        "lastScheduledRunId": null,
        "outputsMetadata": {
          "0": {
            "height": 175,
            "type": "dataFrame"
          }
        },
        "id": "5b02ae3c-d1d2-4196-9b6f-ea9dc1222dbe",
        "outputId": "bf666751-a963-48a1-b20a-a7352f8b8ac2"
      },
      "cell_type": "code",
      "id": "5b02ae3c-d1d2-4196-9b6f-ea9dc1222dbe",
      "execution_count": null,
      "outputs": [
        {
          "output_type": "execute_result",
          "data": {
            "application/com.datacamp.data-table.v1+json": {
              "table": {
                "schema": {
                  "fields": [
                    {
                      "name": "index",
                      "type": "integer"
                    },
                    {
                      "name": "children",
                      "type": "number"
                    },
                    {
                      "name": "adults",
                      "type": "integer"
                    },
                    {
                      "name": "babies",
                      "type": "integer"
                    }
                  ],
                  "primaryKey": [
                    "index"
                  ],
                  "pandas_version": "1.4.0"
                },
                "data": [
                  {
                    "index": 40586,
                    "children": null,
                    "adults": 2,
                    "babies": 0
                  },
                  {
                    "index": 40653,
                    "children": null,
                    "adults": 2,
                    "babies": 0
                  },
                  {
                    "index": 40665,
                    "children": null,
                    "adults": 3,
                    "babies": 0
                  },
                  {
                    "index": 41143,
                    "children": null,
                    "adults": 2,
                    "babies": 0
                  }
                ]
              },
              "total_rows": 4,
              "truncation_type": null
            },
            "text/plain": "       children  adults  babies\n40586       NaN       2       0\n40653       NaN       2       0\n40665       NaN       3       0\n41143       NaN       2       0",
            "text/html": "<div>\n<style scoped>\n    .dataframe tbody tr th:only-of-type {\n        vertical-align: middle;\n    }\n\n    .dataframe tbody tr th {\n        vertical-align: top;\n    }\n\n    .dataframe thead th {\n        text-align: right;\n    }\n</style>\n<table border=\"1\" class=\"dataframe\">\n  <thead>\n    <tr style=\"text-align: right;\">\n      <th></th>\n      <th>children</th>\n      <th>adults</th>\n      <th>babies</th>\n    </tr>\n  </thead>\n  <tbody>\n    <tr>\n      <th>40586</th>\n      <td>NaN</td>\n      <td>2</td>\n      <td>0</td>\n    </tr>\n    <tr>\n      <th>40653</th>\n      <td>NaN</td>\n      <td>2</td>\n      <td>0</td>\n    </tr>\n    <tr>\n      <th>40665</th>\n      <td>NaN</td>\n      <td>3</td>\n      <td>0</td>\n    </tr>\n    <tr>\n      <th>41143</th>\n      <td>NaN</td>\n      <td>2</td>\n      <td>0</td>\n    </tr>\n  </tbody>\n</table>\n</div>"
          },
          "metadata": {},
          "execution_count": 51
        }
      ]
    },
    {
      "source": [
        "val = int(dataset['children'].mean())\n",
        "print(val)\n",
        "dataset['children'].fillna(value=val, inplace=True)\n",
        "dataset['children'].isna().sum()\n",
        "dataset.iloc[val_t,[children_index,adult_index,babies_index]]"
      ],
      "metadata": {
        "executionTime": 47,
        "lastSuccessfullyExecutedCode": "val = int(dataset['children'].mean())\nprint(val)\ndataset['children'].fillna(value=val, inplace=True)\ndataset['children'].isna().sum()\ndataset.iloc[val_t,[children_index,adult_index,babies_index]]",
        "executionCancelledAt": null,
        "lastExecutedAt": 1686568937036,
        "lastScheduledRunId": null,
        "outputsMetadata": {
          "0": {
            "height": 37,
            "type": "stream"
          },
          "1": {
            "height": 175,
            "type": "dataFrame"
          }
        },
        "id": "bc753cfc-7b6a-4734-9526-5ec2f2939982",
        "outputId": "d27d2f63-7150-44bc-fb95-ede31f4b90c7"
      },
      "cell_type": "code",
      "id": "bc753cfc-7b6a-4734-9526-5ec2f2939982",
      "execution_count": null,
      "outputs": [
        {
          "output_type": "stream",
          "name": "stdout",
          "text": "0\n"
        },
        {
          "output_type": "execute_result",
          "data": {
            "application/com.datacamp.data-table.v1+json": {
              "table": {
                "schema": {
                  "fields": [
                    {
                      "name": "index",
                      "type": "integer"
                    },
                    {
                      "name": "children",
                      "type": "number"
                    },
                    {
                      "name": "adults",
                      "type": "integer"
                    },
                    {
                      "name": "babies",
                      "type": "integer"
                    }
                  ],
                  "primaryKey": [
                    "index"
                  ],
                  "pandas_version": "1.4.0"
                },
                "data": [
                  {
                    "index": 40586,
                    "children": 0,
                    "adults": 2,
                    "babies": 0
                  },
                  {
                    "index": 40653,
                    "children": 0,
                    "adults": 2,
                    "babies": 0
                  },
                  {
                    "index": 40665,
                    "children": 0,
                    "adults": 3,
                    "babies": 0
                  },
                  {
                    "index": 41143,
                    "children": 0,
                    "adults": 2,
                    "babies": 0
                  }
                ]
              },
              "total_rows": 4,
              "truncation_type": null
            },
            "text/plain": "       children  adults  babies\n40586       0.0       2       0\n40653       0.0       2       0\n40665       0.0       3       0\n41143       0.0       2       0",
            "text/html": "<div>\n<style scoped>\n    .dataframe tbody tr th:only-of-type {\n        vertical-align: middle;\n    }\n\n    .dataframe tbody tr th {\n        vertical-align: top;\n    }\n\n    .dataframe thead th {\n        text-align: right;\n    }\n</style>\n<table border=\"1\" class=\"dataframe\">\n  <thead>\n    <tr style=\"text-align: right;\">\n      <th></th>\n      <th>children</th>\n      <th>adults</th>\n      <th>babies</th>\n    </tr>\n  </thead>\n  <tbody>\n    <tr>\n      <th>40586</th>\n      <td>0.0</td>\n      <td>2</td>\n      <td>0</td>\n    </tr>\n    <tr>\n      <th>40653</th>\n      <td>0.0</td>\n      <td>2</td>\n      <td>0</td>\n    </tr>\n    <tr>\n      <th>40665</th>\n      <td>0.0</td>\n      <td>3</td>\n      <td>0</td>\n    </tr>\n    <tr>\n      <th>41143</th>\n      <td>0.0</td>\n      <td>2</td>\n      <td>0</td>\n    </tr>\n  </tbody>\n</table>\n</div>"
          },
          "metadata": {},
          "execution_count": 52
        }
      ]
    },
    {
      "source": [
        "dataset.describe()"
      ],
      "metadata": {
        "executionTime": 236,
        "lastSuccessfullyExecutedCode": "dataset.describe()",
        "executionCancelledAt": null,
        "lastExecutedAt": 1686568937272,
        "lastScheduledRunId": null,
        "outputsMetadata": {
          "0": {
            "height": 297,
            "type": "dataFrame"
          }
        },
        "id": "297484c1-1c2a-413b-bf51-4446ea7c331f",
        "outputId": "a6fc167f-9ec9-4637-93cb-e638c2c21cf6"
      },
      "cell_type": "code",
      "id": "297484c1-1c2a-413b-bf51-4446ea7c331f",
      "execution_count": null,
      "outputs": [
        {
          "output_type": "execute_result",
          "data": {
            "application/com.datacamp.data-table.v1+json": {
              "table": {
                "schema": {
                  "fields": [
                    {
                      "name": "index",
                      "type": "string"
                    },
                    {
                      "name": "is_canceled",
                      "type": "number"
                    },
                    {
                      "name": "lead_time",
                      "type": "number"
                    },
                    {
                      "name": "arrival_date_week_number",
                      "type": "number"
                    },
                    {
                      "name": "arrival_date_day_of_month",
                      "type": "number"
                    },
                    {
                      "name": "arrival_date_month",
                      "type": "number"
                    },
                    {
                      "name": "stays_in_weekend_nights",
                      "type": "number"
                    },
                    {
                      "name": "stays_in_week_nights",
                      "type": "number"
                    },
                    {
                      "name": "adults",
                      "type": "number"
                    },
                    {
                      "name": "children",
                      "type": "number"
                    },
                    {
                      "name": "babies",
                      "type": "number"
                    },
                    {
                      "name": "is_repeated_guest",
                      "type": "number"
                    },
                    {
                      "name": "previous_cancellations",
                      "type": "number"
                    },
                    {
                      "name": "previous_bookings_not_canceled",
                      "type": "number"
                    },
                    {
                      "name": "required_car_parking_spaces",
                      "type": "number"
                    },
                    {
                      "name": "total_of_special_requests",
                      "type": "number"
                    },
                    {
                      "name": "avg_daily_rate",
                      "type": "number"
                    },
                    {
                      "name": "booked_by_company",
                      "type": "number"
                    },
                    {
                      "name": "booked_by_agent",
                      "type": "number"
                    },
                    {
                      "name": "hotel_City",
                      "type": "number"
                    },
                    {
                      "name": "hotel_Resort",
                      "type": "number"
                    },
                    {
                      "name": "meal_BB",
                      "type": "number"
                    },
                    {
                      "name": "meal_FB",
                      "type": "number"
                    },
                    {
                      "name": "meal_HB",
                      "type": "number"
                    },
                    {
                      "name": "meal_No_meal",
                      "type": "number"
                    },
                    {
                      "name": "market_segment_Aviation",
                      "type": "number"
                    },
                    {
                      "name": "market_segment_Complementary",
                      "type": "number"
                    },
                    {
                      "name": "market_segment_Corporate",
                      "type": "number"
                    },
                    {
                      "name": "market_segment_Direct",
                      "type": "number"
                    },
                    {
                      "name": "market_segment_Groups",
                      "type": "number"
                    },
                    {
                      "name": "market_segment_Offline_TA_TO",
                      "type": "number"
                    },
                    {
                      "name": "market_segment_Online_TA",
                      "type": "number"
                    },
                    {
                      "name": "market_segment_Undefined",
                      "type": "number"
                    },
                    {
                      "name": "distribution_channel_Corporate",
                      "type": "number"
                    },
                    {
                      "name": "distribution_channel_Direct",
                      "type": "number"
                    },
                    {
                      "name": "distribution_channel_GDS",
                      "type": "number"
                    },
                    {
                      "name": "distribution_channel_TA_TO",
                      "type": "number"
                    },
                    {
                      "name": "distribution_channel_Undefined",
                      "type": "number"
                    },
                    {
                      "name": "reserved_room_type_A",
                      "type": "number"
                    },
                    {
                      "name": "reserved_room_type_B",
                      "type": "number"
                    },
                    {
                      "name": "reserved_room_type_C",
                      "type": "number"
                    },
                    {
                      "name": "reserved_room_type_D",
                      "type": "number"
                    },
                    {
                      "name": "reserved_room_type_E",
                      "type": "number"
                    },
                    {
                      "name": "reserved_room_type_F",
                      "type": "number"
                    },
                    {
                      "name": "reserved_room_type_G",
                      "type": "number"
                    },
                    {
                      "name": "reserved_room_type_H",
                      "type": "number"
                    },
                    {
                      "name": "reserved_room_type_L",
                      "type": "number"
                    },
                    {
                      "name": "deposit_type_No_Deposit",
                      "type": "number"
                    },
                    {
                      "name": "deposit_type_Non_Refund",
                      "type": "number"
                    },
                    {
                      "name": "deposit_type_Refundable",
                      "type": "number"
                    },
                    {
                      "name": "customer_type_Contract",
                      "type": "number"
                    },
                    {
                      "name": "customer_type_Group",
                      "type": "number"
                    },
                    {
                      "name": "customer_type_Transient",
                      "type": "number"
                    },
                    {
                      "name": "customer_type_Transient-Party",
                      "type": "number"
                    }
                  ],
                  "primaryKey": [
                    "index"
                  ],
                  "pandas_version": "1.4.0"
                },
                "data": [
                  {
                    "index": "count",
                    "is_canceled": 119210,
                    "lead_time": 119210,
                    "arrival_date_week_number": 119210,
                    "arrival_date_day_of_month": 119210,
                    "arrival_date_month": 119210,
                    "stays_in_weekend_nights": 119210,
                    "stays_in_week_nights": 119210,
                    "adults": 119210,
                    "children": 119210,
                    "babies": 119210,
                    "is_repeated_guest": 119210,
                    "previous_cancellations": 119210,
                    "previous_bookings_not_canceled": 119210,
                    "required_car_parking_spaces": 119210,
                    "total_of_special_requests": 119210,
                    "avg_daily_rate": 119210,
                    "booked_by_company": 119210,
                    "booked_by_agent": 119210,
                    "hotel_City": 119210,
                    "hotel_Resort": 119210,
                    "meal_BB": 119210,
                    "meal_FB": 119210,
                    "meal_HB": 119210,
                    "meal_No_meal": 119210,
                    "market_segment_Aviation": 119210,
                    "market_segment_Complementary": 119210,
                    "market_segment_Corporate": 119210,
                    "market_segment_Direct": 119210,
                    "market_segment_Groups": 119210,
                    "market_segment_Offline_TA_TO": 119210,
                    "market_segment_Online_TA": 119210,
                    "market_segment_Undefined": 119210,
                    "distribution_channel_Corporate": 119210,
                    "distribution_channel_Direct": 119210,
                    "distribution_channel_GDS": 119210,
                    "distribution_channel_TA_TO": 119210,
                    "distribution_channel_Undefined": 119210,
                    "reserved_room_type_A": 119210,
                    "reserved_room_type_B": 119210,
                    "reserved_room_type_C": 119210,
                    "reserved_room_type_D": 119210,
                    "reserved_room_type_E": 119210,
                    "reserved_room_type_F": 119210,
                    "reserved_room_type_G": 119210,
                    "reserved_room_type_H": 119210,
                    "reserved_room_type_L": 119210,
                    "deposit_type_No_Deposit": 119210,
                    "deposit_type_Non_Refund": 119210,
                    "deposit_type_Refundable": 119210,
                    "customer_type_Contract": 119210,
                    "customer_type_Group": 119210,
                    "customer_type_Transient": 119210,
                    "customer_type_Transient-Party": 119210
                  },
                  {
                    "index": "mean",
                    "is_canceled": 0.3707658753,
                    "lead_time": 104.1092274138,
                    "arrival_date_week_number": 27.1633755557,
                    "arrival_date_day_of_month": 15.7987165506,
                    "arrival_date_month": 6.5520510024,
                    "stays_in_weekend_nights": 0.9270530996,
                    "stays_in_week_nights": 2.4991946984,
                    "adults": 1.8592064424,
                    "children": 0.104043285,
                    "babies": 0.0079607415,
                    "is_repeated_guest": 0.0314990353,
                    "previous_cancellations": 0.0871906719,
                    "previous_bookings_not_canceled": 0.1370942035,
                    "required_car_parking_spaces": 0.0625534771,
                    "total_of_special_requests": 0.5715040685,
                    "avg_daily_rate": 101.9690917708,
                    "booked_by_company": 0.0567737606,
                    "booked_by_agent": 0.8634342756,
                    "hotel_City": 0.6640634175,
                    "hotel_Resort": 0.3359365825,
                    "meal_BB": 0.7737270363,
                    "meal_FB": 0.0066940693,
                    "meal_HB": 0.1212817717,
                    "meal_No_meal": 0.0982971227,
                    "market_segment_Aviation": 0.0019713111,
                    "market_segment_Complementary": 0.0061068702,
                    "market_segment_Corporate": 0.0443083634,
                    "market_segment_Direct": 0.1055448368,
                    "market_segment_Groups": 0.1660179515,
                    "market_segment_Offline_TA_TO": 0.2028521097,
                    "market_segment_Online_TA": 0.4731817801,
                    "market_segment_Undefined": 0.0000167771,
                    "distribution_channel_Corporate": 0.0557922993,
                    "distribution_channel_Direct": 0.122565221,
                    "distribution_channel_GDS": 0.0016189917,
                    "distribution_channel_TA_TO": 0.8199815452,
                    "distribution_channel_Undefined": 0.0000419428,
                    "reserved_room_type_A": 0.7203506417,
                    "reserved_room_type_B": 0.0093532422,
                    "reserved_room_type_C": 0.0078097475,
                    "reserved_room_type_D": 0.160884154,
                    "reserved_room_type_E": 0.0546850096,
                    "reserved_room_type_F": 0.0242764869,
                    "reserved_room_type_G": 0.0175488634,
                    "reserved_room_type_H": 0.0050415234,
                    "reserved_room_type_L": 0.0000503313,
                    "deposit_type_No_Deposit": 0.876277158,
                    "deposit_type_Non_Refund": 0.1223638956,
                    "deposit_type_Refundable": 0.0013589464,
                    "customer_type_Contract": 0.0341582082,
                    "customer_type_Group": 0.0048150323,
                    "customer_type_Transient": 0.7505746162,
                    "customer_type_Transient-Party": 0.2104521433
                  },
                  {
                    "index": "std",
                    "is_canceled": 0.4830119026,
                    "lead_time": 106.8754499772,
                    "arrival_date_week_number": 13.6011069633,
                    "arrival_date_day_of_month": 8.7810700716,
                    "arrival_date_month": 3.0897964817,
                    "stays_in_weekend_nights": 0.9951170273,
                    "stays_in_week_nights": 1.8971057778,
                    "adults": 0.5751855798,
                    "children": 0.3988355482,
                    "babies": 0.0975092357,
                    "is_repeated_guest": 0.1746628238,
                    "previous_cancellations": 0.8449182637,
                    "previous_bookings_not_canceled": 1.4981371814,
                    "required_car_parking_spaces": 0.2453595654,
                    "total_of_special_requests": 0.7928759004,
                    "avg_daily_rate": 50.4340067685,
                    "booked_by_company": 0.2314107818,
                    "booked_by_agent": 0.3433897442,
                    "hotel_City": 0.4723188186,
                    "hotel_Resort": 0.4723188186,
                    "meal_BB": 0.4184196198,
                    "meal_FB": 0.081543329,
                    "meal_HB": 0.3264558125,
                    "meal_No_meal": 0.297717218,
                    "market_segment_Aviation": 0.0443558516,
                    "market_segment_Complementary": 0.0779078127,
                    "market_segment_Corporate": 0.2057801923,
                    "market_segment_Direct": 0.3072554575,
                    "market_segment_Groups": 0.3720983106,
                    "market_segment_Offline_TA_TO": 0.4021249654,
                    "market_segment_Online_TA": 0.4992823592,
                    "market_segment_Undefined": 0.0040959706,
                    "distribution_channel_Corporate": 0.2295211549,
                    "distribution_channel_Direct": 0.3279388507,
                    "distribution_channel_GDS": 0.0402042799,
                    "distribution_channel_TA_TO": 0.3842044365,
                    "distribution_channel_Undefined": 0.0064762167,
                    "reserved_room_type_A": 0.448828792,
                    "reserved_room_type_B": 0.0962592165,
                    "reserved_room_type_C": 0.0880273841,
                    "reserved_room_type_D": 0.3674256054,
                    "reserved_room_type_E": 0.2273653294,
                    "reserved_room_type_F": 0.1539069126,
                    "reserved_room_type_G": 0.1313051613,
                    "reserved_room_type_H": 0.0708247731,
                    "reserved_room_type_L": 0.0070943102,
                    "deposit_type_No_Deposit": 0.3292664724,
                    "deposit_type_Non_Refund": 0.3277069934,
                    "deposit_type_Refundable": 0.0368389881,
                    "customer_type_Contract": 0.1816361797,
                    "customer_type_Group": 0.0692234639,
                    "customer_type_Transient": 0.4326822531,
                    "customer_type_Transient-Party": 0.4076314911
                  },
                  {
                    "index": "min",
                    "is_canceled": 0,
                    "lead_time": 0,
                    "arrival_date_week_number": 1,
                    "arrival_date_day_of_month": 1,
                    "arrival_date_month": 1,
                    "stays_in_weekend_nights": 0,
                    "stays_in_week_nights": 0,
                    "adults": 0,
                    "children": 0,
                    "babies": 0,
                    "is_repeated_guest": 0,
                    "previous_cancellations": 0,
                    "previous_bookings_not_canceled": 0,
                    "required_car_parking_spaces": 0,
                    "total_of_special_requests": 0,
                    "avg_daily_rate": -6.38,
                    "booked_by_company": 0,
                    "booked_by_agent": 0,
                    "hotel_City": 0,
                    "hotel_Resort": 0,
                    "meal_BB": 0,
                    "meal_FB": 0,
                    "meal_HB": 0,
                    "meal_No_meal": 0,
                    "market_segment_Aviation": 0,
                    "market_segment_Complementary": 0,
                    "market_segment_Corporate": 0,
                    "market_segment_Direct": 0,
                    "market_segment_Groups": 0,
                    "market_segment_Offline_TA_TO": 0,
                    "market_segment_Online_TA": 0,
                    "market_segment_Undefined": 0,
                    "distribution_channel_Corporate": 0,
                    "distribution_channel_Direct": 0,
                    "distribution_channel_GDS": 0,
                    "distribution_channel_TA_TO": 0,
                    "distribution_channel_Undefined": 0,
                    "reserved_room_type_A": 0,
                    "reserved_room_type_B": 0,
                    "reserved_room_type_C": 0,
                    "reserved_room_type_D": 0,
                    "reserved_room_type_E": 0,
                    "reserved_room_type_F": 0,
                    "reserved_room_type_G": 0,
                    "reserved_room_type_H": 0,
                    "reserved_room_type_L": 0,
                    "deposit_type_No_Deposit": 0,
                    "deposit_type_Non_Refund": 0,
                    "deposit_type_Refundable": 0,
                    "customer_type_Contract": 0,
                    "customer_type_Group": 0,
                    "customer_type_Transient": 0,
                    "customer_type_Transient-Party": 0
                  },
                  {
                    "index": "25%",
                    "is_canceled": 0,
                    "lead_time": 18,
                    "arrival_date_week_number": 16,
                    "arrival_date_day_of_month": 8,
                    "arrival_date_month": 4,
                    "stays_in_weekend_nights": 0,
                    "stays_in_week_nights": 1,
                    "adults": 2,
                    "children": 0,
                    "babies": 0,
                    "is_repeated_guest": 0,
                    "previous_cancellations": 0,
                    "previous_bookings_not_canceled": 0,
                    "required_car_parking_spaces": 0,
                    "total_of_special_requests": 0,
                    "avg_daily_rate": 69.5,
                    "booked_by_company": 0,
                    "booked_by_agent": 1,
                    "hotel_City": 0,
                    "hotel_Resort": 0,
                    "meal_BB": 1,
                    "meal_FB": 0,
                    "meal_HB": 0,
                    "meal_No_meal": 0,
                    "market_segment_Aviation": 0,
                    "market_segment_Complementary": 0,
                    "market_segment_Corporate": 0,
                    "market_segment_Direct": 0,
                    "market_segment_Groups": 0,
                    "market_segment_Offline_TA_TO": 0,
                    "market_segment_Online_TA": 0,
                    "market_segment_Undefined": 0,
                    "distribution_channel_Corporate": 0,
                    "distribution_channel_Direct": 0,
                    "distribution_channel_GDS": 0,
                    "distribution_channel_TA_TO": 1,
                    "distribution_channel_Undefined": 0,
                    "reserved_room_type_A": 0,
                    "reserved_room_type_B": 0,
                    "reserved_room_type_C": 0,
                    "reserved_room_type_D": 0,
                    "reserved_room_type_E": 0,
                    "reserved_room_type_F": 0,
                    "reserved_room_type_G": 0,
                    "reserved_room_type_H": 0,
                    "reserved_room_type_L": 0,
                    "deposit_type_No_Deposit": 1,
                    "deposit_type_Non_Refund": 0,
                    "deposit_type_Refundable": 0,
                    "customer_type_Contract": 0,
                    "customer_type_Group": 0,
                    "customer_type_Transient": 1,
                    "customer_type_Transient-Party": 0
                  },
                  {
                    "index": "50%",
                    "is_canceled": 0,
                    "lead_time": 69,
                    "arrival_date_week_number": 28,
                    "arrival_date_day_of_month": 16,
                    "arrival_date_month": 7,
                    "stays_in_weekend_nights": 1,
                    "stays_in_week_nights": 2,
                    "adults": 2,
                    "children": 0,
                    "babies": 0,
                    "is_repeated_guest": 0,
                    "previous_cancellations": 0,
                    "previous_bookings_not_canceled": 0,
                    "required_car_parking_spaces": 0,
                    "total_of_special_requests": 0,
                    "avg_daily_rate": 94.95,
                    "booked_by_company": 0,
                    "booked_by_agent": 1,
                    "hotel_City": 1,
                    "hotel_Resort": 0,
                    "meal_BB": 1,
                    "meal_FB": 0,
                    "meal_HB": 0,
                    "meal_No_meal": 0,
                    "market_segment_Aviation": 0,
                    "market_segment_Complementary": 0,
                    "market_segment_Corporate": 0,
                    "market_segment_Direct": 0,
                    "market_segment_Groups": 0,
                    "market_segment_Offline_TA_TO": 0,
                    "market_segment_Online_TA": 0,
                    "market_segment_Undefined": 0,
                    "distribution_channel_Corporate": 0,
                    "distribution_channel_Direct": 0,
                    "distribution_channel_GDS": 0,
                    "distribution_channel_TA_TO": 1,
                    "distribution_channel_Undefined": 0,
                    "reserved_room_type_A": 1,
                    "reserved_room_type_B": 0,
                    "reserved_room_type_C": 0,
                    "reserved_room_type_D": 0,
                    "reserved_room_type_E": 0,
                    "reserved_room_type_F": 0,
                    "reserved_room_type_G": 0,
                    "reserved_room_type_H": 0,
                    "reserved_room_type_L": 0,
                    "deposit_type_No_Deposit": 1,
                    "deposit_type_Non_Refund": 0,
                    "deposit_type_Refundable": 0,
                    "customer_type_Contract": 0,
                    "customer_type_Group": 0,
                    "customer_type_Transient": 1,
                    "customer_type_Transient-Party": 0
                  },
                  {
                    "index": "75%",
                    "is_canceled": 1,
                    "lead_time": 161,
                    "arrival_date_week_number": 38,
                    "arrival_date_day_of_month": 23,
                    "arrival_date_month": 9,
                    "stays_in_weekend_nights": 2,
                    "stays_in_week_nights": 3,
                    "adults": 2,
                    "children": 0,
                    "babies": 0,
                    "is_repeated_guest": 0,
                    "previous_cancellations": 0,
                    "previous_bookings_not_canceled": 0,
                    "required_car_parking_spaces": 0,
                    "total_of_special_requests": 1,
                    "avg_daily_rate": 126,
                    "booked_by_company": 0,
                    "booked_by_agent": 1,
                    "hotel_City": 1,
                    "hotel_Resort": 1,
                    "meal_BB": 1,
                    "meal_FB": 0,
                    "meal_HB": 0,
                    "meal_No_meal": 0,
                    "market_segment_Aviation": 0,
                    "market_segment_Complementary": 0,
                    "market_segment_Corporate": 0,
                    "market_segment_Direct": 0,
                    "market_segment_Groups": 0,
                    "market_segment_Offline_TA_TO": 0,
                    "market_segment_Online_TA": 1,
                    "market_segment_Undefined": 0,
                    "distribution_channel_Corporate": 0,
                    "distribution_channel_Direct": 0,
                    "distribution_channel_GDS": 0,
                    "distribution_channel_TA_TO": 1,
                    "distribution_channel_Undefined": 0,
                    "reserved_room_type_A": 1,
                    "reserved_room_type_B": 0,
                    "reserved_room_type_C": 0,
                    "reserved_room_type_D": 0,
                    "reserved_room_type_E": 0,
                    "reserved_room_type_F": 0,
                    "reserved_room_type_G": 0,
                    "reserved_room_type_H": 0,
                    "reserved_room_type_L": 0,
                    "deposit_type_No_Deposit": 1,
                    "deposit_type_Non_Refund": 0,
                    "deposit_type_Refundable": 0,
                    "customer_type_Contract": 0,
                    "customer_type_Group": 0,
                    "customer_type_Transient": 1,
                    "customer_type_Transient-Party": 0
                  },
                  {
                    "index": "max",
                    "is_canceled": 1,
                    "lead_time": 737,
                    "arrival_date_week_number": 53,
                    "arrival_date_day_of_month": 31,
                    "arrival_date_month": 12,
                    "stays_in_weekend_nights": 19,
                    "stays_in_week_nights": 50,
                    "adults": 55,
                    "children": 10,
                    "babies": 10,
                    "is_repeated_guest": 1,
                    "previous_cancellations": 26,
                    "previous_bookings_not_canceled": 72,
                    "required_car_parking_spaces": 8,
                    "total_of_special_requests": 5,
                    "avg_daily_rate": 5400,
                    "booked_by_company": 1,
                    "booked_by_agent": 1,
                    "hotel_City": 1,
                    "hotel_Resort": 1,
                    "meal_BB": 1,
                    "meal_FB": 1,
                    "meal_HB": 1,
                    "meal_No_meal": 1,
                    "market_segment_Aviation": 1,
                    "market_segment_Complementary": 1,
                    "market_segment_Corporate": 1,
                    "market_segment_Direct": 1,
                    "market_segment_Groups": 1,
                    "market_segment_Offline_TA_TO": 1,
                    "market_segment_Online_TA": 1,
                    "market_segment_Undefined": 1,
                    "distribution_channel_Corporate": 1,
                    "distribution_channel_Direct": 1,
                    "distribution_channel_GDS": 1,
                    "distribution_channel_TA_TO": 1,
                    "distribution_channel_Undefined": 1,
                    "reserved_room_type_A": 1,
                    "reserved_room_type_B": 1,
                    "reserved_room_type_C": 1,
                    "reserved_room_type_D": 1,
                    "reserved_room_type_E": 1,
                    "reserved_room_type_F": 1,
                    "reserved_room_type_G": 1,
                    "reserved_room_type_H": 1,
                    "reserved_room_type_L": 1,
                    "deposit_type_No_Deposit": 1,
                    "deposit_type_Non_Refund": 1,
                    "deposit_type_Refundable": 1,
                    "customer_type_Contract": 1,
                    "customer_type_Group": 1,
                    "customer_type_Transient": 1,
                    "customer_type_Transient-Party": 1
                  }
                ]
              },
              "total_rows": 8,
              "truncation_type": null
            },
            "text/plain": "         is_canceled  ...  customer_type_Transient-Party\ncount  119210.000000  ...                  119210.000000\nmean        0.370766  ...                       0.210452\nstd         0.483012  ...                       0.407631\nmin         0.000000  ...                       0.000000\n25%         0.000000  ...                       0.000000\n50%         0.000000  ...                       0.000000\n75%         1.000000  ...                       0.000000\nmax         1.000000  ...                       1.000000\n\n[8 rows x 53 columns]",
            "text/html": "<div>\n<style scoped>\n    .dataframe tbody tr th:only-of-type {\n        vertical-align: middle;\n    }\n\n    .dataframe tbody tr th {\n        vertical-align: top;\n    }\n\n    .dataframe thead th {\n        text-align: right;\n    }\n</style>\n<table border=\"1\" class=\"dataframe\">\n  <thead>\n    <tr style=\"text-align: right;\">\n      <th></th>\n      <th>is_canceled</th>\n      <th>lead_time</th>\n      <th>arrival_date_week_number</th>\n      <th>arrival_date_day_of_month</th>\n      <th>arrival_date_month</th>\n      <th>stays_in_weekend_nights</th>\n      <th>stays_in_week_nights</th>\n      <th>adults</th>\n      <th>children</th>\n      <th>babies</th>\n      <th>is_repeated_guest</th>\n      <th>previous_cancellations</th>\n      <th>previous_bookings_not_canceled</th>\n      <th>required_car_parking_spaces</th>\n      <th>total_of_special_requests</th>\n      <th>avg_daily_rate</th>\n      <th>booked_by_company</th>\n      <th>booked_by_agent</th>\n      <th>hotel_City</th>\n      <th>hotel_Resort</th>\n      <th>meal_BB</th>\n      <th>meal_FB</th>\n      <th>meal_HB</th>\n      <th>meal_No_meal</th>\n      <th>market_segment_Aviation</th>\n      <th>market_segment_Complementary</th>\n      <th>market_segment_Corporate</th>\n      <th>market_segment_Direct</th>\n      <th>market_segment_Groups</th>\n      <th>market_segment_Offline_TA_TO</th>\n      <th>market_segment_Online_TA</th>\n      <th>market_segment_Undefined</th>\n      <th>distribution_channel_Corporate</th>\n      <th>distribution_channel_Direct</th>\n      <th>distribution_channel_GDS</th>\n      <th>distribution_channel_TA_TO</th>\n      <th>distribution_channel_Undefined</th>\n      <th>reserved_room_type_A</th>\n      <th>reserved_room_type_B</th>\n      <th>reserved_room_type_C</th>\n      <th>reserved_room_type_D</th>\n      <th>reserved_room_type_E</th>\n      <th>reserved_room_type_F</th>\n      <th>reserved_room_type_G</th>\n      <th>reserved_room_type_H</th>\n      <th>reserved_room_type_L</th>\n      <th>deposit_type_No_Deposit</th>\n      <th>deposit_type_Non_Refund</th>\n      <th>deposit_type_Refundable</th>\n      <th>customer_type_Contract</th>\n      <th>customer_type_Group</th>\n      <th>customer_type_Transient</th>\n      <th>customer_type_Transient-Party</th>\n    </tr>\n  </thead>\n  <tbody>\n    <tr>\n      <th>count</th>\n      <td>119210.000000</td>\n      <td>119210.000000</td>\n      <td>119210.000000</td>\n      <td>119210.000000</td>\n      <td>119210.000000</td>\n      <td>119210.000000</td>\n      <td>119210.000000</td>\n      <td>119210.000000</td>\n      <td>119210.000000</td>\n      <td>119210.000000</td>\n      <td>119210.000000</td>\n      <td>119210.000000</td>\n      <td>119210.000000</td>\n      <td>119210.000000</td>\n      <td>119210.000000</td>\n      <td>119210.000000</td>\n      <td>119210.000000</td>\n      <td>119210.000000</td>\n      <td>119210.000000</td>\n      <td>119210.000000</td>\n      <td>119210.000000</td>\n      <td>119210.000000</td>\n      <td>119210.000000</td>\n      <td>119210.000000</td>\n      <td>119210.000000</td>\n      <td>119210.000000</td>\n      <td>119210.000000</td>\n      <td>119210.000000</td>\n      <td>119210.000000</td>\n      <td>119210.000000</td>\n      <td>119210.000000</td>\n      <td>119210.000000</td>\n      <td>119210.000000</td>\n      <td>119210.000000</td>\n      <td>119210.000000</td>\n      <td>119210.000000</td>\n      <td>119210.000000</td>\n      <td>119210.000000</td>\n      <td>119210.000000</td>\n      <td>119210.000000</td>\n      <td>119210.000000</td>\n      <td>119210.000000</td>\n      <td>119210.000000</td>\n      <td>119210.000000</td>\n      <td>119210.000000</td>\n      <td>119210.000000</td>\n      <td>119210.000000</td>\n      <td>119210.000000</td>\n      <td>119210.000000</td>\n      <td>119210.000000</td>\n      <td>119210.000000</td>\n      <td>119210.000000</td>\n      <td>119210.000000</td>\n    </tr>\n    <tr>\n      <th>mean</th>\n      <td>0.370766</td>\n      <td>104.109227</td>\n      <td>27.163376</td>\n      <td>15.798717</td>\n      <td>6.552051</td>\n      <td>0.927053</td>\n      <td>2.499195</td>\n      <td>1.859206</td>\n      <td>0.104043</td>\n      <td>0.007961</td>\n      <td>0.031499</td>\n      <td>0.087191</td>\n      <td>0.137094</td>\n      <td>0.062553</td>\n      <td>0.571504</td>\n      <td>101.969092</td>\n      <td>0.056774</td>\n      <td>0.863434</td>\n      <td>0.664063</td>\n      <td>0.335937</td>\n      <td>0.773727</td>\n      <td>0.006694</td>\n      <td>0.121282</td>\n      <td>0.098297</td>\n      <td>0.001971</td>\n      <td>0.006107</td>\n      <td>0.044308</td>\n      <td>0.105545</td>\n      <td>0.166018</td>\n      <td>0.202852</td>\n      <td>0.473182</td>\n      <td>0.000017</td>\n      <td>0.055792</td>\n      <td>0.122565</td>\n      <td>0.001619</td>\n      <td>0.819982</td>\n      <td>0.000042</td>\n      <td>0.720351</td>\n      <td>0.009353</td>\n      <td>0.007810</td>\n      <td>0.160884</td>\n      <td>0.054685</td>\n      <td>0.024276</td>\n      <td>0.017549</td>\n      <td>0.005042</td>\n      <td>0.000050</td>\n      <td>0.876277</td>\n      <td>0.122364</td>\n      <td>0.001359</td>\n      <td>0.034158</td>\n      <td>0.004815</td>\n      <td>0.750575</td>\n      <td>0.210452</td>\n    </tr>\n    <tr>\n      <th>std</th>\n      <td>0.483012</td>\n      <td>106.875450</td>\n      <td>13.601107</td>\n      <td>8.781070</td>\n      <td>3.089796</td>\n      <td>0.995117</td>\n      <td>1.897106</td>\n      <td>0.575186</td>\n      <td>0.398836</td>\n      <td>0.097509</td>\n      <td>0.174663</td>\n      <td>0.844918</td>\n      <td>1.498137</td>\n      <td>0.245360</td>\n      <td>0.792876</td>\n      <td>50.434007</td>\n      <td>0.231411</td>\n      <td>0.343390</td>\n      <td>0.472319</td>\n      <td>0.472319</td>\n      <td>0.418420</td>\n      <td>0.081543</td>\n      <td>0.326456</td>\n      <td>0.297717</td>\n      <td>0.044356</td>\n      <td>0.077908</td>\n      <td>0.205780</td>\n      <td>0.307255</td>\n      <td>0.372098</td>\n      <td>0.402125</td>\n      <td>0.499282</td>\n      <td>0.004096</td>\n      <td>0.229521</td>\n      <td>0.327939</td>\n      <td>0.040204</td>\n      <td>0.384204</td>\n      <td>0.006476</td>\n      <td>0.448829</td>\n      <td>0.096259</td>\n      <td>0.088027</td>\n      <td>0.367426</td>\n      <td>0.227365</td>\n      <td>0.153907</td>\n      <td>0.131305</td>\n      <td>0.070825</td>\n      <td>0.007094</td>\n      <td>0.329266</td>\n      <td>0.327707</td>\n      <td>0.036839</td>\n      <td>0.181636</td>\n      <td>0.069223</td>\n      <td>0.432682</td>\n      <td>0.407631</td>\n    </tr>\n    <tr>\n      <th>min</th>\n      <td>0.000000</td>\n      <td>0.000000</td>\n      <td>1.000000</td>\n      <td>1.000000</td>\n      <td>1.000000</td>\n      <td>0.000000</td>\n      <td>0.000000</td>\n      <td>0.000000</td>\n      <td>0.000000</td>\n      <td>0.000000</td>\n      <td>0.000000</td>\n      <td>0.000000</td>\n      <td>0.000000</td>\n      <td>0.000000</td>\n      <td>0.000000</td>\n      <td>-6.380000</td>\n      <td>0.000000</td>\n      <td>0.000000</td>\n      <td>0.000000</td>\n      <td>0.000000</td>\n      <td>0.000000</td>\n      <td>0.000000</td>\n      <td>0.000000</td>\n      <td>0.000000</td>\n      <td>0.000000</td>\n      <td>0.000000</td>\n      <td>0.000000</td>\n      <td>0.000000</td>\n      <td>0.000000</td>\n      <td>0.000000</td>\n      <td>0.000000</td>\n      <td>0.000000</td>\n      <td>0.000000</td>\n      <td>0.000000</td>\n      <td>0.000000</td>\n      <td>0.000000</td>\n      <td>0.000000</td>\n      <td>0.000000</td>\n      <td>0.000000</td>\n      <td>0.000000</td>\n      <td>0.000000</td>\n      <td>0.000000</td>\n      <td>0.000000</td>\n      <td>0.000000</td>\n      <td>0.000000</td>\n      <td>0.000000</td>\n      <td>0.000000</td>\n      <td>0.000000</td>\n      <td>0.000000</td>\n      <td>0.000000</td>\n      <td>0.000000</td>\n      <td>0.000000</td>\n      <td>0.000000</td>\n    </tr>\n    <tr>\n      <th>25%</th>\n      <td>0.000000</td>\n      <td>18.000000</td>\n      <td>16.000000</td>\n      <td>8.000000</td>\n      <td>4.000000</td>\n      <td>0.000000</td>\n      <td>1.000000</td>\n      <td>2.000000</td>\n      <td>0.000000</td>\n      <td>0.000000</td>\n      <td>0.000000</td>\n      <td>0.000000</td>\n      <td>0.000000</td>\n      <td>0.000000</td>\n      <td>0.000000</td>\n      <td>69.500000</td>\n      <td>0.000000</td>\n      <td>1.000000</td>\n      <td>0.000000</td>\n      <td>0.000000</td>\n      <td>1.000000</td>\n      <td>0.000000</td>\n      <td>0.000000</td>\n      <td>0.000000</td>\n      <td>0.000000</td>\n      <td>0.000000</td>\n      <td>0.000000</td>\n      <td>0.000000</td>\n      <td>0.000000</td>\n      <td>0.000000</td>\n      <td>0.000000</td>\n      <td>0.000000</td>\n      <td>0.000000</td>\n      <td>0.000000</td>\n      <td>0.000000</td>\n      <td>1.000000</td>\n      <td>0.000000</td>\n      <td>0.000000</td>\n      <td>0.000000</td>\n      <td>0.000000</td>\n      <td>0.000000</td>\n      <td>0.000000</td>\n      <td>0.000000</td>\n      <td>0.000000</td>\n      <td>0.000000</td>\n      <td>0.000000</td>\n      <td>1.000000</td>\n      <td>0.000000</td>\n      <td>0.000000</td>\n      <td>0.000000</td>\n      <td>0.000000</td>\n      <td>1.000000</td>\n      <td>0.000000</td>\n    </tr>\n    <tr>\n      <th>50%</th>\n      <td>0.000000</td>\n      <td>69.000000</td>\n      <td>28.000000</td>\n      <td>16.000000</td>\n      <td>7.000000</td>\n      <td>1.000000</td>\n      <td>2.000000</td>\n      <td>2.000000</td>\n      <td>0.000000</td>\n      <td>0.000000</td>\n      <td>0.000000</td>\n      <td>0.000000</td>\n      <td>0.000000</td>\n      <td>0.000000</td>\n      <td>0.000000</td>\n      <td>94.950000</td>\n      <td>0.000000</td>\n      <td>1.000000</td>\n      <td>1.000000</td>\n      <td>0.000000</td>\n      <td>1.000000</td>\n      <td>0.000000</td>\n      <td>0.000000</td>\n      <td>0.000000</td>\n      <td>0.000000</td>\n      <td>0.000000</td>\n      <td>0.000000</td>\n      <td>0.000000</td>\n      <td>0.000000</td>\n      <td>0.000000</td>\n      <td>0.000000</td>\n      <td>0.000000</td>\n      <td>0.000000</td>\n      <td>0.000000</td>\n      <td>0.000000</td>\n      <td>1.000000</td>\n      <td>0.000000</td>\n      <td>1.000000</td>\n      <td>0.000000</td>\n      <td>0.000000</td>\n      <td>0.000000</td>\n      <td>0.000000</td>\n      <td>0.000000</td>\n      <td>0.000000</td>\n      <td>0.000000</td>\n      <td>0.000000</td>\n      <td>1.000000</td>\n      <td>0.000000</td>\n      <td>0.000000</td>\n      <td>0.000000</td>\n      <td>0.000000</td>\n      <td>1.000000</td>\n      <td>0.000000</td>\n    </tr>\n    <tr>\n      <th>75%</th>\n      <td>1.000000</td>\n      <td>161.000000</td>\n      <td>38.000000</td>\n      <td>23.000000</td>\n      <td>9.000000</td>\n      <td>2.000000</td>\n      <td>3.000000</td>\n      <td>2.000000</td>\n      <td>0.000000</td>\n      <td>0.000000</td>\n      <td>0.000000</td>\n      <td>0.000000</td>\n      <td>0.000000</td>\n      <td>0.000000</td>\n      <td>1.000000</td>\n      <td>126.000000</td>\n      <td>0.000000</td>\n      <td>1.000000</td>\n      <td>1.000000</td>\n      <td>1.000000</td>\n      <td>1.000000</td>\n      <td>0.000000</td>\n      <td>0.000000</td>\n      <td>0.000000</td>\n      <td>0.000000</td>\n      <td>0.000000</td>\n      <td>0.000000</td>\n      <td>0.000000</td>\n      <td>0.000000</td>\n      <td>0.000000</td>\n      <td>1.000000</td>\n      <td>0.000000</td>\n      <td>0.000000</td>\n      <td>0.000000</td>\n      <td>0.000000</td>\n      <td>1.000000</td>\n      <td>0.000000</td>\n      <td>1.000000</td>\n      <td>0.000000</td>\n      <td>0.000000</td>\n      <td>0.000000</td>\n      <td>0.000000</td>\n      <td>0.000000</td>\n      <td>0.000000</td>\n      <td>0.000000</td>\n      <td>0.000000</td>\n      <td>1.000000</td>\n      <td>0.000000</td>\n      <td>0.000000</td>\n      <td>0.000000</td>\n      <td>0.000000</td>\n      <td>1.000000</td>\n      <td>0.000000</td>\n    </tr>\n    <tr>\n      <th>max</th>\n      <td>1.000000</td>\n      <td>737.000000</td>\n      <td>53.000000</td>\n      <td>31.000000</td>\n      <td>12.000000</td>\n      <td>19.000000</td>\n      <td>50.000000</td>\n      <td>55.000000</td>\n      <td>10.000000</td>\n      <td>10.000000</td>\n      <td>1.000000</td>\n      <td>26.000000</td>\n      <td>72.000000</td>\n      <td>8.000000</td>\n      <td>5.000000</td>\n      <td>5400.000000</td>\n      <td>1.000000</td>\n      <td>1.000000</td>\n      <td>1.000000</td>\n      <td>1.000000</td>\n      <td>1.000000</td>\n      <td>1.000000</td>\n      <td>1.000000</td>\n      <td>1.000000</td>\n      <td>1.000000</td>\n      <td>1.000000</td>\n      <td>1.000000</td>\n      <td>1.000000</td>\n      <td>1.000000</td>\n      <td>1.000000</td>\n      <td>1.000000</td>\n      <td>1.000000</td>\n      <td>1.000000</td>\n      <td>1.000000</td>\n      <td>1.000000</td>\n      <td>1.000000</td>\n      <td>1.000000</td>\n      <td>1.000000</td>\n      <td>1.000000</td>\n      <td>1.000000</td>\n      <td>1.000000</td>\n      <td>1.000000</td>\n      <td>1.000000</td>\n      <td>1.000000</td>\n      <td>1.000000</td>\n      <td>1.000000</td>\n      <td>1.000000</td>\n      <td>1.000000</td>\n      <td>1.000000</td>\n      <td>1.000000</td>\n      <td>1.000000</td>\n      <td>1.000000</td>\n      <td>1.000000</td>\n    </tr>\n  </tbody>\n</table>\n</div>"
          },
          "metadata": {},
          "execution_count": 53
        }
      ]
    },
    {
      "source": [
        "dataset_columns"
      ],
      "metadata": {
        "executionTime": 52,
        "lastSuccessfullyExecutedCode": "dataset_columns",
        "executionCancelledAt": null,
        "lastExecutedAt": 1686568937324,
        "lastScheduledRunId": null,
        "id": "5faa562e-6123-45d6-80b8-bc4477b85af2",
        "outputId": "ceda1173-7bb5-44dd-d298-058570fd6018"
      },
      "cell_type": "code",
      "id": "5faa562e-6123-45d6-80b8-bc4477b85af2",
      "execution_count": null,
      "outputs": [
        {
          "output_type": "execute_result",
          "data": {
            "text/plain": "Index(['is_canceled', 'lead_time', 'arrival_date_week_number',\n       'arrival_date_day_of_month', 'arrival_date_month',\n       'stays_in_weekend_nights', 'stays_in_week_nights', 'adults', 'children',\n       'babies', 'is_repeated_guest', 'previous_cancellations',\n       'previous_bookings_not_canceled', 'required_car_parking_spaces',\n       'total_of_special_requests', 'avg_daily_rate', 'booked_by_company',\n       'booked_by_agent', 'hotel_City', 'hotel_Resort', 'meal_BB', 'meal_FB',\n       'meal_HB', 'meal_No_meal', 'market_segment_Aviation',\n       'market_segment_Complementary', 'market_segment_Corporate',\n       'market_segment_Direct', 'market_segment_Groups',\n       'market_segment_Offline_TA_TO', 'market_segment_Online_TA',\n       'market_segment_Undefined', 'distribution_channel_Corporate',\n       'distribution_channel_Direct', 'distribution_channel_GDS',\n       'distribution_channel_TA_TO', 'distribution_channel_Undefined',\n       'reserved_room_type_A', 'reserved_room_type_B', 'reserved_room_type_C',\n       'reserved_room_type_D', 'reserved_room_type_E', 'reserved_room_type_F',\n       'reserved_room_type_G', 'reserved_room_type_H', 'reserved_room_type_L',\n       'deposit_type_No_Deposit', 'deposit_type_Non_Refund',\n       'deposit_type_Refundable', 'customer_type_Contract',\n       'customer_type_Group', 'customer_type_Transient',\n       'customer_type_Transient-Party'],\n      dtype='object')"
          },
          "metadata": {},
          "execution_count": 54
        }
      ]
    },
    {
      "source": [
        "Family Size:"
      ],
      "metadata": {
        "id": "359104ff-3a72-44a6-819f-ffb925f49e32"
      },
      "cell_type": "markdown",
      "id": "359104ff-3a72-44a6-819f-ffb925f49e32"
    },
    {
      "source": [
        "#to generate family size\n",
        "dataset['family_size'] = dataset[['adults','children','babies']].sum(axis='columns')\n",
        "dataset['family_size'].unique()"
      ],
      "metadata": {
        "executionTime": 52,
        "lastSuccessfullyExecutedCode": "#to generate family size\ndataset['family_size'] = dataset[['adults','children','babies']].sum(axis='columns')\ndataset['family_size'].unique()",
        "executionCancelledAt": null,
        "lastExecutedAt": 1686568937376,
        "lastScheduledRunId": null,
        "id": "5009d48c-ac7d-4a3b-b485-a3eb3c249b6e",
        "outputId": "84321cc0-4a05-477e-de82-0de555383646"
      },
      "cell_type": "code",
      "id": "5009d48c-ac7d-4a3b-b485-a3eb3c249b6e",
      "execution_count": null,
      "outputs": [
        {
          "output_type": "execute_result",
          "data": {
            "text/plain": "array([ 2.,  1.,  3.,  4.,  5., 12., 40., 26., 50., 27., 55., 20.,  6.,\n       10.])"
          },
          "metadata": {},
          "execution_count": 55
        }
      ]
    },
    {
      "source": [
        "The Hotels have family sizes of 2, 1, 3, 4, 5, 12, 40, 26, 50, 27, 55, 20, 6, 10\n"
      ],
      "metadata": {
        "id": "466f0d8a-bcb1-4d60-b2a0-1eb96abb8ddd"
      },
      "cell_type": "markdown",
      "id": "466f0d8a-bcb1-4d60-b2a0-1eb96abb8ddd"
    },
    {
      "source": [
        "import seaborn as sns\n",
        "import numpy as np\n",
        "import matplotlib.pyplot as plt"
      ],
      "metadata": {
        "executionTime": 47,
        "lastSuccessfullyExecutedCode": "import seaborn as sns\nimport numpy as np\nimport matplotlib.pyplot as plt",
        "executionCancelledAt": null,
        "lastExecutedAt": 1686568937423,
        "lastScheduledRunId": null,
        "id": "720cbae4-f9eb-40e4-b6ed-55c3ac5495aa"
      },
      "cell_type": "code",
      "id": "720cbae4-f9eb-40e4-b6ed-55c3ac5495aa",
      "execution_count": null,
      "outputs": []
    },
    {
      "source": [
        "#check the number of occurrence of each family size\n",
        "dataset['family_size'].value_counts()"
      ],
      "metadata": {
        "executionTime": 52,
        "lastSuccessfullyExecutedCode": "#check the number of occurrence of each family size\ndataset['family_size'].value_counts()",
        "executionCancelledAt": null,
        "lastExecutedAt": 1686568937476,
        "lastScheduledRunId": null,
        "id": "85286af4-613e-49e9-9461-909f361bd147",
        "outputId": "83b9107e-6183-4c85-8d92-96f0f216ee77"
      },
      "cell_type": "code",
      "id": "85286af4-613e-49e9-9461-909f361bd147",
      "execution_count": null,
      "outputs": [
        {
          "output_type": "execute_result",
          "data": {
            "text/plain": "2.0     82051\n1.0     22581\n3.0     10495\n4.0      3929\n5.0       137\n26.0        5\n12.0        2\n27.0        2\n20.0        2\n10.0        2\n40.0        1\n50.0        1\n55.0        1\n6.0         1\nName: family_size, dtype: int64"
          },
          "metadata": {},
          "execution_count": 57
        }
      ]
    },
    {
      "source": [
        "#visualization of number of occurence of each family size\n",
        "ax = sns.countplot(x='family_size', data = dataset)\n",
        "ax.set_title('Counts of each family size')"
      ],
      "metadata": {
        "executionTime": 206,
        "lastSuccessfullyExecutedCode": "#visualization of number of occurence of each family size\nax = sns.countplot(x='family_size', data = dataset)\nax.set_title('Counts of each family size')",
        "executionCancelledAt": null,
        "lastExecutedAt": 1686568937682,
        "lastScheduledRunId": null,
        "id": "60c2cecb-81e5-48be-868f-64070dac035d",
        "outputId": "fea3f6ac-bd26-4111-93c1-222136a08549"
      },
      "cell_type": "code",
      "id": "60c2cecb-81e5-48be-868f-64070dac035d",
      "execution_count": null,
      "outputs": [
        {
          "output_type": "execute_result",
          "data": {
            "text/plain": "Text(0.5, 1.0, 'Counts of each family size')"
          },
          "metadata": {},
          "execution_count": 58
        },
        {
          "output_type": "display_data",
          "data": {
            "text/plain": "<Figure size 640x480 with 1 Axes>",
            "image/png": "[encoded data removed]"
          },
          "metadata": {}
        }
      ]
    },
    {
      "source": [
        "fam_cancel_size = dataset[dataset['is_canceled']==1].groupby('family_size')['is_canceled'].value_counts()\n",
        "max_family_cancelsize = fam_cancel_size.nlargest(1)\n",
        "print(max_family_cancelsize)"
      ],
      "metadata": {
        "executionTime": 50,
        "lastSuccessfullyExecutedCode": "fam_cancel_size = dataset[dataset['is_canceled']==1].groupby('family_size')['is_canceled'].value_counts()\nmax_family_cancelsize = fam_cancel_size.nlargest(1)\nprint(max_family_cancelsize)",
        "executionCancelledAt": null,
        "lastExecutedAt": 1686568937732,
        "lastScheduledRunId": null,
        "outputsMetadata": {
          "0": {
            "height": 76,
            "type": "stream"
          }
        },
        "id": "bf5321fb-4b1a-4aa0-9c0f-eb17efaeaedc",
        "outputId": "9fe80d08-33ee-4eca-87c0-bfb5cd5dc6f6"
      },
      "cell_type": "code",
      "id": "bf5321fb-4b1a-4aa0-9c0f-eb17efaeaedc",
      "execution_count": null,
      "outputs": [
        {
          "output_type": "stream",
          "name": "stdout",
          "text": "family_size  is_canceled\n2.0          1              32572\nName: is_canceled, dtype: int64\n"
        }
      ]
    },
    {
      "source": [
        "A FAMILY SIZE OF TWO HAS THE HIGHEST CANCELLATION RATE"
      ],
      "metadata": {
        "id": "b57e3f8e-9210-4da5-a858-8d085355b6ea"
      },
      "cell_type": "markdown",
      "id": "b57e3f8e-9210-4da5-a858-8d085355b6ea"
    },
    {
      "source": [
        "dataset['previous_cancellations'].unique()"
      ],
      "metadata": {
        "executionTime": 48,
        "lastSuccessfullyExecutedCode": "dataset['previous_cancellations'].unique()",
        "executionCancelledAt": null,
        "lastExecutedAt": 1686568937780,
        "lastScheduledRunId": null,
        "id": "da2e40b5-ee39-4e26-b480-27f89d79e2df",
        "outputId": "d17e98a5-147b-499d-8e03-7c0197fb6b20"
      },
      "cell_type": "code",
      "id": "da2e40b5-ee39-4e26-b480-27f89d79e2df",
      "execution_count": null,
      "outputs": [
        {
          "output_type": "execute_result",
          "data": {
            "text/plain": "array([ 0,  1,  2,  3, 26, 25, 14,  4, 24, 19,  5, 21,  6, 13, 11])"
          },
          "metadata": {},
          "execution_count": 60
        }
      ]
    },
    {
      "source": [
        "#family size with the highest previous cancellation rate, rate of cancellation\n",
        "max_family_cancelsize = dataset[dataset['previous_cancellations']==26].groupby('family_size')['previous_cancellations'].value_counts()\n",
        "print(max_family_cancelsize)"
      ],
      "metadata": {
        "executionTime": 48,
        "lastSuccessfullyExecutedCode": "#family size with the highest previous cancellation rate, rate of cancellation\nmax_family_cancelsize = dataset[dataset['previous_cancellations']==26].groupby('family_size')['previous_cancellations'].value_counts()\nprint(max_family_cancelsize)",
        "executionCancelledAt": null,
        "lastExecutedAt": 1686568937828,
        "lastScheduledRunId": null,
        "outputsMetadata": {
          "0": {
            "height": 76,
            "type": "stream"
          }
        },
        "id": "ea3e716a-85d0-467f-8825-dd5cfd5e769f",
        "outputId": "221a37de-1be2-4a07-85d0-78c1c1f560cd"
      },
      "cell_type": "code",
      "id": "ea3e716a-85d0-467f-8825-dd5cfd5e769f",
      "execution_count": null,
      "outputs": [
        {
          "output_type": "stream",
          "name": "stdout",
          "text": "family_size  previous_cancellations\n2.0          26                        26\nName: previous_cancellations, dtype: int64\n"
        }
      ]
    },
    {
      "source": [
        "The family size of two has the highest previous cancellation (26) which occurred twenty-six (26) times."
      ],
      "metadata": {
        "id": "b9aaece1-7fdd-4106-a155-2171bdc917b4"
      },
      "cell_type": "markdown",
      "id": "b9aaece1-7fdd-4106-a155-2171bdc917b4"
    },
    {
      "source": [
        "#Create a plot that visualizes the cancellation rates of different times of the year\n",
        "#distribution of cancellation across the months in a year\n",
        "\n",
        "dataset['arrival_date_month'] = dataset['arrival_date_month'].astype('category')\n",
        "monthly_cancel_dist = dataset[dataset['is_canceled']==1]\n"
      ],
      "metadata": {
        "executionTime": 48,
        "lastSuccessfullyExecutedCode": "#Create a plot that visualizes the cancellation rates of different times of the year\n#distribution of cancellation across the months in a year\n\ndataset['arrival_date_month'] = dataset['arrival_date_month'].astype('category')\nmonthly_cancel_dist = dataset[dataset['is_canceled']==1]\n",
        "executionCancelledAt": null,
        "lastExecutedAt": 1686568937876,
        "lastScheduledRunId": null,
        "id": "78eb758c-3b04-472d-9af9-f1f70a9743a4"
      },
      "cell_type": "code",
      "id": "78eb758c-3b04-472d-9af9-f1f70a9743a4",
      "execution_count": null,
      "outputs": []
    },
    {
      "source": [
        "#visualization for booking status across the months\n",
        "\n",
        "sns.histplot(x='arrival_date_month', data=dataset, hue='is_canceled', discrete=False, binwidth=0.5, multiple='dodge')"
      ],
      "metadata": {
        "executionTime": 261,
        "lastSuccessfullyExecutedCode": "#visualization for booking status across the months\n\nsns.histplot(x='arrival_date_month', data=dataset, hue='is_canceled', discrete=False, binwidth=0.5, multiple='dodge')",
        "executionCancelledAt": null,
        "lastExecutedAt": 1686568938137,
        "lastScheduledRunId": null,
        "id": "b608d4a9-8121-4550-88c0-b3f30c51f092",
        "outputId": "d963d98b-e5d8-4225-e873-6db3a6373157"
      },
      "cell_type": "code",
      "id": "b608d4a9-8121-4550-88c0-b3f30c51f092",
      "execution_count": null,
      "outputs": [
        {
          "output_type": "execute_result",
          "data": {
            "text/plain": "<AxesSubplot: xlabel='arrival_date_month', ylabel='Count'>"
          },
          "metadata": {},
          "execution_count": 63
        },
        {
          "output_type": "display_data",
          "data": {
            "text/plain": "<Figure size 640x480 with 1 Axes>",
            "image/png": "[encoded data removed]"
          },
          "metadata": {}
        }
      ]
    },
    {
      "source": [
        "#visualization for canceled bookings across the months\n",
        "ax =sns.histplot(x='arrival_date_month',data=monthly_cancel_dist,color='blue', discrete = False, binwidth=0.1)\n",
        "ax.set_xticks([1,2,3,4,5,6,7,8,9,10,11,12])\n",
        "ax.set_xticklabels(['Jan','Feb','Mar','Apr','May','Jun','Jul','Aug','Sep','Oct','Nov','Dec'])"
      ],
      "metadata": {
        "executionTime": 271,
        "lastSuccessfullyExecutedCode": "#visualization for canceled bookings across the months\nax =sns.histplot(x='arrival_date_month',data=monthly_cancel_dist,color='blue', discrete = False, binwidth=0.1)\nax.set_xticks([1,2,3,4,5,6,7,8,9,10,11,12])\nax.set_xticklabels(['Jan','Feb','Mar','Apr','May','Jun','Jul','Aug','Sep','Oct','Nov','Dec'])",
        "executionCancelledAt": null,
        "lastExecutedAt": 1686568938408,
        "lastScheduledRunId": null,
        "id": "642d43c9-7628-447a-aef8-9a4b6c46875f",
        "outputId": "6946a34b-8a0d-4269-cee8-134cd8dda83c"
      },
      "cell_type": "code",
      "id": "642d43c9-7628-447a-aef8-9a4b6c46875f",
      "execution_count": null,
      "outputs": [
        {
          "output_type": "execute_result",
          "data": {
            "text/plain": "[Text(1, 0, 'Jan'),\n Text(2, 0, 'Feb'),\n Text(3, 0, 'Mar'),\n Text(4, 0, 'Apr'),\n Text(5, 0, 'May'),\n Text(6, 0, 'Jun'),\n Text(7, 0, 'Jul'),\n Text(8, 0, 'Aug'),\n Text(9, 0, 'Sep'),\n Text(10, 0, 'Oct'),\n Text(11, 0, 'Nov'),\n Text(12, 0, 'Dec')]"
          },
          "metadata": {},
          "execution_count": 64
        },
        {
          "output_type": "display_data",
          "data": {
            "text/plain": "<Figure size 640x480 with 1 Axes>",
            "image/png": "[encoded data removed]"
          },
          "metadata": {}
        }
      ]
    },
    {
      "source": [
        "#for quarterly distribution\n",
        "\n",
        "quarterly_dist = dataset[dataset['is_canceled']==1].groupby('arrival_date_month')[['is_canceled']].value_counts()\n",
        "\n",
        "first_quarter=[]\n",
        "second_quarter=[]\n",
        "fourth_quarter=[]\n",
        "third_quarter=[]\n",
        "\n",
        "for i in quarterly_dist.index:\n",
        "    if i[0] == 0 or i[0] <=3:\n",
        "        first_quarter.append(quarterly_dist[i])\n",
        "    elif i[0]>=4 and i[0]<=6:\n",
        "        second_quarter.append(quarterly_dist[i])\n",
        "    elif i[0]>=7 and i[0]<=9:\n",
        "        third_quarter.append(quarterly_dist[i])\n",
        "    elif i[0]>9 and i[0]<=12:\n",
        "        fourth_quarter.append(quarterly_dist[i])\n",
        "\n",
        "first_quarter=np.sum(first_quarter)\n",
        "second_quarter =np.sum(second_quarter)\n",
        "third_quarter = np.sum(third_quarter)\n",
        "fourth_quarter=np.sum(fourth_quarter)\n",
        "\n",
        "data_dict= {'first_quarter':first_quarter,\n",
        "'second_quarter' :second_quarter,\n",
        "'third_quarter' : third_quarter,\n",
        "'fourth_quarter':fourth_quarter}\n",
        "\n",
        "print(first_quarter, second_quarter,third_quarter,fourth_quarter)\n",
        "\n",
        "#visualization of quarterly distribution\n",
        "sns.barplot(x=list(data_dict.keys()),y=list(data_dict.values()))\n"
      ],
      "metadata": {
        "executionTime": 131,
        "lastSuccessfullyExecutedCode": "#for quarterly distribution\n\nquarterly_dist = dataset[dataset['is_canceled']==1].groupby('arrival_date_month')[['is_canceled']].value_counts()\n\nfirst_quarter=[]\nsecond_quarter=[]\nfourth_quarter=[]\nthird_quarter=[]\n\nfor i in quarterly_dist.index:\n    if i[0] == 0 or i[0] <=3:\n        first_quarter.append(quarterly_dist[i])\n    elif i[0]>=4 and i[0]<=6:\n        second_quarter.append(quarterly_dist[i])\n    elif i[0]>=7 and i[0]<=9:\n        third_quarter.append(quarterly_dist[i])\n    elif i[0]>9 and i[0]<=12:\n        fourth_quarter.append(quarterly_dist[i])\n\nfirst_quarter=np.sum(first_quarter)\nsecond_quarter =np.sum(second_quarter)\nthird_quarter = np.sum(third_quarter)\nfourth_quarter=np.sum(fourth_quarter)\n\ndata_dict= {'first_quarter':first_quarter,\n'second_quarter' :second_quarter,\n'third_quarter' : third_quarter,\n'fourth_quarter':fourth_quarter}\n\nprint(first_quarter, second_quarter,third_quarter,fourth_quarter)\n\n#visualization of quarterly distribution\nsns.barplot(x=list(data_dict.keys()),y=list(data_dict.values()))\n",
        "executionCancelledAt": null,
        "lastExecutedAt": 1686568938540,
        "lastScheduledRunId": null,
        "outputsMetadata": {
          "0": {
            "height": 36,
            "type": "stream"
          }
        },
        "id": "c39f559d-0056-4df4-a6a3-2411fdbd0700",
        "outputId": "1a16dd29-b0d9-40b5-afd8-b7c4633f1019"
      },
      "cell_type": "code",
      "id": "c39f559d-0056-4df4-a6a3-2411fdbd0700",
      "execution_count": null,
      "outputs": [
        {
          "output_type": "stream",
          "name": "stdout",
          "text": "7647 13729 14089 8734\n"
        },
        {
          "output_type": "execute_result",
          "data": {
            "text/plain": "<AxesSubplot: >"
          },
          "metadata": {},
          "execution_count": 65
        },
        {
          "output_type": "display_data",
          "data": {
            "text/plain": "<Figure size 640x480 with 1 Axes>",
            "image/png": "[encoded data removed]"
          },
          "metadata": {}
        }
      ]
    },
    {
      "source": [
        "THIRD QUARTER HAS THE HIGHEST CANCELLATION RATE"
      ],
      "metadata": {
        "id": "65fe42e7-ba51-490f-8292-baf2bf0f2509"
      },
      "cell_type": "markdown",
      "id": "65fe42e7-ba51-490f-8292-baf2bf0f2509"
    },
    {
      "source": [
        "Are bookings with longer lead times more likely to result in a cancellation?"
      ],
      "metadata": {
        "id": "86966ab1-9406-4d29-b3ac-24573862c20c"
      },
      "cell_type": "markdown",
      "id": "86966ab1-9406-4d29-b3ac-24573862c20c"
    },
    {
      "source": [
        "data_lead = dataset[['lead_time','is_canceled']]"
      ],
      "metadata": {
        "executionTime": 48,
        "lastSuccessfullyExecutedCode": "data_lead = dataset[['lead_time','is_canceled']]",
        "executionCancelledAt": null,
        "lastExecutedAt": 1686568938588,
        "lastScheduledRunId": null,
        "id": "58ed6099-3dc7-4e88-8d07-4b2323fc220e"
      },
      "cell_type": "code",
      "id": "58ed6099-3dc7-4e88-8d07-4b2323fc220e",
      "execution_count": null,
      "outputs": []
    },
    {
      "source": [
        "data_gp = data_lead.groupby('lead_time')['is_canceled'].value_counts()\n",
        "data_gp\n"
      ],
      "metadata": {
        "executionTime": 48,
        "lastSuccessfullyExecutedCode": "data_gp = data_lead.groupby('lead_time')['is_canceled'].value_counts()\ndata_gp\n",
        "executionCancelledAt": null,
        "lastExecutedAt": 1686568938904,
        "lastScheduledRunId": null,
        "id": "981c1b3a-e602-41e5-a144-0a5a86059c7c",
        "outputId": "82313e55-714a-4702-b259-61bc76c49c79"
      },
      "cell_type": "code",
      "id": "981c1b3a-e602-41e5-a144-0a5a86059c7c",
      "execution_count": null,
      "outputs": [
        {
          "output_type": "execute_result",
          "data": {
            "text/plain": "lead_time  is_canceled\n0          0              5847\n           1               417\n1          0              3127\n           1               318\n2          0              1852\n                          ... \n622        1                17\n626        1                30\n629        1                17\n709        0                 1\n737        0                 1\nName: is_canceled, Length: 887, dtype: int64"
          },
          "metadata": {},
          "execution_count": 68
        }
      ]
    },
    {
      "source": [
        "sns.boxplot(x='is_canceled',y='lead_time',data=data_lead)"
      ],
      "metadata": {
        "executionTime": 132,
        "lastSuccessfullyExecutedCode": "sns.boxplot(x='is_canceled',y='lead_time',data=data_lead)",
        "executionCancelledAt": null,
        "lastExecutedAt": 1686568939036,
        "lastScheduledRunId": null,
        "id": "a458a2fb-973b-4666-a7ae-fa9848af404a",
        "outputId": "c909d072-c57f-4051-822c-9d1421da686d"
      },
      "cell_type": "code",
      "id": "a458a2fb-973b-4666-a7ae-fa9848af404a",
      "execution_count": null,
      "outputs": [
        {
          "output_type": "execute_result",
          "data": {
            "text/plain": "<AxesSubplot: xlabel='is_canceled', ylabel='lead_time'>"
          },
          "metadata": {},
          "execution_count": 69
        },
        {
          "output_type": "display_data",
          "data": {
            "text/plain": "<Figure size 640x480 with 1 Axes>",
            "image/png": "[encoded data removed]"
          },
          "metadata": {}
        }
      ]
    },
    {
      "source": [
        "THE BOXPLOT AND SCATTERPLOT SUGGEST THAT LONGER LEAD TIME DOES LEAD TO CANCELLATION"
      ],
      "metadata": {
        "id": "645f2d75-ab2f-44dc-b970-bca5bbd6547d"
      },
      "cell_type": "markdown",
      "id": "645f2d75-ab2f-44dc-b970-bca5bbd6547d"
    },
    {
      "source": [
        "val_temp = dataset[['reserved_room_type_A', 'reserved_room_type_B', 'reserved_room_type_C', 'reserved_room_type_D', 'reserved_room_type_E', 'reserved_room_type_F', 'reserved_room_type_G', 'reserved_room_type_H', 'reserved_room_type_L']]\n",
        "val_temp.head()"
      ],
      "metadata": {
        "executionTime": 52,
        "lastSuccessfullyExecutedCode": "val_temp = dataset[['reserved_room_type_A', 'reserved_room_type_B', 'reserved_room_type_C', 'reserved_room_type_D', 'reserved_room_type_E', 'reserved_room_type_F', 'reserved_room_type_G', 'reserved_room_type_H', 'reserved_room_type_L']]\nval_temp.head()",
        "executionCancelledAt": null,
        "lastExecutedAt": 1686568939088,
        "lastScheduledRunId": null,
        "outputsMetadata": {
          "0": {
            "height": 216,
            "type": "dataFrame"
          }
        },
        "id": "84679a7f-3079-498a-84b8-3b50d75acd71",
        "outputId": "2f759046-effb-408d-ab64-a9b8cc944067"
      },
      "cell_type": "code",
      "id": "84679a7f-3079-498a-84b8-3b50d75acd71",
      "execution_count": null,
      "outputs": [
        {
          "output_type": "execute_result",
          "data": {
            "application/com.datacamp.data-table.v1+json": {
              "table": {
                "schema": {
                  "fields": [
                    {
                      "name": "index",
                      "type": "integer"
                    },
                    {
                      "name": "reserved_room_type_A",
                      "type": "integer"
                    },
                    {
                      "name": "reserved_room_type_B",
                      "type": "integer"
                    },
                    {
                      "name": "reserved_room_type_C",
                      "type": "integer"
                    },
                    {
                      "name": "reserved_room_type_D",
                      "type": "integer"
                    },
                    {
                      "name": "reserved_room_type_E",
                      "type": "integer"
                    },
                    {
                      "name": "reserved_room_type_F",
                      "type": "integer"
                    },
                    {
                      "name": "reserved_room_type_G",
                      "type": "integer"
                    },
                    {
                      "name": "reserved_room_type_H",
                      "type": "integer"
                    },
                    {
                      "name": "reserved_room_type_L",
                      "type": "integer"
                    }
                  ],
                  "primaryKey": [
                    "index"
                  ],
                  "pandas_version": "1.4.0"
                },
                "data": [
                  {
                    "index": 0,
                    "reserved_room_type_A": 0,
                    "reserved_room_type_B": 0,
                    "reserved_room_type_C": 1,
                    "reserved_room_type_D": 0,
                    "reserved_room_type_E": 0,
                    "reserved_room_type_F": 0,
                    "reserved_room_type_G": 0,
                    "reserved_room_type_H": 0,
                    "reserved_room_type_L": 0
                  },
                  {
                    "index": 1,
                    "reserved_room_type_A": 0,
                    "reserved_room_type_B": 0,
                    "reserved_room_type_C": 1,
                    "reserved_room_type_D": 0,
                    "reserved_room_type_E": 0,
                    "reserved_room_type_F": 0,
                    "reserved_room_type_G": 0,
                    "reserved_room_type_H": 0,
                    "reserved_room_type_L": 0
                  },
                  {
                    "index": 2,
                    "reserved_room_type_A": 1,
                    "reserved_room_type_B": 0,
                    "reserved_room_type_C": 0,
                    "reserved_room_type_D": 0,
                    "reserved_room_type_E": 0,
                    "reserved_room_type_F": 0,
                    "reserved_room_type_G": 0,
                    "reserved_room_type_H": 0,
                    "reserved_room_type_L": 0
                  },
                  {
                    "index": 3,
                    "reserved_room_type_A": 1,
                    "reserved_room_type_B": 0,
                    "reserved_room_type_C": 0,
                    "reserved_room_type_D": 0,
                    "reserved_room_type_E": 0,
                    "reserved_room_type_F": 0,
                    "reserved_room_type_G": 0,
                    "reserved_room_type_H": 0,
                    "reserved_room_type_L": 0
                  },
                  {
                    "index": 4,
                    "reserved_room_type_A": 1,
                    "reserved_room_type_B": 0,
                    "reserved_room_type_C": 0,
                    "reserved_room_type_D": 0,
                    "reserved_room_type_E": 0,
                    "reserved_room_type_F": 0,
                    "reserved_room_type_G": 0,
                    "reserved_room_type_H": 0,
                    "reserved_room_type_L": 0
                  }
                ]
              },
              "total_rows": 5,
              "truncation_type": null
            },
            "text/plain": "   reserved_room_type_A  ...  reserved_room_type_L\n0                     0  ...                     0\n1                     0  ...                     0\n2                     1  ...                     0\n3                     1  ...                     0\n4                     1  ...                     0\n\n[5 rows x 9 columns]",
            "text/html": "<div>\n<style scoped>\n    .dataframe tbody tr th:only-of-type {\n        vertical-align: middle;\n    }\n\n    .dataframe tbody tr th {\n        vertical-align: top;\n    }\n\n    .dataframe thead th {\n        text-align: right;\n    }\n</style>\n<table border=\"1\" class=\"dataframe\">\n  <thead>\n    <tr style=\"text-align: right;\">\n      <th></th>\n      <th>reserved_room_type_A</th>\n      <th>reserved_room_type_B</th>\n      <th>reserved_room_type_C</th>\n      <th>reserved_room_type_D</th>\n      <th>reserved_room_type_E</th>\n      <th>reserved_room_type_F</th>\n      <th>reserved_room_type_G</th>\n      <th>reserved_room_type_H</th>\n      <th>reserved_room_type_L</th>\n    </tr>\n  </thead>\n  <tbody>\n    <tr>\n      <th>0</th>\n      <td>0</td>\n      <td>0</td>\n      <td>1</td>\n      <td>0</td>\n      <td>0</td>\n      <td>0</td>\n      <td>0</td>\n      <td>0</td>\n      <td>0</td>\n    </tr>\n    <tr>\n      <th>1</th>\n      <td>0</td>\n      <td>0</td>\n      <td>1</td>\n      <td>0</td>\n      <td>0</td>\n      <td>0</td>\n      <td>0</td>\n      <td>0</td>\n      <td>0</td>\n    </tr>\n    <tr>\n      <th>2</th>\n      <td>1</td>\n      <td>0</td>\n      <td>0</td>\n      <td>0</td>\n      <td>0</td>\n      <td>0</td>\n      <td>0</td>\n      <td>0</td>\n      <td>0</td>\n    </tr>\n    <tr>\n      <th>3</th>\n      <td>1</td>\n      <td>0</td>\n      <td>0</td>\n      <td>0</td>\n      <td>0</td>\n      <td>0</td>\n      <td>0</td>\n      <td>0</td>\n      <td>0</td>\n    </tr>\n    <tr>\n      <th>4</th>\n      <td>1</td>\n      <td>0</td>\n      <td>0</td>\n      <td>0</td>\n      <td>0</td>\n      <td>0</td>\n      <td>0</td>\n      <td>0</td>\n      <td>0</td>\n    </tr>\n  </tbody>\n</table>\n</div>"
          },
          "metadata": {},
          "execution_count": 70
        }
      ]
    },
    {
      "source": [
        "val_temp2 = dataset[['distribution_channel_Corporate', 'distribution_channel_Direct', 'distribution_channel_GDS', 'distribution_channel_TA_TO', 'distribution_channel_Undefined']]\n",
        "val_temp2.head()"
      ],
      "metadata": {
        "executionTime": 60,
        "lastSuccessfullyExecutedCode": "val_temp2 = dataset[['distribution_channel_Corporate', 'distribution_channel_Direct', 'distribution_channel_GDS', 'distribution_channel_TA_TO', 'distribution_channel_Undefined']]\nval_temp2.head()",
        "executionCancelledAt": null,
        "lastExecutedAt": 1686568939148,
        "lastScheduledRunId": null,
        "outputsMetadata": {
          "0": {
            "height": 195,
            "type": "dataFrame"
          }
        },
        "id": "857ae1a2-3ae6-4748-a355-fc1b98b82530",
        "outputId": "b94e72cd-a64a-46a5-9d81-593c003fc85a"
      },
      "cell_type": "code",
      "id": "857ae1a2-3ae6-4748-a355-fc1b98b82530",
      "execution_count": null,
      "outputs": [
        {
          "output_type": "execute_result",
          "data": {
            "application/com.datacamp.data-table.v1+json": {
              "table": {
                "schema": {
                  "fields": [
                    {
                      "name": "index",
                      "type": "integer"
                    },
                    {
                      "name": "distribution_channel_Corporate",
                      "type": "integer"
                    },
                    {
                      "name": "distribution_channel_Direct",
                      "type": "integer"
                    },
                    {
                      "name": "distribution_channel_GDS",
                      "type": "integer"
                    },
                    {
                      "name": "distribution_channel_TA_TO",
                      "type": "integer"
                    },
                    {
                      "name": "distribution_channel_Undefined",
                      "type": "integer"
                    }
                  ],
                  "primaryKey": [
                    "index"
                  ],
                  "pandas_version": "1.4.0"
                },
                "data": [
                  {
                    "index": 0,
                    "distribution_channel_Corporate": 0,
                    "distribution_channel_Direct": 1,
                    "distribution_channel_GDS": 0,
                    "distribution_channel_TA_TO": 0,
                    "distribution_channel_Undefined": 0
                  },
                  {
                    "index": 1,
                    "distribution_channel_Corporate": 0,
                    "distribution_channel_Direct": 1,
                    "distribution_channel_GDS": 0,
                    "distribution_channel_TA_TO": 0,
                    "distribution_channel_Undefined": 0
                  },
                  {
                    "index": 2,
                    "distribution_channel_Corporate": 0,
                    "distribution_channel_Direct": 1,
                    "distribution_channel_GDS": 0,
                    "distribution_channel_TA_TO": 0,
                    "distribution_channel_Undefined": 0
                  },
                  {
                    "index": 3,
                    "distribution_channel_Corporate": 1,
                    "distribution_channel_Direct": 0,
                    "distribution_channel_GDS": 0,
                    "distribution_channel_TA_TO": 0,
                    "distribution_channel_Undefined": 0
                  },
                  {
                    "index": 4,
                    "distribution_channel_Corporate": 0,
                    "distribution_channel_Direct": 0,
                    "distribution_channel_GDS": 0,
                    "distribution_channel_TA_TO": 1,
                    "distribution_channel_Undefined": 0
                  }
                ]
              },
              "total_rows": 5,
              "truncation_type": null
            },
            "text/plain": "   distribution_channel_Corporate  ...  distribution_channel_Undefined\n0                               0  ...                               0\n1                               0  ...                               0\n2                               0  ...                               0\n3                               1  ...                               0\n4                               0  ...                               0\n\n[5 rows x 5 columns]",
            "text/html": "<div>\n<style scoped>\n    .dataframe tbody tr th:only-of-type {\n        vertical-align: middle;\n    }\n\n    .dataframe tbody tr th {\n        vertical-align: top;\n    }\n\n    .dataframe thead th {\n        text-align: right;\n    }\n</style>\n<table border=\"1\" class=\"dataframe\">\n  <thead>\n    <tr style=\"text-align: right;\">\n      <th></th>\n      <th>distribution_channel_Corporate</th>\n      <th>distribution_channel_Direct</th>\n      <th>distribution_channel_GDS</th>\n      <th>distribution_channel_TA_TO</th>\n      <th>distribution_channel_Undefined</th>\n    </tr>\n  </thead>\n  <tbody>\n    <tr>\n      <th>0</th>\n      <td>0</td>\n      <td>1</td>\n      <td>0</td>\n      <td>0</td>\n      <td>0</td>\n    </tr>\n    <tr>\n      <th>1</th>\n      <td>0</td>\n      <td>1</td>\n      <td>0</td>\n      <td>0</td>\n      <td>0</td>\n    </tr>\n    <tr>\n      <th>2</th>\n      <td>0</td>\n      <td>1</td>\n      <td>0</td>\n      <td>0</td>\n      <td>0</td>\n    </tr>\n    <tr>\n      <th>3</th>\n      <td>1</td>\n      <td>0</td>\n      <td>0</td>\n      <td>0</td>\n      <td>0</td>\n    </tr>\n    <tr>\n      <th>4</th>\n      <td>0</td>\n      <td>0</td>\n      <td>0</td>\n      <td>1</td>\n      <td>0</td>\n    </tr>\n  </tbody>\n</table>\n</div>"
          },
          "metadata": {},
          "execution_count": 71
        }
      ]
    },
    {
      "source": [
        "val_temp3 = dataset[['market_segment_Aviation', 'market_segment_Complementary', 'market_segment_Corporate', 'market_segment_Direct', 'market_segment_Groups', 'market_segment_Offline_TA_TO', 'market_segment_Online_TA', 'market_segment_Undefined']]\n",
        "val_temp3.head(10)"
      ],
      "metadata": {
        "executionTime": 64,
        "lastSuccessfullyExecutedCode": "val_temp3 = dataset[['market_segment_Aviation', 'market_segment_Complementary', 'market_segment_Corporate', 'market_segment_Direct', 'market_segment_Groups', 'market_segment_Offline_TA_TO', 'market_segment_Online_TA', 'market_segment_Undefined']]\nval_temp3.head(10)",
        "executionCancelledAt": null,
        "lastExecutedAt": 1686568939212,
        "lastScheduledRunId": null,
        "outputsMetadata": {
          "0": {
            "height": 340,
            "type": "dataFrame"
          }
        },
        "id": "8f927d65-a001-4552-a5f6-bb6f04e26ef1",
        "outputId": "f6f051ae-b241-4087-db64-36d07c7d6dcb"
      },
      "cell_type": "code",
      "id": "8f927d65-a001-4552-a5f6-bb6f04e26ef1",
      "execution_count": null,
      "outputs": [
        {
          "output_type": "execute_result",
          "data": {
            "application/com.datacamp.data-table.v1+json": {
              "table": {
                "schema": {
                  "fields": [
                    {
                      "name": "index",
                      "type": "integer"
                    },
                    {
                      "name": "market_segment_Aviation",
                      "type": "integer"
                    },
                    {
                      "name": "market_segment_Complementary",
                      "type": "integer"
                    },
                    {
                      "name": "market_segment_Corporate",
                      "type": "integer"
                    },
                    {
                      "name": "market_segment_Direct",
                      "type": "integer"
                    },
                    {
                      "name": "market_segment_Groups",
                      "type": "integer"
                    },
                    {
                      "name": "market_segment_Offline_TA_TO",
                      "type": "integer"
                    },
                    {
                      "name": "market_segment_Online_TA",
                      "type": "integer"
                    },
                    {
                      "name": "market_segment_Undefined",
                      "type": "integer"
                    }
                  ],
                  "primaryKey": [
                    "index"
                  ],
                  "pandas_version": "1.4.0"
                },
                "data": [
                  {
                    "index": 0,
                    "market_segment_Aviation": 0,
                    "market_segment_Complementary": 0,
                    "market_segment_Corporate": 0,
                    "market_segment_Direct": 1,
                    "market_segment_Groups": 0,
                    "market_segment_Offline_TA_TO": 0,
                    "market_segment_Online_TA": 0,
                    "market_segment_Undefined": 0
                  },
                  {
                    "index": 1,
                    "market_segment_Aviation": 0,
                    "market_segment_Complementary": 0,
                    "market_segment_Corporate": 0,
                    "market_segment_Direct": 1,
                    "market_segment_Groups": 0,
                    "market_segment_Offline_TA_TO": 0,
                    "market_segment_Online_TA": 0,
                    "market_segment_Undefined": 0
                  },
                  {
                    "index": 2,
                    "market_segment_Aviation": 0,
                    "market_segment_Complementary": 0,
                    "market_segment_Corporate": 0,
                    "market_segment_Direct": 1,
                    "market_segment_Groups": 0,
                    "market_segment_Offline_TA_TO": 0,
                    "market_segment_Online_TA": 0,
                    "market_segment_Undefined": 0
                  },
                  {
                    "index": 3,
                    "market_segment_Aviation": 0,
                    "market_segment_Complementary": 0,
                    "market_segment_Corporate": 1,
                    "market_segment_Direct": 0,
                    "market_segment_Groups": 0,
                    "market_segment_Offline_TA_TO": 0,
                    "market_segment_Online_TA": 0,
                    "market_segment_Undefined": 0
                  },
                  {
                    "index": 4,
                    "market_segment_Aviation": 0,
                    "market_segment_Complementary": 0,
                    "market_segment_Corporate": 0,
                    "market_segment_Direct": 0,
                    "market_segment_Groups": 0,
                    "market_segment_Offline_TA_TO": 0,
                    "market_segment_Online_TA": 1,
                    "market_segment_Undefined": 0
                  },
                  {
                    "index": 5,
                    "market_segment_Aviation": 0,
                    "market_segment_Complementary": 0,
                    "market_segment_Corporate": 0,
                    "market_segment_Direct": 0,
                    "market_segment_Groups": 0,
                    "market_segment_Offline_TA_TO": 0,
                    "market_segment_Online_TA": 1,
                    "market_segment_Undefined": 0
                  },
                  {
                    "index": 6,
                    "market_segment_Aviation": 0,
                    "market_segment_Complementary": 0,
                    "market_segment_Corporate": 0,
                    "market_segment_Direct": 1,
                    "market_segment_Groups": 0,
                    "market_segment_Offline_TA_TO": 0,
                    "market_segment_Online_TA": 0,
                    "market_segment_Undefined": 0
                  },
                  {
                    "index": 7,
                    "market_segment_Aviation": 0,
                    "market_segment_Complementary": 0,
                    "market_segment_Corporate": 0,
                    "market_segment_Direct": 1,
                    "market_segment_Groups": 0,
                    "market_segment_Offline_TA_TO": 0,
                    "market_segment_Online_TA": 0,
                    "market_segment_Undefined": 0
                  },
                  {
                    "index": 8,
                    "market_segment_Aviation": 0,
                    "market_segment_Complementary": 0,
                    "market_segment_Corporate": 0,
                    "market_segment_Direct": 0,
                    "market_segment_Groups": 0,
                    "market_segment_Offline_TA_TO": 0,
                    "market_segment_Online_TA": 1,
                    "market_segment_Undefined": 0
                  },
                  {
                    "index": 9,
                    "market_segment_Aviation": 0,
                    "market_segment_Complementary": 0,
                    "market_segment_Corporate": 0,
                    "market_segment_Direct": 0,
                    "market_segment_Groups": 0,
                    "market_segment_Offline_TA_TO": 1,
                    "market_segment_Online_TA": 0,
                    "market_segment_Undefined": 0
                  }
                ]
              },
              "total_rows": 10,
              "truncation_type": null
            },
            "text/plain": "   market_segment_Aviation  ...  market_segment_Undefined\n0                        0  ...                         0\n1                        0  ...                         0\n2                        0  ...                         0\n3                        0  ...                         0\n4                        0  ...                         0\n5                        0  ...                         0\n6                        0  ...                         0\n7                        0  ...                         0\n8                        0  ...                         0\n9                        0  ...                         0\n\n[10 rows x 8 columns]",
            "text/html": "<div>\n<style scoped>\n    .dataframe tbody tr th:only-of-type {\n        vertical-align: middle;\n    }\n\n    .dataframe tbody tr th {\n        vertical-align: top;\n    }\n\n    .dataframe thead th {\n        text-align: right;\n    }\n</style>\n<table border=\"1\" class=\"dataframe\">\n  <thead>\n    <tr style=\"text-align: right;\">\n      <th></th>\n      <th>market_segment_Aviation</th>\n      <th>market_segment_Complementary</th>\n      <th>market_segment_Corporate</th>\n      <th>market_segment_Direct</th>\n      <th>market_segment_Groups</th>\n      <th>market_segment_Offline_TA_TO</th>\n      <th>market_segment_Online_TA</th>\n      <th>market_segment_Undefined</th>\n    </tr>\n  </thead>\n  <tbody>\n    <tr>\n      <th>0</th>\n      <td>0</td>\n      <td>0</td>\n      <td>0</td>\n      <td>1</td>\n      <td>0</td>\n      <td>0</td>\n      <td>0</td>\n      <td>0</td>\n    </tr>\n    <tr>\n      <th>1</th>\n      <td>0</td>\n      <td>0</td>\n      <td>0</td>\n      <td>1</td>\n      <td>0</td>\n      <td>0</td>\n      <td>0</td>\n      <td>0</td>\n    </tr>\n    <tr>\n      <th>2</th>\n      <td>0</td>\n      <td>0</td>\n      <td>0</td>\n      <td>1</td>\n      <td>0</td>\n      <td>0</td>\n      <td>0</td>\n      <td>0</td>\n    </tr>\n    <tr>\n      <th>3</th>\n      <td>0</td>\n      <td>0</td>\n      <td>1</td>\n      <td>0</td>\n      <td>0</td>\n      <td>0</td>\n      <td>0</td>\n      <td>0</td>\n    </tr>\n    <tr>\n      <th>4</th>\n      <td>0</td>\n      <td>0</td>\n      <td>0</td>\n      <td>0</td>\n      <td>0</td>\n      <td>0</td>\n      <td>1</td>\n      <td>0</td>\n    </tr>\n    <tr>\n      <th>5</th>\n      <td>0</td>\n      <td>0</td>\n      <td>0</td>\n      <td>0</td>\n      <td>0</td>\n      <td>0</td>\n      <td>1</td>\n      <td>0</td>\n    </tr>\n    <tr>\n      <th>6</th>\n      <td>0</td>\n      <td>0</td>\n      <td>0</td>\n      <td>1</td>\n      <td>0</td>\n      <td>0</td>\n      <td>0</td>\n      <td>0</td>\n    </tr>\n    <tr>\n      <th>7</th>\n      <td>0</td>\n      <td>0</td>\n      <td>0</td>\n      <td>1</td>\n      <td>0</td>\n      <td>0</td>\n      <td>0</td>\n      <td>0</td>\n    </tr>\n    <tr>\n      <th>8</th>\n      <td>0</td>\n      <td>0</td>\n      <td>0</td>\n      <td>0</td>\n      <td>0</td>\n      <td>0</td>\n      <td>1</td>\n      <td>0</td>\n    </tr>\n    <tr>\n      <th>9</th>\n      <td>0</td>\n      <td>0</td>\n      <td>0</td>\n      <td>0</td>\n      <td>0</td>\n      <td>1</td>\n      <td>0</td>\n      <td>0</td>\n    </tr>\n  </tbody>\n</table>\n</div>"
          },
          "metadata": {},
          "execution_count": 72
        }
      ]
    },
    {
      "source": [
        "**Create model for prediction**"
      ],
      "metadata": {
        "id": "59c87320-7f37-47eb-835d-f6ca1739f41f"
      },
      "cell_type": "markdown",
      "id": "59c87320-7f37-47eb-835d-f6ca1739f41f"
    },
    {
      "source": [
        "X = dataset.drop('is_canceled',axis='columns').values\n",
        "y = dataset['is_canceled'].values"
      ],
      "metadata": {
        "executionTime": 55,
        "lastSuccessfullyExecutedCode": "X = dataset.drop('is_canceled',axis='columns').values\ny = dataset['is_canceled'].values",
        "executionCancelledAt": null,
        "lastExecutedAt": 1686568939267,
        "lastScheduledRunId": null,
        "id": "ef113416-d7d4-4f9e-bd38-8c27a021b873"
      },
      "cell_type": "code",
      "id": "ef113416-d7d4-4f9e-bd38-8c27a021b873",
      "execution_count": null,
      "outputs": []
    },
    {
      "source": [
        "from sklearn.model_selection import train_test_split\n",
        "from sklearn.linear_model import LogisticRegression\n",
        "from sklearn.model_selection import cross_val_score, KFold\n",
        "from sklearn.preprocessing import StandardScaler"
      ],
      "metadata": {
        "executionTime": 47,
        "lastSuccessfullyExecutedCode": "from sklearn.model_selection import train_test_split\nfrom sklearn.linear_model import LogisticRegression\nfrom sklearn.model_selection import cross_val_score, KFold\nfrom sklearn.preprocessing import StandardScaler",
        "executionCancelledAt": null,
        "lastExecutedAt": 1686568939315,
        "lastScheduledRunId": null,
        "id": "871b898a-5dcf-472d-9fb5-86a461fb0bcc"
      },
      "cell_type": "code",
      "id": "871b898a-5dcf-472d-9fb5-86a461fb0bcc",
      "execution_count": null,
      "outputs": []
    },
    {
      "source": [
        "X_train, X_test, y_train, y_test = train_test_split(X,y,random_state=1,test_size=0.2 ,stratify=y)\n",
        "\n",
        "scaler = StandardScaler()\n",
        "\n",
        "X_train = scaler.fit_transform(X_train)\n",
        "X_test = scaler.transform(X_test)\n",
        "\n",
        "X_train.shape, X_test.shape"
      ],
      "metadata": {
        "executionTime": 109,
        "lastSuccessfullyExecutedCode": "X_train, X_test, y_train, y_test = train_test_split(X,y,random_state=1,test_size=0.2 ,stratify=y)\n\nscaler = StandardScaler()\n\nX_train = scaler.fit_transform(X_train)\nX_test = scaler.transform(X_test)\n\nX_train.shape, X_test.shape",
        "executionCancelledAt": null,
        "lastExecutedAt": 1686568939425,
        "lastScheduledRunId": null,
        "id": "a4baab91-ec3e-486b-8063-27950b1a0c8b",
        "outputId": "7993df4b-455e-4a21-8789-702cb88e14d1"
      },
      "cell_type": "code",
      "id": "a4baab91-ec3e-486b-8063-27950b1a0c8b",
      "execution_count": null,
      "outputs": [
        {
          "output_type": "execute_result",
          "data": {
            "text/plain": "((95368, 53), (23842, 53))"
          },
          "metadata": {},
          "execution_count": 75
        }
      ]
    },
    {
      "source": [
        "log_model = LogisticRegression()\n",
        "log_model.fit(X_train, y_train)\n",
        "log_model_pred = log_model.predict(X_test)\n",
        "\n",
        "log_model_train_score = log_model.score(X_train, y_train)\n",
        "log_model_test_score= log_model.score(X_test,y_test)\n",
        "\n",
        "print(f'Logistic regression has an train accuracy score of {log_model_train_score}')\n",
        "print(f'Logistic regression has an test accuracy score of {log_model_test_score}')"
      ],
      "metadata": {
        "executionTime": 1111,
        "lastSuccessfullyExecutedCode": "log_model = LogisticRegression()\nlog_model.fit(X_train, y_train)\nlog_model_pred = log_model.predict(X_test)\n\nlog_model_train_score = log_model.score(X_train, y_train)\nlog_model_test_score= log_model.score(X_test,y_test)\n\nprint(f'Logistic regression has an train accuracy score of {log_model_train_score}')\nprint(f'Logistic regression has an test accuracy score of {log_model_test_score}')",
        "executionCancelledAt": null,
        "lastExecutedAt": 1686568940537,
        "lastScheduledRunId": null,
        "outputsMetadata": {
          "0": {
            "height": 56,
            "type": "stream"
          }
        },
        "id": "27b348c5-4dcf-43a9-af09-98f0fda55d2a",
        "outputId": "8e6e1b04-02c1-4559-8438-f584c23be97e"
      },
      "cell_type": "code",
      "id": "27b348c5-4dcf-43a9-af09-98f0fda55d2a",
      "execution_count": null,
      "outputs": [
        {
          "output_type": "stream",
          "name": "stdout",
          "text": "Logistic regression has an train accuracy score of 0.8070526801442832\nLogistic regression has an test accuracy score of 0.8125996141263316\n"
        }
      ]
    },
    {
      "source": [
        "#using cross_validation for comparison\n",
        "\n",
        "split_size = KFold(n_splits=3,shuffle=True, random_state=2)\n",
        "\n",
        "cvs = cross_val_score(log_model, X,y, cv=split_size)\n",
        "\n",
        "print(f'Cross_val_score model has an accuracy of {cvs.mean()}')\n"
      ],
      "metadata": {
        "executionTime": 3158,
        "lastSuccessfullyExecutedCode": "#using cross_validation for comparison\n\nsplit_size = KFold(n_splits=3,shuffle=True, random_state=2)\n\ncvs = cross_val_score(log_model, X,y, cv=split_size)\n\nprint(f'Cross_val_score model has an accuracy of {cvs.mean()}')\n",
        "executionCancelledAt": null,
        "lastExecutedAt": 1686568943695,
        "lastScheduledRunId": null,
        "outputsMetadata": {
          "0": {
            "height": 36,
            "type": "stream"
          }
        },
        "id": "828ef9a9-f507-4d8b-9415-4fb9ac9e8ff6",
        "outputId": "30a45cca-3824-415b-9527-2550187e518d"
      },
      "cell_type": "code",
      "id": "828ef9a9-f507-4d8b-9415-4fb9ac9e8ff6",
      "execution_count": null,
      "outputs": [
        {
          "output_type": "stream",
          "name": "stdout",
          "text": "Cross_val_score model has an accuracy of 0.797131092515127\n"
        }
      ]
    },
    {
      "source": [
        "Comparing with xgboost"
      ],
      "metadata": {
        "id": "e434d427-3b99-4425-9027-f755cdcf92c5"
      },
      "cell_type": "markdown",
      "id": "e434d427-3b99-4425-9027-f755cdcf92c5"
    },
    {
      "source": [
        "import xgboost as xgb\n",
        "from sklearn.metrics import accuracy_score"
      ],
      "metadata": {
        "executionCancelledAt": null,
        "executionTime": 49,
        "lastExecutedAt": 1686568943744,
        "lastScheduledRunId": null,
        "lastSuccessfullyExecutedCode": "import xgboost as xgb\nfrom sklearn.metrics import accuracy_score",
        "id": "eb1b5d92-2228-459d-9f46-50fef5984d02"
      },
      "cell_type": "code",
      "id": "eb1b5d92-2228-459d-9f46-50fef5984d02",
      "execution_count": null,
      "outputs": []
    },
    {
      "source": [
        "train_set = xgb.DMatrix(X_train,label=y_train,enable_categorical = True)\n",
        "test_set = xgb.DMatrix(X_test, label=y_test, enable_categorical= True)\n",
        "\n",
        "params = {\n",
        "    'eta':0.2,\n",
        "    'max_depth': 4,\n",
        "    'objective':'multi:softmax',\n",
        "    'num_class':2\n",
        "}\n",
        "epochs = 50"
      ],
      "metadata": {
        "executionCancelledAt": null,
        "executionTime": 86,
        "lastExecutedAt": 1686568943830,
        "lastScheduledRunId": null,
        "lastSuccessfullyExecutedCode": "train_set = xgb.DMatrix(X_train,label=y_train,enable_categorical = True)\ntest_set = xgb.DMatrix(X_test, label=y_test, enable_categorical= True)\n\nparams = {\n    'eta':0.2,\n    'max_depth': 4,\n    'objective':'multi:softmax',\n    'num_class':2\n}\nepochs = 50",
        "id": "e487f85a-a5b0-4c40-8041-46b49a7546c0"
      },
      "cell_type": "code",
      "id": "e487f85a-a5b0-4c40-8041-46b49a7546c0",
      "execution_count": null,
      "outputs": []
    },
    {
      "source": [
        "#to evaluates\n",
        "val_set = [(train_set,'training'),(test_set,'validating')]\n",
        "model_xgb = xgb.train(params, train_set,epochs,evals=val_set,verbose_eval=10)"
      ],
      "metadata": {
        "executionCancelledAt": null,
        "executionTime": 2724,
        "lastExecutedAt": 1686568946556,
        "lastScheduledRunId": null,
        "lastSuccessfullyExecutedCode": "#to evaluates\nval_set = [(train_set,'training'),(test_set,'validating')]\nmodel_xgb = xgb.train(params, train_set,epochs,evals=val_set,verbose_eval=10)",
        "outputsMetadata": {
          "0": {
            "height": 134,
            "type": "stream"
          }
        },
        "id": "5b7fea84-5950-4c8f-a685-de36e7413221",
        "outputId": "b7c7c591-f398-4032-d972-058892405f47"
      },
      "cell_type": "code",
      "id": "5b7fea84-5950-4c8f-a685-de36e7413221",
      "execution_count": null,
      "outputs": [
        {
          "output_type": "stream",
          "name": "stdout",
          "text": "[0]\ttraining-mlogloss:0.62394\tvalidating-mlogloss:0.62351\n[10]\ttraining-mlogloss:0.43975\tvalidating-mlogloss:0.43767\n[20]\ttraining-mlogloss:0.41061\tvalidating-mlogloss:0.40827\n[30]\ttraining-mlogloss:0.39929\tvalidating-mlogloss:0.39743\n[40]\ttraining-mlogloss:0.39279\tvalidating-mlogloss:0.39138\n[49]\ttraining-mlogloss:0.38840\tvalidating-mlogloss:0.38735\n"
        }
      ]
    },
    {
      "source": [
        "pred = model_xgb.predict(test_set)\n",
        "print(accuracy_score(y_test,pred))"
      ],
      "metadata": {
        "executionCancelledAt": null,
        "executionTime": 48,
        "lastExecutedAt": 1686568946604,
        "lastScheduledRunId": null,
        "lastSuccessfullyExecutedCode": "pred = model_xgb.predict(test_set)\nprint(accuracy_score(y_test,pred))",
        "outputsMetadata": {
          "0": {
            "height": 36,
            "type": "stream"
          }
        },
        "id": "c1fb60e2-44ca-4c65-89a3-08e9b945807d",
        "outputId": "6a122236-bf71-4492-8939-79ab5b1db790"
      },
      "cell_type": "code",
      "id": "c1fb60e2-44ca-4c65-89a3-08e9b945807d",
      "execution_count": null,
      "outputs": [
        {
          "output_type": "stream",
          "name": "stdout",
          "text": "0.8204848586527976\n"
        }
      ]
    },
    {
      "source": [
        "Motivation:\n",
        "To improve room allocation services to customers. The hotels should be able to know where and if an already booked room can be issued out, thereby improving efficiency in day-to-day operations"
      ],
      "metadata": {
        "id": "08150e7d-b6d0-4e69-90e9-7a913e710e48"
      },
      "cell_type": "markdown",
      "id": "08150e7d-b6d0-4e69-90e9-7a913e710e48"
    },
    {
      "source": [
        "Data cleaning: The dataset was mostly cleaned with just the 'children variable' containing few missing values. the missing values were replaced with the mean of the column converted into integer."
      ],
      "metadata": {
        "id": "e337f3b6-28a5-4442-a023-248d3dbfeb19"
      },
      "cell_type": "markdown",
      "id": "e337f3b6-28a5-4442-a023-248d3dbfeb19"
    },
    {
      "source": [
        "Findings:\n",
        "Family size of 2 has the highest cancellation and previous cancellations\n",
        "Most cancellations happened in august\n",
        "Most cancellations happened in the third quarter followed closely by the second quarter\n",
        "Using a logistic regression model for prediction model gives over 80% of accuracy score\n",
        "With cross validation, an accuracy of over 70% was achieved.\n",
        "when regularization models were used, low scores were achieved(could it be due to colinearity?)"
      ],
      "metadata": {
        "id": "d1170959-1a24-42a5-8554-1e432b2a00a3"
      },
      "cell_type": "markdown",
      "id": "d1170959-1a24-42a5-8554-1e432b2a00a3"
    },
    {
      "source": [
        "**CONCLUSION:**\n",
        "The model should be used"
      ],
      "metadata": {
        "id": "3e1ff888-bce2-4912-8724-43bc84701569"
      },
      "cell_type": "markdown",
      "id": "3e1ff888-bce2-4912-8724-43bc84701569"
    }
  ],
  "metadata": {
    "colab": {
      "provenance": []
    },
    "kernelspec": {
      "display_name": "Python 3 (ipykernel)",
      "language": "python",
      "name": "python3"
    },
    "language_info": {
      "name": "python",
      "version": "3.8.10",
      "mimetype": "text/x-python",
      "codemirror_mode": {
        "name": "ipython",
        "version": 3
      },
      "pygments_lexer": "ipython3",
      "nbconvert_exporter": "python",
      "file_extension": ".py"
    },
    "varInspector": {
      "cols": {
        "lenName": 16,
        "lenType": 16,
        "lenVar": 40
      },
      "kernels_config": {
        "python": {
          "delete_cmd_postfix": "",
          "delete_cmd_prefix": "del ",
          "library": "var_list.py",
          "varRefreshCmd": "print(var_dic_list())"
        },
        "r": {
          "delete_cmd_postfix": ") ",
          "delete_cmd_prefix": "rm(",
          "library": "var_list.r",
          "varRefreshCmd": "cat(var_dic_list()) "
        }
      },
      "types_to_exclude": [
        "module",
        "function",
        "builtin_function_or_method",
        "instance",
        "_Feature"
      ],
      "window_display": false
    },
    "editor": "DataCamp Workspace"
  },
  "nbformat": 4,
  "nbformat_minor": 5
}